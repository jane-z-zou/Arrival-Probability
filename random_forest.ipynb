{
 "cells": [
  {
   "cell_type": "code",
   "execution_count": 250,
   "metadata": {},
   "outputs": [],
   "source": [
    "import pandas as pd\n",
    "import numpy as np\n",
    "import os, glob\n",
    "from sklearn.ensemble import RandomForestClassifier\n",
    "from sklearn.model_selection import train_test_split\n",
    "from sklearn.metrics import roc_curve, auc"
   ]
  },
  {
   "cell_type": "code",
   "execution_count": 251,
   "metadata": {},
   "outputs": [],
   "source": [
    "filename = os.path.join(os.getcwd(), \"final.txt\")\n",
    "#feature_list = list(df.iloc[:, 0:45].select_dtypes(include=\"float64\"))"
   ]
  },
  {
   "cell_type": "code",
   "execution_count": 252,
   "metadata": {},
   "outputs": [],
   "source": [
    "df = pd.read_table(filename, low_memory=False)"
   ]
  },
  {
   "cell_type": "code",
   "execution_count": 253,
   "metadata": {},
   "outputs": [
    {
     "data": {
      "text/html": [
       "<div>\n",
       "<style scoped>\n",
       "    .dataframe tbody tr th:only-of-type {\n",
       "        vertical-align: middle;\n",
       "    }\n",
       "\n",
       "    .dataframe tbody tr th {\n",
       "        vertical-align: top;\n",
       "    }\n",
       "\n",
       "    .dataframe thead th {\n",
       "        text-align: right;\n",
       "    }\n",
       "</style>\n",
       "<table border=\"1\" class=\"dataframe\">\n",
       "  <thead>\n",
       "    <tr style=\"text-align: right;\">\n",
       "      <th></th>\n",
       "      <th>Unnamed: 0</th>\n",
       "      <th>ac_id</th>\n",
       "      <th>visited_page</th>\n",
       "      <th>diff_dates</th>\n",
       "      <th>Max Date Diff</th>\n",
       "      <th>Min Date Diff</th>\n",
       "      <th>Purchase 30_x</th>\n",
       "      <th>Purchase 60_x</th>\n",
       "      <th>Purchase 90_x</th>\n",
       "      <th>Purchase 120_x</th>\n",
       "      <th>...</th>\n",
       "      <th>arr_ind_21</th>\n",
       "      <th>arr_ind_22</th>\n",
       "      <th>arr_ind_23</th>\n",
       "      <th>arr_ind_24</th>\n",
       "      <th>arr_ind_25</th>\n",
       "      <th>arr_ind_26</th>\n",
       "      <th>arr_ind_27</th>\n",
       "      <th>arr_ind_28</th>\n",
       "      <th>arr_ind_29</th>\n",
       "      <th>arr_ind_30</th>\n",
       "    </tr>\n",
       "  </thead>\n",
       "  <tbody>\n",
       "    <tr>\n",
       "      <th>0</th>\n",
       "      <td>0</td>\n",
       "      <td>ACe761e40e-3259-4e4f-93f9-8f2f2ed34388</td>\n",
       "      <td>REWARDS</td>\n",
       "      <td>52 days</td>\n",
       "      <td>380 days</td>\n",
       "      <td>31 days</td>\n",
       "      <td>0.0</td>\n",
       "      <td>0.0</td>\n",
       "      <td>0.0</td>\n",
       "      <td>0.0</td>\n",
       "      <td>...</td>\n",
       "      <td>1.0</td>\n",
       "      <td>1.0</td>\n",
       "      <td>1.0</td>\n",
       "      <td>1.0</td>\n",
       "      <td>1.0</td>\n",
       "      <td>1.0</td>\n",
       "      <td>1.0</td>\n",
       "      <td>1.0</td>\n",
       "      <td>1.0</td>\n",
       "      <td>1.0</td>\n",
       "    </tr>\n",
       "    <tr>\n",
       "      <th>1</th>\n",
       "      <td>1</td>\n",
       "      <td>AC612ca133-52a6-456d-a978-e6ecfa9e87d6</td>\n",
       "      <td>PRICINGENGINE</td>\n",
       "      <td>155 days</td>\n",
       "      <td>386 days</td>\n",
       "      <td>91 days</td>\n",
       "      <td>0.0</td>\n",
       "      <td>0.0</td>\n",
       "      <td>0.0</td>\n",
       "      <td>0.0</td>\n",
       "      <td>...</td>\n",
       "      <td>1.0</td>\n",
       "      <td>1.0</td>\n",
       "      <td>1.0</td>\n",
       "      <td>1.0</td>\n",
       "      <td>1.0</td>\n",
       "      <td>1.0</td>\n",
       "      <td>1.0</td>\n",
       "      <td>1.0</td>\n",
       "      <td>1.0</td>\n",
       "      <td>1.0</td>\n",
       "    </tr>\n",
       "    <tr>\n",
       "      <th>2</th>\n",
       "      <td>2</td>\n",
       "      <td>AC200056f5-32de-4cbd-927d-278f3ee18282</td>\n",
       "      <td>PRICINGENGINE</td>\n",
       "      <td>257 days</td>\n",
       "      <td>336 days</td>\n",
       "      <td>5 days</td>\n",
       "      <td>0.0</td>\n",
       "      <td>0.0</td>\n",
       "      <td>0.0</td>\n",
       "      <td>0.0</td>\n",
       "      <td>...</td>\n",
       "      <td>1.0</td>\n",
       "      <td>0.0</td>\n",
       "      <td>1.0</td>\n",
       "      <td>1.0</td>\n",
       "      <td>1.0</td>\n",
       "      <td>1.0</td>\n",
       "      <td>1.0</td>\n",
       "      <td>1.0</td>\n",
       "      <td>1.0</td>\n",
       "      <td>1.0</td>\n",
       "    </tr>\n",
       "    <tr>\n",
       "      <th>3</th>\n",
       "      <td>3</td>\n",
       "      <td>AC200056f5-32de-4cbd-927d-278f3ee18282</td>\n",
       "      <td>PRICINGENGINE</td>\n",
       "      <td>209 days</td>\n",
       "      <td>336 days</td>\n",
       "      <td>5 days</td>\n",
       "      <td>0.0</td>\n",
       "      <td>0.0</td>\n",
       "      <td>0.0</td>\n",
       "      <td>0.0</td>\n",
       "      <td>...</td>\n",
       "      <td>1.0</td>\n",
       "      <td>0.0</td>\n",
       "      <td>1.0</td>\n",
       "      <td>1.0</td>\n",
       "      <td>1.0</td>\n",
       "      <td>1.0</td>\n",
       "      <td>1.0</td>\n",
       "      <td>1.0</td>\n",
       "      <td>1.0</td>\n",
       "      <td>1.0</td>\n",
       "    </tr>\n",
       "    <tr>\n",
       "      <th>4</th>\n",
       "      <td>4</td>\n",
       "      <td>AC4c2519a1-4934-47e6-8c22-2ccfa240b586</td>\n",
       "      <td>MYACCOUNT</td>\n",
       "      <td>246 days</td>\n",
       "      <td>379 days</td>\n",
       "      <td>7 days</td>\n",
       "      <td>0.0</td>\n",
       "      <td>0.0</td>\n",
       "      <td>1.0</td>\n",
       "      <td>1.0</td>\n",
       "      <td>...</td>\n",
       "      <td>1.0</td>\n",
       "      <td>1.0</td>\n",
       "      <td>1.0</td>\n",
       "      <td>1.0</td>\n",
       "      <td>1.0</td>\n",
       "      <td>1.0</td>\n",
       "      <td>1.0</td>\n",
       "      <td>1.0</td>\n",
       "      <td>1.0</td>\n",
       "      <td>1.0</td>\n",
       "    </tr>\n",
       "  </tbody>\n",
       "</table>\n",
       "<p>5 rows × 67 columns</p>\n",
       "</div>"
      ],
      "text/plain": [
       "   Unnamed: 0                                   ac_id   visited_page  \\\n",
       "0           0  ACe761e40e-3259-4e4f-93f9-8f2f2ed34388        REWARDS   \n",
       "1           1  AC612ca133-52a6-456d-a978-e6ecfa9e87d6  PRICINGENGINE   \n",
       "2           2  AC200056f5-32de-4cbd-927d-278f3ee18282  PRICINGENGINE   \n",
       "3           3  AC200056f5-32de-4cbd-927d-278f3ee18282  PRICINGENGINE   \n",
       "4           4  AC4c2519a1-4934-47e6-8c22-2ccfa240b586      MYACCOUNT   \n",
       "\n",
       "  diff_dates Max Date Diff Min Date Diff  Purchase 30_x  Purchase 60_x  \\\n",
       "0    52 days      380 days       31 days            0.0            0.0   \n",
       "1   155 days      386 days       91 days            0.0            0.0   \n",
       "2   257 days      336 days        5 days            0.0            0.0   \n",
       "3   209 days      336 days        5 days            0.0            0.0   \n",
       "4   246 days      379 days        7 days            0.0            0.0   \n",
       "\n",
       "   Purchase 90_x  Purchase 120_x  ...  arr_ind_21  arr_ind_22  arr_ind_23  \\\n",
       "0            0.0             0.0  ...         1.0         1.0         1.0   \n",
       "1            0.0             0.0  ...         1.0         1.0         1.0   \n",
       "2            0.0             0.0  ...         1.0         0.0         1.0   \n",
       "3            0.0             0.0  ...         1.0         0.0         1.0   \n",
       "4            1.0             1.0  ...         1.0         1.0         1.0   \n",
       "\n",
       "   arr_ind_24  arr_ind_25  arr_ind_26  arr_ind_27  arr_ind_28  arr_ind_29  \\\n",
       "0         1.0         1.0         1.0         1.0         1.0         1.0   \n",
       "1         1.0         1.0         1.0         1.0         1.0         1.0   \n",
       "2         1.0         1.0         1.0         1.0         1.0         1.0   \n",
       "3         1.0         1.0         1.0         1.0         1.0         1.0   \n",
       "4         1.0         1.0         1.0         1.0         1.0         1.0   \n",
       "\n",
       "   arr_ind_30  \n",
       "0         1.0  \n",
       "1         1.0  \n",
       "2         1.0  \n",
       "3         1.0  \n",
       "4         1.0  \n",
       "\n",
       "[5 rows x 67 columns]"
      ]
     },
     "execution_count": 253,
     "metadata": {},
     "output_type": "execute_result"
    }
   ],
   "source": [
    "df.head()"
   ]
  },
  {
   "cell_type": "code",
   "execution_count": 254,
   "metadata": {},
   "outputs": [
    {
     "data": {
      "text/plain": [
       "(498668, 67)"
      ]
     },
     "execution_count": 254,
     "metadata": {},
     "output_type": "execute_result"
    }
   ],
   "source": [
    "df.shape"
   ]
  },
  {
   "cell_type": "code",
   "execution_count": 255,
   "metadata": {},
   "outputs": [
    {
     "data": {
      "text/html": [
       "<div>\n",
       "<style scoped>\n",
       "    .dataframe tbody tr th:only-of-type {\n",
       "        vertical-align: middle;\n",
       "    }\n",
       "\n",
       "    .dataframe tbody tr th {\n",
       "        vertical-align: top;\n",
       "    }\n",
       "\n",
       "    .dataframe thead th {\n",
       "        text-align: right;\n",
       "    }\n",
       "</style>\n",
       "<table border=\"1\" class=\"dataframe\">\n",
       "  <thead>\n",
       "    <tr style=\"text-align: right;\">\n",
       "      <th></th>\n",
       "      <th>ac_id</th>\n",
       "      <th>visited_page</th>\n",
       "      <th>diff_dates</th>\n",
       "      <th>Max Date Diff</th>\n",
       "      <th>Min Date Diff</th>\n",
       "      <th>Purchase 30_x</th>\n",
       "      <th>Purchase 60_x</th>\n",
       "      <th>Purchase 90_x</th>\n",
       "      <th>Purchase 120_x</th>\n",
       "      <th>Purchase 180_x</th>\n",
       "      <th>...</th>\n",
       "      <th>arr_ind_21</th>\n",
       "      <th>arr_ind_22</th>\n",
       "      <th>arr_ind_23</th>\n",
       "      <th>arr_ind_24</th>\n",
       "      <th>arr_ind_25</th>\n",
       "      <th>arr_ind_26</th>\n",
       "      <th>arr_ind_27</th>\n",
       "      <th>arr_ind_28</th>\n",
       "      <th>arr_ind_29</th>\n",
       "      <th>arr_ind_30</th>\n",
       "    </tr>\n",
       "  </thead>\n",
       "  <tbody>\n",
       "    <tr>\n",
       "      <th>0</th>\n",
       "      <td>ACe761e40e-3259-4e4f-93f9-8f2f2ed34388</td>\n",
       "      <td>REWARDS</td>\n",
       "      <td>52 days</td>\n",
       "      <td>380 days</td>\n",
       "      <td>31 days</td>\n",
       "      <td>0.0</td>\n",
       "      <td>0.0</td>\n",
       "      <td>0.0</td>\n",
       "      <td>0.0</td>\n",
       "      <td>0.0</td>\n",
       "      <td>...</td>\n",
       "      <td>1.0</td>\n",
       "      <td>1.0</td>\n",
       "      <td>1.0</td>\n",
       "      <td>1.0</td>\n",
       "      <td>1.0</td>\n",
       "      <td>1.0</td>\n",
       "      <td>1.0</td>\n",
       "      <td>1.0</td>\n",
       "      <td>1.0</td>\n",
       "      <td>1.0</td>\n",
       "    </tr>\n",
       "    <tr>\n",
       "      <th>1</th>\n",
       "      <td>AC612ca133-52a6-456d-a978-e6ecfa9e87d6</td>\n",
       "      <td>PRICINGENGINE</td>\n",
       "      <td>155 days</td>\n",
       "      <td>386 days</td>\n",
       "      <td>91 days</td>\n",
       "      <td>0.0</td>\n",
       "      <td>0.0</td>\n",
       "      <td>0.0</td>\n",
       "      <td>0.0</td>\n",
       "      <td>0.0</td>\n",
       "      <td>...</td>\n",
       "      <td>1.0</td>\n",
       "      <td>1.0</td>\n",
       "      <td>1.0</td>\n",
       "      <td>1.0</td>\n",
       "      <td>1.0</td>\n",
       "      <td>1.0</td>\n",
       "      <td>1.0</td>\n",
       "      <td>1.0</td>\n",
       "      <td>1.0</td>\n",
       "      <td>1.0</td>\n",
       "    </tr>\n",
       "    <tr>\n",
       "      <th>2</th>\n",
       "      <td>AC200056f5-32de-4cbd-927d-278f3ee18282</td>\n",
       "      <td>PRICINGENGINE</td>\n",
       "      <td>257 days</td>\n",
       "      <td>336 days</td>\n",
       "      <td>5 days</td>\n",
       "      <td>0.0</td>\n",
       "      <td>0.0</td>\n",
       "      <td>0.0</td>\n",
       "      <td>0.0</td>\n",
       "      <td>0.0</td>\n",
       "      <td>...</td>\n",
       "      <td>1.0</td>\n",
       "      <td>0.0</td>\n",
       "      <td>1.0</td>\n",
       "      <td>1.0</td>\n",
       "      <td>1.0</td>\n",
       "      <td>1.0</td>\n",
       "      <td>1.0</td>\n",
       "      <td>1.0</td>\n",
       "      <td>1.0</td>\n",
       "      <td>1.0</td>\n",
       "    </tr>\n",
       "    <tr>\n",
       "      <th>3</th>\n",
       "      <td>AC200056f5-32de-4cbd-927d-278f3ee18282</td>\n",
       "      <td>PRICINGENGINE</td>\n",
       "      <td>209 days</td>\n",
       "      <td>336 days</td>\n",
       "      <td>5 days</td>\n",
       "      <td>0.0</td>\n",
       "      <td>0.0</td>\n",
       "      <td>0.0</td>\n",
       "      <td>0.0</td>\n",
       "      <td>0.0</td>\n",
       "      <td>...</td>\n",
       "      <td>1.0</td>\n",
       "      <td>0.0</td>\n",
       "      <td>1.0</td>\n",
       "      <td>1.0</td>\n",
       "      <td>1.0</td>\n",
       "      <td>1.0</td>\n",
       "      <td>1.0</td>\n",
       "      <td>1.0</td>\n",
       "      <td>1.0</td>\n",
       "      <td>1.0</td>\n",
       "    </tr>\n",
       "    <tr>\n",
       "      <th>4</th>\n",
       "      <td>AC4c2519a1-4934-47e6-8c22-2ccfa240b586</td>\n",
       "      <td>MYACCOUNT</td>\n",
       "      <td>246 days</td>\n",
       "      <td>379 days</td>\n",
       "      <td>7 days</td>\n",
       "      <td>0.0</td>\n",
       "      <td>0.0</td>\n",
       "      <td>1.0</td>\n",
       "      <td>1.0</td>\n",
       "      <td>1.0</td>\n",
       "      <td>...</td>\n",
       "      <td>1.0</td>\n",
       "      <td>1.0</td>\n",
       "      <td>1.0</td>\n",
       "      <td>1.0</td>\n",
       "      <td>1.0</td>\n",
       "      <td>1.0</td>\n",
       "      <td>1.0</td>\n",
       "      <td>1.0</td>\n",
       "      <td>1.0</td>\n",
       "      <td>1.0</td>\n",
       "    </tr>\n",
       "    <tr>\n",
       "      <th>...</th>\n",
       "      <td>...</td>\n",
       "      <td>...</td>\n",
       "      <td>...</td>\n",
       "      <td>...</td>\n",
       "      <td>...</td>\n",
       "      <td>...</td>\n",
       "      <td>...</td>\n",
       "      <td>...</td>\n",
       "      <td>...</td>\n",
       "      <td>...</td>\n",
       "      <td>...</td>\n",
       "      <td>...</td>\n",
       "      <td>...</td>\n",
       "      <td>...</td>\n",
       "      <td>...</td>\n",
       "      <td>...</td>\n",
       "      <td>...</td>\n",
       "      <td>...</td>\n",
       "      <td>...</td>\n",
       "      <td>...</td>\n",
       "      <td>...</td>\n",
       "    </tr>\n",
       "    <tr>\n",
       "      <th>498663</th>\n",
       "      <td>ACdc6643c3-55a3-4f1b-b07a-fd486c85fb2f</td>\n",
       "      <td>PRICINGENGINE</td>\n",
       "      <td>38 days</td>\n",
       "      <td>327 days</td>\n",
       "      <td>3 days</td>\n",
       "      <td>0.0</td>\n",
       "      <td>0.0</td>\n",
       "      <td>0.0</td>\n",
       "      <td>1.0</td>\n",
       "      <td>1.0</td>\n",
       "      <td>...</td>\n",
       "      <td>1.0</td>\n",
       "      <td>1.0</td>\n",
       "      <td>1.0</td>\n",
       "      <td>1.0</td>\n",
       "      <td>1.0</td>\n",
       "      <td>1.0</td>\n",
       "      <td>1.0</td>\n",
       "      <td>1.0</td>\n",
       "      <td>1.0</td>\n",
       "      <td>1.0</td>\n",
       "    </tr>\n",
       "    <tr>\n",
       "      <th>498664</th>\n",
       "      <td>AC8d97243d-d43d-4f68-bf7f-30d07c485a54</td>\n",
       "      <td>REWARDS</td>\n",
       "      <td>88 days</td>\n",
       "      <td>224 days</td>\n",
       "      <td>5 days</td>\n",
       "      <td>0.0</td>\n",
       "      <td>0.0</td>\n",
       "      <td>0.0</td>\n",
       "      <td>1.0</td>\n",
       "      <td>1.0</td>\n",
       "      <td>...</td>\n",
       "      <td>1.0</td>\n",
       "      <td>1.0</td>\n",
       "      <td>1.0</td>\n",
       "      <td>1.0</td>\n",
       "      <td>1.0</td>\n",
       "      <td>1.0</td>\n",
       "      <td>1.0</td>\n",
       "      <td>1.0</td>\n",
       "      <td>1.0</td>\n",
       "      <td>1.0</td>\n",
       "    </tr>\n",
       "    <tr>\n",
       "      <th>498665</th>\n",
       "      <td>AC762d9492-ad39-4d14-888a-8ac279982d85</td>\n",
       "      <td>PRICINGENGINE</td>\n",
       "      <td>223 days</td>\n",
       "      <td>349 days</td>\n",
       "      <td>47 days</td>\n",
       "      <td>1.0</td>\n",
       "      <td>1.0</td>\n",
       "      <td>1.0</td>\n",
       "      <td>1.0</td>\n",
       "      <td>1.0</td>\n",
       "      <td>...</td>\n",
       "      <td>1.0</td>\n",
       "      <td>1.0</td>\n",
       "      <td>1.0</td>\n",
       "      <td>1.0</td>\n",
       "      <td>1.0</td>\n",
       "      <td>1.0</td>\n",
       "      <td>1.0</td>\n",
       "      <td>1.0</td>\n",
       "      <td>1.0</td>\n",
       "      <td>1.0</td>\n",
       "    </tr>\n",
       "    <tr>\n",
       "      <th>498666</th>\n",
       "      <td>AC043ad7c3-807f-4f92-9c31-3161b69e1994</td>\n",
       "      <td>REWARDS</td>\n",
       "      <td>335 days</td>\n",
       "      <td>376 days</td>\n",
       "      <td>27 days</td>\n",
       "      <td>1.0</td>\n",
       "      <td>1.0</td>\n",
       "      <td>1.0</td>\n",
       "      <td>1.0</td>\n",
       "      <td>1.0</td>\n",
       "      <td>...</td>\n",
       "      <td>1.0</td>\n",
       "      <td>1.0</td>\n",
       "      <td>1.0</td>\n",
       "      <td>1.0</td>\n",
       "      <td>1.0</td>\n",
       "      <td>1.0</td>\n",
       "      <td>1.0</td>\n",
       "      <td>1.0</td>\n",
       "      <td>1.0</td>\n",
       "      <td>1.0</td>\n",
       "    </tr>\n",
       "    <tr>\n",
       "      <th>498667</th>\n",
       "      <td>AC38c6c972-5a5f-4a0f-bf9e-bad4c3c06025</td>\n",
       "      <td>REWARDS</td>\n",
       "      <td>247 days</td>\n",
       "      <td>295 days</td>\n",
       "      <td>8 days</td>\n",
       "      <td>0.0</td>\n",
       "      <td>1.0</td>\n",
       "      <td>1.0</td>\n",
       "      <td>1.0</td>\n",
       "      <td>1.0</td>\n",
       "      <td>...</td>\n",
       "      <td>1.0</td>\n",
       "      <td>1.0</td>\n",
       "      <td>1.0</td>\n",
       "      <td>1.0</td>\n",
       "      <td>1.0</td>\n",
       "      <td>1.0</td>\n",
       "      <td>1.0</td>\n",
       "      <td>1.0</td>\n",
       "      <td>1.0</td>\n",
       "      <td>1.0</td>\n",
       "    </tr>\n",
       "  </tbody>\n",
       "</table>\n",
       "<p>498668 rows × 66 columns</p>\n",
       "</div>"
      ],
      "text/plain": [
       "                                         ac_id   visited_page diff_dates  \\\n",
       "0       ACe761e40e-3259-4e4f-93f9-8f2f2ed34388        REWARDS    52 days   \n",
       "1       AC612ca133-52a6-456d-a978-e6ecfa9e87d6  PRICINGENGINE   155 days   \n",
       "2       AC200056f5-32de-4cbd-927d-278f3ee18282  PRICINGENGINE   257 days   \n",
       "3       AC200056f5-32de-4cbd-927d-278f3ee18282  PRICINGENGINE   209 days   \n",
       "4       AC4c2519a1-4934-47e6-8c22-2ccfa240b586      MYACCOUNT   246 days   \n",
       "...                                        ...            ...        ...   \n",
       "498663  ACdc6643c3-55a3-4f1b-b07a-fd486c85fb2f  PRICINGENGINE    38 days   \n",
       "498664  AC8d97243d-d43d-4f68-bf7f-30d07c485a54        REWARDS    88 days   \n",
       "498665  AC762d9492-ad39-4d14-888a-8ac279982d85  PRICINGENGINE   223 days   \n",
       "498666  AC043ad7c3-807f-4f92-9c31-3161b69e1994        REWARDS   335 days   \n",
       "498667  AC38c6c972-5a5f-4a0f-bf9e-bad4c3c06025        REWARDS   247 days   \n",
       "\n",
       "       Max Date Diff Min Date Diff  Purchase 30_x  Purchase 60_x  \\\n",
       "0           380 days       31 days            0.0            0.0   \n",
       "1           386 days       91 days            0.0            0.0   \n",
       "2           336 days        5 days            0.0            0.0   \n",
       "3           336 days        5 days            0.0            0.0   \n",
       "4           379 days        7 days            0.0            0.0   \n",
       "...              ...           ...            ...            ...   \n",
       "498663      327 days        3 days            0.0            0.0   \n",
       "498664      224 days        5 days            0.0            0.0   \n",
       "498665      349 days       47 days            1.0            1.0   \n",
       "498666      376 days       27 days            1.0            1.0   \n",
       "498667      295 days        8 days            0.0            1.0   \n",
       "\n",
       "        Purchase 90_x  Purchase 120_x  Purchase 180_x  ...  arr_ind_21  \\\n",
       "0                 0.0             0.0             0.0  ...         1.0   \n",
       "1                 0.0             0.0             0.0  ...         1.0   \n",
       "2                 0.0             0.0             0.0  ...         1.0   \n",
       "3                 0.0             0.0             0.0  ...         1.0   \n",
       "4                 1.0             1.0             1.0  ...         1.0   \n",
       "...               ...             ...             ...  ...         ...   \n",
       "498663            0.0             1.0             1.0  ...         1.0   \n",
       "498664            0.0             1.0             1.0  ...         1.0   \n",
       "498665            1.0             1.0             1.0  ...         1.0   \n",
       "498666            1.0             1.0             1.0  ...         1.0   \n",
       "498667            1.0             1.0             1.0  ...         1.0   \n",
       "\n",
       "        arr_ind_22  arr_ind_23  arr_ind_24  arr_ind_25  arr_ind_26  \\\n",
       "0              1.0         1.0         1.0         1.0         1.0   \n",
       "1              1.0         1.0         1.0         1.0         1.0   \n",
       "2              0.0         1.0         1.0         1.0         1.0   \n",
       "3              0.0         1.0         1.0         1.0         1.0   \n",
       "4              1.0         1.0         1.0         1.0         1.0   \n",
       "...            ...         ...         ...         ...         ...   \n",
       "498663         1.0         1.0         1.0         1.0         1.0   \n",
       "498664         1.0         1.0         1.0         1.0         1.0   \n",
       "498665         1.0         1.0         1.0         1.0         1.0   \n",
       "498666         1.0         1.0         1.0         1.0         1.0   \n",
       "498667         1.0         1.0         1.0         1.0         1.0   \n",
       "\n",
       "        arr_ind_27  arr_ind_28  arr_ind_29  arr_ind_30  \n",
       "0              1.0         1.0         1.0         1.0  \n",
       "1              1.0         1.0         1.0         1.0  \n",
       "2              1.0         1.0         1.0         1.0  \n",
       "3              1.0         1.0         1.0         1.0  \n",
       "4              1.0         1.0         1.0         1.0  \n",
       "...            ...         ...         ...         ...  \n",
       "498663         1.0         1.0         1.0         1.0  \n",
       "498664         1.0         1.0         1.0         1.0  \n",
       "498665         1.0         1.0         1.0         1.0  \n",
       "498666         1.0         1.0         1.0         1.0  \n",
       "498667         1.0         1.0         1.0         1.0  \n",
       "\n",
       "[498668 rows x 66 columns]"
      ]
     },
     "execution_count": 255,
     "metadata": {},
     "output_type": "execute_result"
    }
   ],
   "source": [
    "df.drop(columns=df.columns[0], axis=1, inplace=True)\n",
    "df"
   ]
  },
  {
   "cell_type": "code",
   "execution_count": 256,
   "metadata": {},
   "outputs": [
    {
     "data": {
      "text/plain": [
       "['Purchase 30_x',\n",
       " 'Purchase 60_x',\n",
       " 'Purchase 90_x',\n",
       " 'Purchase 120_x',\n",
       " 'Purchase 180_x',\n",
       " 'Purchase 360_x',\n",
       " 'Web 30_x',\n",
       " 'Web 60_x',\n",
       " 'Web 90_x',\n",
       " 'Web 120_x',\n",
       " 'Web 180_x',\n",
       " 'Web 360_x',\n",
       " 'Purchase 30_y',\n",
       " 'Purchase 60_y',\n",
       " 'Purchase 90_y',\n",
       " 'Purchase 120_y',\n",
       " 'Purchase 180_y',\n",
       " 'Purchase 360_y',\n",
       " 'Web 30_y',\n",
       " 'Web 60_y',\n",
       " 'Web 90_y',\n",
       " 'Web 120_y',\n",
       " 'Web 180_y',\n",
       " 'Web 360_y',\n",
       " 'new_account_indicator',\n",
       " 'spend_active',\n",
       " 'is_active_balance',\n",
       " 'has_credit_limit_reached',\n",
       " 'is_revolving',\n",
       " 'has_spend_at_any_merchant',\n",
       " 'arr_ind_1',\n",
       " 'arr_ind_2']"
      ]
     },
     "execution_count": 256,
     "metadata": {},
     "output_type": "execute_result"
    }
   ],
   "source": [
    "feature_list = list(df.iloc[:, 0:38].select_dtypes(include=\"float64\"))\n",
    "feature_list"
   ]
  },
  {
   "cell_type": "code",
   "execution_count": 257,
   "metadata": {},
   "outputs": [],
   "source": [
    "y = df.loc[:,\"arr_ind_3\"]\n",
    "X = df.loc[:,feature_list]"
   ]
  },
  {
   "cell_type": "code",
   "execution_count": 258,
   "metadata": {},
   "outputs": [
    {
     "data": {
      "text/plain": [
       "0         0.0\n",
       "1         0.0\n",
       "2         0.0\n",
       "3         0.0\n",
       "4         0.0\n",
       "         ... \n",
       "498663    0.0\n",
       "498664    1.0\n",
       "498665    0.0\n",
       "498666    0.0\n",
       "498667    0.0\n",
       "Name: arr_ind_3, Length: 498668, dtype: float64"
      ]
     },
     "execution_count": 258,
     "metadata": {},
     "output_type": "execute_result"
    }
   ],
   "source": [
    "y"
   ]
  },
  {
   "cell_type": "code",
   "execution_count": null,
   "metadata": {},
   "outputs": [],
   "source": []
  },
  {
   "cell_type": "code",
   "execution_count": 6,
   "metadata": {},
   "outputs": [],
   "source": [
    "labels = []\n",
    "labels.append('ac_id')\n",
    "for i in range(1, 31):\n",
    "    labels.append('arr_ind_' + str(i))"
   ]
  },
  {
   "cell_type": "code",
   "execution_count": 7,
   "metadata": {},
   "outputs": [
    {
     "data": {
      "text/plain": [
       "['ac_id',\n",
       " 'arr_ind_1',\n",
       " 'arr_ind_2',\n",
       " 'arr_ind_3',\n",
       " 'arr_ind_4',\n",
       " 'arr_ind_5',\n",
       " 'arr_ind_6',\n",
       " 'arr_ind_7',\n",
       " 'arr_ind_8',\n",
       " 'arr_ind_9',\n",
       " 'arr_ind_10',\n",
       " 'arr_ind_11',\n",
       " 'arr_ind_12',\n",
       " 'arr_ind_13',\n",
       " 'arr_ind_14',\n",
       " 'arr_ind_15',\n",
       " 'arr_ind_16',\n",
       " 'arr_ind_17',\n",
       " 'arr_ind_18',\n",
       " 'arr_ind_19',\n",
       " 'arr_ind_20',\n",
       " 'arr_ind_21',\n",
       " 'arr_ind_22',\n",
       " 'arr_ind_23',\n",
       " 'arr_ind_24',\n",
       " 'arr_ind_25',\n",
       " 'arr_ind_26',\n",
       " 'arr_ind_27',\n",
       " 'arr_ind_28',\n",
       " 'arr_ind_29',\n",
       " 'arr_ind_30']"
      ]
     },
     "execution_count": 7,
     "metadata": {},
     "output_type": "execute_result"
    }
   ],
   "source": [
    "labels #1,20,30,40"
   ]
  },
  {
   "cell_type": "code",
   "execution_count": 8,
   "metadata": {},
   "outputs": [],
   "source": [
    "#y = df['arr_ind_20'] #repeat for every label"
   ]
  },
  {
   "cell_type": "code",
   "execution_count": 9,
   "metadata": {},
   "outputs": [],
   "source": [
    "#X = df.drop(labels, axis = 1)"
   ]
  },
  {
   "cell_type": "code",
   "execution_count": 10,
   "metadata": {},
   "outputs": [],
   "source": [
    "from sklearn.preprocessing import LabelBinarizer\n",
    "#drop it from the df"
   ]
  },
  {
   "cell_type": "code",
   "execution_count": 11,
   "metadata": {},
   "outputs": [],
   "source": [
    "X['diff_dates'] = LabelBinarizer().fit_transform(X['diff_dates'])"
   ]
  },
  {
   "cell_type": "code",
   "execution_count": 12,
   "metadata": {},
   "outputs": [],
   "source": [
    "X['Max Date Diff'] = LabelBinarizer().fit_transform(X['Max Date Diff'])"
   ]
  },
  {
   "cell_type": "code",
   "execution_count": 13,
   "metadata": {},
   "outputs": [],
   "source": [
    "X['Min Date Diff'] = LabelBinarizer().fit_transform(X['Min Date Diff'])"
   ]
  },
  {
   "cell_type": "code",
   "execution_count": 14,
   "metadata": {},
   "outputs": [],
   "source": [
    "X['visited_page'] = LabelBinarizer().fit_transform(X['visited_page'])"
   ]
  },
  {
   "cell_type": "code",
   "execution_count": 15,
   "metadata": {},
   "outputs": [],
   "source": [
    "X['Proximity to Payment Due Date'] = LabelBinarizer().fit_transform(X['Proximity to Payment Due Date'])"
   ]
  },
  {
   "cell_type": "code",
   "execution_count": 16,
   "metadata": {},
   "outputs": [
    {
     "data": {
      "text/html": [
       "<div>\n",
       "<style scoped>\n",
       "    .dataframe tbody tr th:only-of-type {\n",
       "        vertical-align: middle;\n",
       "    }\n",
       "\n",
       "    .dataframe tbody tr th {\n",
       "        vertical-align: top;\n",
       "    }\n",
       "\n",
       "    .dataframe thead th {\n",
       "        text-align: right;\n",
       "    }\n",
       "</style>\n",
       "<table border=\"1\" class=\"dataframe\">\n",
       "  <thead>\n",
       "    <tr style=\"text-align: right;\">\n",
       "      <th></th>\n",
       "      <th>Unnamed: 0</th>\n",
       "      <th>visited_page</th>\n",
       "      <th>diff_dates</th>\n",
       "      <th>Max Date Diff</th>\n",
       "      <th>Min Date Diff</th>\n",
       "      <th>Purchase 30_x</th>\n",
       "      <th>Purchase 60_x</th>\n",
       "      <th>Purchase 90_x</th>\n",
       "      <th>Purchase 120_x</th>\n",
       "      <th>Purchase 180_x</th>\n",
       "      <th>...</th>\n",
       "      <th>Web 120_y</th>\n",
       "      <th>Web 180_y</th>\n",
       "      <th>Web 360_y</th>\n",
       "      <th>new_account_indicator</th>\n",
       "      <th>spend_active</th>\n",
       "      <th>is_active_balance</th>\n",
       "      <th>has_credit_limit_reached</th>\n",
       "      <th>is_revolving</th>\n",
       "      <th>has_spend_at_any_merchant</th>\n",
       "      <th>Proximity to Payment Due Date</th>\n",
       "    </tr>\n",
       "  </thead>\n",
       "  <tbody>\n",
       "    <tr>\n",
       "      <th>0</th>\n",
       "      <td>0</td>\n",
       "      <td>0</td>\n",
       "      <td>0</td>\n",
       "      <td>0</td>\n",
       "      <td>0</td>\n",
       "      <td>0.0</td>\n",
       "      <td>0.0</td>\n",
       "      <td>0.0</td>\n",
       "      <td>0.0</td>\n",
       "      <td>0.0</td>\n",
       "      <td>...</td>\n",
       "      <td>0.0</td>\n",
       "      <td>0.0</td>\n",
       "      <td>11.0</td>\n",
       "      <td>0.0</td>\n",
       "      <td>1.0</td>\n",
       "      <td>0.0</td>\n",
       "      <td>0.0</td>\n",
       "      <td>1.0</td>\n",
       "      <td>0.0</td>\n",
       "      <td>0</td>\n",
       "    </tr>\n",
       "    <tr>\n",
       "      <th>1</th>\n",
       "      <td>1</td>\n",
       "      <td>0</td>\n",
       "      <td>0</td>\n",
       "      <td>0</td>\n",
       "      <td>0</td>\n",
       "      <td>0.0</td>\n",
       "      <td>0.0</td>\n",
       "      <td>0.0</td>\n",
       "      <td>0.0</td>\n",
       "      <td>0.0</td>\n",
       "      <td>...</td>\n",
       "      <td>0.0</td>\n",
       "      <td>0.0</td>\n",
       "      <td>5.0</td>\n",
       "      <td>0.0</td>\n",
       "      <td>1.0</td>\n",
       "      <td>1.0</td>\n",
       "      <td>0.0</td>\n",
       "      <td>0.0</td>\n",
       "      <td>0.0</td>\n",
       "      <td>0</td>\n",
       "    </tr>\n",
       "    <tr>\n",
       "      <th>2</th>\n",
       "      <td>2</td>\n",
       "      <td>0</td>\n",
       "      <td>0</td>\n",
       "      <td>0</td>\n",
       "      <td>0</td>\n",
       "      <td>0.0</td>\n",
       "      <td>0.0</td>\n",
       "      <td>0.0</td>\n",
       "      <td>0.0</td>\n",
       "      <td>0.0</td>\n",
       "      <td>...</td>\n",
       "      <td>10.0</td>\n",
       "      <td>10.0</td>\n",
       "      <td>10.0</td>\n",
       "      <td>0.0</td>\n",
       "      <td>1.0</td>\n",
       "      <td>0.0</td>\n",
       "      <td>0.0</td>\n",
       "      <td>0.0</td>\n",
       "      <td>0.0</td>\n",
       "      <td>1</td>\n",
       "    </tr>\n",
       "    <tr>\n",
       "      <th>3</th>\n",
       "      <td>3</td>\n",
       "      <td>0</td>\n",
       "      <td>0</td>\n",
       "      <td>0</td>\n",
       "      <td>0</td>\n",
       "      <td>0.0</td>\n",
       "      <td>0.0</td>\n",
       "      <td>0.0</td>\n",
       "      <td>0.0</td>\n",
       "      <td>0.0</td>\n",
       "      <td>...</td>\n",
       "      <td>10.0</td>\n",
       "      <td>10.0</td>\n",
       "      <td>10.0</td>\n",
       "      <td>0.0</td>\n",
       "      <td>1.0</td>\n",
       "      <td>0.0</td>\n",
       "      <td>0.0</td>\n",
       "      <td>0.0</td>\n",
       "      <td>0.0</td>\n",
       "      <td>1</td>\n",
       "    </tr>\n",
       "    <tr>\n",
       "      <th>4</th>\n",
       "      <td>4</td>\n",
       "      <td>1</td>\n",
       "      <td>0</td>\n",
       "      <td>0</td>\n",
       "      <td>0</td>\n",
       "      <td>0.0</td>\n",
       "      <td>0.0</td>\n",
       "      <td>1.0</td>\n",
       "      <td>1.0</td>\n",
       "      <td>1.0</td>\n",
       "      <td>...</td>\n",
       "      <td>0.0</td>\n",
       "      <td>0.0</td>\n",
       "      <td>30.0</td>\n",
       "      <td>0.0</td>\n",
       "      <td>0.0</td>\n",
       "      <td>0.0</td>\n",
       "      <td>0.0</td>\n",
       "      <td>0.0</td>\n",
       "      <td>0.0</td>\n",
       "      <td>0</td>\n",
       "    </tr>\n",
       "  </tbody>\n",
       "</table>\n",
       "<p>5 rows × 36 columns</p>\n",
       "</div>"
      ],
      "text/plain": [
       "   Unnamed: 0  visited_page  diff_dates  Max Date Diff  Min Date Diff  \\\n",
       "0           0             0           0              0              0   \n",
       "1           1             0           0              0              0   \n",
       "2           2             0           0              0              0   \n",
       "3           3             0           0              0              0   \n",
       "4           4             1           0              0              0   \n",
       "\n",
       "   Purchase 30_x  Purchase 60_x  Purchase 90_x  Purchase 120_x  \\\n",
       "0            0.0            0.0            0.0             0.0   \n",
       "1            0.0            0.0            0.0             0.0   \n",
       "2            0.0            0.0            0.0             0.0   \n",
       "3            0.0            0.0            0.0             0.0   \n",
       "4            0.0            0.0            1.0             1.0   \n",
       "\n",
       "   Purchase 180_x  ...  Web 120_y  Web 180_y  Web 360_y  \\\n",
       "0             0.0  ...        0.0        0.0       11.0   \n",
       "1             0.0  ...        0.0        0.0        5.0   \n",
       "2             0.0  ...       10.0       10.0       10.0   \n",
       "3             0.0  ...       10.0       10.0       10.0   \n",
       "4             1.0  ...        0.0        0.0       30.0   \n",
       "\n",
       "   new_account_indicator  spend_active  is_active_balance  \\\n",
       "0                    0.0           1.0                0.0   \n",
       "1                    0.0           1.0                1.0   \n",
       "2                    0.0           1.0                0.0   \n",
       "3                    0.0           1.0                0.0   \n",
       "4                    0.0           0.0                0.0   \n",
       "\n",
       "   has_credit_limit_reached  is_revolving  has_spend_at_any_merchant  \\\n",
       "0                       0.0           1.0                        0.0   \n",
       "1                       0.0           0.0                        0.0   \n",
       "2                       0.0           0.0                        0.0   \n",
       "3                       0.0           0.0                        0.0   \n",
       "4                       0.0           0.0                        0.0   \n",
       "\n",
       "   Proximity to Payment Due Date  \n",
       "0                              0  \n",
       "1                              0  \n",
       "2                              1  \n",
       "3                              1  \n",
       "4                              0  \n",
       "\n",
       "[5 rows x 36 columns]"
      ]
     },
     "execution_count": 16,
     "metadata": {},
     "output_type": "execute_result"
    }
   ],
   "source": [
    "X.head()"
   ]
  },
  {
   "cell_type": "code",
   "execution_count": 17,
   "metadata": {},
   "outputs": [],
   "source": [
    "from sklearn import preprocessing"
   ]
  },
  {
   "cell_type": "code",
   "execution_count": 18,
   "metadata": {},
   "outputs": [],
   "source": [
    "le = preprocessing.LabelEncoder()"
   ]
  },
  {
   "cell_type": "code",
   "execution_count": 67,
   "metadata": {},
   "outputs": [],
   "source": [
    "X_train, X_test, y_train, y_test = train_test_split(X, y, test_size=0.33, random_state=1234)"
   ]
  },
  {
   "cell_type": "code",
   "execution_count": 69,
   "metadata": {},
   "outputs": [
    {
     "data": {
      "text/html": [
       "<div>\n",
       "<style scoped>\n",
       "    .dataframe tbody tr th:only-of-type {\n",
       "        vertical-align: middle;\n",
       "    }\n",
       "\n",
       "    .dataframe tbody tr th {\n",
       "        vertical-align: top;\n",
       "    }\n",
       "\n",
       "    .dataframe thead th {\n",
       "        text-align: right;\n",
       "    }\n",
       "</style>\n",
       "<table border=\"1\" class=\"dataframe\">\n",
       "  <thead>\n",
       "    <tr style=\"text-align: right;\">\n",
       "      <th></th>\n",
       "      <th>Purchase 30_x</th>\n",
       "      <th>Purchase 60_x</th>\n",
       "      <th>Purchase 90_x</th>\n",
       "      <th>Purchase 120_x</th>\n",
       "      <th>Purchase 180_x</th>\n",
       "      <th>Purchase 360_x</th>\n",
       "      <th>Web 30_x</th>\n",
       "      <th>Web 60_x</th>\n",
       "      <th>Web 90_x</th>\n",
       "      <th>Web 120_x</th>\n",
       "      <th>...</th>\n",
       "      <th>Web 180_y</th>\n",
       "      <th>Web 360_y</th>\n",
       "      <th>new_account_indicator</th>\n",
       "      <th>spend_active</th>\n",
       "      <th>is_active_balance</th>\n",
       "      <th>has_credit_limit_reached</th>\n",
       "      <th>is_revolving</th>\n",
       "      <th>has_spend_at_any_merchant</th>\n",
       "      <th>arr_ind_1</th>\n",
       "      <th>arr_ind_2</th>\n",
       "    </tr>\n",
       "  </thead>\n",
       "  <tbody>\n",
       "    <tr>\n",
       "      <th>13652</th>\n",
       "      <td>0.0</td>\n",
       "      <td>0.0</td>\n",
       "      <td>0.0</td>\n",
       "      <td>1.0</td>\n",
       "      <td>1.0</td>\n",
       "      <td>1.0</td>\n",
       "      <td>0.0</td>\n",
       "      <td>0.0</td>\n",
       "      <td>0.0</td>\n",
       "      <td>0.0</td>\n",
       "      <td>...</td>\n",
       "      <td>7.0</td>\n",
       "      <td>14.0</td>\n",
       "      <td>0.0</td>\n",
       "      <td>0.0</td>\n",
       "      <td>0.0</td>\n",
       "      <td>0.0</td>\n",
       "      <td>0.0</td>\n",
       "      <td>0.0</td>\n",
       "      <td>0.0</td>\n",
       "      <td>0.0</td>\n",
       "    </tr>\n",
       "    <tr>\n",
       "      <th>37593</th>\n",
       "      <td>0.0</td>\n",
       "      <td>0.0</td>\n",
       "      <td>0.0</td>\n",
       "      <td>0.0</td>\n",
       "      <td>0.0</td>\n",
       "      <td>1.0</td>\n",
       "      <td>0.0</td>\n",
       "      <td>0.0</td>\n",
       "      <td>0.0</td>\n",
       "      <td>0.0</td>\n",
       "      <td>...</td>\n",
       "      <td>0.0</td>\n",
       "      <td>22.0</td>\n",
       "      <td>0.0</td>\n",
       "      <td>1.0</td>\n",
       "      <td>1.0</td>\n",
       "      <td>0.0</td>\n",
       "      <td>0.0</td>\n",
       "      <td>0.0</td>\n",
       "      <td>0.0</td>\n",
       "      <td>0.0</td>\n",
       "    </tr>\n",
       "    <tr>\n",
       "      <th>90188</th>\n",
       "      <td>0.0</td>\n",
       "      <td>0.0</td>\n",
       "      <td>0.0</td>\n",
       "      <td>0.0</td>\n",
       "      <td>1.0</td>\n",
       "      <td>1.0</td>\n",
       "      <td>0.0</td>\n",
       "      <td>0.0</td>\n",
       "      <td>0.0</td>\n",
       "      <td>0.0</td>\n",
       "      <td>...</td>\n",
       "      <td>7.0</td>\n",
       "      <td>14.0</td>\n",
       "      <td>0.0</td>\n",
       "      <td>1.0</td>\n",
       "      <td>0.0</td>\n",
       "      <td>0.0</td>\n",
       "      <td>0.0</td>\n",
       "      <td>0.0</td>\n",
       "      <td>0.0</td>\n",
       "      <td>0.0</td>\n",
       "    </tr>\n",
       "    <tr>\n",
       "      <th>81447</th>\n",
       "      <td>0.0</td>\n",
       "      <td>0.0</td>\n",
       "      <td>0.0</td>\n",
       "      <td>0.0</td>\n",
       "      <td>0.0</td>\n",
       "      <td>1.0</td>\n",
       "      <td>0.0</td>\n",
       "      <td>0.0</td>\n",
       "      <td>0.0</td>\n",
       "      <td>0.0</td>\n",
       "      <td>...</td>\n",
       "      <td>8.0</td>\n",
       "      <td>16.0</td>\n",
       "      <td>0.0</td>\n",
       "      <td>1.0</td>\n",
       "      <td>1.0</td>\n",
       "      <td>0.0</td>\n",
       "      <td>0.0</td>\n",
       "      <td>0.0</td>\n",
       "      <td>0.0</td>\n",
       "      <td>0.0</td>\n",
       "    </tr>\n",
       "    <tr>\n",
       "      <th>167091</th>\n",
       "      <td>0.0</td>\n",
       "      <td>0.0</td>\n",
       "      <td>0.0</td>\n",
       "      <td>0.0</td>\n",
       "      <td>0.0</td>\n",
       "      <td>1.0</td>\n",
       "      <td>0.0</td>\n",
       "      <td>0.0</td>\n",
       "      <td>0.0</td>\n",
       "      <td>0.0</td>\n",
       "      <td>...</td>\n",
       "      <td>0.0</td>\n",
       "      <td>36.0</td>\n",
       "      <td>0.0</td>\n",
       "      <td>0.0</td>\n",
       "      <td>1.0</td>\n",
       "      <td>0.0</td>\n",
       "      <td>0.0</td>\n",
       "      <td>0.0</td>\n",
       "      <td>0.0</td>\n",
       "      <td>0.0</td>\n",
       "    </tr>\n",
       "  </tbody>\n",
       "</table>\n",
       "<p>5 rows × 32 columns</p>\n",
       "</div>"
      ],
      "text/plain": [
       "        Purchase 30_x  Purchase 60_x  Purchase 90_x  Purchase 120_x  \\\n",
       "13652             0.0            0.0            0.0             1.0   \n",
       "37593             0.0            0.0            0.0             0.0   \n",
       "90188             0.0            0.0            0.0             0.0   \n",
       "81447             0.0            0.0            0.0             0.0   \n",
       "167091            0.0            0.0            0.0             0.0   \n",
       "\n",
       "        Purchase 180_x  Purchase 360_x  Web 30_x  Web 60_x  Web 90_x  \\\n",
       "13652              1.0             1.0       0.0       0.0       0.0   \n",
       "37593              0.0             1.0       0.0       0.0       0.0   \n",
       "90188              1.0             1.0       0.0       0.0       0.0   \n",
       "81447              0.0             1.0       0.0       0.0       0.0   \n",
       "167091             0.0             1.0       0.0       0.0       0.0   \n",
       "\n",
       "        Web 120_x  ...  Web 180_y  Web 360_y  new_account_indicator  \\\n",
       "13652         0.0  ...        7.0       14.0                    0.0   \n",
       "37593         0.0  ...        0.0       22.0                    0.0   \n",
       "90188         0.0  ...        7.0       14.0                    0.0   \n",
       "81447         0.0  ...        8.0       16.0                    0.0   \n",
       "167091        0.0  ...        0.0       36.0                    0.0   \n",
       "\n",
       "        spend_active  is_active_balance  has_credit_limit_reached  \\\n",
       "13652            0.0                0.0                       0.0   \n",
       "37593            1.0                1.0                       0.0   \n",
       "90188            1.0                0.0                       0.0   \n",
       "81447            1.0                1.0                       0.0   \n",
       "167091           0.0                1.0                       0.0   \n",
       "\n",
       "        is_revolving  has_spend_at_any_merchant  arr_ind_1  arr_ind_2  \n",
       "13652            0.0                        0.0        0.0        0.0  \n",
       "37593            0.0                        0.0        0.0        0.0  \n",
       "90188            0.0                        0.0        0.0        0.0  \n",
       "81447            0.0                        0.0        0.0        0.0  \n",
       "167091           0.0                        0.0        0.0        0.0  \n",
       "\n",
       "[5 rows x 32 columns]"
      ]
     },
     "execution_count": 69,
     "metadata": {},
     "output_type": "execute_result"
    }
   ],
   "source": [
    "X_train.head()"
   ]
  },
  {
   "cell_type": "code",
   "execution_count": 70,
   "metadata": {},
   "outputs": [
    {
     "data": {
      "text/plain": [
       "(334107, 32)"
      ]
     },
     "execution_count": 70,
     "metadata": {},
     "output_type": "execute_result"
    }
   ],
   "source": [
    "X_train.shape"
   ]
  },
  {
   "cell_type": "code",
   "execution_count": 71,
   "metadata": {},
   "outputs": [
    {
     "data": {
      "text/html": [
       "<div>\n",
       "<style scoped>\n",
       "    .dataframe tbody tr th:only-of-type {\n",
       "        vertical-align: middle;\n",
       "    }\n",
       "\n",
       "    .dataframe tbody tr th {\n",
       "        vertical-align: top;\n",
       "    }\n",
       "\n",
       "    .dataframe thead th {\n",
       "        text-align: right;\n",
       "    }\n",
       "</style>\n",
       "<table border=\"1\" class=\"dataframe\">\n",
       "  <thead>\n",
       "    <tr style=\"text-align: right;\">\n",
       "      <th></th>\n",
       "      <th>Purchase 30_x</th>\n",
       "      <th>Purchase 60_x</th>\n",
       "      <th>Purchase 90_x</th>\n",
       "      <th>Purchase 120_x</th>\n",
       "      <th>Purchase 180_x</th>\n",
       "      <th>Purchase 360_x</th>\n",
       "      <th>Web 30_x</th>\n",
       "      <th>Web 60_x</th>\n",
       "      <th>Web 90_x</th>\n",
       "      <th>Web 120_x</th>\n",
       "      <th>...</th>\n",
       "      <th>Web 180_y</th>\n",
       "      <th>Web 360_y</th>\n",
       "      <th>new_account_indicator</th>\n",
       "      <th>spend_active</th>\n",
       "      <th>is_active_balance</th>\n",
       "      <th>has_credit_limit_reached</th>\n",
       "      <th>is_revolving</th>\n",
       "      <th>has_spend_at_any_merchant</th>\n",
       "      <th>arr_ind_1</th>\n",
       "      <th>arr_ind_2</th>\n",
       "    </tr>\n",
       "  </thead>\n",
       "  <tbody>\n",
       "    <tr>\n",
       "      <th>13652</th>\n",
       "      <td>0.0</td>\n",
       "      <td>0.0</td>\n",
       "      <td>0.0</td>\n",
       "      <td>1.0</td>\n",
       "      <td>1.0</td>\n",
       "      <td>1.0</td>\n",
       "      <td>0.0</td>\n",
       "      <td>0.0</td>\n",
       "      <td>0.0</td>\n",
       "      <td>0.0</td>\n",
       "      <td>...</td>\n",
       "      <td>7.0</td>\n",
       "      <td>14.0</td>\n",
       "      <td>0.0</td>\n",
       "      <td>0.0</td>\n",
       "      <td>0.0</td>\n",
       "      <td>0.0</td>\n",
       "      <td>0.0</td>\n",
       "      <td>0.0</td>\n",
       "      <td>0.0</td>\n",
       "      <td>0.0</td>\n",
       "    </tr>\n",
       "    <tr>\n",
       "      <th>37593</th>\n",
       "      <td>0.0</td>\n",
       "      <td>0.0</td>\n",
       "      <td>0.0</td>\n",
       "      <td>0.0</td>\n",
       "      <td>0.0</td>\n",
       "      <td>1.0</td>\n",
       "      <td>0.0</td>\n",
       "      <td>0.0</td>\n",
       "      <td>0.0</td>\n",
       "      <td>0.0</td>\n",
       "      <td>...</td>\n",
       "      <td>0.0</td>\n",
       "      <td>22.0</td>\n",
       "      <td>0.0</td>\n",
       "      <td>1.0</td>\n",
       "      <td>1.0</td>\n",
       "      <td>0.0</td>\n",
       "      <td>0.0</td>\n",
       "      <td>0.0</td>\n",
       "      <td>0.0</td>\n",
       "      <td>0.0</td>\n",
       "    </tr>\n",
       "    <tr>\n",
       "      <th>90188</th>\n",
       "      <td>0.0</td>\n",
       "      <td>0.0</td>\n",
       "      <td>0.0</td>\n",
       "      <td>0.0</td>\n",
       "      <td>1.0</td>\n",
       "      <td>1.0</td>\n",
       "      <td>0.0</td>\n",
       "      <td>0.0</td>\n",
       "      <td>0.0</td>\n",
       "      <td>0.0</td>\n",
       "      <td>...</td>\n",
       "      <td>7.0</td>\n",
       "      <td>14.0</td>\n",
       "      <td>0.0</td>\n",
       "      <td>1.0</td>\n",
       "      <td>0.0</td>\n",
       "      <td>0.0</td>\n",
       "      <td>0.0</td>\n",
       "      <td>0.0</td>\n",
       "      <td>0.0</td>\n",
       "      <td>0.0</td>\n",
       "    </tr>\n",
       "    <tr>\n",
       "      <th>81447</th>\n",
       "      <td>0.0</td>\n",
       "      <td>0.0</td>\n",
       "      <td>0.0</td>\n",
       "      <td>0.0</td>\n",
       "      <td>0.0</td>\n",
       "      <td>1.0</td>\n",
       "      <td>0.0</td>\n",
       "      <td>0.0</td>\n",
       "      <td>0.0</td>\n",
       "      <td>0.0</td>\n",
       "      <td>...</td>\n",
       "      <td>8.0</td>\n",
       "      <td>16.0</td>\n",
       "      <td>0.0</td>\n",
       "      <td>1.0</td>\n",
       "      <td>1.0</td>\n",
       "      <td>0.0</td>\n",
       "      <td>0.0</td>\n",
       "      <td>0.0</td>\n",
       "      <td>0.0</td>\n",
       "      <td>0.0</td>\n",
       "    </tr>\n",
       "    <tr>\n",
       "      <th>167091</th>\n",
       "      <td>0.0</td>\n",
       "      <td>0.0</td>\n",
       "      <td>0.0</td>\n",
       "      <td>0.0</td>\n",
       "      <td>0.0</td>\n",
       "      <td>1.0</td>\n",
       "      <td>0.0</td>\n",
       "      <td>0.0</td>\n",
       "      <td>0.0</td>\n",
       "      <td>0.0</td>\n",
       "      <td>...</td>\n",
       "      <td>0.0</td>\n",
       "      <td>36.0</td>\n",
       "      <td>0.0</td>\n",
       "      <td>0.0</td>\n",
       "      <td>1.0</td>\n",
       "      <td>0.0</td>\n",
       "      <td>0.0</td>\n",
       "      <td>0.0</td>\n",
       "      <td>0.0</td>\n",
       "      <td>0.0</td>\n",
       "    </tr>\n",
       "  </tbody>\n",
       "</table>\n",
       "<p>5 rows × 32 columns</p>\n",
       "</div>"
      ],
      "text/plain": [
       "        Purchase 30_x  Purchase 60_x  Purchase 90_x  Purchase 120_x  \\\n",
       "13652             0.0            0.0            0.0             1.0   \n",
       "37593             0.0            0.0            0.0             0.0   \n",
       "90188             0.0            0.0            0.0             0.0   \n",
       "81447             0.0            0.0            0.0             0.0   \n",
       "167091            0.0            0.0            0.0             0.0   \n",
       "\n",
       "        Purchase 180_x  Purchase 360_x  Web 30_x  Web 60_x  Web 90_x  \\\n",
       "13652              1.0             1.0       0.0       0.0       0.0   \n",
       "37593              0.0             1.0       0.0       0.0       0.0   \n",
       "90188              1.0             1.0       0.0       0.0       0.0   \n",
       "81447              0.0             1.0       0.0       0.0       0.0   \n",
       "167091             0.0             1.0       0.0       0.0       0.0   \n",
       "\n",
       "        Web 120_x  ...  Web 180_y  Web 360_y  new_account_indicator  \\\n",
       "13652         0.0  ...        7.0       14.0                    0.0   \n",
       "37593         0.0  ...        0.0       22.0                    0.0   \n",
       "90188         0.0  ...        7.0       14.0                    0.0   \n",
       "81447         0.0  ...        8.0       16.0                    0.0   \n",
       "167091        0.0  ...        0.0       36.0                    0.0   \n",
       "\n",
       "        spend_active  is_active_balance  has_credit_limit_reached  \\\n",
       "13652            0.0                0.0                       0.0   \n",
       "37593            1.0                1.0                       0.0   \n",
       "90188            1.0                0.0                       0.0   \n",
       "81447            1.0                1.0                       0.0   \n",
       "167091           0.0                1.0                       0.0   \n",
       "\n",
       "        is_revolving  has_spend_at_any_merchant  arr_ind_1  arr_ind_2  \n",
       "13652            0.0                        0.0        0.0        0.0  \n",
       "37593            0.0                        0.0        0.0        0.0  \n",
       "90188            0.0                        0.0        0.0        0.0  \n",
       "81447            0.0                        0.0        0.0        0.0  \n",
       "167091           0.0                        0.0        0.0        0.0  \n",
       "\n",
       "[5 rows x 32 columns]"
      ]
     },
     "execution_count": 71,
     "metadata": {},
     "output_type": "execute_result"
    }
   ],
   "source": [
    "X_train.head()"
   ]
  },
  {
   "cell_type": "code",
   "execution_count": 72,
   "metadata": {},
   "outputs": [
    {
     "data": {
      "text/plain": [
       "13652     0.0\n",
       "37593     0.0\n",
       "90188     0.0\n",
       "81447     0.0\n",
       "167091    0.0\n",
       "         ... \n",
       "453836    0.0\n",
       "384053    0.0\n",
       "165158    0.0\n",
       "451283    0.0\n",
       "486191    0.0\n",
       "Name: arr_ind_3, Length: 334107, dtype: float64"
      ]
     },
     "execution_count": 72,
     "metadata": {},
     "output_type": "execute_result"
    }
   ],
   "source": [
    "y_train"
   ]
  },
  {
   "cell_type": "code",
   "execution_count": 73,
   "metadata": {},
   "outputs": [],
   "source": [
    "rf_20_model = RandomForestClassifier(criterion='entropy', n_estimators=20)"
   ]
  },
  {
   "cell_type": "code",
   "execution_count": 74,
   "metadata": {},
   "outputs": [
    {
     "data": {
      "text/plain": [
       "RandomForestClassifier(criterion='entropy', n_estimators=20)"
      ]
     },
     "execution_count": 74,
     "metadata": {},
     "output_type": "execute_result"
    }
   ],
   "source": [
    "rf_20_model.fit(X_train, y_train)"
   ]
  },
  {
   "cell_type": "code",
   "execution_count": 75,
   "metadata": {},
   "outputs": [],
   "source": [
    "rf_20_predictions = list(rf_20_model.predict_proba(X_test)[:,1])"
   ]
  },
  {
   "cell_type": "code",
   "execution_count": 76,
   "metadata": {},
   "outputs": [],
   "source": [
    "[fpr_20, tpr_20, thresholds_20] = roc_curve(y_test, rf_20_predictions)"
   ]
  },
  {
   "cell_type": "code",
   "execution_count": 77,
   "metadata": {},
   "outputs": [
    {
     "name": "stdout",
     "output_type": "stream",
     "text": [
      "Plotting ROC Curve...\n"
     ]
    },
    {
     "data": {
      "image/png": "[encoded data removed]",
      "text/plain": [
       "<Figure size 432x288 with 1 Axes>"
      ]
     },
     "metadata": {
      "needs_background": "light"
     },
     "output_type": "display_data"
    }
   ],
   "source": [
    "import matplotlib.pyplot as plt\n",
    "import seaborn as sns\n",
    "print('Plotting ROC Curve...')\n",
    "\n",
    "fig = plt.figure()\n",
    "ax = fig.add_subplot(111)\n",
    "\n",
    "\n",
    "sns.lineplot(x=fpr_20, y=tpr_20, marker = 'o')\n",
    "plt.title(\"Receiver operating characteristic (ROC) curve\")\n",
    "plt.xlabel(\"False positive rate\")\n",
    "plt.ylabel(\"True positive rate\")\n",
    "plt.legend(['RF with 20 estimators', 'RF with 100 estimators'])\n",
    "plt.show()"
   ]
  },
  {
   "cell_type": "code",
   "execution_count": 78,
   "metadata": {},
   "outputs": [],
   "source": [
    "from sklearn.ensemble import RandomForestRegressor"
   ]
  },
  {
   "cell_type": "code",
   "execution_count": 79,
   "metadata": {},
   "outputs": [],
   "source": [
    "model = RandomForestRegressor(random_state=42)"
   ]
  },
  {
   "cell_type": "code",
   "execution_count": 85,
   "metadata": {},
   "outputs": [
    {
     "data": {
      "text/plain": [
       "0.9095229124762246"
      ]
     },
     "execution_count": 85,
     "metadata": {},
     "output_type": "execute_result"
    }
   ],
   "source": [
    "rf_20_model.score(X_train, y_train)\n",
    "rf_20_model.score(X_test, y_test)"
   ]
  },
  {
   "cell_type": "code",
   "execution_count": 86,
   "metadata": {},
   "outputs": [],
   "source": [
    "from sklearn.tree import plot_tree, export_text"
   ]
  },
  {
   "cell_type": "code",
   "execution_count": 87,
   "metadata": {},
   "outputs": [
    {
     "data": {
      "text/plain": [
       "<Figure size 5760x1440 with 0 Axes>"
      ]
     },
     "execution_count": 87,
     "metadata": {},
     "output_type": "execute_result"
    },
    {
     "data": {
      "text/plain": [
       "<Figure size 5760x1440 with 0 Axes>"
      ]
     },
     "metadata": {},
     "output_type": "display_data"
    }
   ],
   "source": [
    "plt.figure(figsize=(80,20))"
   ]
  },
  {
   "cell_type": "code",
   "execution_count": 88,
   "metadata": {},
   "outputs": [
    {
     "data": {
      "text/plain": [
       "[Text(0.5555555555555556, 0.875, 'X[12] <= 15.5\\nentropy = 0.421\\nsamples = 211331\\nvalue = [305587, 28520]'),\n",
       " Text(0.3333333333333333, 0.625, 'X[22] <= 68.0\\nentropy = 0.421\\nsamples = 211206\\nvalue = [305404, 28516]'),\n",
       " Text(0.2222222222222222, 0.375, 'X[14] <= 29.0\\nentropy = 0.421\\nsamples = 211204\\nvalue = [305404, 28513]'),\n",
       " Text(0.1111111111111111, 0.125, '\\n  (...)  \\n'),\n",
       " Text(0.3333333333333333, 0.125, '\\n  (...)  \\n'),\n",
       " Text(0.4444444444444444, 0.375, 'entropy = 0.0\\nsamples = 2\\nvalue = [0, 3]'),\n",
       " Text(0.7777777777777778, 0.625, 'X[14] <= 39.0\\nentropy = 0.149\\nsamples = 125\\nvalue = [183, 4]'),\n",
       " Text(0.6666666666666666, 0.375, 'X[8] <= 0.5\\nentropy = 0.119\\nsamples = 124\\nvalue = [183, 3]'),\n",
       " Text(0.5555555555555556, 0.125, '\\n  (...)  \\n'),\n",
       " Text(0.7777777777777778, 0.125, '\\n  (...)  \\n'),\n",
       " Text(0.8888888888888888, 0.375, 'entropy = 0.0\\nsamples = 1\\nvalue = [0, 1]')]"
      ]
     },
     "execution_count": 88,
     "metadata": {},
     "output_type": "execute_result"
    },
    {
     "data": {
      "image/png": "[encoded data removed]",
      "text/plain": [
       "<Figure size 432x288 with 1 Axes>"
      ]
     },
     "metadata": {
      "needs_background": "light"
     },
     "output_type": "display_data"
    }
   ],
   "source": [
    "plot_tree(rf_20_model.estimators_[0], max_depth=2, filled=True, rounded=True)"
   ]
  },
  {
   "cell_type": "code",
   "execution_count": 89,
   "metadata": {},
   "outputs": [
    {
     "data": {
      "text/plain": [
       "DecisionTreeClassifier(criterion='entropy', max_features='auto',\n",
       "                       random_state=1003128426)"
      ]
     },
     "execution_count": 89,
     "metadata": {},
     "output_type": "execute_result"
    }
   ],
   "source": [
    "rf_20_model.estimators_[0]"
   ]
  },
  {
   "cell_type": "code",
   "execution_count": 90,
   "metadata": {},
   "outputs": [],
   "source": [
    "def test_params(param):\n",
    "    model = RandomForestClassifier(criterion='entropy', n_estimators=param).fit(X_train, y_train)\n",
    "    return model.score(X_train, y_train), model.score(X_test, y_test)\n"
   ]
  },
  {
   "cell_type": "code",
   "execution_count": 91,
   "metadata": {},
   "outputs": [
    {
     "name": "stdout",
     "output_type": "stream",
     "text": [
      "10\n",
      "20\n",
      "30\n",
      "40\n",
      "60\n",
      "70\n",
      "80\n"
     ]
    },
    {
     "data": {
      "text/plain": [
       "<matplotlib.legend.Legend at 0x7fe844c16a60>"
      ]
     },
     "execution_count": 91,
     "metadata": {},
     "output_type": "execute_result"
    },
    {
     "data": {
      "image/png": "[encoded data removed]",
      "text/plain": [
       "<Figure size 720x432 with 1 Axes>"
      ]
     },
     "metadata": {
      "needs_background": "light"
     },
     "output_type": "display_data"
    }
   ],
   "source": [
    "params = [10, 20, 30, 40, 60, 70, 80]\n",
    "train_accs = []\n",
    "test_accs = []\n",
    "for param in params:\n",
    "    print(param)\n",
    "    train_acc, test_acc = test_params(param)\n",
    "    train_accs.append(train_acc)\n",
    "    test_accs.append(test_acc)\n",
    "plt.figure(figsize=(10,6))\n",
    "plt.title('Overfitting curve:')\n",
    "plt.plot(params, train_accs, 'b-o')\n",
    "plt.plot(params, test_accs, 'r-o')\n",
    "plt.xlabel(params)\n",
    "plt.ylabel('Accurcay')\n",
    "plt.legend(['Training', 'Testing'])"
   ]
  },
  {
   "cell_type": "code",
   "execution_count": 92,
   "metadata": {},
   "outputs": [],
   "source": [
    "#max_depth = 40"
   ]
  },
  {
   "cell_type": "code",
   "execution_count": 93,
   "metadata": {},
   "outputs": [],
   "source": [
    "def test_params_on_max_depth(param):\n",
    "    model = RandomForestClassifier(criterion='entropy', max_depth=param).fit(X_train, y_train)\n",
    "    return model.score(X_train, y_train), model.score(X_test, y_test)\n"
   ]
  },
  {
   "cell_type": "code",
   "execution_count": 94,
   "metadata": {},
   "outputs": [
    {
     "name": "stdout",
     "output_type": "stream",
     "text": [
      "3\n",
      "5\n",
      "7\n",
      "8\n",
      "10\n",
      "15\n",
      "20\n"
     ]
    }
   ],
   "source": [
    "max_depths = [3, 5, 7, 8, 10, 15, 20]\n",
    "train_accs = []\n",
    "test_accs = []\n",
    "for param in max_depths:\n",
    "    print(param)\n",
    "    train_acc, test_acc = test_params_on_max_depth(param)\n",
    "    train_accs.append(train_acc)\n",
    "    test_accs.append(test_acc)"
   ]
  },
  {
   "cell_type": "code",
   "execution_count": 96,
   "metadata": {},
   "outputs": [
    {
     "data": {
      "text/plain": [
       "<matplotlib.legend.Legend at 0x7fe838e76a60>"
      ]
     },
     "execution_count": 96,
     "metadata": {},
     "output_type": "execute_result"
    },
    {
     "data": {
      "image/png": "[encoded data removed]",
      "text/plain": [
       "<Figure size 720x432 with 1 Axes>"
      ]
     },
     "metadata": {
      "needs_background": "light"
     },
     "output_type": "display_data"
    }
   ],
   "source": [
    "plt.figure(figsize=(10,6))\n",
    "plt.title('Overfitting curve for max_depth:')\n",
    "plt.plot(max_depths, train_accs, 'b-o')\n",
    "plt.plot(max_depths, test_accs, 'r-o')\n",
    "plt.xlabel(params)\n",
    "plt.ylabel('Accurcay')\n",
    "plt.legend(['Training', 'Testing'])"
   ]
  },
  {
   "cell_type": "code",
   "execution_count": null,
   "metadata": {},
   "outputs": [],
   "source": [
    "# max_depth = 20"
   ]
  },
  {
   "cell_type": "code",
   "execution_count": 105,
   "metadata": {},
   "outputs": [],
   "source": [
    "def test_params_on_min_samples_leaf(param):\n",
    "    model = RandomForestClassifier(criterion='entropy', min_samples_leaf=param).fit(X_train, y_train)\n",
    "    return model.score(X_train, y_train), model.score(X_test, y_test)"
   ]
  },
  {
   "cell_type": "code",
   "execution_count": 107,
   "metadata": {},
   "outputs": [
    {
     "name": "stdout",
     "output_type": "stream",
     "text": [
      "3\n",
      "5\n",
      "7\n",
      "8\n",
      "10\n"
     ]
    }
   ],
   "source": [
    "min_samples_leaf = [3, 5, 7, 8, 10]\n",
    "train_accs = []\n",
    "test_accs = []\n",
    "for param in min_sample_leaves:\n",
    "    print(param)\n",
    "    train_acc, test_acc = test_params_on_min_samples_leaf(param)\n",
    "    train_accs.append(train_acc)\n",
    "    test_accs.append(test_acc)"
   ]
  },
  {
   "cell_type": "code",
   "execution_count": 108,
   "metadata": {},
   "outputs": [
    {
     "data": {
      "text/plain": [
       "<matplotlib.legend.Legend at 0x7fe940ac04f0>"
      ]
     },
     "execution_count": 108,
     "metadata": {},
     "output_type": "execute_result"
    },
    {
     "data": {
      "image/png": "[encoded data removed]",
      "text/plain": [
       "<Figure size 720x432 with 1 Axes>"
      ]
     },
     "metadata": {
      "needs_background": "light"
     },
     "output_type": "display_data"
    }
   ],
   "source": [
    "plt.figure(figsize=(10,6))\n",
    "plt.title('Overfitting curve for min_sample_leaves:')\n",
    "plt.plot(min_samples_leaf, train_accs, 'b-o')\n",
    "plt.plot(min_samples_leaf, test_accs, 'r-o')\n",
    "plt.xlabel(params)\n",
    "plt.ylabel('Accurcay')\n",
    "plt.legend(['Training', 'Testing'])"
   ]
  },
  {
   "cell_type": "code",
   "execution_count": null,
   "metadata": {},
   "outputs": [],
   "source": [
    "# max_sample_leaves = 8"
   ]
  },
  {
   "cell_type": "code",
   "execution_count": 170,
   "metadata": {},
   "outputs": [],
   "source": [
    "#model = RandomForestClassifier(criterion='entropy', n_estimators=40, max_depth=40, min_samples_leaf=8)"
   ]
  },
  {
   "cell_type": "code",
   "execution_count": 259,
   "metadata": {},
   "outputs": [],
   "source": [
    "model = RandomForestClassifier(criterion='entropy', n_estimators=20)"
   ]
  },
  {
   "cell_type": "code",
   "execution_count": 260,
   "metadata": {},
   "outputs": [
    {
     "data": {
      "text/plain": [
       "RandomForestClassifier(criterion='entropy', n_estimators=20)"
      ]
     },
     "execution_count": 260,
     "metadata": {},
     "output_type": "execute_result"
    }
   ],
   "source": [
    "y = df.loc[:,\"arr_ind_3\"]\n",
    "X = df.loc[:,feature_list]\n",
    "X_train, X_test, y_train, y_test = train_test_split(X, y, test_size=0.33, random_state=1234)\n",
    "model.fit(X_train, y_train)"
   ]
  },
  {
   "cell_type": "code",
   "execution_count": 261,
   "metadata": {},
   "outputs": [
    {
     "name": "stdout",
     "output_type": "stream",
     "text": [
      "0.9096383711815071\n"
     ]
    }
   ],
   "source": [
    "acc_3 = model.score(X_test, y_test)\n",
    "print(acc_3)"
   ]
  },
  {
   "cell_type": "code",
   "execution_count": 262,
   "metadata": {},
   "outputs": [
    {
     "data": {
      "text/plain": [
       "<AxesSubplot:>"
      ]
     },
     "execution_count": 262,
     "metadata": {},
     "output_type": "execute_result"
    },
    {
     "data": {
      "image/png": "[encoded data removed]",
      "text/plain": [
       "<Figure size 432x288 with 2 Axes>"
      ]
     },
     "metadata": {
      "needs_background": "light"
     },
     "output_type": "display_data"
    }
   ],
   "source": [
    "y_pred = model.predict(X_test)\n",
    "cm = confusion_matrix(y_test,y_pred)\n",
    "sns.heatmap(cm,annot=True)"
   ]
  },
  {
   "cell_type": "code",
   "execution_count": 263,
   "metadata": {},
   "outputs": [
    {
     "name": "stdout",
     "output_type": "stream",
     "text": [
      "              precision    recall  f1-score   support\n",
      "\n",
      "         0.0       0.92      0.99      0.95    150414\n",
      "         1.0       0.39      0.09      0.15     14147\n",
      "\n",
      "    accuracy                           0.91    164561\n",
      "   macro avg       0.66      0.54      0.55    164561\n",
      "weighted avg       0.87      0.91      0.88    164561\n",
      "\n"
     ]
    }
   ],
   "source": [
    "print(classification_report(y_test,y_pred))"
   ]
  },
  {
   "cell_type": "code",
   "execution_count": null,
   "metadata": {},
   "outputs": [],
   "source": []
  },
  {
   "cell_type": "code",
   "execution_count": 264,
   "metadata": {},
   "outputs": [],
   "source": [
    "feature_list = list(df.iloc[:, 0:45].select_dtypes(include=\"float64\"))\n",
    "feature_list\n",
    "\n",
    "y = df.loc[:,\"arr_ind_10\"]\n",
    "X = df.loc[:,feature_list]\n",
    "X_train, X_test, y_train, y_test = train_test_split(X, y, test_size=0.33, random_state=1234)"
   ]
  },
  {
   "cell_type": "code",
   "execution_count": 265,
   "metadata": {},
   "outputs": [
    {
     "data": {
      "text/plain": [
       "RandomForestClassifier(criterion='entropy', n_estimators=20)"
      ]
     },
     "execution_count": 265,
     "metadata": {},
     "output_type": "execute_result"
    }
   ],
   "source": [
    "model.fit(X_train, y_train)"
   ]
  },
  {
   "cell_type": "code",
   "execution_count": 266,
   "metadata": {},
   "outputs": [
    {
     "name": "stdout",
     "output_type": "stream",
     "text": [
      "0.6101749503223729\n"
     ]
    }
   ],
   "source": [
    "acc_10 = model.score(X_test, y_test)\n",
    "print(acc_10)"
   ]
  },
  {
   "cell_type": "code",
   "execution_count": 267,
   "metadata": {},
   "outputs": [
    {
     "data": {
      "text/plain": [
       "<AxesSubplot:>"
      ]
     },
     "execution_count": 267,
     "metadata": {},
     "output_type": "execute_result"
    },
    {
     "data": {
      "image/png": "[encoded data removed]",
      "text/plain": [
       "<Figure size 432x288 with 2 Axes>"
      ]
     },
     "metadata": {
      "needs_background": "light"
     },
     "output_type": "display_data"
    }
   ],
   "source": [
    "y_pred = model.predict(X_test)\n",
    "cm = confusion_matrix(y_test,y_pred)\n",
    "sns.heatmap(cm,annot=True)"
   ]
  },
  {
   "cell_type": "code",
   "execution_count": 268,
   "metadata": {},
   "outputs": [
    {
     "name": "stdout",
     "output_type": "stream",
     "text": [
      "              precision    recall  f1-score   support\n",
      "\n",
      "         0.0       0.61      0.69      0.65     85812\n",
      "         1.0       0.61      0.52      0.56     78749\n",
      "\n",
      "    accuracy                           0.61    164561\n",
      "   macro avg       0.61      0.61      0.61    164561\n",
      "weighted avg       0.61      0.61      0.61    164561\n",
      "\n"
     ]
    }
   ],
   "source": [
    "print(classification_report(y_test,y_pred))"
   ]
  },
  {
   "cell_type": "code",
   "execution_count": null,
   "metadata": {},
   "outputs": [],
   "source": []
  },
  {
   "cell_type": "code",
   "execution_count": 269,
   "metadata": {},
   "outputs": [],
   "source": [
    "feature_list = list(df.iloc[:, 0:55].select_dtypes(include=\"float64\"))\n",
    "feature_list\n",
    "\n",
    "y = df.loc[:,\"arr_ind_20\"]\n",
    "X = df.loc[:,feature_list]\n",
    "X_train, X_test, y_train, y_test = train_test_split(X, y, test_size=0.33, random_state=1234)"
   ]
  },
  {
   "cell_type": "code",
   "execution_count": 270,
   "metadata": {},
   "outputs": [
    {
     "data": {
      "text/plain": [
       "RandomForestClassifier(criterion='entropy', n_estimators=20)"
      ]
     },
     "execution_count": 270,
     "metadata": {},
     "output_type": "execute_result"
    }
   ],
   "source": [
    "model.fit(X_train, y_train)"
   ]
  },
  {
   "cell_type": "code",
   "execution_count": 271,
   "metadata": {},
   "outputs": [
    {
     "name": "stdout",
     "output_type": "stream",
     "text": [
      "0.8479287315949708\n"
     ]
    }
   ],
   "source": [
    "acc_20 = model.score(X_test, y_test)\n",
    "print(acc_20)"
   ]
  },
  {
   "cell_type": "code",
   "execution_count": 272,
   "metadata": {},
   "outputs": [],
   "source": [
    "from sklearn.metrics import accuracy_score, confusion_matrix, precision_recall_curve"
   ]
  },
  {
   "cell_type": "code",
   "execution_count": 273,
   "metadata": {},
   "outputs": [
    {
     "data": {
      "text/plain": [
       "<AxesSubplot:>"
      ]
     },
     "execution_count": 273,
     "metadata": {},
     "output_type": "execute_result"
    },
    {
     "data": {
      "image/png": "[encoded data removed]",
      "text/plain": [
       "<Figure size 432x288 with 2 Axes>"
      ]
     },
     "metadata": {
      "needs_background": "light"
     },
     "output_type": "display_data"
    }
   ],
   "source": [
    "y_pred = model.predict(X_test)\n",
    "cm = confusion_matrix(y_test,y_pred)\n",
    "sns.heatmap(cm,annot=True)"
   ]
  },
  {
   "cell_type": "code",
   "execution_count": 274,
   "metadata": {},
   "outputs": [
    {
     "name": "stdout",
     "output_type": "stream",
     "text": [
      "              precision    recall  f1-score   support\n",
      "\n",
      "         0.0       0.91      0.19      0.32     30309\n",
      "         1.0       0.85      1.00      0.91    134252\n",
      "\n",
      "    accuracy                           0.85    164561\n",
      "   macro avg       0.88      0.59      0.62    164561\n",
      "weighted avg       0.86      0.85      0.80    164561\n",
      "\n"
     ]
    }
   ],
   "source": [
    "from sklearn.metrics import classification_report\n",
    "print(classification_report(y_test,y_pred))"
   ]
  },
  {
   "cell_type": "code",
   "execution_count": null,
   "metadata": {},
   "outputs": [],
   "source": []
  },
  {
   "cell_type": "code",
   "execution_count": 275,
   "metadata": {},
   "outputs": [],
   "source": [
    "feature_list = list(df.iloc[:, 0:64].select_dtypes(include=\"float64\"))\n",
    "feature_list\n",
    "\n",
    "y = df.loc[:,\"arr_ind_29\"]\n",
    "X = df.loc[:,feature_list]\n",
    "X_train, X_test, y_train, y_test = train_test_split(X, y, test_size=0.33, random_state=1234)"
   ]
  },
  {
   "cell_type": "code",
   "execution_count": 276,
   "metadata": {},
   "outputs": [
    {
     "data": {
      "text/plain": [
       "RandomForestClassifier(criterion='entropy', n_estimators=20)"
      ]
     },
     "execution_count": 276,
     "metadata": {},
     "output_type": "execute_result"
    }
   ],
   "source": [
    "model.fit(X_train, y_train)"
   ]
  },
  {
   "cell_type": "code",
   "execution_count": 277,
   "metadata": {},
   "outputs": [
    {
     "name": "stdout",
     "output_type": "stream",
     "text": [
      "0.9864670243860939\n"
     ]
    }
   ],
   "source": [
    "acc_29 = model.score(X_test, y_test)\n",
    "print(acc_29)"
   ]
  },
  {
   "cell_type": "code",
   "execution_count": 278,
   "metadata": {},
   "outputs": [
    {
     "data": {
      "text/plain": [
       "<AxesSubplot:>"
      ]
     },
     "execution_count": 278,
     "metadata": {},
     "output_type": "execute_result"
    },
    {
     "data": {
      "image/png": "[encoded data removed]",
      "text/plain": [
       "<Figure size 432x288 with 2 Axes>"
      ]
     },
     "metadata": {
      "needs_background": "light"
     },
     "output_type": "display_data"
    }
   ],
   "source": [
    "y_pred = model.predict(X_test)\n",
    "cm = confusion_matrix(y_test,y_pred)\n",
    "sns.heatmap(cm,annot=True)"
   ]
  },
  {
   "cell_type": "code",
   "execution_count": 279,
   "metadata": {},
   "outputs": [
    {
     "name": "stdout",
     "output_type": "stream",
     "text": [
      "              precision    recall  f1-score   support\n",
      "\n",
      "         0.0       1.00      0.17      0.29      2685\n",
      "         1.0       0.99      1.00      0.99    161876\n",
      "\n",
      "    accuracy                           0.99    164561\n",
      "   macro avg       0.99      0.59      0.64    164561\n",
      "weighted avg       0.99      0.99      0.98    164561\n",
      "\n"
     ]
    }
   ],
   "source": [
    "print(classification_report(y_test,y_pred))"
   ]
  },
  {
   "cell_type": "code",
   "execution_count": 220,
   "metadata": {},
   "outputs": [
    {
     "name": "stdout",
     "output_type": "stream",
     "text": [
      "\n",
      "Accuracy for Each Model\n",
      "Day 3:  0.90986321181811\n",
      "Day 10:  0.6101871038702973\n",
      "Day 20:  0.8488098638194955\n",
      "Day 29:  0.9863515656808114\n"
     ]
    }
   ],
   "source": [
    "print(\"\\nAccuracy for Each Model\")\n",
    "print(\"Day 3: \",acc_3)\n",
    "print(\"Day 10: \",acc_10)\n",
    "print(\"Day 20: \",acc_20)\n",
    "print(\"Day 29: \",acc_29)"
   ]
  },
  {
   "cell_type": "code",
   "execution_count": null,
   "metadata": {},
   "outputs": [],
   "source": []
  }
 ],
 "metadata": {
  "kernelspec": {
   "display_name": "Python 3 (ipykernel)",
   "language": "python",
   "name": "python3"
  },
  "language_info": {
   "codemirror_mode": {
    "name": "ipython",
    "version": 3
   },
   "file_extension": ".py",
   "mimetype": "text/x-python",
   "name": "python",
   "nbconvert_exporter": "python",
   "pygments_lexer": "ipython3",
   "version": "3.9.12"
  }
 },
 "nbformat": 4,
 "nbformat_minor": 4
}
