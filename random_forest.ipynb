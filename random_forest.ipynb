{
 "cells": [
  {
   "cell_type": "code",
   "execution_count": 1,
   "metadata": {},
   "outputs": [],
   "source": [
    "import pandas as pd\n",
    "import numpy as np\n",
    "import os, glob\n",
    "from sklearn.ensemble import RandomForestClassifier\n",
    "from sklearn.model_selection import train_test_split\n",
    "from sklearn.metrics import roc_curve, auc"
   ]
  },
  {
   "cell_type": "code",
   "execution_count": 2,
   "metadata": {},
   "outputs": [],
   "source": [
    "filename = os.path.join(os.getcwd(), \"final.txt\")\n",
    "#feature_list = list(df.iloc[:, 0:45].select_dtypes(include=\"float64\"))"
   ]
  },
  {
   "cell_type": "code",
   "execution_count": 3,
   "metadata": {},
   "outputs": [],
   "source": [
    "df = pd.read_table(filename, low_memory=False)"
   ]
  },
  {
   "cell_type": "code",
   "execution_count": 4,
   "metadata": {},
   "outputs": [
    {
     "data": {
      "text/html": [
       "<div>\n",
       "<style scoped>\n",
       "    .dataframe tbody tr th:only-of-type {\n",
       "        vertical-align: middle;\n",
       "    }\n",
       "\n",
       "    .dataframe tbody tr th {\n",
       "        vertical-align: top;\n",
       "    }\n",
       "\n",
       "    .dataframe thead th {\n",
       "        text-align: right;\n",
       "    }\n",
       "</style>\n",
       "<table border=\"1\" class=\"dataframe\">\n",
       "  <thead>\n",
       "    <tr style=\"text-align: right;\">\n",
       "      <th></th>\n",
       "      <th>Unnamed: 0</th>\n",
       "      <th>ac_id</th>\n",
       "      <th>visited_page</th>\n",
       "      <th>diff_dates</th>\n",
       "      <th>Max Date Diff</th>\n",
       "      <th>Min Date Diff</th>\n",
       "      <th>Purchase 30_x</th>\n",
       "      <th>Purchase 60_x</th>\n",
       "      <th>Purchase 90_x</th>\n",
       "      <th>Purchase 120_x</th>\n",
       "      <th>...</th>\n",
       "      <th>arr_ind_21</th>\n",
       "      <th>arr_ind_22</th>\n",
       "      <th>arr_ind_23</th>\n",
       "      <th>arr_ind_24</th>\n",
       "      <th>arr_ind_25</th>\n",
       "      <th>arr_ind_26</th>\n",
       "      <th>arr_ind_27</th>\n",
       "      <th>arr_ind_28</th>\n",
       "      <th>arr_ind_29</th>\n",
       "      <th>arr_ind_30</th>\n",
       "    </tr>\n",
       "  </thead>\n",
       "  <tbody>\n",
       "    <tr>\n",
       "      <th>0</th>\n",
       "      <td>0</td>\n",
       "      <td>ACe761e40e-3259-4e4f-93f9-8f2f2ed34388</td>\n",
       "      <td>REWARDS</td>\n",
       "      <td>52 days</td>\n",
       "      <td>380 days</td>\n",
       "      <td>31 days</td>\n",
       "      <td>0.0</td>\n",
       "      <td>0.0</td>\n",
       "      <td>0.0</td>\n",
       "      <td>0.0</td>\n",
       "      <td>...</td>\n",
       "      <td>1.0</td>\n",
       "      <td>1.0</td>\n",
       "      <td>1.0</td>\n",
       "      <td>1.0</td>\n",
       "      <td>1.0</td>\n",
       "      <td>1.0</td>\n",
       "      <td>1.0</td>\n",
       "      <td>1.0</td>\n",
       "      <td>1.0</td>\n",
       "      <td>1.0</td>\n",
       "    </tr>\n",
       "    <tr>\n",
       "      <th>1</th>\n",
       "      <td>1</td>\n",
       "      <td>AC612ca133-52a6-456d-a978-e6ecfa9e87d6</td>\n",
       "      <td>PRICINGENGINE</td>\n",
       "      <td>155 days</td>\n",
       "      <td>386 days</td>\n",
       "      <td>91 days</td>\n",
       "      <td>0.0</td>\n",
       "      <td>0.0</td>\n",
       "      <td>0.0</td>\n",
       "      <td>0.0</td>\n",
       "      <td>...</td>\n",
       "      <td>1.0</td>\n",
       "      <td>1.0</td>\n",
       "      <td>1.0</td>\n",
       "      <td>1.0</td>\n",
       "      <td>1.0</td>\n",
       "      <td>1.0</td>\n",
       "      <td>1.0</td>\n",
       "      <td>1.0</td>\n",
       "      <td>1.0</td>\n",
       "      <td>1.0</td>\n",
       "    </tr>\n",
       "    <tr>\n",
       "      <th>2</th>\n",
       "      <td>2</td>\n",
       "      <td>AC200056f5-32de-4cbd-927d-278f3ee18282</td>\n",
       "      <td>PRICINGENGINE</td>\n",
       "      <td>257 days</td>\n",
       "      <td>336 days</td>\n",
       "      <td>5 days</td>\n",
       "      <td>0.0</td>\n",
       "      <td>0.0</td>\n",
       "      <td>0.0</td>\n",
       "      <td>0.0</td>\n",
       "      <td>...</td>\n",
       "      <td>1.0</td>\n",
       "      <td>0.0</td>\n",
       "      <td>1.0</td>\n",
       "      <td>1.0</td>\n",
       "      <td>1.0</td>\n",
       "      <td>1.0</td>\n",
       "      <td>1.0</td>\n",
       "      <td>1.0</td>\n",
       "      <td>1.0</td>\n",
       "      <td>1.0</td>\n",
       "    </tr>\n",
       "    <tr>\n",
       "      <th>3</th>\n",
       "      <td>3</td>\n",
       "      <td>AC200056f5-32de-4cbd-927d-278f3ee18282</td>\n",
       "      <td>PRICINGENGINE</td>\n",
       "      <td>209 days</td>\n",
       "      <td>336 days</td>\n",
       "      <td>5 days</td>\n",
       "      <td>0.0</td>\n",
       "      <td>0.0</td>\n",
       "      <td>0.0</td>\n",
       "      <td>0.0</td>\n",
       "      <td>...</td>\n",
       "      <td>1.0</td>\n",
       "      <td>0.0</td>\n",
       "      <td>1.0</td>\n",
       "      <td>1.0</td>\n",
       "      <td>1.0</td>\n",
       "      <td>1.0</td>\n",
       "      <td>1.0</td>\n",
       "      <td>1.0</td>\n",
       "      <td>1.0</td>\n",
       "      <td>1.0</td>\n",
       "    </tr>\n",
       "    <tr>\n",
       "      <th>4</th>\n",
       "      <td>4</td>\n",
       "      <td>AC4c2519a1-4934-47e6-8c22-2ccfa240b586</td>\n",
       "      <td>MYACCOUNT</td>\n",
       "      <td>246 days</td>\n",
       "      <td>379 days</td>\n",
       "      <td>7 days</td>\n",
       "      <td>0.0</td>\n",
       "      <td>0.0</td>\n",
       "      <td>1.0</td>\n",
       "      <td>1.0</td>\n",
       "      <td>...</td>\n",
       "      <td>1.0</td>\n",
       "      <td>1.0</td>\n",
       "      <td>1.0</td>\n",
       "      <td>1.0</td>\n",
       "      <td>1.0</td>\n",
       "      <td>1.0</td>\n",
       "      <td>1.0</td>\n",
       "      <td>1.0</td>\n",
       "      <td>1.0</td>\n",
       "      <td>1.0</td>\n",
       "    </tr>\n",
       "  </tbody>\n",
       "</table>\n",
       "<p>5 rows × 67 columns</p>\n",
       "</div>"
      ],
      "text/plain": [
       "   Unnamed: 0                                   ac_id   visited_page  \\\n",
       "0           0  ACe761e40e-3259-4e4f-93f9-8f2f2ed34388        REWARDS   \n",
       "1           1  AC612ca133-52a6-456d-a978-e6ecfa9e87d6  PRICINGENGINE   \n",
       "2           2  AC200056f5-32de-4cbd-927d-278f3ee18282  PRICINGENGINE   \n",
       "3           3  AC200056f5-32de-4cbd-927d-278f3ee18282  PRICINGENGINE   \n",
       "4           4  AC4c2519a1-4934-47e6-8c22-2ccfa240b586      MYACCOUNT   \n",
       "\n",
       "  diff_dates Max Date Diff Min Date Diff  Purchase 30_x  Purchase 60_x  \\\n",
       "0    52 days      380 days       31 days            0.0            0.0   \n",
       "1   155 days      386 days       91 days            0.0            0.0   \n",
       "2   257 days      336 days        5 days            0.0            0.0   \n",
       "3   209 days      336 days        5 days            0.0            0.0   \n",
       "4   246 days      379 days        7 days            0.0            0.0   \n",
       "\n",
       "   Purchase 90_x  Purchase 120_x  ...  arr_ind_21  arr_ind_22  arr_ind_23  \\\n",
       "0            0.0             0.0  ...         1.0         1.0         1.0   \n",
       "1            0.0             0.0  ...         1.0         1.0         1.0   \n",
       "2            0.0             0.0  ...         1.0         0.0         1.0   \n",
       "3            0.0             0.0  ...         1.0         0.0         1.0   \n",
       "4            1.0             1.0  ...         1.0         1.0         1.0   \n",
       "\n",
       "   arr_ind_24  arr_ind_25  arr_ind_26  arr_ind_27  arr_ind_28  arr_ind_29  \\\n",
       "0         1.0         1.0         1.0         1.0         1.0         1.0   \n",
       "1         1.0         1.0         1.0         1.0         1.0         1.0   \n",
       "2         1.0         1.0         1.0         1.0         1.0         1.0   \n",
       "3         1.0         1.0         1.0         1.0         1.0         1.0   \n",
       "4         1.0         1.0         1.0         1.0         1.0         1.0   \n",
       "\n",
       "   arr_ind_30  \n",
       "0         1.0  \n",
       "1         1.0  \n",
       "2         1.0  \n",
       "3         1.0  \n",
       "4         1.0  \n",
       "\n",
       "[5 rows x 67 columns]"
      ]
     },
     "execution_count": 4,
     "metadata": {},
     "output_type": "execute_result"
    }
   ],
   "source": [
    "df.head()"
   ]
  },
  {
   "cell_type": "code",
   "execution_count": 5,
   "metadata": {},
   "outputs": [
    {
     "data": {
      "text/plain": [
       "(498668, 67)"
      ]
     },
     "execution_count": 5,
     "metadata": {},
     "output_type": "execute_result"
    }
   ],
   "source": [
    "df.shape"
   ]
  },
  {
   "cell_type": "code",
   "execution_count": 6,
   "metadata": {},
   "outputs": [],
   "source": [
    "labels = []\n",
    "labels.append('ac_id')\n",
    "for i in range(1, 31):\n",
    "    labels.append('arr_ind_' + str(i))"
   ]
  },
  {
   "cell_type": "code",
   "execution_count": 7,
   "metadata": {},
   "outputs": [
    {
     "data": {
      "text/plain": [
       "['ac_id',\n",
       " 'arr_ind_1',\n",
       " 'arr_ind_2',\n",
       " 'arr_ind_3',\n",
       " 'arr_ind_4',\n",
       " 'arr_ind_5',\n",
       " 'arr_ind_6',\n",
       " 'arr_ind_7',\n",
       " 'arr_ind_8',\n",
       " 'arr_ind_9',\n",
       " 'arr_ind_10',\n",
       " 'arr_ind_11',\n",
       " 'arr_ind_12',\n",
       " 'arr_ind_13',\n",
       " 'arr_ind_14',\n",
       " 'arr_ind_15',\n",
       " 'arr_ind_16',\n",
       " 'arr_ind_17',\n",
       " 'arr_ind_18',\n",
       " 'arr_ind_19',\n",
       " 'arr_ind_20',\n",
       " 'arr_ind_21',\n",
       " 'arr_ind_22',\n",
       " 'arr_ind_23',\n",
       " 'arr_ind_24',\n",
       " 'arr_ind_25',\n",
       " 'arr_ind_26',\n",
       " 'arr_ind_27',\n",
       " 'arr_ind_28',\n",
       " 'arr_ind_29',\n",
       " 'arr_ind_30']"
      ]
     },
     "execution_count": 7,
     "metadata": {},
     "output_type": "execute_result"
    }
   ],
   "source": [
    "labels #1,20,30,40"
   ]
  },
  {
   "cell_type": "code",
   "execution_count": 8,
   "metadata": {},
   "outputs": [],
   "source": [
    "y = df['arr_ind_20'] #repeat for every label"
   ]
  },
  {
   "cell_type": "code",
   "execution_count": 9,
   "metadata": {},
   "outputs": [],
   "source": [
    "X = df.drop(labels, axis = 1)"
   ]
  },
  {
   "cell_type": "code",
   "execution_count": 10,
   "metadata": {},
   "outputs": [],
   "source": [
    "from sklearn.preprocessing import LabelBinarizer\n",
    "#drop it from the df"
   ]
  },
  {
   "cell_type": "code",
   "execution_count": 11,
   "metadata": {},
   "outputs": [],
   "source": [
    "X['diff_dates'] = LabelBinarizer().fit_transform(X['diff_dates'])"
   ]
  },
  {
   "cell_type": "code",
   "execution_count": 12,
   "metadata": {},
   "outputs": [],
   "source": [
    "X['Max Date Diff'] = LabelBinarizer().fit_transform(X['Max Date Diff'])"
   ]
  },
  {
   "cell_type": "code",
   "execution_count": 13,
   "metadata": {},
   "outputs": [],
   "source": [
    "X['Min Date Diff'] = LabelBinarizer().fit_transform(X['Min Date Diff'])"
   ]
  },
  {
   "cell_type": "code",
   "execution_count": 14,
   "metadata": {},
   "outputs": [],
   "source": [
    "X['visited_page'] = LabelBinarizer().fit_transform(X['visited_page'])"
   ]
  },
  {
   "cell_type": "code",
   "execution_count": 15,
   "metadata": {},
   "outputs": [],
   "source": [
    "X['Proximity to Payment Due Date'] = LabelBinarizer().fit_transform(X['Proximity to Payment Due Date'])"
   ]
  },
  {
   "cell_type": "code",
   "execution_count": 16,
   "metadata": {},
   "outputs": [
    {
     "data": {
      "text/html": [
       "<div>\n",
       "<style scoped>\n",
       "    .dataframe tbody tr th:only-of-type {\n",
       "        vertical-align: middle;\n",
       "    }\n",
       "\n",
       "    .dataframe tbody tr th {\n",
       "        vertical-align: top;\n",
       "    }\n",
       "\n",
       "    .dataframe thead th {\n",
       "        text-align: right;\n",
       "    }\n",
       "</style>\n",
       "<table border=\"1\" class=\"dataframe\">\n",
       "  <thead>\n",
       "    <tr style=\"text-align: right;\">\n",
       "      <th></th>\n",
       "      <th>Unnamed: 0</th>\n",
       "      <th>visited_page</th>\n",
       "      <th>diff_dates</th>\n",
       "      <th>Max Date Diff</th>\n",
       "      <th>Min Date Diff</th>\n",
       "      <th>Purchase 30_x</th>\n",
       "      <th>Purchase 60_x</th>\n",
       "      <th>Purchase 90_x</th>\n",
       "      <th>Purchase 120_x</th>\n",
       "      <th>Purchase 180_x</th>\n",
       "      <th>...</th>\n",
       "      <th>Web 120_y</th>\n",
       "      <th>Web 180_y</th>\n",
       "      <th>Web 360_y</th>\n",
       "      <th>new_account_indicator</th>\n",
       "      <th>spend_active</th>\n",
       "      <th>is_active_balance</th>\n",
       "      <th>has_credit_limit_reached</th>\n",
       "      <th>is_revolving</th>\n",
       "      <th>has_spend_at_any_merchant</th>\n",
       "      <th>Proximity to Payment Due Date</th>\n",
       "    </tr>\n",
       "  </thead>\n",
       "  <tbody>\n",
       "    <tr>\n",
       "      <th>0</th>\n",
       "      <td>0</td>\n",
       "      <td>0</td>\n",
       "      <td>0</td>\n",
       "      <td>0</td>\n",
       "      <td>0</td>\n",
       "      <td>0.0</td>\n",
       "      <td>0.0</td>\n",
       "      <td>0.0</td>\n",
       "      <td>0.0</td>\n",
       "      <td>0.0</td>\n",
       "      <td>...</td>\n",
       "      <td>0.0</td>\n",
       "      <td>0.0</td>\n",
       "      <td>11.0</td>\n",
       "      <td>0.0</td>\n",
       "      <td>1.0</td>\n",
       "      <td>0.0</td>\n",
       "      <td>0.0</td>\n",
       "      <td>1.0</td>\n",
       "      <td>0.0</td>\n",
       "      <td>0</td>\n",
       "    </tr>\n",
       "    <tr>\n",
       "      <th>1</th>\n",
       "      <td>1</td>\n",
       "      <td>0</td>\n",
       "      <td>0</td>\n",
       "      <td>0</td>\n",
       "      <td>0</td>\n",
       "      <td>0.0</td>\n",
       "      <td>0.0</td>\n",
       "      <td>0.0</td>\n",
       "      <td>0.0</td>\n",
       "      <td>0.0</td>\n",
       "      <td>...</td>\n",
       "      <td>0.0</td>\n",
       "      <td>0.0</td>\n",
       "      <td>5.0</td>\n",
       "      <td>0.0</td>\n",
       "      <td>1.0</td>\n",
       "      <td>1.0</td>\n",
       "      <td>0.0</td>\n",
       "      <td>0.0</td>\n",
       "      <td>0.0</td>\n",
       "      <td>0</td>\n",
       "    </tr>\n",
       "    <tr>\n",
       "      <th>2</th>\n",
       "      <td>2</td>\n",
       "      <td>0</td>\n",
       "      <td>0</td>\n",
       "      <td>0</td>\n",
       "      <td>0</td>\n",
       "      <td>0.0</td>\n",
       "      <td>0.0</td>\n",
       "      <td>0.0</td>\n",
       "      <td>0.0</td>\n",
       "      <td>0.0</td>\n",
       "      <td>...</td>\n",
       "      <td>10.0</td>\n",
       "      <td>10.0</td>\n",
       "      <td>10.0</td>\n",
       "      <td>0.0</td>\n",
       "      <td>1.0</td>\n",
       "      <td>0.0</td>\n",
       "      <td>0.0</td>\n",
       "      <td>0.0</td>\n",
       "      <td>0.0</td>\n",
       "      <td>1</td>\n",
       "    </tr>\n",
       "    <tr>\n",
       "      <th>3</th>\n",
       "      <td>3</td>\n",
       "      <td>0</td>\n",
       "      <td>0</td>\n",
       "      <td>0</td>\n",
       "      <td>0</td>\n",
       "      <td>0.0</td>\n",
       "      <td>0.0</td>\n",
       "      <td>0.0</td>\n",
       "      <td>0.0</td>\n",
       "      <td>0.0</td>\n",
       "      <td>...</td>\n",
       "      <td>10.0</td>\n",
       "      <td>10.0</td>\n",
       "      <td>10.0</td>\n",
       "      <td>0.0</td>\n",
       "      <td>1.0</td>\n",
       "      <td>0.0</td>\n",
       "      <td>0.0</td>\n",
       "      <td>0.0</td>\n",
       "      <td>0.0</td>\n",
       "      <td>1</td>\n",
       "    </tr>\n",
       "    <tr>\n",
       "      <th>4</th>\n",
       "      <td>4</td>\n",
       "      <td>1</td>\n",
       "      <td>0</td>\n",
       "      <td>0</td>\n",
       "      <td>0</td>\n",
       "      <td>0.0</td>\n",
       "      <td>0.0</td>\n",
       "      <td>1.0</td>\n",
       "      <td>1.0</td>\n",
       "      <td>1.0</td>\n",
       "      <td>...</td>\n",
       "      <td>0.0</td>\n",
       "      <td>0.0</td>\n",
       "      <td>30.0</td>\n",
       "      <td>0.0</td>\n",
       "      <td>0.0</td>\n",
       "      <td>0.0</td>\n",
       "      <td>0.0</td>\n",
       "      <td>0.0</td>\n",
       "      <td>0.0</td>\n",
       "      <td>0</td>\n",
       "    </tr>\n",
       "  </tbody>\n",
       "</table>\n",
       "<p>5 rows × 36 columns</p>\n",
       "</div>"
      ],
      "text/plain": [
       "   Unnamed: 0  visited_page  diff_dates  Max Date Diff  Min Date Diff  \\\n",
       "0           0             0           0              0              0   \n",
       "1           1             0           0              0              0   \n",
       "2           2             0           0              0              0   \n",
       "3           3             0           0              0              0   \n",
       "4           4             1           0              0              0   \n",
       "\n",
       "   Purchase 30_x  Purchase 60_x  Purchase 90_x  Purchase 120_x  \\\n",
       "0            0.0            0.0            0.0             0.0   \n",
       "1            0.0            0.0            0.0             0.0   \n",
       "2            0.0            0.0            0.0             0.0   \n",
       "3            0.0            0.0            0.0             0.0   \n",
       "4            0.0            0.0            1.0             1.0   \n",
       "\n",
       "   Purchase 180_x  ...  Web 120_y  Web 180_y  Web 360_y  \\\n",
       "0             0.0  ...        0.0        0.0       11.0   \n",
       "1             0.0  ...        0.0        0.0        5.0   \n",
       "2             0.0  ...       10.0       10.0       10.0   \n",
       "3             0.0  ...       10.0       10.0       10.0   \n",
       "4             1.0  ...        0.0        0.0       30.0   \n",
       "\n",
       "   new_account_indicator  spend_active  is_active_balance  \\\n",
       "0                    0.0           1.0                0.0   \n",
       "1                    0.0           1.0                1.0   \n",
       "2                    0.0           1.0                0.0   \n",
       "3                    0.0           1.0                0.0   \n",
       "4                    0.0           0.0                0.0   \n",
       "\n",
       "   has_credit_limit_reached  is_revolving  has_spend_at_any_merchant  \\\n",
       "0                       0.0           1.0                        0.0   \n",
       "1                       0.0           0.0                        0.0   \n",
       "2                       0.0           0.0                        0.0   \n",
       "3                       0.0           0.0                        0.0   \n",
       "4                       0.0           0.0                        0.0   \n",
       "\n",
       "   Proximity to Payment Due Date  \n",
       "0                              0  \n",
       "1                              0  \n",
       "2                              1  \n",
       "3                              1  \n",
       "4                              0  \n",
       "\n",
       "[5 rows x 36 columns]"
      ]
     },
     "execution_count": 16,
     "metadata": {},
     "output_type": "execute_result"
    }
   ],
   "source": [
    "X.head()"
   ]
  },
  {
   "cell_type": "code",
   "execution_count": 17,
   "metadata": {},
   "outputs": [],
   "source": [
    "from sklearn import preprocessing"
   ]
  },
  {
   "cell_type": "code",
   "execution_count": 18,
   "metadata": {},
   "outputs": [],
   "source": [
    "le = preprocessing.LabelEncoder()"
   ]
  },
  {
   "cell_type": "code",
   "execution_count": 19,
   "metadata": {},
   "outputs": [],
   "source": [
    "X_train, X_test, y_train, y_test = train_test_split(X, y, test_size=0.33, random_state=1234)"
   ]
  },
  {
   "cell_type": "code",
   "execution_count": 20,
   "metadata": {},
   "outputs": [
    {
     "data": {
      "text/html": [
       "<div>\n",
       "<style scoped>\n",
       "    .dataframe tbody tr th:only-of-type {\n",
       "        vertical-align: middle;\n",
       "    }\n",
       "\n",
       "    .dataframe tbody tr th {\n",
       "        vertical-align: top;\n",
       "    }\n",
       "\n",
       "    .dataframe thead th {\n",
       "        text-align: right;\n",
       "    }\n",
       "</style>\n",
       "<table border=\"1\" class=\"dataframe\">\n",
       "  <thead>\n",
       "    <tr style=\"text-align: right;\">\n",
       "      <th></th>\n",
       "      <th>Unnamed: 0</th>\n",
       "      <th>visited_page</th>\n",
       "      <th>diff_dates</th>\n",
       "      <th>Max Date Diff</th>\n",
       "      <th>Min Date Diff</th>\n",
       "      <th>Purchase 30_x</th>\n",
       "      <th>Purchase 60_x</th>\n",
       "      <th>Purchase 90_x</th>\n",
       "      <th>Purchase 120_x</th>\n",
       "      <th>Purchase 180_x</th>\n",
       "      <th>...</th>\n",
       "      <th>Web 120_y</th>\n",
       "      <th>Web 180_y</th>\n",
       "      <th>Web 360_y</th>\n",
       "      <th>new_account_indicator</th>\n",
       "      <th>spend_active</th>\n",
       "      <th>is_active_balance</th>\n",
       "      <th>has_credit_limit_reached</th>\n",
       "      <th>is_revolving</th>\n",
       "      <th>has_spend_at_any_merchant</th>\n",
       "      <th>Proximity to Payment Due Date</th>\n",
       "    </tr>\n",
       "  </thead>\n",
       "  <tbody>\n",
       "    <tr>\n",
       "      <th>13652</th>\n",
       "      <td>13689</td>\n",
       "      <td>1</td>\n",
       "      <td>0</td>\n",
       "      <td>0</td>\n",
       "      <td>0</td>\n",
       "      <td>0.0</td>\n",
       "      <td>0.0</td>\n",
       "      <td>0.0</td>\n",
       "      <td>1.0</td>\n",
       "      <td>1.0</td>\n",
       "      <td>...</td>\n",
       "      <td>7.0</td>\n",
       "      <td>7.0</td>\n",
       "      <td>14.0</td>\n",
       "      <td>0.0</td>\n",
       "      <td>0.0</td>\n",
       "      <td>0.0</td>\n",
       "      <td>0.0</td>\n",
       "      <td>0.0</td>\n",
       "      <td>0.0</td>\n",
       "      <td>0</td>\n",
       "    </tr>\n",
       "    <tr>\n",
       "      <th>37593</th>\n",
       "      <td>37675</td>\n",
       "      <td>0</td>\n",
       "      <td>0</td>\n",
       "      <td>0</td>\n",
       "      <td>0</td>\n",
       "      <td>0.0</td>\n",
       "      <td>0.0</td>\n",
       "      <td>0.0</td>\n",
       "      <td>0.0</td>\n",
       "      <td>0.0</td>\n",
       "      <td>...</td>\n",
       "      <td>0.0</td>\n",
       "      <td>0.0</td>\n",
       "      <td>22.0</td>\n",
       "      <td>0.0</td>\n",
       "      <td>1.0</td>\n",
       "      <td>1.0</td>\n",
       "      <td>0.0</td>\n",
       "      <td>0.0</td>\n",
       "      <td>0.0</td>\n",
       "      <td>0</td>\n",
       "    </tr>\n",
       "    <tr>\n",
       "      <th>90188</th>\n",
       "      <td>90423</td>\n",
       "      <td>0</td>\n",
       "      <td>0</td>\n",
       "      <td>0</td>\n",
       "      <td>0</td>\n",
       "      <td>0.0</td>\n",
       "      <td>0.0</td>\n",
       "      <td>0.0</td>\n",
       "      <td>0.0</td>\n",
       "      <td>1.0</td>\n",
       "      <td>...</td>\n",
       "      <td>0.0</td>\n",
       "      <td>7.0</td>\n",
       "      <td>14.0</td>\n",
       "      <td>0.0</td>\n",
       "      <td>1.0</td>\n",
       "      <td>0.0</td>\n",
       "      <td>0.0</td>\n",
       "      <td>0.0</td>\n",
       "      <td>0.0</td>\n",
       "      <td>1</td>\n",
       "    </tr>\n",
       "    <tr>\n",
       "      <th>81447</th>\n",
       "      <td>81655</td>\n",
       "      <td>0</td>\n",
       "      <td>0</td>\n",
       "      <td>0</td>\n",
       "      <td>0</td>\n",
       "      <td>0.0</td>\n",
       "      <td>0.0</td>\n",
       "      <td>0.0</td>\n",
       "      <td>0.0</td>\n",
       "      <td>0.0</td>\n",
       "      <td>...</td>\n",
       "      <td>0.0</td>\n",
       "      <td>8.0</td>\n",
       "      <td>16.0</td>\n",
       "      <td>0.0</td>\n",
       "      <td>1.0</td>\n",
       "      <td>1.0</td>\n",
       "      <td>0.0</td>\n",
       "      <td>0.0</td>\n",
       "      <td>0.0</td>\n",
       "      <td>0</td>\n",
       "    </tr>\n",
       "    <tr>\n",
       "      <th>167091</th>\n",
       "      <td>167540</td>\n",
       "      <td>0</td>\n",
       "      <td>0</td>\n",
       "      <td>0</td>\n",
       "      <td>0</td>\n",
       "      <td>0.0</td>\n",
       "      <td>0.0</td>\n",
       "      <td>0.0</td>\n",
       "      <td>0.0</td>\n",
       "      <td>0.0</td>\n",
       "      <td>...</td>\n",
       "      <td>0.0</td>\n",
       "      <td>0.0</td>\n",
       "      <td>36.0</td>\n",
       "      <td>0.0</td>\n",
       "      <td>0.0</td>\n",
       "      <td>1.0</td>\n",
       "      <td>0.0</td>\n",
       "      <td>0.0</td>\n",
       "      <td>0.0</td>\n",
       "      <td>0</td>\n",
       "    </tr>\n",
       "  </tbody>\n",
       "</table>\n",
       "<p>5 rows × 36 columns</p>\n",
       "</div>"
      ],
      "text/plain": [
       "        Unnamed: 0  visited_page  diff_dates  Max Date Diff  Min Date Diff  \\\n",
       "13652        13689             1           0              0              0   \n",
       "37593        37675             0           0              0              0   \n",
       "90188        90423             0           0              0              0   \n",
       "81447        81655             0           0              0              0   \n",
       "167091      167540             0           0              0              0   \n",
       "\n",
       "        Purchase 30_x  Purchase 60_x  Purchase 90_x  Purchase 120_x  \\\n",
       "13652             0.0            0.0            0.0             1.0   \n",
       "37593             0.0            0.0            0.0             0.0   \n",
       "90188             0.0            0.0            0.0             0.0   \n",
       "81447             0.0            0.0            0.0             0.0   \n",
       "167091            0.0            0.0            0.0             0.0   \n",
       "\n",
       "        Purchase 180_x  ...  Web 120_y  Web 180_y  Web 360_y  \\\n",
       "13652              1.0  ...        7.0        7.0       14.0   \n",
       "37593              0.0  ...        0.0        0.0       22.0   \n",
       "90188              1.0  ...        0.0        7.0       14.0   \n",
       "81447              0.0  ...        0.0        8.0       16.0   \n",
       "167091             0.0  ...        0.0        0.0       36.0   \n",
       "\n",
       "        new_account_indicator  spend_active  is_active_balance  \\\n",
       "13652                     0.0           0.0                0.0   \n",
       "37593                     0.0           1.0                1.0   \n",
       "90188                     0.0           1.0                0.0   \n",
       "81447                     0.0           1.0                1.0   \n",
       "167091                    0.0           0.0                1.0   \n",
       "\n",
       "        has_credit_limit_reached  is_revolving  has_spend_at_any_merchant  \\\n",
       "13652                        0.0           0.0                        0.0   \n",
       "37593                        0.0           0.0                        0.0   \n",
       "90188                        0.0           0.0                        0.0   \n",
       "81447                        0.0           0.0                        0.0   \n",
       "167091                       0.0           0.0                        0.0   \n",
       "\n",
       "        Proximity to Payment Due Date  \n",
       "13652                               0  \n",
       "37593                               0  \n",
       "90188                               1  \n",
       "81447                               0  \n",
       "167091                              0  \n",
       "\n",
       "[5 rows x 36 columns]"
      ]
     },
     "execution_count": 20,
     "metadata": {},
     "output_type": "execute_result"
    }
   ],
   "source": [
    "X_train.head()"
   ]
  },
  {
   "cell_type": "code",
   "execution_count": 21,
   "metadata": {},
   "outputs": [
    {
     "data": {
      "text/plain": [
       "(334107, 36)"
      ]
     },
     "execution_count": 21,
     "metadata": {},
     "output_type": "execute_result"
    }
   ],
   "source": [
    "X_train.shape"
   ]
  },
  {
   "cell_type": "code",
   "execution_count": 22,
   "metadata": {},
   "outputs": [
    {
     "data": {
      "text/html": [
       "<div>\n",
       "<style scoped>\n",
       "    .dataframe tbody tr th:only-of-type {\n",
       "        vertical-align: middle;\n",
       "    }\n",
       "\n",
       "    .dataframe tbody tr th {\n",
       "        vertical-align: top;\n",
       "    }\n",
       "\n",
       "    .dataframe thead th {\n",
       "        text-align: right;\n",
       "    }\n",
       "</style>\n",
       "<table border=\"1\" class=\"dataframe\">\n",
       "  <thead>\n",
       "    <tr style=\"text-align: right;\">\n",
       "      <th></th>\n",
       "      <th>Unnamed: 0</th>\n",
       "      <th>visited_page</th>\n",
       "      <th>diff_dates</th>\n",
       "      <th>Max Date Diff</th>\n",
       "      <th>Min Date Diff</th>\n",
       "      <th>Purchase 30_x</th>\n",
       "      <th>Purchase 60_x</th>\n",
       "      <th>Purchase 90_x</th>\n",
       "      <th>Purchase 120_x</th>\n",
       "      <th>Purchase 180_x</th>\n",
       "      <th>...</th>\n",
       "      <th>Web 120_y</th>\n",
       "      <th>Web 180_y</th>\n",
       "      <th>Web 360_y</th>\n",
       "      <th>new_account_indicator</th>\n",
       "      <th>spend_active</th>\n",
       "      <th>is_active_balance</th>\n",
       "      <th>has_credit_limit_reached</th>\n",
       "      <th>is_revolving</th>\n",
       "      <th>has_spend_at_any_merchant</th>\n",
       "      <th>Proximity to Payment Due Date</th>\n",
       "    </tr>\n",
       "  </thead>\n",
       "  <tbody>\n",
       "    <tr>\n",
       "      <th>13652</th>\n",
       "      <td>13689</td>\n",
       "      <td>1</td>\n",
       "      <td>0</td>\n",
       "      <td>0</td>\n",
       "      <td>0</td>\n",
       "      <td>0.0</td>\n",
       "      <td>0.0</td>\n",
       "      <td>0.0</td>\n",
       "      <td>1.0</td>\n",
       "      <td>1.0</td>\n",
       "      <td>...</td>\n",
       "      <td>7.0</td>\n",
       "      <td>7.0</td>\n",
       "      <td>14.0</td>\n",
       "      <td>0.0</td>\n",
       "      <td>0.0</td>\n",
       "      <td>0.0</td>\n",
       "      <td>0.0</td>\n",
       "      <td>0.0</td>\n",
       "      <td>0.0</td>\n",
       "      <td>0</td>\n",
       "    </tr>\n",
       "    <tr>\n",
       "      <th>37593</th>\n",
       "      <td>37675</td>\n",
       "      <td>0</td>\n",
       "      <td>0</td>\n",
       "      <td>0</td>\n",
       "      <td>0</td>\n",
       "      <td>0.0</td>\n",
       "      <td>0.0</td>\n",
       "      <td>0.0</td>\n",
       "      <td>0.0</td>\n",
       "      <td>0.0</td>\n",
       "      <td>...</td>\n",
       "      <td>0.0</td>\n",
       "      <td>0.0</td>\n",
       "      <td>22.0</td>\n",
       "      <td>0.0</td>\n",
       "      <td>1.0</td>\n",
       "      <td>1.0</td>\n",
       "      <td>0.0</td>\n",
       "      <td>0.0</td>\n",
       "      <td>0.0</td>\n",
       "      <td>0</td>\n",
       "    </tr>\n",
       "    <tr>\n",
       "      <th>90188</th>\n",
       "      <td>90423</td>\n",
       "      <td>0</td>\n",
       "      <td>0</td>\n",
       "      <td>0</td>\n",
       "      <td>0</td>\n",
       "      <td>0.0</td>\n",
       "      <td>0.0</td>\n",
       "      <td>0.0</td>\n",
       "      <td>0.0</td>\n",
       "      <td>1.0</td>\n",
       "      <td>...</td>\n",
       "      <td>0.0</td>\n",
       "      <td>7.0</td>\n",
       "      <td>14.0</td>\n",
       "      <td>0.0</td>\n",
       "      <td>1.0</td>\n",
       "      <td>0.0</td>\n",
       "      <td>0.0</td>\n",
       "      <td>0.0</td>\n",
       "      <td>0.0</td>\n",
       "      <td>1</td>\n",
       "    </tr>\n",
       "    <tr>\n",
       "      <th>81447</th>\n",
       "      <td>81655</td>\n",
       "      <td>0</td>\n",
       "      <td>0</td>\n",
       "      <td>0</td>\n",
       "      <td>0</td>\n",
       "      <td>0.0</td>\n",
       "      <td>0.0</td>\n",
       "      <td>0.0</td>\n",
       "      <td>0.0</td>\n",
       "      <td>0.0</td>\n",
       "      <td>...</td>\n",
       "      <td>0.0</td>\n",
       "      <td>8.0</td>\n",
       "      <td>16.0</td>\n",
       "      <td>0.0</td>\n",
       "      <td>1.0</td>\n",
       "      <td>1.0</td>\n",
       "      <td>0.0</td>\n",
       "      <td>0.0</td>\n",
       "      <td>0.0</td>\n",
       "      <td>0</td>\n",
       "    </tr>\n",
       "    <tr>\n",
       "      <th>167091</th>\n",
       "      <td>167540</td>\n",
       "      <td>0</td>\n",
       "      <td>0</td>\n",
       "      <td>0</td>\n",
       "      <td>0</td>\n",
       "      <td>0.0</td>\n",
       "      <td>0.0</td>\n",
       "      <td>0.0</td>\n",
       "      <td>0.0</td>\n",
       "      <td>0.0</td>\n",
       "      <td>...</td>\n",
       "      <td>0.0</td>\n",
       "      <td>0.0</td>\n",
       "      <td>36.0</td>\n",
       "      <td>0.0</td>\n",
       "      <td>0.0</td>\n",
       "      <td>1.0</td>\n",
       "      <td>0.0</td>\n",
       "      <td>0.0</td>\n",
       "      <td>0.0</td>\n",
       "      <td>0</td>\n",
       "    </tr>\n",
       "  </tbody>\n",
       "</table>\n",
       "<p>5 rows × 36 columns</p>\n",
       "</div>"
      ],
      "text/plain": [
       "        Unnamed: 0  visited_page  diff_dates  Max Date Diff  Min Date Diff  \\\n",
       "13652        13689             1           0              0              0   \n",
       "37593        37675             0           0              0              0   \n",
       "90188        90423             0           0              0              0   \n",
       "81447        81655             0           0              0              0   \n",
       "167091      167540             0           0              0              0   \n",
       "\n",
       "        Purchase 30_x  Purchase 60_x  Purchase 90_x  Purchase 120_x  \\\n",
       "13652             0.0            0.0            0.0             1.0   \n",
       "37593             0.0            0.0            0.0             0.0   \n",
       "90188             0.0            0.0            0.0             0.0   \n",
       "81447             0.0            0.0            0.0             0.0   \n",
       "167091            0.0            0.0            0.0             0.0   \n",
       "\n",
       "        Purchase 180_x  ...  Web 120_y  Web 180_y  Web 360_y  \\\n",
       "13652              1.0  ...        7.0        7.0       14.0   \n",
       "37593              0.0  ...        0.0        0.0       22.0   \n",
       "90188              1.0  ...        0.0        7.0       14.0   \n",
       "81447              0.0  ...        0.0        8.0       16.0   \n",
       "167091             0.0  ...        0.0        0.0       36.0   \n",
       "\n",
       "        new_account_indicator  spend_active  is_active_balance  \\\n",
       "13652                     0.0           0.0                0.0   \n",
       "37593                     0.0           1.0                1.0   \n",
       "90188                     0.0           1.0                0.0   \n",
       "81447                     0.0           1.0                1.0   \n",
       "167091                    0.0           0.0                1.0   \n",
       "\n",
       "        has_credit_limit_reached  is_revolving  has_spend_at_any_merchant  \\\n",
       "13652                        0.0           0.0                        0.0   \n",
       "37593                        0.0           0.0                        0.0   \n",
       "90188                        0.0           0.0                        0.0   \n",
       "81447                        0.0           0.0                        0.0   \n",
       "167091                       0.0           0.0                        0.0   \n",
       "\n",
       "        Proximity to Payment Due Date  \n",
       "13652                               0  \n",
       "37593                               0  \n",
       "90188                               1  \n",
       "81447                               0  \n",
       "167091                              0  \n",
       "\n",
       "[5 rows x 36 columns]"
      ]
     },
     "execution_count": 22,
     "metadata": {},
     "output_type": "execute_result"
    }
   ],
   "source": [
    "X_train.head()"
   ]
  },
  {
   "cell_type": "code",
   "execution_count": 23,
   "metadata": {},
   "outputs": [
    {
     "data": {
      "text/plain": [
       "13652     1.0\n",
       "37593     1.0\n",
       "90188     0.0\n",
       "81447     1.0\n",
       "167091    1.0\n",
       "         ... \n",
       "453836    1.0\n",
       "384053    1.0\n",
       "165158    1.0\n",
       "451283    1.0\n",
       "486191    1.0\n",
       "Name: arr_ind_20, Length: 334107, dtype: float64"
      ]
     },
     "execution_count": 23,
     "metadata": {},
     "output_type": "execute_result"
    }
   ],
   "source": [
    "y_train"
   ]
  },
  {
   "cell_type": "code",
   "execution_count": 24,
   "metadata": {},
   "outputs": [],
   "source": [
    "rf_20_model = RandomForestClassifier(criterion='entropy', n_estimators=20)"
   ]
  },
  {
   "cell_type": "code",
   "execution_count": 25,
   "metadata": {},
   "outputs": [
    {
     "data": {
      "text/plain": [
       "RandomForestClassifier(criterion='entropy', n_estimators=20)"
      ]
     },
     "execution_count": 25,
     "metadata": {},
     "output_type": "execute_result"
    }
   ],
   "source": [
    "rf_20_model.fit(X_train, y_train)"
   ]
  },
  {
   "cell_type": "code",
   "execution_count": 26,
   "metadata": {},
   "outputs": [],
   "source": [
    "rf_20_predictions = list(rf_20_model.predict_proba(X_test)[:,1])"
   ]
  },
  {
   "cell_type": "code",
   "execution_count": 27,
   "metadata": {},
   "outputs": [],
   "source": [
    "[fpr_20, tpr_20, thresholds_20] = roc_curve(y_test, rf_20_predictions)"
   ]
  },
  {
   "cell_type": "code",
   "execution_count": 28,
   "metadata": {},
   "outputs": [
    {
     "name": "stdout",
     "output_type": "stream",
     "text": [
      "Plotting ROC Curve...\n"
     ]
    },
    {
     "data": {
      "image/png": "[encoded data removed]",
      "text/plain": [
       "<Figure size 432x288 with 1 Axes>"
      ]
     },
     "metadata": {
      "needs_background": "light"
     },
     "output_type": "display_data"
    }
   ],
   "source": [
    "import matplotlib.pyplot as plt\n",
    "import seaborn as sns\n",
    "print('Plotting ROC Curve...')\n",
    "\n",
    "fig = plt.figure()\n",
    "ax = fig.add_subplot(111)\n",
    "\n",
    "\n",
    "sns.lineplot(x=fpr_20, y=tpr_20, marker = 'o')\n",
    "plt.title(\"Receiver operating characteristic (ROC) curve\")\n",
    "plt.xlabel(\"False positive rate\")\n",
    "plt.ylabel(\"True positive rate\")\n",
    "plt.legend(['RF with 20 estimators', 'RF with 100 estimators'])\n",
    "plt.show()"
   ]
  },
  {
   "cell_type": "code",
   "execution_count": 29,
   "metadata": {},
   "outputs": [],
   "source": [
    "from sklearn.ensemble import RandomForestRegressor"
   ]
  },
  {
   "cell_type": "code",
   "execution_count": 30,
   "metadata": {},
   "outputs": [],
   "source": [
    "model = RandomForestRegressor(random_state=42)"
   ]
  },
  {
   "cell_type": "code",
   "execution_count": 32,
   "metadata": {},
   "outputs": [
    {
     "data": {
      "text/plain": [
       "0.9970219121419186"
      ]
     },
     "execution_count": 32,
     "metadata": {},
     "output_type": "execute_result"
    }
   ],
   "source": [
    "rf_20_model.score(X_train, y_train)"
   ]
  },
  {
   "cell_type": "code",
   "execution_count": 34,
   "metadata": {},
   "outputs": [],
   "source": [
    "from sklearn.tree import plot_tree, export_text"
   ]
  },
  {
   "cell_type": "code",
   "execution_count": 35,
   "metadata": {},
   "outputs": [
    {
     "data": {
      "text/plain": [
       "<Figure size 5760x1440 with 0 Axes>"
      ]
     },
     "execution_count": 35,
     "metadata": {},
     "output_type": "execute_result"
    },
    {
     "data": {
      "text/plain": [
       "<Figure size 5760x1440 with 0 Axes>"
      ]
     },
     "metadata": {},
     "output_type": "display_data"
    }
   ],
   "source": [
    "plt.figure(figsize=(80,20))"
   ]
  },
  {
   "cell_type": "code",
   "execution_count": 44,
   "metadata": {},
   "outputs": [
    {
     "data": {
      "text/plain": [
       "[Text(209.25, 190.26, 'X[20] <= 38.0\\nentropy = 0.688\\nsamples = 211056\\nvalue = [61352, 272755]'),\n",
       " Text(167.4, 135.9, 'X[25] <= 10.5\\nentropy = 0.688\\nsamples = 211021\\nvalue = [61352, 272701]'),\n",
       " Text(83.7, 81.53999999999999, 'X[0] <= 499954.5\\nentropy = 0.687\\nsamples = 198145\\nvalue = [57404, 256151]'),\n",
       " Text(41.85, 27.180000000000007, '\\n  (...)  \\n'),\n",
       " Text(125.55000000000001, 27.180000000000007, '\\n  (...)  \\n'),\n",
       " Text(251.10000000000002, 81.53999999999999, 'X[18] <= 7.5\\nentropy = 0.707\\nsamples = 12876\\nvalue = [3948, 16550]'),\n",
       " Text(209.25, 27.180000000000007, '\\n  (...)  \\n'),\n",
       " Text(292.95, 27.180000000000007, '\\n  (...)  \\n'),\n",
       " Text(251.10000000000002, 135.9, 'entropy = 0.0\\nsamples = 35\\nvalue = [0, 54]')]"
      ]
     },
     "execution_count": 44,
     "metadata": {},
     "output_type": "execute_result"
    },
    {
     "data": {
      "image/png": "[encoded data removed]",
      "text/plain": [
       "<Figure size 432x288 with 1 Axes>"
      ]
     },
     "metadata": {
      "needs_background": "light"
     },
     "output_type": "display_data"
    }
   ],
   "source": [
    "plot_tree(rf_20_model.estimators_[0], max_depth=2, filled=True, rounded=True)"
   ]
  },
  {
   "cell_type": "code",
   "execution_count": 41,
   "metadata": {},
   "outputs": [
    {
     "data": {
      "text/plain": [
       "DecisionTreeClassifier(criterion='entropy', max_features='auto',\n",
       "                       random_state=397893629)"
      ]
     },
     "execution_count": 41,
     "metadata": {},
     "output_type": "execute_result"
    }
   ],
   "source": [
    "rf_20_model.estimators_[0]"
   ]
  },
  {
   "cell_type": "code",
   "execution_count": 45,
   "metadata": {},
   "outputs": [],
   "source": [
    "def test_params(param):\n",
    "    model = RandomForestClassifier(criterion='entropy', n_estimators=param).fit(X_train, y_train)\n",
    "    return model.score(X_train, y_train), model.score(X_test, y_test)\n"
   ]
  },
  {
   "cell_type": "code",
   "execution_count": 47,
   "metadata": {},
   "outputs": [
    {
     "name": "stdout",
     "output_type": "stream",
     "text": [
      "20\n",
      "40\n",
      "60\n",
      "80\n",
      "100\n"
     ]
    },
    {
     "data": {
      "text/plain": [
       "<matplotlib.legend.Legend at 0x7fbb651b2f70>"
      ]
     },
     "execution_count": 47,
     "metadata": {},
     "output_type": "execute_result"
    },
    {
     "data": {
      "image/png": "[encoded data removed]",
      "text/plain": [
       "<Figure size 720x432 with 1 Axes>"
      ]
     },
     "metadata": {
      "needs_background": "light"
     },
     "output_type": "display_data"
    }
   ],
   "source": [
    "params = [20, 40, 60, 80, 100]\n",
    "train_accs = []\n",
    "test_accs = []\n",
    "for param in params:\n",
    "    print(param)\n",
    "    train_acc, test_acc = test_params(param)\n",
    "    train_accs.append(train_acc)\n",
    "    test_accs.append(test_acc)\n",
    "plt.figure(figsize=(10,6))\n",
    "plt.title('Overfitting curve:')\n",
    "plt.plot(params, train_accs, 'b-o')\n",
    "plt.plot(params, test_accs, 'r-o')\n",
    "plt.xlabel(params)\n",
    "plt.ylabel('Accurcay')\n",
    "plt.legend(['Training', 'Testing'])"
   ]
  },
  {
   "cell_type": "code",
   "execution_count": null,
   "metadata": {},
   "outputs": [],
   "source": []
  }
 ],
 "metadata": {
  "kernelspec": {
   "display_name": "Python 3",
   "language": "python",
   "name": "python3"
  },
  "language_info": {
   "codemirror_mode": {
    "name": "ipython",
    "version": 3
   },
   "file_extension": ".py",
   "mimetype": "text/x-python",
   "name": "python",
   "nbconvert_exporter": "python",
   "pygments_lexer": "ipython3",
   "version": "3.8.3"
  }
 },
 "nbformat": 4,
 "nbformat_minor": 4
}
