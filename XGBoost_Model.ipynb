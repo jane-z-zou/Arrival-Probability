{
 "cells": [
  {
   "cell_type": "code",
   "execution_count": 1,
   "id": "0a7a6a7a",
   "metadata": {},
   "outputs": [
    {
     "name": "stderr",
     "output_type": "stream",
     "text": [
      "/Users/lianzou/miniconda3/lib/python3.9/site-packages/scipy/__init__.py:146: UserWarning: A NumPy version >=1.16.5 and <1.23.0 is required for this version of SciPy (detected version 1.23.4\n",
      "  warnings.warn(f\"A NumPy version >={np_minversion} and <{np_maxversion}\"\n",
      "/Users/lianzou/miniconda3/lib/python3.9/site-packages/xgboost/compat.py:36: FutureWarning: pandas.Int64Index is deprecated and will be removed from pandas in a future version. Use pandas.Index with the appropriate dtype instead.\n",
      "  from pandas import MultiIndex, Int64Index\n"
     ]
    }
   ],
   "source": [
    "import pandas as pd\n",
    "import numpy as np\n",
    "import os, glob\n",
    "import xgboost as xgb\n",
    "from sklearn.datasets import load_boston\n",
    "from sklearn.model_selection import train_test_split\n",
    "from sklearn.metrics import mean_squared_error"
   ]
  },
  {
   "cell_type": "code",
   "execution_count": 2,
   "id": "d6ca838f",
   "metadata": {},
   "outputs": [],
   "source": [
    "filename = os.path.join(os.getcwd(), \"FEATURE_ENGINEERING.txt\")\n",
    "df = pd.read_table(filename, low_memory=False)"
   ]
  },
  {
   "cell_type": "code",
   "execution_count": 3,
   "id": "e6e1e58a",
   "metadata": {},
   "outputs": [
    {
     "data": {
      "text/html": [
       "<div>\n",
       "<style scoped>\n",
       "    .dataframe tbody tr th:only-of-type {\n",
       "        vertical-align: middle;\n",
       "    }\n",
       "\n",
       "    .dataframe tbody tr th {\n",
       "        vertical-align: top;\n",
       "    }\n",
       "\n",
       "    .dataframe thead th {\n",
       "        text-align: right;\n",
       "    }\n",
       "</style>\n",
       "<table border=\"1\" class=\"dataframe\">\n",
       "  <thead>\n",
       "    <tr style=\"text-align: right;\">\n",
       "      <th></th>\n",
       "      <th>ac_id</th>\n",
       "      <th>visited_page</th>\n",
       "      <th>diff_dates</th>\n",
       "      <th>Max Date Diff</th>\n",
       "      <th>Min Date Diff</th>\n",
       "      <th>Purchase 30_x</th>\n",
       "      <th>Purchase 60_x</th>\n",
       "      <th>Purchase 90_x</th>\n",
       "      <th>Purchase 120_x</th>\n",
       "      <th>Purchase 180_x</th>\n",
       "      <th>...</th>\n",
       "      <th>arr_ind_21</th>\n",
       "      <th>arr_ind_22</th>\n",
       "      <th>arr_ind_23</th>\n",
       "      <th>arr_ind_24</th>\n",
       "      <th>arr_ind_25</th>\n",
       "      <th>arr_ind_26</th>\n",
       "      <th>arr_ind_27</th>\n",
       "      <th>arr_ind_28</th>\n",
       "      <th>arr_ind_29</th>\n",
       "      <th>arr_ind_30</th>\n",
       "    </tr>\n",
       "  </thead>\n",
       "  <tbody>\n",
       "    <tr>\n",
       "      <th>0</th>\n",
       "      <td>ACe761e40e-3259-4e4f-93f9-8f2f2ed34388</td>\n",
       "      <td>REWARDS</td>\n",
       "      <td>52 days</td>\n",
       "      <td>380 days</td>\n",
       "      <td>31 days</td>\n",
       "      <td>0.0</td>\n",
       "      <td>0.0</td>\n",
       "      <td>0.0</td>\n",
       "      <td>0.0</td>\n",
       "      <td>0.0</td>\n",
       "      <td>...</td>\n",
       "      <td>1.0</td>\n",
       "      <td>1.0</td>\n",
       "      <td>1.0</td>\n",
       "      <td>1.0</td>\n",
       "      <td>1.0</td>\n",
       "      <td>1.0</td>\n",
       "      <td>1.0</td>\n",
       "      <td>1.0</td>\n",
       "      <td>1.0</td>\n",
       "      <td>1.0</td>\n",
       "    </tr>\n",
       "    <tr>\n",
       "      <th>1</th>\n",
       "      <td>AC612ca133-52a6-456d-a978-e6ecfa9e87d6</td>\n",
       "      <td>PRICINGENGINE</td>\n",
       "      <td>155 days</td>\n",
       "      <td>386 days</td>\n",
       "      <td>91 days</td>\n",
       "      <td>0.0</td>\n",
       "      <td>0.0</td>\n",
       "      <td>0.0</td>\n",
       "      <td>0.0</td>\n",
       "      <td>0.0</td>\n",
       "      <td>...</td>\n",
       "      <td>1.0</td>\n",
       "      <td>1.0</td>\n",
       "      <td>1.0</td>\n",
       "      <td>1.0</td>\n",
       "      <td>1.0</td>\n",
       "      <td>1.0</td>\n",
       "      <td>1.0</td>\n",
       "      <td>1.0</td>\n",
       "      <td>1.0</td>\n",
       "      <td>1.0</td>\n",
       "    </tr>\n",
       "    <tr>\n",
       "      <th>2</th>\n",
       "      <td>AC200056f5-32de-4cbd-927d-278f3ee18282</td>\n",
       "      <td>PRICINGENGINE</td>\n",
       "      <td>257 days</td>\n",
       "      <td>336 days</td>\n",
       "      <td>5 days</td>\n",
       "      <td>0.0</td>\n",
       "      <td>0.0</td>\n",
       "      <td>0.0</td>\n",
       "      <td>0.0</td>\n",
       "      <td>0.0</td>\n",
       "      <td>...</td>\n",
       "      <td>1.0</td>\n",
       "      <td>0.0</td>\n",
       "      <td>1.0</td>\n",
       "      <td>1.0</td>\n",
       "      <td>1.0</td>\n",
       "      <td>1.0</td>\n",
       "      <td>1.0</td>\n",
       "      <td>1.0</td>\n",
       "      <td>1.0</td>\n",
       "      <td>1.0</td>\n",
       "    </tr>\n",
       "    <tr>\n",
       "      <th>3</th>\n",
       "      <td>AC200056f5-32de-4cbd-927d-278f3ee18282</td>\n",
       "      <td>PRICINGENGINE</td>\n",
       "      <td>209 days</td>\n",
       "      <td>336 days</td>\n",
       "      <td>5 days</td>\n",
       "      <td>0.0</td>\n",
       "      <td>0.0</td>\n",
       "      <td>0.0</td>\n",
       "      <td>0.0</td>\n",
       "      <td>0.0</td>\n",
       "      <td>...</td>\n",
       "      <td>1.0</td>\n",
       "      <td>0.0</td>\n",
       "      <td>1.0</td>\n",
       "      <td>1.0</td>\n",
       "      <td>1.0</td>\n",
       "      <td>1.0</td>\n",
       "      <td>1.0</td>\n",
       "      <td>1.0</td>\n",
       "      <td>1.0</td>\n",
       "      <td>1.0</td>\n",
       "    </tr>\n",
       "    <tr>\n",
       "      <th>4</th>\n",
       "      <td>AC4c2519a1-4934-47e6-8c22-2ccfa240b586</td>\n",
       "      <td>MYACCOUNT</td>\n",
       "      <td>246 days</td>\n",
       "      <td>379 days</td>\n",
       "      <td>7 days</td>\n",
       "      <td>0.0</td>\n",
       "      <td>0.0</td>\n",
       "      <td>1.0</td>\n",
       "      <td>1.0</td>\n",
       "      <td>1.0</td>\n",
       "      <td>...</td>\n",
       "      <td>1.0</td>\n",
       "      <td>1.0</td>\n",
       "      <td>1.0</td>\n",
       "      <td>1.0</td>\n",
       "      <td>1.0</td>\n",
       "      <td>1.0</td>\n",
       "      <td>1.0</td>\n",
       "      <td>1.0</td>\n",
       "      <td>1.0</td>\n",
       "      <td>1.0</td>\n",
       "    </tr>\n",
       "    <tr>\n",
       "      <th>...</th>\n",
       "      <td>...</td>\n",
       "      <td>...</td>\n",
       "      <td>...</td>\n",
       "      <td>...</td>\n",
       "      <td>...</td>\n",
       "      <td>...</td>\n",
       "      <td>...</td>\n",
       "      <td>...</td>\n",
       "      <td>...</td>\n",
       "      <td>...</td>\n",
       "      <td>...</td>\n",
       "      <td>...</td>\n",
       "      <td>...</td>\n",
       "      <td>...</td>\n",
       "      <td>...</td>\n",
       "      <td>...</td>\n",
       "      <td>...</td>\n",
       "      <td>...</td>\n",
       "      <td>...</td>\n",
       "      <td>...</td>\n",
       "      <td>...</td>\n",
       "    </tr>\n",
       "    <tr>\n",
       "      <th>498663</th>\n",
       "      <td>ACdc6643c3-55a3-4f1b-b07a-fd486c85fb2f</td>\n",
       "      <td>PRICINGENGINE</td>\n",
       "      <td>38 days</td>\n",
       "      <td>327 days</td>\n",
       "      <td>3 days</td>\n",
       "      <td>0.0</td>\n",
       "      <td>0.0</td>\n",
       "      <td>0.0</td>\n",
       "      <td>1.0</td>\n",
       "      <td>1.0</td>\n",
       "      <td>...</td>\n",
       "      <td>1.0</td>\n",
       "      <td>1.0</td>\n",
       "      <td>1.0</td>\n",
       "      <td>1.0</td>\n",
       "      <td>1.0</td>\n",
       "      <td>1.0</td>\n",
       "      <td>1.0</td>\n",
       "      <td>1.0</td>\n",
       "      <td>1.0</td>\n",
       "      <td>1.0</td>\n",
       "    </tr>\n",
       "    <tr>\n",
       "      <th>498664</th>\n",
       "      <td>AC8d97243d-d43d-4f68-bf7f-30d07c485a54</td>\n",
       "      <td>REWARDS</td>\n",
       "      <td>88 days</td>\n",
       "      <td>224 days</td>\n",
       "      <td>5 days</td>\n",
       "      <td>0.0</td>\n",
       "      <td>0.0</td>\n",
       "      <td>0.0</td>\n",
       "      <td>1.0</td>\n",
       "      <td>1.0</td>\n",
       "      <td>...</td>\n",
       "      <td>1.0</td>\n",
       "      <td>1.0</td>\n",
       "      <td>1.0</td>\n",
       "      <td>1.0</td>\n",
       "      <td>1.0</td>\n",
       "      <td>1.0</td>\n",
       "      <td>1.0</td>\n",
       "      <td>1.0</td>\n",
       "      <td>1.0</td>\n",
       "      <td>1.0</td>\n",
       "    </tr>\n",
       "    <tr>\n",
       "      <th>498665</th>\n",
       "      <td>AC762d9492-ad39-4d14-888a-8ac279982d85</td>\n",
       "      <td>PRICINGENGINE</td>\n",
       "      <td>223 days</td>\n",
       "      <td>349 days</td>\n",
       "      <td>47 days</td>\n",
       "      <td>1.0</td>\n",
       "      <td>1.0</td>\n",
       "      <td>1.0</td>\n",
       "      <td>1.0</td>\n",
       "      <td>1.0</td>\n",
       "      <td>...</td>\n",
       "      <td>1.0</td>\n",
       "      <td>1.0</td>\n",
       "      <td>1.0</td>\n",
       "      <td>1.0</td>\n",
       "      <td>1.0</td>\n",
       "      <td>1.0</td>\n",
       "      <td>1.0</td>\n",
       "      <td>1.0</td>\n",
       "      <td>1.0</td>\n",
       "      <td>1.0</td>\n",
       "    </tr>\n",
       "    <tr>\n",
       "      <th>498666</th>\n",
       "      <td>AC043ad7c3-807f-4f92-9c31-3161b69e1994</td>\n",
       "      <td>REWARDS</td>\n",
       "      <td>335 days</td>\n",
       "      <td>376 days</td>\n",
       "      <td>27 days</td>\n",
       "      <td>1.0</td>\n",
       "      <td>1.0</td>\n",
       "      <td>1.0</td>\n",
       "      <td>1.0</td>\n",
       "      <td>1.0</td>\n",
       "      <td>...</td>\n",
       "      <td>1.0</td>\n",
       "      <td>1.0</td>\n",
       "      <td>1.0</td>\n",
       "      <td>1.0</td>\n",
       "      <td>1.0</td>\n",
       "      <td>1.0</td>\n",
       "      <td>1.0</td>\n",
       "      <td>1.0</td>\n",
       "      <td>1.0</td>\n",
       "      <td>1.0</td>\n",
       "    </tr>\n",
       "    <tr>\n",
       "      <th>498667</th>\n",
       "      <td>AC38c6c972-5a5f-4a0f-bf9e-bad4c3c06025</td>\n",
       "      <td>REWARDS</td>\n",
       "      <td>247 days</td>\n",
       "      <td>295 days</td>\n",
       "      <td>8 days</td>\n",
       "      <td>0.0</td>\n",
       "      <td>1.0</td>\n",
       "      <td>1.0</td>\n",
       "      <td>1.0</td>\n",
       "      <td>1.0</td>\n",
       "      <td>...</td>\n",
       "      <td>1.0</td>\n",
       "      <td>1.0</td>\n",
       "      <td>1.0</td>\n",
       "      <td>1.0</td>\n",
       "      <td>1.0</td>\n",
       "      <td>1.0</td>\n",
       "      <td>1.0</td>\n",
       "      <td>1.0</td>\n",
       "      <td>1.0</td>\n",
       "      <td>1.0</td>\n",
       "    </tr>\n",
       "  </tbody>\n",
       "</table>\n",
       "<p>498668 rows × 66 columns</p>\n",
       "</div>"
      ],
      "text/plain": [
       "                                         ac_id   visited_page diff_dates  \\\n",
       "0       ACe761e40e-3259-4e4f-93f9-8f2f2ed34388        REWARDS    52 days   \n",
       "1       AC612ca133-52a6-456d-a978-e6ecfa9e87d6  PRICINGENGINE   155 days   \n",
       "2       AC200056f5-32de-4cbd-927d-278f3ee18282  PRICINGENGINE   257 days   \n",
       "3       AC200056f5-32de-4cbd-927d-278f3ee18282  PRICINGENGINE   209 days   \n",
       "4       AC4c2519a1-4934-47e6-8c22-2ccfa240b586      MYACCOUNT   246 days   \n",
       "...                                        ...            ...        ...   \n",
       "498663  ACdc6643c3-55a3-4f1b-b07a-fd486c85fb2f  PRICINGENGINE    38 days   \n",
       "498664  AC8d97243d-d43d-4f68-bf7f-30d07c485a54        REWARDS    88 days   \n",
       "498665  AC762d9492-ad39-4d14-888a-8ac279982d85  PRICINGENGINE   223 days   \n",
       "498666  AC043ad7c3-807f-4f92-9c31-3161b69e1994        REWARDS   335 days   \n",
       "498667  AC38c6c972-5a5f-4a0f-bf9e-bad4c3c06025        REWARDS   247 days   \n",
       "\n",
       "       Max Date Diff Min Date Diff  Purchase 30_x  Purchase 60_x  \\\n",
       "0           380 days       31 days            0.0            0.0   \n",
       "1           386 days       91 days            0.0            0.0   \n",
       "2           336 days        5 days            0.0            0.0   \n",
       "3           336 days        5 days            0.0            0.0   \n",
       "4           379 days        7 days            0.0            0.0   \n",
       "...              ...           ...            ...            ...   \n",
       "498663      327 days        3 days            0.0            0.0   \n",
       "498664      224 days        5 days            0.0            0.0   \n",
       "498665      349 days       47 days            1.0            1.0   \n",
       "498666      376 days       27 days            1.0            1.0   \n",
       "498667      295 days        8 days            0.0            1.0   \n",
       "\n",
       "        Purchase 90_x  Purchase 120_x  Purchase 180_x  ...  arr_ind_21  \\\n",
       "0                 0.0             0.0             0.0  ...         1.0   \n",
       "1                 0.0             0.0             0.0  ...         1.0   \n",
       "2                 0.0             0.0             0.0  ...         1.0   \n",
       "3                 0.0             0.0             0.0  ...         1.0   \n",
       "4                 1.0             1.0             1.0  ...         1.0   \n",
       "...               ...             ...             ...  ...         ...   \n",
       "498663            0.0             1.0             1.0  ...         1.0   \n",
       "498664            0.0             1.0             1.0  ...         1.0   \n",
       "498665            1.0             1.0             1.0  ...         1.0   \n",
       "498666            1.0             1.0             1.0  ...         1.0   \n",
       "498667            1.0             1.0             1.0  ...         1.0   \n",
       "\n",
       "        arr_ind_22  arr_ind_23  arr_ind_24  arr_ind_25  arr_ind_26  \\\n",
       "0              1.0         1.0         1.0         1.0         1.0   \n",
       "1              1.0         1.0         1.0         1.0         1.0   \n",
       "2              0.0         1.0         1.0         1.0         1.0   \n",
       "3              0.0         1.0         1.0         1.0         1.0   \n",
       "4              1.0         1.0         1.0         1.0         1.0   \n",
       "...            ...         ...         ...         ...         ...   \n",
       "498663         1.0         1.0         1.0         1.0         1.0   \n",
       "498664         1.0         1.0         1.0         1.0         1.0   \n",
       "498665         1.0         1.0         1.0         1.0         1.0   \n",
       "498666         1.0         1.0         1.0         1.0         1.0   \n",
       "498667         1.0         1.0         1.0         1.0         1.0   \n",
       "\n",
       "        arr_ind_27  arr_ind_28  arr_ind_29  arr_ind_30  \n",
       "0              1.0         1.0         1.0         1.0  \n",
       "1              1.0         1.0         1.0         1.0  \n",
       "2              1.0         1.0         1.0         1.0  \n",
       "3              1.0         1.0         1.0         1.0  \n",
       "4              1.0         1.0         1.0         1.0  \n",
       "...            ...         ...         ...         ...  \n",
       "498663         1.0         1.0         1.0         1.0  \n",
       "498664         1.0         1.0         1.0         1.0  \n",
       "498665         1.0         1.0         1.0         1.0  \n",
       "498666         1.0         1.0         1.0         1.0  \n",
       "498667         1.0         1.0         1.0         1.0  \n",
       "\n",
       "[498668 rows x 66 columns]"
      ]
     },
     "execution_count": 3,
     "metadata": {},
     "output_type": "execute_result"
    }
   ],
   "source": [
    "df.drop(columns=df.columns[0], axis=1, inplace=True)\n",
    "df"
   ]
  },
  {
   "cell_type": "code",
   "execution_count": 4,
   "id": "cab23660",
   "metadata": {},
   "outputs": [
    {
     "data": {
      "text/plain": [
       "['Purchase 30_x',\n",
       " 'Purchase 60_x',\n",
       " 'Purchase 90_x',\n",
       " 'Purchase 120_x',\n",
       " 'Purchase 180_x',\n",
       " 'Purchase 360_x',\n",
       " 'Web 30_x',\n",
       " 'Web 60_x',\n",
       " 'Web 90_x',\n",
       " 'Web 120_x',\n",
       " 'Web 180_x',\n",
       " 'Web 360_x',\n",
       " 'Purchase 30_y',\n",
       " 'Purchase 60_y',\n",
       " 'Purchase 90_y',\n",
       " 'Purchase 120_y',\n",
       " 'Purchase 180_y',\n",
       " 'Purchase 360_y',\n",
       " 'Web 30_y',\n",
       " 'Web 60_y',\n",
       " 'Web 90_y',\n",
       " 'Web 120_y',\n",
       " 'Web 180_y',\n",
       " 'Web 360_y',\n",
       " 'new_account_indicator',\n",
       " 'spend_active',\n",
       " 'is_active_balance',\n",
       " 'has_credit_limit_reached',\n",
       " 'is_revolving',\n",
       " 'has_spend_at_any_merchant',\n",
       " 'arr_ind_1',\n",
       " 'arr_ind_2']"
      ]
     },
     "execution_count": 4,
     "metadata": {},
     "output_type": "execute_result"
    }
   ],
   "source": [
    "feature_list = list(df.iloc[:, 0:38].select_dtypes(include=\"float64\"))\n",
    "feature_list"
   ]
  },
  {
   "cell_type": "code",
   "execution_count": 5,
   "id": "07efa904",
   "metadata": {},
   "outputs": [
    {
     "name": "stdout",
     "output_type": "stream",
     "text": [
      "Number of examples: 498668\n",
      "\n",
      "Number of Features:32\n",
      "['Purchase 30_x', 'Purchase 60_x', 'Purchase 90_x', 'Purchase 120_x', 'Purchase 180_x', 'Purchase 360_x', 'Web 30_x', 'Web 60_x', 'Web 90_x', 'Web 120_x', 'Web 180_x', 'Web 360_x', 'Purchase 30_y', 'Purchase 60_y', 'Purchase 90_y', 'Purchase 120_y', 'Purchase 180_y', 'Purchase 360_y', 'Web 30_y', 'Web 60_y', 'Web 90_y', 'Web 120_y', 'Web 180_y', 'Web 360_y', 'new_account_indicator', 'spend_active', 'is_active_balance', 'has_credit_limit_reached', 'is_revolving', 'has_spend_at_any_merchant', 'arr_ind_1', 'arr_ind_2']\n"
     ]
    }
   ],
   "source": [
    "y = df.loc[:,\"arr_ind_3\"]\n",
    "X = df.loc[:,feature_list]\n",
    "\n",
    "print(\"Number of examples: \" + str(X.shape[0]))\n",
    "print(\"\\nNumber of Features:\" + str(X.shape[1]))\n",
    "print(str(list(X.columns)))"
   ]
  },
  {
   "cell_type": "code",
   "execution_count": 6,
   "id": "667e2739",
   "metadata": {},
   "outputs": [
    {
     "name": "stdout",
     "output_type": "stream",
     "text": [
      "(334107, 32)\n",
      "(164561, 32)\n"
     ]
    }
   ],
   "source": [
    "X_train, X_test, y_train, y_test = train_test_split(X, y, test_size=0.33, random_state=1234)\n",
    "print(X_train.shape)\n",
    "print(X_test.shape)"
   ]
  },
  {
   "cell_type": "code",
   "execution_count": 7,
   "id": "c8c73ade",
   "metadata": {},
   "outputs": [],
   "source": [
    "regressor = xgb.XGBRegressor(\n",
    "    n_estimators=100,\n",
    "    reg_lambda=1,\n",
    "    gamma=0,\n",
    "    max_depth=3\n",
    ")"
   ]
  },
  {
   "cell_type": "code",
   "execution_count": 8,
   "id": "c88f6323",
   "metadata": {},
   "outputs": [
    {
     "name": "stderr",
     "output_type": "stream",
     "text": [
      "/Users/lianzou/miniconda3/lib/python3.9/site-packages/xgboost/data.py:250: FutureWarning: pandas.Int64Index is deprecated and will be removed from pandas in a future version. Use pandas.Index with the appropriate dtype instead.\n",
      "  elif isinstance(data.columns, (pd.Int64Index, pd.RangeIndex)):\n"
     ]
    },
    {
     "data": {
      "text/html": [
       "<style>#sk-container-id-1 {color: black;background-color: white;}#sk-container-id-1 pre{padding: 0;}#sk-container-id-1 div.sk-toggleable {background-color: white;}#sk-container-id-1 label.sk-toggleable__label {cursor: pointer;display: block;width: 100%;margin-bottom: 0;padding: 0.3em;box-sizing: border-box;text-align: center;}#sk-container-id-1 label.sk-toggleable__label-arrow:before {content: \"▸\";float: left;margin-right: 0.25em;color: #696969;}#sk-container-id-1 label.sk-toggleable__label-arrow:hover:before {color: black;}#sk-container-id-1 div.sk-estimator:hover label.sk-toggleable__label-arrow:before {color: black;}#sk-container-id-1 div.sk-toggleable__content {max-height: 0;max-width: 0;overflow: hidden;text-align: left;background-color: #f0f8ff;}#sk-container-id-1 div.sk-toggleable__content pre {margin: 0.2em;color: black;border-radius: 0.25em;background-color: #f0f8ff;}#sk-container-id-1 input.sk-toggleable__control:checked~div.sk-toggleable__content {max-height: 200px;max-width: 100%;overflow: auto;}#sk-container-id-1 input.sk-toggleable__control:checked~label.sk-toggleable__label-arrow:before {content: \"▾\";}#sk-container-id-1 div.sk-estimator input.sk-toggleable__control:checked~label.sk-toggleable__label {background-color: #d4ebff;}#sk-container-id-1 div.sk-label input.sk-toggleable__control:checked~label.sk-toggleable__label {background-color: #d4ebff;}#sk-container-id-1 input.sk-hidden--visually {border: 0;clip: rect(1px 1px 1px 1px);clip: rect(1px, 1px, 1px, 1px);height: 1px;margin: -1px;overflow: hidden;padding: 0;position: absolute;width: 1px;}#sk-container-id-1 div.sk-estimator {font-family: monospace;background-color: #f0f8ff;border: 1px dotted black;border-radius: 0.25em;box-sizing: border-box;margin-bottom: 0.5em;}#sk-container-id-1 div.sk-estimator:hover {background-color: #d4ebff;}#sk-container-id-1 div.sk-parallel-item::after {content: \"\";width: 100%;border-bottom: 1px solid gray;flex-grow: 1;}#sk-container-id-1 div.sk-label:hover label.sk-toggleable__label {background-color: #d4ebff;}#sk-container-id-1 div.sk-serial::before {content: \"\";position: absolute;border-left: 1px solid gray;box-sizing: border-box;top: 0;bottom: 0;left: 50%;z-index: 0;}#sk-container-id-1 div.sk-serial {display: flex;flex-direction: column;align-items: center;background-color: white;padding-right: 0.2em;padding-left: 0.2em;position: relative;}#sk-container-id-1 div.sk-item {position: relative;z-index: 1;}#sk-container-id-1 div.sk-parallel {display: flex;align-items: stretch;justify-content: center;background-color: white;position: relative;}#sk-container-id-1 div.sk-item::before, #sk-container-id-1 div.sk-parallel-item::before {content: \"\";position: absolute;border-left: 1px solid gray;box-sizing: border-box;top: 0;bottom: 0;left: 50%;z-index: -1;}#sk-container-id-1 div.sk-parallel-item {display: flex;flex-direction: column;z-index: 1;position: relative;background-color: white;}#sk-container-id-1 div.sk-parallel-item:first-child::after {align-self: flex-end;width: 50%;}#sk-container-id-1 div.sk-parallel-item:last-child::after {align-self: flex-start;width: 50%;}#sk-container-id-1 div.sk-parallel-item:only-child::after {width: 0;}#sk-container-id-1 div.sk-dashed-wrapped {border: 1px dashed gray;margin: 0 0.4em 0.5em 0.4em;box-sizing: border-box;padding-bottom: 0.4em;background-color: white;}#sk-container-id-1 div.sk-label label {font-family: monospace;font-weight: bold;display: inline-block;line-height: 1.2em;}#sk-container-id-1 div.sk-label-container {text-align: center;}#sk-container-id-1 div.sk-container {/* jupyter's `normalize.less` sets `[hidden] { display: none; }` but bootstrap.min.css set `[hidden] { display: none !important; }` so we also need the `!important` here to be able to override the default hidden behavior on the sphinx rendered scikit-learn.org. See: https://github.com/scikit-learn/scikit-learn/issues/21755 */display: inline-block !important;position: relative;}#sk-container-id-1 div.sk-text-repr-fallback {display: none;}</style><div id=\"sk-container-id-1\" class=\"sk-top-container\"><div class=\"sk-text-repr-fallback\"><pre>XGBRegressor(base_score=0.5, booster=&#x27;gbtree&#x27;, colsample_bylevel=1,\n",
       "             colsample_bynode=1, colsample_bytree=1, enable_categorical=False,\n",
       "             gamma=0, gpu_id=-1, importance_type=None,\n",
       "             interaction_constraints=&#x27;&#x27;, learning_rate=0.300000012,\n",
       "             max_delta_step=0, max_depth=3, min_child_weight=1, missing=nan,\n",
       "             monotone_constraints=&#x27;()&#x27;, n_estimators=100, n_jobs=8,\n",
       "             num_parallel_tree=1, predictor=&#x27;auto&#x27;, random_state=0, reg_alpha=0,\n",
       "             reg_lambda=1, scale_pos_weight=1, subsample=1, tree_method=&#x27;exact&#x27;,\n",
       "             validate_parameters=1, verbosity=None)</pre><b>In a Jupyter environment, please rerun this cell to show the HTML representation or trust the notebook. <br />On GitHub, the HTML representation is unable to render, please try loading this page with nbviewer.org.</b></div><div class=\"sk-container\" hidden><div class=\"sk-item\"><div class=\"sk-estimator sk-toggleable\"><input class=\"sk-toggleable__control sk-hidden--visually\" id=\"sk-estimator-id-1\" type=\"checkbox\" checked><label for=\"sk-estimator-id-1\" class=\"sk-toggleable__label sk-toggleable__label-arrow\">XGBRegressor</label><div class=\"sk-toggleable__content\"><pre>XGBRegressor(base_score=0.5, booster=&#x27;gbtree&#x27;, colsample_bylevel=1,\n",
       "             colsample_bynode=1, colsample_bytree=1, enable_categorical=False,\n",
       "             gamma=0, gpu_id=-1, importance_type=None,\n",
       "             interaction_constraints=&#x27;&#x27;, learning_rate=0.300000012,\n",
       "             max_delta_step=0, max_depth=3, min_child_weight=1, missing=nan,\n",
       "             monotone_constraints=&#x27;()&#x27;, n_estimators=100, n_jobs=8,\n",
       "             num_parallel_tree=1, predictor=&#x27;auto&#x27;, random_state=0, reg_alpha=0,\n",
       "             reg_lambda=1, scale_pos_weight=1, subsample=1, tree_method=&#x27;exact&#x27;,\n",
       "             validate_parameters=1, verbosity=None)</pre></div></div></div></div></div>"
      ],
      "text/plain": [
       "XGBRegressor(base_score=0.5, booster='gbtree', colsample_bylevel=1,\n",
       "             colsample_bynode=1, colsample_bytree=1, enable_categorical=False,\n",
       "             gamma=0, gpu_id=-1, importance_type=None,\n",
       "             interaction_constraints='', learning_rate=0.300000012,\n",
       "             max_delta_step=0, max_depth=3, min_child_weight=1, missing=nan,\n",
       "             monotone_constraints='()', n_estimators=100, n_jobs=8,\n",
       "             num_parallel_tree=1, predictor='auto', random_state=0, reg_alpha=0,\n",
       "             reg_lambda=1, scale_pos_weight=1, subsample=1, tree_method='exact',\n",
       "             validate_parameters=1, verbosity=None)"
      ]
     },
     "execution_count": 8,
     "metadata": {},
     "output_type": "execute_result"
    }
   ],
   "source": [
    "regressor.fit(X_train, y_train)"
   ]
  },
  {
   "cell_type": "code",
   "execution_count": 9,
   "id": "f1166c16",
   "metadata": {},
   "outputs": [
    {
     "data": {
      "text/html": [
       "<div>\n",
       "<style scoped>\n",
       "    .dataframe tbody tr th:only-of-type {\n",
       "        vertical-align: middle;\n",
       "    }\n",
       "\n",
       "    .dataframe tbody tr th {\n",
       "        vertical-align: top;\n",
       "    }\n",
       "\n",
       "    .dataframe thead th {\n",
       "        text-align: right;\n",
       "    }\n",
       "</style>\n",
       "<table border=\"1\" class=\"dataframe\">\n",
       "  <thead>\n",
       "    <tr style=\"text-align: right;\">\n",
       "      <th></th>\n",
       "      <th>Purchase 30_x</th>\n",
       "      <th>Purchase 60_x</th>\n",
       "      <th>Purchase 90_x</th>\n",
       "      <th>Purchase 120_x</th>\n",
       "      <th>Purchase 180_x</th>\n",
       "      <th>Purchase 360_x</th>\n",
       "      <th>Web 30_x</th>\n",
       "      <th>Web 60_x</th>\n",
       "      <th>Web 90_x</th>\n",
       "      <th>Web 120_x</th>\n",
       "      <th>...</th>\n",
       "      <th>Web 180_y</th>\n",
       "      <th>Web 360_y</th>\n",
       "      <th>new_account_indicator</th>\n",
       "      <th>spend_active</th>\n",
       "      <th>is_active_balance</th>\n",
       "      <th>has_credit_limit_reached</th>\n",
       "      <th>is_revolving</th>\n",
       "      <th>has_spend_at_any_merchant</th>\n",
       "      <th>arr_ind_1</th>\n",
       "      <th>arr_ind_2</th>\n",
       "    </tr>\n",
       "  </thead>\n",
       "  <tbody>\n",
       "    <tr>\n",
       "      <th>0</th>\n",
       "      <td>0.014046</td>\n",
       "      <td>0.019884</td>\n",
       "      <td>0.044308</td>\n",
       "      <td>0.034559</td>\n",
       "      <td>0.01175</td>\n",
       "      <td>0.004896</td>\n",
       "      <td>0.0</td>\n",
       "      <td>0.048906</td>\n",
       "      <td>0.0</td>\n",
       "      <td>0.0</td>\n",
       "      <td>...</td>\n",
       "      <td>0.038684</td>\n",
       "      <td>0.040415</td>\n",
       "      <td>0.02279</td>\n",
       "      <td>0.039843</td>\n",
       "      <td>0.052569</td>\n",
       "      <td>0.040414</td>\n",
       "      <td>0.082994</td>\n",
       "      <td>0.042848</td>\n",
       "      <td>0.0</td>\n",
       "      <td>0.0</td>\n",
       "    </tr>\n",
       "  </tbody>\n",
       "</table>\n",
       "<p>1 rows × 32 columns</p>\n",
       "</div>"
      ],
      "text/plain": [
       "   Purchase 30_x  Purchase 60_x  Purchase 90_x  Purchase 120_x  \\\n",
       "0       0.014046       0.019884       0.044308        0.034559   \n",
       "\n",
       "   Purchase 180_x  Purchase 360_x  Web 30_x  Web 60_x  Web 90_x  Web 120_x  \\\n",
       "0         0.01175        0.004896       0.0  0.048906       0.0        0.0   \n",
       "\n",
       "   ...  Web 180_y  Web 360_y  new_account_indicator  spend_active  \\\n",
       "0  ...   0.038684   0.040415                0.02279      0.039843   \n",
       "\n",
       "   is_active_balance  has_credit_limit_reached  is_revolving  \\\n",
       "0           0.052569                  0.040414      0.082994   \n",
       "\n",
       "   has_spend_at_any_merchant  arr_ind_1  arr_ind_2  \n",
       "0                   0.042848        0.0        0.0  \n",
       "\n",
       "[1 rows x 32 columns]"
      ]
     },
     "execution_count": 9,
     "metadata": {},
     "output_type": "execute_result"
    }
   ],
   "source": [
    "pd.DataFrame(regressor.feature_importances_.reshape(1, -1), columns=feature_list)"
   ]
  },
  {
   "cell_type": "code",
   "execution_count": 10,
   "id": "f3448d94",
   "metadata": {},
   "outputs": [],
   "source": [
    "y_pred = regressor.predict(X_test)"
   ]
  },
  {
   "cell_type": "code",
   "execution_count": 11,
   "id": "afa70da1",
   "metadata": {},
   "outputs": [],
   "source": [
    "predictions = [round(value) for value in y_pred]"
   ]
  },
  {
   "cell_type": "code",
   "execution_count": 12,
   "id": "5bf46f30",
   "metadata": {},
   "outputs": [],
   "source": [
    "from sklearn.metrics import accuracy_score"
   ]
  },
  {
   "cell_type": "code",
   "execution_count": 13,
   "id": "e02dc4fe",
   "metadata": {},
   "outputs": [],
   "source": [
    "acc_3 = accuracy_score(y_test, predictions)"
   ]
  },
  {
   "cell_type": "code",
   "execution_count": 14,
   "id": "58d0dc97",
   "metadata": {},
   "outputs": [],
   "source": [
    "mse_3 = mean_squared_error(y_test, y_pred)"
   ]
  },
  {
   "cell_type": "code",
   "execution_count": 15,
   "id": "ae942399",
   "metadata": {},
   "outputs": [
    {
     "name": "stdout",
     "output_type": "stream",
     "text": [
      "Number of examples: 498668\n",
      "\n",
      "Number of Features:39\n",
      "['Purchase 30_x', 'Purchase 60_x', 'Purchase 90_x', 'Purchase 120_x', 'Purchase 180_x', 'Purchase 360_x', 'Web 30_x', 'Web 60_x', 'Web 90_x', 'Web 120_x', 'Web 180_x', 'Web 360_x', 'Purchase 30_y', 'Purchase 60_y', 'Purchase 90_y', 'Purchase 120_y', 'Purchase 180_y', 'Purchase 360_y', 'Web 30_y', 'Web 60_y', 'Web 90_y', 'Web 120_y', 'Web 180_y', 'Web 360_y', 'new_account_indicator', 'spend_active', 'is_active_balance', 'has_credit_limit_reached', 'is_revolving', 'has_spend_at_any_merchant', 'arr_ind_1', 'arr_ind_2', 'arr_ind_3', 'arr_ind_4', 'arr_ind_5', 'arr_ind_6', 'arr_ind_7', 'arr_ind_8', 'arr_ind_9']\n",
      "(334107, 39)\n",
      "(164561, 39)\n"
     ]
    }
   ],
   "source": [
    "feature_list = list(df.iloc[:, 0:45].select_dtypes(include=\"float64\"))\n",
    "feature_list\n",
    "\n",
    "y = df.loc[:,\"arr_ind_10\"]\n",
    "X = df.loc[:,feature_list]\n",
    "\n",
    "print(\"Number of examples: \" + str(X.shape[0]))\n",
    "print(\"\\nNumber of Features:\" + str(X.shape[1]))\n",
    "print(str(list(X.columns)))\n",
    "\n",
    "X_train, X_test, y_train, y_test = train_test_split(X, y, test_size=0.33, random_state=1234)\n",
    "print(X_train.shape)\n",
    "print(X_test.shape)"
   ]
  },
  {
   "cell_type": "code",
   "execution_count": 16,
   "id": "acc4938b",
   "metadata": {},
   "outputs": [
    {
     "name": "stderr",
     "output_type": "stream",
     "text": [
      "/Users/lianzou/miniconda3/lib/python3.9/site-packages/xgboost/data.py:250: FutureWarning: pandas.Int64Index is deprecated and will be removed from pandas in a future version. Use pandas.Index with the appropriate dtype instead.\n",
      "  elif isinstance(data.columns, (pd.Int64Index, pd.RangeIndex)):\n"
     ]
    },
    {
     "data": {
      "text/html": [
       "<style>#sk-container-id-2 {color: black;background-color: white;}#sk-container-id-2 pre{padding: 0;}#sk-container-id-2 div.sk-toggleable {background-color: white;}#sk-container-id-2 label.sk-toggleable__label {cursor: pointer;display: block;width: 100%;margin-bottom: 0;padding: 0.3em;box-sizing: border-box;text-align: center;}#sk-container-id-2 label.sk-toggleable__label-arrow:before {content: \"▸\";float: left;margin-right: 0.25em;color: #696969;}#sk-container-id-2 label.sk-toggleable__label-arrow:hover:before {color: black;}#sk-container-id-2 div.sk-estimator:hover label.sk-toggleable__label-arrow:before {color: black;}#sk-container-id-2 div.sk-toggleable__content {max-height: 0;max-width: 0;overflow: hidden;text-align: left;background-color: #f0f8ff;}#sk-container-id-2 div.sk-toggleable__content pre {margin: 0.2em;color: black;border-radius: 0.25em;background-color: #f0f8ff;}#sk-container-id-2 input.sk-toggleable__control:checked~div.sk-toggleable__content {max-height: 200px;max-width: 100%;overflow: auto;}#sk-container-id-2 input.sk-toggleable__control:checked~label.sk-toggleable__label-arrow:before {content: \"▾\";}#sk-container-id-2 div.sk-estimator input.sk-toggleable__control:checked~label.sk-toggleable__label {background-color: #d4ebff;}#sk-container-id-2 div.sk-label input.sk-toggleable__control:checked~label.sk-toggleable__label {background-color: #d4ebff;}#sk-container-id-2 input.sk-hidden--visually {border: 0;clip: rect(1px 1px 1px 1px);clip: rect(1px, 1px, 1px, 1px);height: 1px;margin: -1px;overflow: hidden;padding: 0;position: absolute;width: 1px;}#sk-container-id-2 div.sk-estimator {font-family: monospace;background-color: #f0f8ff;border: 1px dotted black;border-radius: 0.25em;box-sizing: border-box;margin-bottom: 0.5em;}#sk-container-id-2 div.sk-estimator:hover {background-color: #d4ebff;}#sk-container-id-2 div.sk-parallel-item::after {content: \"\";width: 100%;border-bottom: 1px solid gray;flex-grow: 1;}#sk-container-id-2 div.sk-label:hover label.sk-toggleable__label {background-color: #d4ebff;}#sk-container-id-2 div.sk-serial::before {content: \"\";position: absolute;border-left: 1px solid gray;box-sizing: border-box;top: 0;bottom: 0;left: 50%;z-index: 0;}#sk-container-id-2 div.sk-serial {display: flex;flex-direction: column;align-items: center;background-color: white;padding-right: 0.2em;padding-left: 0.2em;position: relative;}#sk-container-id-2 div.sk-item {position: relative;z-index: 1;}#sk-container-id-2 div.sk-parallel {display: flex;align-items: stretch;justify-content: center;background-color: white;position: relative;}#sk-container-id-2 div.sk-item::before, #sk-container-id-2 div.sk-parallel-item::before {content: \"\";position: absolute;border-left: 1px solid gray;box-sizing: border-box;top: 0;bottom: 0;left: 50%;z-index: -1;}#sk-container-id-2 div.sk-parallel-item {display: flex;flex-direction: column;z-index: 1;position: relative;background-color: white;}#sk-container-id-2 div.sk-parallel-item:first-child::after {align-self: flex-end;width: 50%;}#sk-container-id-2 div.sk-parallel-item:last-child::after {align-self: flex-start;width: 50%;}#sk-container-id-2 div.sk-parallel-item:only-child::after {width: 0;}#sk-container-id-2 div.sk-dashed-wrapped {border: 1px dashed gray;margin: 0 0.4em 0.5em 0.4em;box-sizing: border-box;padding-bottom: 0.4em;background-color: white;}#sk-container-id-2 div.sk-label label {font-family: monospace;font-weight: bold;display: inline-block;line-height: 1.2em;}#sk-container-id-2 div.sk-label-container {text-align: center;}#sk-container-id-2 div.sk-container {/* jupyter's `normalize.less` sets `[hidden] { display: none; }` but bootstrap.min.css set `[hidden] { display: none !important; }` so we also need the `!important` here to be able to override the default hidden behavior on the sphinx rendered scikit-learn.org. See: https://github.com/scikit-learn/scikit-learn/issues/21755 */display: inline-block !important;position: relative;}#sk-container-id-2 div.sk-text-repr-fallback {display: none;}</style><div id=\"sk-container-id-2\" class=\"sk-top-container\"><div class=\"sk-text-repr-fallback\"><pre>XGBRegressor(base_score=0.5, booster=&#x27;gbtree&#x27;, colsample_bylevel=1,\n",
       "             colsample_bynode=1, colsample_bytree=1, enable_categorical=False,\n",
       "             gamma=0, gpu_id=-1, importance_type=None,\n",
       "             interaction_constraints=&#x27;&#x27;, learning_rate=0.300000012,\n",
       "             max_delta_step=0, max_depth=3, min_child_weight=1, missing=nan,\n",
       "             monotone_constraints=&#x27;()&#x27;, n_estimators=100, n_jobs=8,\n",
       "             num_parallel_tree=1, predictor=&#x27;auto&#x27;, random_state=0, reg_alpha=0,\n",
       "             reg_lambda=1, scale_pos_weight=1, subsample=1, tree_method=&#x27;exact&#x27;,\n",
       "             validate_parameters=1, verbosity=None)</pre><b>In a Jupyter environment, please rerun this cell to show the HTML representation or trust the notebook. <br />On GitHub, the HTML representation is unable to render, please try loading this page with nbviewer.org.</b></div><div class=\"sk-container\" hidden><div class=\"sk-item\"><div class=\"sk-estimator sk-toggleable\"><input class=\"sk-toggleable__control sk-hidden--visually\" id=\"sk-estimator-id-2\" type=\"checkbox\" checked><label for=\"sk-estimator-id-2\" class=\"sk-toggleable__label sk-toggleable__label-arrow\">XGBRegressor</label><div class=\"sk-toggleable__content\"><pre>XGBRegressor(base_score=0.5, booster=&#x27;gbtree&#x27;, colsample_bylevel=1,\n",
       "             colsample_bynode=1, colsample_bytree=1, enable_categorical=False,\n",
       "             gamma=0, gpu_id=-1, importance_type=None,\n",
       "             interaction_constraints=&#x27;&#x27;, learning_rate=0.300000012,\n",
       "             max_delta_step=0, max_depth=3, min_child_weight=1, missing=nan,\n",
       "             monotone_constraints=&#x27;()&#x27;, n_estimators=100, n_jobs=8,\n",
       "             num_parallel_tree=1, predictor=&#x27;auto&#x27;, random_state=0, reg_alpha=0,\n",
       "             reg_lambda=1, scale_pos_weight=1, subsample=1, tree_method=&#x27;exact&#x27;,\n",
       "             validate_parameters=1, verbosity=None)</pre></div></div></div></div></div>"
      ],
      "text/plain": [
       "XGBRegressor(base_score=0.5, booster='gbtree', colsample_bylevel=1,\n",
       "             colsample_bynode=1, colsample_bytree=1, enable_categorical=False,\n",
       "             gamma=0, gpu_id=-1, importance_type=None,\n",
       "             interaction_constraints='', learning_rate=0.300000012,\n",
       "             max_delta_step=0, max_depth=3, min_child_weight=1, missing=nan,\n",
       "             monotone_constraints='()', n_estimators=100, n_jobs=8,\n",
       "             num_parallel_tree=1, predictor='auto', random_state=0, reg_alpha=0,\n",
       "             reg_lambda=1, scale_pos_weight=1, subsample=1, tree_method='exact',\n",
       "             validate_parameters=1, verbosity=None)"
      ]
     },
     "execution_count": 16,
     "metadata": {},
     "output_type": "execute_result"
    }
   ],
   "source": [
    "regressor.fit(X_train, y_train)"
   ]
  },
  {
   "cell_type": "code",
   "execution_count": 17,
   "id": "0e6102c6",
   "metadata": {},
   "outputs": [
    {
     "data": {
      "text/html": [
       "<div>\n",
       "<style scoped>\n",
       "    .dataframe tbody tr th:only-of-type {\n",
       "        vertical-align: middle;\n",
       "    }\n",
       "\n",
       "    .dataframe tbody tr th {\n",
       "        vertical-align: top;\n",
       "    }\n",
       "\n",
       "    .dataframe thead th {\n",
       "        text-align: right;\n",
       "    }\n",
       "</style>\n",
       "<table border=\"1\" class=\"dataframe\">\n",
       "  <thead>\n",
       "    <tr style=\"text-align: right;\">\n",
       "      <th></th>\n",
       "      <th>Purchase 30_x</th>\n",
       "      <th>Purchase 60_x</th>\n",
       "      <th>Purchase 90_x</th>\n",
       "      <th>Purchase 120_x</th>\n",
       "      <th>Purchase 180_x</th>\n",
       "      <th>Purchase 360_x</th>\n",
       "      <th>Web 30_x</th>\n",
       "      <th>Web 60_x</th>\n",
       "      <th>Web 90_x</th>\n",
       "      <th>Web 120_x</th>\n",
       "      <th>...</th>\n",
       "      <th>has_spend_at_any_merchant</th>\n",
       "      <th>arr_ind_1</th>\n",
       "      <th>arr_ind_2</th>\n",
       "      <th>arr_ind_3</th>\n",
       "      <th>arr_ind_4</th>\n",
       "      <th>arr_ind_5</th>\n",
       "      <th>arr_ind_6</th>\n",
       "      <th>arr_ind_7</th>\n",
       "      <th>arr_ind_8</th>\n",
       "      <th>arr_ind_9</th>\n",
       "    </tr>\n",
       "  </thead>\n",
       "  <tbody>\n",
       "    <tr>\n",
       "      <th>0</th>\n",
       "      <td>0.029215</td>\n",
       "      <td>0.008942</td>\n",
       "      <td>0.014491</td>\n",
       "      <td>0.0</td>\n",
       "      <td>0.027795</td>\n",
       "      <td>0.00317</td>\n",
       "      <td>0.0072</td>\n",
       "      <td>0.0</td>\n",
       "      <td>0.003312</td>\n",
       "      <td>0.0</td>\n",
       "      <td>...</td>\n",
       "      <td>0.037541</td>\n",
       "      <td>0.0</td>\n",
       "      <td>0.0</td>\n",
       "      <td>0.035663</td>\n",
       "      <td>0.027691</td>\n",
       "      <td>0.032827</td>\n",
       "      <td>0.035055</td>\n",
       "      <td>0.04418</td>\n",
       "      <td>0.046186</td>\n",
       "      <td>0.028082</td>\n",
       "    </tr>\n",
       "  </tbody>\n",
       "</table>\n",
       "<p>1 rows × 39 columns</p>\n",
       "</div>"
      ],
      "text/plain": [
       "   Purchase 30_x  Purchase 60_x  Purchase 90_x  Purchase 120_x  \\\n",
       "0       0.029215       0.008942       0.014491             0.0   \n",
       "\n",
       "   Purchase 180_x  Purchase 360_x  Web 30_x  Web 60_x  Web 90_x  Web 120_x  \\\n",
       "0        0.027795         0.00317    0.0072       0.0  0.003312        0.0   \n",
       "\n",
       "   ...  has_spend_at_any_merchant  arr_ind_1  arr_ind_2  arr_ind_3  arr_ind_4  \\\n",
       "0  ...                   0.037541        0.0        0.0   0.035663   0.027691   \n",
       "\n",
       "   arr_ind_5  arr_ind_6  arr_ind_7  arr_ind_8  arr_ind_9  \n",
       "0   0.032827   0.035055    0.04418   0.046186   0.028082  \n",
       "\n",
       "[1 rows x 39 columns]"
      ]
     },
     "execution_count": 17,
     "metadata": {},
     "output_type": "execute_result"
    }
   ],
   "source": [
    "pd.DataFrame(regressor.feature_importances_.reshape(1, -1), columns=feature_list)"
   ]
  },
  {
   "cell_type": "code",
   "execution_count": 18,
   "id": "b4ee95b9",
   "metadata": {},
   "outputs": [],
   "source": [
    "y_pred = regressor.predict(X_test)"
   ]
  },
  {
   "cell_type": "code",
   "execution_count": 19,
   "id": "a07e4700",
   "metadata": {},
   "outputs": [],
   "source": [
    "predictions = [round(value) for value in y_pred]"
   ]
  },
  {
   "cell_type": "code",
   "execution_count": 20,
   "id": "b9a25a76",
   "metadata": {},
   "outputs": [],
   "source": [
    "accuracy = accuracy_score(y_test, predictions)\n",
    "acc_10 = accuracy"
   ]
  },
  {
   "cell_type": "code",
   "execution_count": 21,
   "id": "f18c7eb8",
   "metadata": {},
   "outputs": [
    {
     "data": {
      "text/plain": [
       "0.24881981174832657"
      ]
     },
     "execution_count": 21,
     "metadata": {},
     "output_type": "execute_result"
    }
   ],
   "source": [
    "mse_10 = mean_squared_error(y_test, y_pred)\n",
    "mse_10"
   ]
  },
  {
   "cell_type": "code",
   "execution_count": 22,
   "id": "aaef7984",
   "metadata": {},
   "outputs": [
    {
     "name": "stdout",
     "output_type": "stream",
     "text": [
      "Number of examples: 498668\n",
      "\n",
      "Number of Features:49\n",
      "['Purchase 30_x', 'Purchase 60_x', 'Purchase 90_x', 'Purchase 120_x', 'Purchase 180_x', 'Purchase 360_x', 'Web 30_x', 'Web 60_x', 'Web 90_x', 'Web 120_x', 'Web 180_x', 'Web 360_x', 'Purchase 30_y', 'Purchase 60_y', 'Purchase 90_y', 'Purchase 120_y', 'Purchase 180_y', 'Purchase 360_y', 'Web 30_y', 'Web 60_y', 'Web 90_y', 'Web 120_y', 'Web 180_y', 'Web 360_y', 'new_account_indicator', 'spend_active', 'is_active_balance', 'has_credit_limit_reached', 'is_revolving', 'has_spend_at_any_merchant', 'arr_ind_1', 'arr_ind_2', 'arr_ind_3', 'arr_ind_4', 'arr_ind_5', 'arr_ind_6', 'arr_ind_7', 'arr_ind_8', 'arr_ind_9', 'arr_ind_10', 'arr_ind_11', 'arr_ind_12', 'arr_ind_13', 'arr_ind_14', 'arr_ind_15', 'arr_ind_16', 'arr_ind_17', 'arr_ind_18', 'arr_ind_19']\n",
      "(334107, 49)\n",
      "(164561, 49)\n"
     ]
    }
   ],
   "source": [
    "feature_list = list(df.iloc[:, 0:55].select_dtypes(include=\"float64\"))\n",
    "feature_list\n",
    "\n",
    "y = df.loc[:,\"arr_ind_20\"]\n",
    "X = df.loc[:,feature_list]\n",
    "\n",
    "print(\"Number of examples: \" + str(X.shape[0]))\n",
    "print(\"\\nNumber of Features:\" + str(X.shape[1]))\n",
    "print(str(list(X.columns)))\n",
    "\n",
    "X_train, X_test, y_train, y_test = train_test_split(X, y, test_size=0.33, random_state=1234)\n",
    "print(X_train.shape)\n",
    "print(X_test.shape)"
   ]
  },
  {
   "cell_type": "code",
   "execution_count": 23,
   "id": "9b16fdc2",
   "metadata": {},
   "outputs": [
    {
     "name": "stderr",
     "output_type": "stream",
     "text": [
      "/Users/lianzou/miniconda3/lib/python3.9/site-packages/xgboost/data.py:250: FutureWarning: pandas.Int64Index is deprecated and will be removed from pandas in a future version. Use pandas.Index with the appropriate dtype instead.\n",
      "  elif isinstance(data.columns, (pd.Int64Index, pd.RangeIndex)):\n"
     ]
    },
    {
     "data": {
      "text/html": [
       "<style>#sk-container-id-3 {color: black;background-color: white;}#sk-container-id-3 pre{padding: 0;}#sk-container-id-3 div.sk-toggleable {background-color: white;}#sk-container-id-3 label.sk-toggleable__label {cursor: pointer;display: block;width: 100%;margin-bottom: 0;padding: 0.3em;box-sizing: border-box;text-align: center;}#sk-container-id-3 label.sk-toggleable__label-arrow:before {content: \"▸\";float: left;margin-right: 0.25em;color: #696969;}#sk-container-id-3 label.sk-toggleable__label-arrow:hover:before {color: black;}#sk-container-id-3 div.sk-estimator:hover label.sk-toggleable__label-arrow:before {color: black;}#sk-container-id-3 div.sk-toggleable__content {max-height: 0;max-width: 0;overflow: hidden;text-align: left;background-color: #f0f8ff;}#sk-container-id-3 div.sk-toggleable__content pre {margin: 0.2em;color: black;border-radius: 0.25em;background-color: #f0f8ff;}#sk-container-id-3 input.sk-toggleable__control:checked~div.sk-toggleable__content {max-height: 200px;max-width: 100%;overflow: auto;}#sk-container-id-3 input.sk-toggleable__control:checked~label.sk-toggleable__label-arrow:before {content: \"▾\";}#sk-container-id-3 div.sk-estimator input.sk-toggleable__control:checked~label.sk-toggleable__label {background-color: #d4ebff;}#sk-container-id-3 div.sk-label input.sk-toggleable__control:checked~label.sk-toggleable__label {background-color: #d4ebff;}#sk-container-id-3 input.sk-hidden--visually {border: 0;clip: rect(1px 1px 1px 1px);clip: rect(1px, 1px, 1px, 1px);height: 1px;margin: -1px;overflow: hidden;padding: 0;position: absolute;width: 1px;}#sk-container-id-3 div.sk-estimator {font-family: monospace;background-color: #f0f8ff;border: 1px dotted black;border-radius: 0.25em;box-sizing: border-box;margin-bottom: 0.5em;}#sk-container-id-3 div.sk-estimator:hover {background-color: #d4ebff;}#sk-container-id-3 div.sk-parallel-item::after {content: \"\";width: 100%;border-bottom: 1px solid gray;flex-grow: 1;}#sk-container-id-3 div.sk-label:hover label.sk-toggleable__label {background-color: #d4ebff;}#sk-container-id-3 div.sk-serial::before {content: \"\";position: absolute;border-left: 1px solid gray;box-sizing: border-box;top: 0;bottom: 0;left: 50%;z-index: 0;}#sk-container-id-3 div.sk-serial {display: flex;flex-direction: column;align-items: center;background-color: white;padding-right: 0.2em;padding-left: 0.2em;position: relative;}#sk-container-id-3 div.sk-item {position: relative;z-index: 1;}#sk-container-id-3 div.sk-parallel {display: flex;align-items: stretch;justify-content: center;background-color: white;position: relative;}#sk-container-id-3 div.sk-item::before, #sk-container-id-3 div.sk-parallel-item::before {content: \"\";position: absolute;border-left: 1px solid gray;box-sizing: border-box;top: 0;bottom: 0;left: 50%;z-index: -1;}#sk-container-id-3 div.sk-parallel-item {display: flex;flex-direction: column;z-index: 1;position: relative;background-color: white;}#sk-container-id-3 div.sk-parallel-item:first-child::after {align-self: flex-end;width: 50%;}#sk-container-id-3 div.sk-parallel-item:last-child::after {align-self: flex-start;width: 50%;}#sk-container-id-3 div.sk-parallel-item:only-child::after {width: 0;}#sk-container-id-3 div.sk-dashed-wrapped {border: 1px dashed gray;margin: 0 0.4em 0.5em 0.4em;box-sizing: border-box;padding-bottom: 0.4em;background-color: white;}#sk-container-id-3 div.sk-label label {font-family: monospace;font-weight: bold;display: inline-block;line-height: 1.2em;}#sk-container-id-3 div.sk-label-container {text-align: center;}#sk-container-id-3 div.sk-container {/* jupyter's `normalize.less` sets `[hidden] { display: none; }` but bootstrap.min.css set `[hidden] { display: none !important; }` so we also need the `!important` here to be able to override the default hidden behavior on the sphinx rendered scikit-learn.org. See: https://github.com/scikit-learn/scikit-learn/issues/21755 */display: inline-block !important;position: relative;}#sk-container-id-3 div.sk-text-repr-fallback {display: none;}</style><div id=\"sk-container-id-3\" class=\"sk-top-container\"><div class=\"sk-text-repr-fallback\"><pre>XGBRegressor(base_score=0.5, booster=&#x27;gbtree&#x27;, colsample_bylevel=1,\n",
       "             colsample_bynode=1, colsample_bytree=1, enable_categorical=False,\n",
       "             gamma=0, gpu_id=-1, importance_type=None,\n",
       "             interaction_constraints=&#x27;&#x27;, learning_rate=0.300000012,\n",
       "             max_delta_step=0, max_depth=3, min_child_weight=1, missing=nan,\n",
       "             monotone_constraints=&#x27;()&#x27;, n_estimators=100, n_jobs=8,\n",
       "             num_parallel_tree=1, predictor=&#x27;auto&#x27;, random_state=0, reg_alpha=0,\n",
       "             reg_lambda=1, scale_pos_weight=1, subsample=1, tree_method=&#x27;exact&#x27;,\n",
       "             validate_parameters=1, verbosity=None)</pre><b>In a Jupyter environment, please rerun this cell to show the HTML representation or trust the notebook. <br />On GitHub, the HTML representation is unable to render, please try loading this page with nbviewer.org.</b></div><div class=\"sk-container\" hidden><div class=\"sk-item\"><div class=\"sk-estimator sk-toggleable\"><input class=\"sk-toggleable__control sk-hidden--visually\" id=\"sk-estimator-id-3\" type=\"checkbox\" checked><label for=\"sk-estimator-id-3\" class=\"sk-toggleable__label sk-toggleable__label-arrow\">XGBRegressor</label><div class=\"sk-toggleable__content\"><pre>XGBRegressor(base_score=0.5, booster=&#x27;gbtree&#x27;, colsample_bylevel=1,\n",
       "             colsample_bynode=1, colsample_bytree=1, enable_categorical=False,\n",
       "             gamma=0, gpu_id=-1, importance_type=None,\n",
       "             interaction_constraints=&#x27;&#x27;, learning_rate=0.300000012,\n",
       "             max_delta_step=0, max_depth=3, min_child_weight=1, missing=nan,\n",
       "             monotone_constraints=&#x27;()&#x27;, n_estimators=100, n_jobs=8,\n",
       "             num_parallel_tree=1, predictor=&#x27;auto&#x27;, random_state=0, reg_alpha=0,\n",
       "             reg_lambda=1, scale_pos_weight=1, subsample=1, tree_method=&#x27;exact&#x27;,\n",
       "             validate_parameters=1, verbosity=None)</pre></div></div></div></div></div>"
      ],
      "text/plain": [
       "XGBRegressor(base_score=0.5, booster='gbtree', colsample_bylevel=1,\n",
       "             colsample_bynode=1, colsample_bytree=1, enable_categorical=False,\n",
       "             gamma=0, gpu_id=-1, importance_type=None,\n",
       "             interaction_constraints='', learning_rate=0.300000012,\n",
       "             max_delta_step=0, max_depth=3, min_child_weight=1, missing=nan,\n",
       "             monotone_constraints='()', n_estimators=100, n_jobs=8,\n",
       "             num_parallel_tree=1, predictor='auto', random_state=0, reg_alpha=0,\n",
       "             reg_lambda=1, scale_pos_weight=1, subsample=1, tree_method='exact',\n",
       "             validate_parameters=1, verbosity=None)"
      ]
     },
     "execution_count": 23,
     "metadata": {},
     "output_type": "execute_result"
    }
   ],
   "source": [
    "regressor.fit(X_train, y_train)"
   ]
  },
  {
   "cell_type": "code",
   "execution_count": 24,
   "id": "7338b5ea",
   "metadata": {},
   "outputs": [
    {
     "data": {
      "text/html": [
       "<div>\n",
       "<style scoped>\n",
       "    .dataframe tbody tr th:only-of-type {\n",
       "        vertical-align: middle;\n",
       "    }\n",
       "\n",
       "    .dataframe tbody tr th {\n",
       "        vertical-align: top;\n",
       "    }\n",
       "\n",
       "    .dataframe thead th {\n",
       "        text-align: right;\n",
       "    }\n",
       "</style>\n",
       "<table border=\"1\" class=\"dataframe\">\n",
       "  <thead>\n",
       "    <tr style=\"text-align: right;\">\n",
       "      <th></th>\n",
       "      <th>Purchase 30_x</th>\n",
       "      <th>Purchase 60_x</th>\n",
       "      <th>Purchase 90_x</th>\n",
       "      <th>Purchase 120_x</th>\n",
       "      <th>Purchase 180_x</th>\n",
       "      <th>Purchase 360_x</th>\n",
       "      <th>Web 30_x</th>\n",
       "      <th>Web 60_x</th>\n",
       "      <th>Web 90_x</th>\n",
       "      <th>Web 120_x</th>\n",
       "      <th>...</th>\n",
       "      <th>arr_ind_10</th>\n",
       "      <th>arr_ind_11</th>\n",
       "      <th>arr_ind_12</th>\n",
       "      <th>arr_ind_13</th>\n",
       "      <th>arr_ind_14</th>\n",
       "      <th>arr_ind_15</th>\n",
       "      <th>arr_ind_16</th>\n",
       "      <th>arr_ind_17</th>\n",
       "      <th>arr_ind_18</th>\n",
       "      <th>arr_ind_19</th>\n",
       "    </tr>\n",
       "  </thead>\n",
       "  <tbody>\n",
       "    <tr>\n",
       "      <th>0</th>\n",
       "      <td>0.0</td>\n",
       "      <td>0.0</td>\n",
       "      <td>0.013213</td>\n",
       "      <td>0.021328</td>\n",
       "      <td>0.004688</td>\n",
       "      <td>0.005501</td>\n",
       "      <td>0.007939</td>\n",
       "      <td>0.01272</td>\n",
       "      <td>0.0</td>\n",
       "      <td>0.0</td>\n",
       "      <td>...</td>\n",
       "      <td>0.033454</td>\n",
       "      <td>0.022337</td>\n",
       "      <td>0.029079</td>\n",
       "      <td>0.017054</td>\n",
       "      <td>0.042103</td>\n",
       "      <td>0.039916</td>\n",
       "      <td>0.034142</td>\n",
       "      <td>0.017215</td>\n",
       "      <td>0.023361</td>\n",
       "      <td>0.015149</td>\n",
       "    </tr>\n",
       "  </tbody>\n",
       "</table>\n",
       "<p>1 rows × 49 columns</p>\n",
       "</div>"
      ],
      "text/plain": [
       "   Purchase 30_x  Purchase 60_x  Purchase 90_x  Purchase 120_x  \\\n",
       "0            0.0            0.0       0.013213        0.021328   \n",
       "\n",
       "   Purchase 180_x  Purchase 360_x  Web 30_x  Web 60_x  Web 90_x  Web 120_x  \\\n",
       "0        0.004688        0.005501  0.007939   0.01272       0.0        0.0   \n",
       "\n",
       "   ...  arr_ind_10  arr_ind_11  arr_ind_12  arr_ind_13  arr_ind_14  \\\n",
       "0  ...    0.033454    0.022337    0.029079    0.017054    0.042103   \n",
       "\n",
       "   arr_ind_15  arr_ind_16  arr_ind_17  arr_ind_18  arr_ind_19  \n",
       "0    0.039916    0.034142    0.017215    0.023361    0.015149  \n",
       "\n",
       "[1 rows x 49 columns]"
      ]
     },
     "execution_count": 24,
     "metadata": {},
     "output_type": "execute_result"
    }
   ],
   "source": [
    "pd.DataFrame(regressor.feature_importances_.reshape(1, -1), columns=feature_list)"
   ]
  },
  {
   "cell_type": "code",
   "execution_count": 25,
   "id": "0dd22019",
   "metadata": {},
   "outputs": [],
   "source": [
    "y_pred = regressor.predict(X_test)"
   ]
  },
  {
   "cell_type": "code",
   "execution_count": 26,
   "id": "f3671a0b",
   "metadata": {},
   "outputs": [],
   "source": [
    "predictions = [round(value) for value in y_pred]"
   ]
  },
  {
   "cell_type": "code",
   "execution_count": 27,
   "id": "d630c39a",
   "metadata": {},
   "outputs": [],
   "source": [
    "accuracy = accuracy_score(y_test, predictions)\n",
    "acc_20 = accuracy"
   ]
  },
  {
   "cell_type": "code",
   "execution_count": 28,
   "id": "7453c190",
   "metadata": {},
   "outputs": [
    {
     "data": {
      "text/plain": [
       "0.14978061115228625"
      ]
     },
     "execution_count": 28,
     "metadata": {},
     "output_type": "execute_result"
    }
   ],
   "source": [
    "mse_20 = mean_squared_error(y_test, y_pred)\n",
    "mse_20"
   ]
  },
  {
   "cell_type": "code",
   "execution_count": 29,
   "id": "68ffd7d9",
   "metadata": {},
   "outputs": [
    {
     "name": "stdout",
     "output_type": "stream",
     "text": [
      "Number of examples: 498668\n",
      "\n",
      "Number of Features:58\n",
      "['Purchase 30_x', 'Purchase 60_x', 'Purchase 90_x', 'Purchase 120_x', 'Purchase 180_x', 'Purchase 360_x', 'Web 30_x', 'Web 60_x', 'Web 90_x', 'Web 120_x', 'Web 180_x', 'Web 360_x', 'Purchase 30_y', 'Purchase 60_y', 'Purchase 90_y', 'Purchase 120_y', 'Purchase 180_y', 'Purchase 360_y', 'Web 30_y', 'Web 60_y', 'Web 90_y', 'Web 120_y', 'Web 180_y', 'Web 360_y', 'new_account_indicator', 'spend_active', 'is_active_balance', 'has_credit_limit_reached', 'is_revolving', 'has_spend_at_any_merchant', 'arr_ind_1', 'arr_ind_2', 'arr_ind_3', 'arr_ind_4', 'arr_ind_5', 'arr_ind_6', 'arr_ind_7', 'arr_ind_8', 'arr_ind_9', 'arr_ind_10', 'arr_ind_11', 'arr_ind_12', 'arr_ind_13', 'arr_ind_14', 'arr_ind_15', 'arr_ind_16', 'arr_ind_17', 'arr_ind_18', 'arr_ind_19', 'arr_ind_20', 'arr_ind_21', 'arr_ind_22', 'arr_ind_23', 'arr_ind_24', 'arr_ind_25', 'arr_ind_26', 'arr_ind_27', 'arr_ind_28']\n",
      "(334107, 58)\n",
      "(164561, 58)\n"
     ]
    }
   ],
   "source": [
    "feature_list = list(df.iloc[:, 0:64].select_dtypes(include=\"float64\"))\n",
    "feature_list\n",
    "\n",
    "y = df.loc[:,\"arr_ind_29\"]\n",
    "X = df.loc[:,feature_list]\n",
    "\n",
    "print(\"Number of examples: \" + str(X.shape[0]))\n",
    "print(\"\\nNumber of Features:\" + str(X.shape[1]))\n",
    "print(str(list(X.columns)))\n",
    "\n",
    "X_train, X_test, y_train, y_test = train_test_split(X, y, test_size=0.33, random_state=1234)\n",
    "print(X_train.shape)\n",
    "print(X_test.shape)"
   ]
  },
  {
   "cell_type": "code",
   "execution_count": 30,
   "id": "4773f300",
   "metadata": {},
   "outputs": [
    {
     "name": "stderr",
     "output_type": "stream",
     "text": [
      "/Users/lianzou/miniconda3/lib/python3.9/site-packages/xgboost/data.py:250: FutureWarning: pandas.Int64Index is deprecated and will be removed from pandas in a future version. Use pandas.Index with the appropriate dtype instead.\n",
      "  elif isinstance(data.columns, (pd.Int64Index, pd.RangeIndex)):\n"
     ]
    },
    {
     "data": {
      "text/html": [
       "<style>#sk-container-id-4 {color: black;background-color: white;}#sk-container-id-4 pre{padding: 0;}#sk-container-id-4 div.sk-toggleable {background-color: white;}#sk-container-id-4 label.sk-toggleable__label {cursor: pointer;display: block;width: 100%;margin-bottom: 0;padding: 0.3em;box-sizing: border-box;text-align: center;}#sk-container-id-4 label.sk-toggleable__label-arrow:before {content: \"▸\";float: left;margin-right: 0.25em;color: #696969;}#sk-container-id-4 label.sk-toggleable__label-arrow:hover:before {color: black;}#sk-container-id-4 div.sk-estimator:hover label.sk-toggleable__label-arrow:before {color: black;}#sk-container-id-4 div.sk-toggleable__content {max-height: 0;max-width: 0;overflow: hidden;text-align: left;background-color: #f0f8ff;}#sk-container-id-4 div.sk-toggleable__content pre {margin: 0.2em;color: black;border-radius: 0.25em;background-color: #f0f8ff;}#sk-container-id-4 input.sk-toggleable__control:checked~div.sk-toggleable__content {max-height: 200px;max-width: 100%;overflow: auto;}#sk-container-id-4 input.sk-toggleable__control:checked~label.sk-toggleable__label-arrow:before {content: \"▾\";}#sk-container-id-4 div.sk-estimator input.sk-toggleable__control:checked~label.sk-toggleable__label {background-color: #d4ebff;}#sk-container-id-4 div.sk-label input.sk-toggleable__control:checked~label.sk-toggleable__label {background-color: #d4ebff;}#sk-container-id-4 input.sk-hidden--visually {border: 0;clip: rect(1px 1px 1px 1px);clip: rect(1px, 1px, 1px, 1px);height: 1px;margin: -1px;overflow: hidden;padding: 0;position: absolute;width: 1px;}#sk-container-id-4 div.sk-estimator {font-family: monospace;background-color: #f0f8ff;border: 1px dotted black;border-radius: 0.25em;box-sizing: border-box;margin-bottom: 0.5em;}#sk-container-id-4 div.sk-estimator:hover {background-color: #d4ebff;}#sk-container-id-4 div.sk-parallel-item::after {content: \"\";width: 100%;border-bottom: 1px solid gray;flex-grow: 1;}#sk-container-id-4 div.sk-label:hover label.sk-toggleable__label {background-color: #d4ebff;}#sk-container-id-4 div.sk-serial::before {content: \"\";position: absolute;border-left: 1px solid gray;box-sizing: border-box;top: 0;bottom: 0;left: 50%;z-index: 0;}#sk-container-id-4 div.sk-serial {display: flex;flex-direction: column;align-items: center;background-color: white;padding-right: 0.2em;padding-left: 0.2em;position: relative;}#sk-container-id-4 div.sk-item {position: relative;z-index: 1;}#sk-container-id-4 div.sk-parallel {display: flex;align-items: stretch;justify-content: center;background-color: white;position: relative;}#sk-container-id-4 div.sk-item::before, #sk-container-id-4 div.sk-parallel-item::before {content: \"\";position: absolute;border-left: 1px solid gray;box-sizing: border-box;top: 0;bottom: 0;left: 50%;z-index: -1;}#sk-container-id-4 div.sk-parallel-item {display: flex;flex-direction: column;z-index: 1;position: relative;background-color: white;}#sk-container-id-4 div.sk-parallel-item:first-child::after {align-self: flex-end;width: 50%;}#sk-container-id-4 div.sk-parallel-item:last-child::after {align-self: flex-start;width: 50%;}#sk-container-id-4 div.sk-parallel-item:only-child::after {width: 0;}#sk-container-id-4 div.sk-dashed-wrapped {border: 1px dashed gray;margin: 0 0.4em 0.5em 0.4em;box-sizing: border-box;padding-bottom: 0.4em;background-color: white;}#sk-container-id-4 div.sk-label label {font-family: monospace;font-weight: bold;display: inline-block;line-height: 1.2em;}#sk-container-id-4 div.sk-label-container {text-align: center;}#sk-container-id-4 div.sk-container {/* jupyter's `normalize.less` sets `[hidden] { display: none; }` but bootstrap.min.css set `[hidden] { display: none !important; }` so we also need the `!important` here to be able to override the default hidden behavior on the sphinx rendered scikit-learn.org. See: https://github.com/scikit-learn/scikit-learn/issues/21755 */display: inline-block !important;position: relative;}#sk-container-id-4 div.sk-text-repr-fallback {display: none;}</style><div id=\"sk-container-id-4\" class=\"sk-top-container\"><div class=\"sk-text-repr-fallback\"><pre>XGBRegressor(base_score=0.5, booster=&#x27;gbtree&#x27;, colsample_bylevel=1,\n",
       "             colsample_bynode=1, colsample_bytree=1, enable_categorical=False,\n",
       "             gamma=0, gpu_id=-1, importance_type=None,\n",
       "             interaction_constraints=&#x27;&#x27;, learning_rate=0.300000012,\n",
       "             max_delta_step=0, max_depth=3, min_child_weight=1, missing=nan,\n",
       "             monotone_constraints=&#x27;()&#x27;, n_estimators=100, n_jobs=8,\n",
       "             num_parallel_tree=1, predictor=&#x27;auto&#x27;, random_state=0, reg_alpha=0,\n",
       "             reg_lambda=1, scale_pos_weight=1, subsample=1, tree_method=&#x27;exact&#x27;,\n",
       "             validate_parameters=1, verbosity=None)</pre><b>In a Jupyter environment, please rerun this cell to show the HTML representation or trust the notebook. <br />On GitHub, the HTML representation is unable to render, please try loading this page with nbviewer.org.</b></div><div class=\"sk-container\" hidden><div class=\"sk-item\"><div class=\"sk-estimator sk-toggleable\"><input class=\"sk-toggleable__control sk-hidden--visually\" id=\"sk-estimator-id-4\" type=\"checkbox\" checked><label for=\"sk-estimator-id-4\" class=\"sk-toggleable__label sk-toggleable__label-arrow\">XGBRegressor</label><div class=\"sk-toggleable__content\"><pre>XGBRegressor(base_score=0.5, booster=&#x27;gbtree&#x27;, colsample_bylevel=1,\n",
       "             colsample_bynode=1, colsample_bytree=1, enable_categorical=False,\n",
       "             gamma=0, gpu_id=-1, importance_type=None,\n",
       "             interaction_constraints=&#x27;&#x27;, learning_rate=0.300000012,\n",
       "             max_delta_step=0, max_depth=3, min_child_weight=1, missing=nan,\n",
       "             monotone_constraints=&#x27;()&#x27;, n_estimators=100, n_jobs=8,\n",
       "             num_parallel_tree=1, predictor=&#x27;auto&#x27;, random_state=0, reg_alpha=0,\n",
       "             reg_lambda=1, scale_pos_weight=1, subsample=1, tree_method=&#x27;exact&#x27;,\n",
       "             validate_parameters=1, verbosity=None)</pre></div></div></div></div></div>"
      ],
      "text/plain": [
       "XGBRegressor(base_score=0.5, booster='gbtree', colsample_bylevel=1,\n",
       "             colsample_bynode=1, colsample_bytree=1, enable_categorical=False,\n",
       "             gamma=0, gpu_id=-1, importance_type=None,\n",
       "             interaction_constraints='', learning_rate=0.300000012,\n",
       "             max_delta_step=0, max_depth=3, min_child_weight=1, missing=nan,\n",
       "             monotone_constraints='()', n_estimators=100, n_jobs=8,\n",
       "             num_parallel_tree=1, predictor='auto', random_state=0, reg_alpha=0,\n",
       "             reg_lambda=1, scale_pos_weight=1, subsample=1, tree_method='exact',\n",
       "             validate_parameters=1, verbosity=None)"
      ]
     },
     "execution_count": 30,
     "metadata": {},
     "output_type": "execute_result"
    }
   ],
   "source": [
    "regressor.fit(X_train, y_train)"
   ]
  },
  {
   "cell_type": "code",
   "execution_count": 31,
   "id": "350f8215",
   "metadata": {},
   "outputs": [
    {
     "data": {
      "text/html": [
       "<div>\n",
       "<style scoped>\n",
       "    .dataframe tbody tr th:only-of-type {\n",
       "        vertical-align: middle;\n",
       "    }\n",
       "\n",
       "    .dataframe tbody tr th {\n",
       "        vertical-align: top;\n",
       "    }\n",
       "\n",
       "    .dataframe thead th {\n",
       "        text-align: right;\n",
       "    }\n",
       "</style>\n",
       "<table border=\"1\" class=\"dataframe\">\n",
       "  <thead>\n",
       "    <tr style=\"text-align: right;\">\n",
       "      <th></th>\n",
       "      <th>Purchase 30_x</th>\n",
       "      <th>Purchase 60_x</th>\n",
       "      <th>Purchase 90_x</th>\n",
       "      <th>Purchase 120_x</th>\n",
       "      <th>Purchase 180_x</th>\n",
       "      <th>Purchase 360_x</th>\n",
       "      <th>Web 30_x</th>\n",
       "      <th>Web 60_x</th>\n",
       "      <th>Web 90_x</th>\n",
       "      <th>Web 120_x</th>\n",
       "      <th>...</th>\n",
       "      <th>arr_ind_19</th>\n",
       "      <th>arr_ind_20</th>\n",
       "      <th>arr_ind_21</th>\n",
       "      <th>arr_ind_22</th>\n",
       "      <th>arr_ind_23</th>\n",
       "      <th>arr_ind_24</th>\n",
       "      <th>arr_ind_25</th>\n",
       "      <th>arr_ind_26</th>\n",
       "      <th>arr_ind_27</th>\n",
       "      <th>arr_ind_28</th>\n",
       "    </tr>\n",
       "  </thead>\n",
       "  <tbody>\n",
       "    <tr>\n",
       "      <th>0</th>\n",
       "      <td>0.00327</td>\n",
       "      <td>0.00963</td>\n",
       "      <td>0.0</td>\n",
       "      <td>0.00983</td>\n",
       "      <td>0.008138</td>\n",
       "      <td>0.024823</td>\n",
       "      <td>0.003962</td>\n",
       "      <td>0.0</td>\n",
       "      <td>0.0</td>\n",
       "      <td>0.0</td>\n",
       "      <td>...</td>\n",
       "      <td>0.021187</td>\n",
       "      <td>0.031845</td>\n",
       "      <td>0.009927</td>\n",
       "      <td>0.017771</td>\n",
       "      <td>0.011555</td>\n",
       "      <td>0.057383</td>\n",
       "      <td>0.006063</td>\n",
       "      <td>0.058106</td>\n",
       "      <td>0.009006</td>\n",
       "      <td>0.082243</td>\n",
       "    </tr>\n",
       "  </tbody>\n",
       "</table>\n",
       "<p>1 rows × 58 columns</p>\n",
       "</div>"
      ],
      "text/plain": [
       "   Purchase 30_x  Purchase 60_x  Purchase 90_x  Purchase 120_x  \\\n",
       "0        0.00327        0.00963            0.0         0.00983   \n",
       "\n",
       "   Purchase 180_x  Purchase 360_x  Web 30_x  Web 60_x  Web 90_x  Web 120_x  \\\n",
       "0        0.008138        0.024823  0.003962       0.0       0.0        0.0   \n",
       "\n",
       "   ...  arr_ind_19  arr_ind_20  arr_ind_21  arr_ind_22  arr_ind_23  \\\n",
       "0  ...    0.021187    0.031845    0.009927    0.017771    0.011555   \n",
       "\n",
       "   arr_ind_24  arr_ind_25  arr_ind_26  arr_ind_27  arr_ind_28  \n",
       "0    0.057383    0.006063    0.058106    0.009006    0.082243  \n",
       "\n",
       "[1 rows x 58 columns]"
      ]
     },
     "execution_count": 31,
     "metadata": {},
     "output_type": "execute_result"
    }
   ],
   "source": [
    "pd.DataFrame(regressor.feature_importances_.reshape(1, -1), columns=feature_list)"
   ]
  },
  {
   "cell_type": "code",
   "execution_count": 32,
   "id": "6b4dda60",
   "metadata": {},
   "outputs": [],
   "source": [
    "y_pred = regressor.predict(X_test)"
   ]
  },
  {
   "cell_type": "code",
   "execution_count": 33,
   "id": "2402c6c7",
   "metadata": {},
   "outputs": [],
   "source": [
    "predictions = [round(value) for value in y_pred]"
   ]
  },
  {
   "cell_type": "code",
   "execution_count": 34,
   "id": "3162f21b",
   "metadata": {},
   "outputs": [],
   "source": [
    "accuracy = accuracy_score(y_test, predictions)\n",
    "acc_29 = accuracy"
   ]
  },
  {
   "cell_type": "code",
   "execution_count": 35,
   "id": "43bf55df",
   "metadata": {},
   "outputs": [],
   "source": [
    "mse_29 = mean_squared_error(y_test, y_pred)"
   ]
  },
  {
   "cell_type": "code",
   "execution_count": 42,
   "id": "b2ac9187",
   "metadata": {},
   "outputs": [
    {
     "name": "stdout",
     "output_type": "stream",
     "text": [
      "Mean Squared Error for Each Model\n",
      "Day 3:  0.07828721033940221\n",
      "Day 10:  0.24881981174832657\n",
      "Day 20:  0.14978061115228625\n",
      "Day 29:  0.015992833291714897\n",
      "\n",
      "Accuracy for Each Model\n",
      "Day 3:  0.9141534142354507\n",
      "Day 10:  0.5252094967823482\n",
      "Day 20:  0.8162322786079326\n",
      "Day 29:  0.983696015459313\n"
     ]
    }
   ],
   "source": [
    "print(\"Mean Squared Error for Each Model\")\n",
    "print(\"Day 3: \", mse_3)\n",
    "print(\"Day 10: \",mse_10)\n",
    "print(\"Day 20: \",mse_20)\n",
    "print(\"Day 29: \", mse_29)\n",
    "\n",
    "print(\"\\nAccuracy for Each Model\")\n",
    "print(\"Day 3: \",acc_3)\n",
    "print(\"Day 10: \",acc_10)\n",
    "print(\"Day 20: \",acc_20)\n",
    "print(\"Day 29: \",acc_29)"
   ]
  }
 ],
 "metadata": {
  "kernelspec": {
   "display_name": "Python 3 (ipykernel)",
   "language": "python",
   "name": "python3"
  },
  "language_info": {
   "codemirror_mode": {
    "name": "ipython",
    "version": 3
   },
   "file_extension": ".py",
   "mimetype": "text/x-python",
   "name": "python",
   "nbconvert_exporter": "python",
   "pygments_lexer": "ipython3",
   "version": "3.9.12"
  }
 },
 "nbformat": 4,
 "nbformat_minor": 5
}
