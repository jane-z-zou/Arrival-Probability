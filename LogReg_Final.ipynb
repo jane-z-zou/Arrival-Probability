{
 "cells": [
  {
   "cell_type": "code",
   "execution_count": 1,
   "id": "8f8ef4ca",
   "metadata": {},
   "outputs": [],
   "source": [
    "import pandas as pd\n",
    "import numpy as np\n",
    "import os, glob\n",
    "filename = os.path.join(os.getcwd(), \"FEATURE_ENGINEERING.txt\")\n",
    "df = pd.read_table(filename, low_memory=False)"
   ]
  },
  {
   "cell_type": "code",
   "execution_count": 2,
   "id": "9934ea23",
   "metadata": {},
   "outputs": [
    {
     "data": {
      "text/html": [
       "<div>\n",
       "<style scoped>\n",
       "    .dataframe tbody tr th:only-of-type {\n",
       "        vertical-align: middle;\n",
       "    }\n",
       "\n",
       "    .dataframe tbody tr th {\n",
       "        vertical-align: top;\n",
       "    }\n",
       "\n",
       "    .dataframe thead th {\n",
       "        text-align: right;\n",
       "    }\n",
       "</style>\n",
       "<table border=\"1\" class=\"dataframe\">\n",
       "  <thead>\n",
       "    <tr style=\"text-align: right;\">\n",
       "      <th></th>\n",
       "      <th>Unnamed: 0</th>\n",
       "      <th>ac_id</th>\n",
       "      <th>visited_page</th>\n",
       "      <th>diff_dates</th>\n",
       "      <th>Max Date Diff</th>\n",
       "      <th>Min Date Diff</th>\n",
       "      <th>Purchase 30_x</th>\n",
       "      <th>Purchase 60_x</th>\n",
       "      <th>Purchase 90_x</th>\n",
       "      <th>Purchase 120_x</th>\n",
       "      <th>...</th>\n",
       "      <th>arr_ind_21</th>\n",
       "      <th>arr_ind_22</th>\n",
       "      <th>arr_ind_23</th>\n",
       "      <th>arr_ind_24</th>\n",
       "      <th>arr_ind_25</th>\n",
       "      <th>arr_ind_26</th>\n",
       "      <th>arr_ind_27</th>\n",
       "      <th>arr_ind_28</th>\n",
       "      <th>arr_ind_29</th>\n",
       "      <th>arr_ind_30</th>\n",
       "    </tr>\n",
       "  </thead>\n",
       "  <tbody>\n",
       "    <tr>\n",
       "      <th>0</th>\n",
       "      <td>0</td>\n",
       "      <td>ACe761e40e-3259-4e4f-93f9-8f2f2ed34388</td>\n",
       "      <td>REWARDS</td>\n",
       "      <td>52 days</td>\n",
       "      <td>380 days</td>\n",
       "      <td>31 days</td>\n",
       "      <td>0.0</td>\n",
       "      <td>0.0</td>\n",
       "      <td>0.0</td>\n",
       "      <td>0.0</td>\n",
       "      <td>...</td>\n",
       "      <td>1.0</td>\n",
       "      <td>1.0</td>\n",
       "      <td>1.0</td>\n",
       "      <td>1.0</td>\n",
       "      <td>1.0</td>\n",
       "      <td>1.0</td>\n",
       "      <td>1.0</td>\n",
       "      <td>1.0</td>\n",
       "      <td>1.0</td>\n",
       "      <td>1.0</td>\n",
       "    </tr>\n",
       "    <tr>\n",
       "      <th>1</th>\n",
       "      <td>1</td>\n",
       "      <td>AC612ca133-52a6-456d-a978-e6ecfa9e87d6</td>\n",
       "      <td>PRICINGENGINE</td>\n",
       "      <td>155 days</td>\n",
       "      <td>386 days</td>\n",
       "      <td>91 days</td>\n",
       "      <td>0.0</td>\n",
       "      <td>0.0</td>\n",
       "      <td>0.0</td>\n",
       "      <td>0.0</td>\n",
       "      <td>...</td>\n",
       "      <td>1.0</td>\n",
       "      <td>1.0</td>\n",
       "      <td>1.0</td>\n",
       "      <td>1.0</td>\n",
       "      <td>1.0</td>\n",
       "      <td>1.0</td>\n",
       "      <td>1.0</td>\n",
       "      <td>1.0</td>\n",
       "      <td>1.0</td>\n",
       "      <td>1.0</td>\n",
       "    </tr>\n",
       "    <tr>\n",
       "      <th>2</th>\n",
       "      <td>2</td>\n",
       "      <td>AC200056f5-32de-4cbd-927d-278f3ee18282</td>\n",
       "      <td>PRICINGENGINE</td>\n",
       "      <td>257 days</td>\n",
       "      <td>336 days</td>\n",
       "      <td>5 days</td>\n",
       "      <td>0.0</td>\n",
       "      <td>0.0</td>\n",
       "      <td>0.0</td>\n",
       "      <td>0.0</td>\n",
       "      <td>...</td>\n",
       "      <td>1.0</td>\n",
       "      <td>0.0</td>\n",
       "      <td>1.0</td>\n",
       "      <td>1.0</td>\n",
       "      <td>1.0</td>\n",
       "      <td>1.0</td>\n",
       "      <td>1.0</td>\n",
       "      <td>1.0</td>\n",
       "      <td>1.0</td>\n",
       "      <td>1.0</td>\n",
       "    </tr>\n",
       "    <tr>\n",
       "      <th>3</th>\n",
       "      <td>3</td>\n",
       "      <td>AC200056f5-32de-4cbd-927d-278f3ee18282</td>\n",
       "      <td>PRICINGENGINE</td>\n",
       "      <td>209 days</td>\n",
       "      <td>336 days</td>\n",
       "      <td>5 days</td>\n",
       "      <td>0.0</td>\n",
       "      <td>0.0</td>\n",
       "      <td>0.0</td>\n",
       "      <td>0.0</td>\n",
       "      <td>...</td>\n",
       "      <td>1.0</td>\n",
       "      <td>0.0</td>\n",
       "      <td>1.0</td>\n",
       "      <td>1.0</td>\n",
       "      <td>1.0</td>\n",
       "      <td>1.0</td>\n",
       "      <td>1.0</td>\n",
       "      <td>1.0</td>\n",
       "      <td>1.0</td>\n",
       "      <td>1.0</td>\n",
       "    </tr>\n",
       "    <tr>\n",
       "      <th>4</th>\n",
       "      <td>4</td>\n",
       "      <td>AC4c2519a1-4934-47e6-8c22-2ccfa240b586</td>\n",
       "      <td>MYACCOUNT</td>\n",
       "      <td>246 days</td>\n",
       "      <td>379 days</td>\n",
       "      <td>7 days</td>\n",
       "      <td>0.0</td>\n",
       "      <td>0.0</td>\n",
       "      <td>1.0</td>\n",
       "      <td>1.0</td>\n",
       "      <td>...</td>\n",
       "      <td>1.0</td>\n",
       "      <td>1.0</td>\n",
       "      <td>1.0</td>\n",
       "      <td>1.0</td>\n",
       "      <td>1.0</td>\n",
       "      <td>1.0</td>\n",
       "      <td>1.0</td>\n",
       "      <td>1.0</td>\n",
       "      <td>1.0</td>\n",
       "      <td>1.0</td>\n",
       "    </tr>\n",
       "    <tr>\n",
       "      <th>5</th>\n",
       "      <td>5</td>\n",
       "      <td>AC4c2519a1-4934-47e6-8c22-2ccfa240b586</td>\n",
       "      <td>PRICINGENGINE</td>\n",
       "      <td>157 days</td>\n",
       "      <td>379 days</td>\n",
       "      <td>7 days</td>\n",
       "      <td>0.0</td>\n",
       "      <td>0.0</td>\n",
       "      <td>1.0</td>\n",
       "      <td>1.0</td>\n",
       "      <td>...</td>\n",
       "      <td>1.0</td>\n",
       "      <td>1.0</td>\n",
       "      <td>1.0</td>\n",
       "      <td>1.0</td>\n",
       "      <td>1.0</td>\n",
       "      <td>1.0</td>\n",
       "      <td>1.0</td>\n",
       "      <td>1.0</td>\n",
       "      <td>1.0</td>\n",
       "      <td>1.0</td>\n",
       "    </tr>\n",
       "    <tr>\n",
       "      <th>6</th>\n",
       "      <td>6</td>\n",
       "      <td>ACfa99310a-46c6-4ef1-8e0e-134e7a9f40de</td>\n",
       "      <td>PRICINGENGINE</td>\n",
       "      <td>159 days</td>\n",
       "      <td>216 days</td>\n",
       "      <td>6 days</td>\n",
       "      <td>0.0</td>\n",
       "      <td>0.0</td>\n",
       "      <td>0.0</td>\n",
       "      <td>0.0</td>\n",
       "      <td>...</td>\n",
       "      <td>0.0</td>\n",
       "      <td>1.0</td>\n",
       "      <td>1.0</td>\n",
       "      <td>1.0</td>\n",
       "      <td>0.0</td>\n",
       "      <td>1.0</td>\n",
       "      <td>1.0</td>\n",
       "      <td>1.0</td>\n",
       "      <td>1.0</td>\n",
       "      <td>1.0</td>\n",
       "    </tr>\n",
       "    <tr>\n",
       "      <th>7</th>\n",
       "      <td>7</td>\n",
       "      <td>ACbe5a2e04-050f-4665-a710-9e48ae479afa</td>\n",
       "      <td>PRICINGENGINE</td>\n",
       "      <td>207 days</td>\n",
       "      <td>207 days</td>\n",
       "      <td>11 days</td>\n",
       "      <td>1.0</td>\n",
       "      <td>1.0</td>\n",
       "      <td>1.0</td>\n",
       "      <td>1.0</td>\n",
       "      <td>...</td>\n",
       "      <td>1.0</td>\n",
       "      <td>1.0</td>\n",
       "      <td>1.0</td>\n",
       "      <td>1.0</td>\n",
       "      <td>1.0</td>\n",
       "      <td>1.0</td>\n",
       "      <td>1.0</td>\n",
       "      <td>1.0</td>\n",
       "      <td>1.0</td>\n",
       "      <td>1.0</td>\n",
       "    </tr>\n",
       "    <tr>\n",
       "      <th>8</th>\n",
       "      <td>8</td>\n",
       "      <td>ACbe5a2e04-050f-4665-a710-9e48ae479afa</td>\n",
       "      <td>PRICINGENGINE</td>\n",
       "      <td>111 days</td>\n",
       "      <td>207 days</td>\n",
       "      <td>11 days</td>\n",
       "      <td>0.0</td>\n",
       "      <td>0.0</td>\n",
       "      <td>1.0</td>\n",
       "      <td>1.0</td>\n",
       "      <td>...</td>\n",
       "      <td>1.0</td>\n",
       "      <td>1.0</td>\n",
       "      <td>1.0</td>\n",
       "      <td>1.0</td>\n",
       "      <td>1.0</td>\n",
       "      <td>1.0</td>\n",
       "      <td>1.0</td>\n",
       "      <td>1.0</td>\n",
       "      <td>1.0</td>\n",
       "      <td>1.0</td>\n",
       "    </tr>\n",
       "    <tr>\n",
       "      <th>9</th>\n",
       "      <td>9</td>\n",
       "      <td>ACbe5a2e04-050f-4665-a710-9e48ae479afa</td>\n",
       "      <td>PRICINGENGINE</td>\n",
       "      <td>13 days</td>\n",
       "      <td>207 days</td>\n",
       "      <td>11 days</td>\n",
       "      <td>0.0</td>\n",
       "      <td>0.0</td>\n",
       "      <td>0.0</td>\n",
       "      <td>0.0</td>\n",
       "      <td>...</td>\n",
       "      <td>1.0</td>\n",
       "      <td>1.0</td>\n",
       "      <td>1.0</td>\n",
       "      <td>1.0</td>\n",
       "      <td>1.0</td>\n",
       "      <td>1.0</td>\n",
       "      <td>1.0</td>\n",
       "      <td>1.0</td>\n",
       "      <td>1.0</td>\n",
       "      <td>1.0</td>\n",
       "    </tr>\n",
       "  </tbody>\n",
       "</table>\n",
       "<p>10 rows × 67 columns</p>\n",
       "</div>"
      ],
      "text/plain": [
       "   Unnamed: 0                                   ac_id   visited_page  \\\n",
       "0           0  ACe761e40e-3259-4e4f-93f9-8f2f2ed34388        REWARDS   \n",
       "1           1  AC612ca133-52a6-456d-a978-e6ecfa9e87d6  PRICINGENGINE   \n",
       "2           2  AC200056f5-32de-4cbd-927d-278f3ee18282  PRICINGENGINE   \n",
       "3           3  AC200056f5-32de-4cbd-927d-278f3ee18282  PRICINGENGINE   \n",
       "4           4  AC4c2519a1-4934-47e6-8c22-2ccfa240b586      MYACCOUNT   \n",
       "5           5  AC4c2519a1-4934-47e6-8c22-2ccfa240b586  PRICINGENGINE   \n",
       "6           6  ACfa99310a-46c6-4ef1-8e0e-134e7a9f40de  PRICINGENGINE   \n",
       "7           7  ACbe5a2e04-050f-4665-a710-9e48ae479afa  PRICINGENGINE   \n",
       "8           8  ACbe5a2e04-050f-4665-a710-9e48ae479afa  PRICINGENGINE   \n",
       "9           9  ACbe5a2e04-050f-4665-a710-9e48ae479afa  PRICINGENGINE   \n",
       "\n",
       "  diff_dates Max Date Diff Min Date Diff  Purchase 30_x  Purchase 60_x  \\\n",
       "0    52 days      380 days       31 days            0.0            0.0   \n",
       "1   155 days      386 days       91 days            0.0            0.0   \n",
       "2   257 days      336 days        5 days            0.0            0.0   \n",
       "3   209 days      336 days        5 days            0.0            0.0   \n",
       "4   246 days      379 days        7 days            0.0            0.0   \n",
       "5   157 days      379 days        7 days            0.0            0.0   \n",
       "6   159 days      216 days        6 days            0.0            0.0   \n",
       "7   207 days      207 days       11 days            1.0            1.0   \n",
       "8   111 days      207 days       11 days            0.0            0.0   \n",
       "9    13 days      207 days       11 days            0.0            0.0   \n",
       "\n",
       "   Purchase 90_x  Purchase 120_x  ...  arr_ind_21  arr_ind_22  arr_ind_23  \\\n",
       "0            0.0             0.0  ...         1.0         1.0         1.0   \n",
       "1            0.0             0.0  ...         1.0         1.0         1.0   \n",
       "2            0.0             0.0  ...         1.0         0.0         1.0   \n",
       "3            0.0             0.0  ...         1.0         0.0         1.0   \n",
       "4            1.0             1.0  ...         1.0         1.0         1.0   \n",
       "5            1.0             1.0  ...         1.0         1.0         1.0   \n",
       "6            0.0             0.0  ...         0.0         1.0         1.0   \n",
       "7            1.0             1.0  ...         1.0         1.0         1.0   \n",
       "8            1.0             1.0  ...         1.0         1.0         1.0   \n",
       "9            0.0             0.0  ...         1.0         1.0         1.0   \n",
       "\n",
       "   arr_ind_24  arr_ind_25  arr_ind_26  arr_ind_27  arr_ind_28  arr_ind_29  \\\n",
       "0         1.0         1.0         1.0         1.0         1.0         1.0   \n",
       "1         1.0         1.0         1.0         1.0         1.0         1.0   \n",
       "2         1.0         1.0         1.0         1.0         1.0         1.0   \n",
       "3         1.0         1.0         1.0         1.0         1.0         1.0   \n",
       "4         1.0         1.0         1.0         1.0         1.0         1.0   \n",
       "5         1.0         1.0         1.0         1.0         1.0         1.0   \n",
       "6         1.0         0.0         1.0         1.0         1.0         1.0   \n",
       "7         1.0         1.0         1.0         1.0         1.0         1.0   \n",
       "8         1.0         1.0         1.0         1.0         1.0         1.0   \n",
       "9         1.0         1.0         1.0         1.0         1.0         1.0   \n",
       "\n",
       "   arr_ind_30  \n",
       "0         1.0  \n",
       "1         1.0  \n",
       "2         1.0  \n",
       "3         1.0  \n",
       "4         1.0  \n",
       "5         1.0  \n",
       "6         1.0  \n",
       "7         1.0  \n",
       "8         1.0  \n",
       "9         1.0  \n",
       "\n",
       "[10 rows x 67 columns]"
      ]
     },
     "execution_count": 2,
     "metadata": {},
     "output_type": "execute_result"
    }
   ],
   "source": [
    "df.head(10)"
   ]
  },
  {
   "cell_type": "code",
   "execution_count": 3,
   "id": "c82920df",
   "metadata": {},
   "outputs": [
    {
     "data": {
      "text/html": [
       "<div>\n",
       "<style scoped>\n",
       "    .dataframe tbody tr th:only-of-type {\n",
       "        vertical-align: middle;\n",
       "    }\n",
       "\n",
       "    .dataframe tbody tr th {\n",
       "        vertical-align: top;\n",
       "    }\n",
       "\n",
       "    .dataframe thead th {\n",
       "        text-align: right;\n",
       "    }\n",
       "</style>\n",
       "<table border=\"1\" class=\"dataframe\">\n",
       "  <thead>\n",
       "    <tr style=\"text-align: right;\">\n",
       "      <th></th>\n",
       "      <th>ac_id</th>\n",
       "      <th>visited_page</th>\n",
       "      <th>diff_dates</th>\n",
       "      <th>Max Date Diff</th>\n",
       "      <th>Min Date Diff</th>\n",
       "      <th>Purchase 30_x</th>\n",
       "      <th>Purchase 60_x</th>\n",
       "      <th>Purchase 90_x</th>\n",
       "      <th>Purchase 120_x</th>\n",
       "      <th>Purchase 180_x</th>\n",
       "      <th>...</th>\n",
       "      <th>arr_ind_21</th>\n",
       "      <th>arr_ind_22</th>\n",
       "      <th>arr_ind_23</th>\n",
       "      <th>arr_ind_24</th>\n",
       "      <th>arr_ind_25</th>\n",
       "      <th>arr_ind_26</th>\n",
       "      <th>arr_ind_27</th>\n",
       "      <th>arr_ind_28</th>\n",
       "      <th>arr_ind_29</th>\n",
       "      <th>arr_ind_30</th>\n",
       "    </tr>\n",
       "  </thead>\n",
       "  <tbody>\n",
       "    <tr>\n",
       "      <th>0</th>\n",
       "      <td>ACe761e40e-3259-4e4f-93f9-8f2f2ed34388</td>\n",
       "      <td>REWARDS</td>\n",
       "      <td>52 days</td>\n",
       "      <td>380 days</td>\n",
       "      <td>31 days</td>\n",
       "      <td>0.0</td>\n",
       "      <td>0.0</td>\n",
       "      <td>0.0</td>\n",
       "      <td>0.0</td>\n",
       "      <td>0.0</td>\n",
       "      <td>...</td>\n",
       "      <td>1.0</td>\n",
       "      <td>1.0</td>\n",
       "      <td>1.0</td>\n",
       "      <td>1.0</td>\n",
       "      <td>1.0</td>\n",
       "      <td>1.0</td>\n",
       "      <td>1.0</td>\n",
       "      <td>1.0</td>\n",
       "      <td>1.0</td>\n",
       "      <td>1.0</td>\n",
       "    </tr>\n",
       "    <tr>\n",
       "      <th>1</th>\n",
       "      <td>AC612ca133-52a6-456d-a978-e6ecfa9e87d6</td>\n",
       "      <td>PRICINGENGINE</td>\n",
       "      <td>155 days</td>\n",
       "      <td>386 days</td>\n",
       "      <td>91 days</td>\n",
       "      <td>0.0</td>\n",
       "      <td>0.0</td>\n",
       "      <td>0.0</td>\n",
       "      <td>0.0</td>\n",
       "      <td>0.0</td>\n",
       "      <td>...</td>\n",
       "      <td>1.0</td>\n",
       "      <td>1.0</td>\n",
       "      <td>1.0</td>\n",
       "      <td>1.0</td>\n",
       "      <td>1.0</td>\n",
       "      <td>1.0</td>\n",
       "      <td>1.0</td>\n",
       "      <td>1.0</td>\n",
       "      <td>1.0</td>\n",
       "      <td>1.0</td>\n",
       "    </tr>\n",
       "    <tr>\n",
       "      <th>2</th>\n",
       "      <td>AC200056f5-32de-4cbd-927d-278f3ee18282</td>\n",
       "      <td>PRICINGENGINE</td>\n",
       "      <td>257 days</td>\n",
       "      <td>336 days</td>\n",
       "      <td>5 days</td>\n",
       "      <td>0.0</td>\n",
       "      <td>0.0</td>\n",
       "      <td>0.0</td>\n",
       "      <td>0.0</td>\n",
       "      <td>0.0</td>\n",
       "      <td>...</td>\n",
       "      <td>1.0</td>\n",
       "      <td>0.0</td>\n",
       "      <td>1.0</td>\n",
       "      <td>1.0</td>\n",
       "      <td>1.0</td>\n",
       "      <td>1.0</td>\n",
       "      <td>1.0</td>\n",
       "      <td>1.0</td>\n",
       "      <td>1.0</td>\n",
       "      <td>1.0</td>\n",
       "    </tr>\n",
       "    <tr>\n",
       "      <th>3</th>\n",
       "      <td>AC200056f5-32de-4cbd-927d-278f3ee18282</td>\n",
       "      <td>PRICINGENGINE</td>\n",
       "      <td>209 days</td>\n",
       "      <td>336 days</td>\n",
       "      <td>5 days</td>\n",
       "      <td>0.0</td>\n",
       "      <td>0.0</td>\n",
       "      <td>0.0</td>\n",
       "      <td>0.0</td>\n",
       "      <td>0.0</td>\n",
       "      <td>...</td>\n",
       "      <td>1.0</td>\n",
       "      <td>0.0</td>\n",
       "      <td>1.0</td>\n",
       "      <td>1.0</td>\n",
       "      <td>1.0</td>\n",
       "      <td>1.0</td>\n",
       "      <td>1.0</td>\n",
       "      <td>1.0</td>\n",
       "      <td>1.0</td>\n",
       "      <td>1.0</td>\n",
       "    </tr>\n",
       "    <tr>\n",
       "      <th>4</th>\n",
       "      <td>AC4c2519a1-4934-47e6-8c22-2ccfa240b586</td>\n",
       "      <td>MYACCOUNT</td>\n",
       "      <td>246 days</td>\n",
       "      <td>379 days</td>\n",
       "      <td>7 days</td>\n",
       "      <td>0.0</td>\n",
       "      <td>0.0</td>\n",
       "      <td>1.0</td>\n",
       "      <td>1.0</td>\n",
       "      <td>1.0</td>\n",
       "      <td>...</td>\n",
       "      <td>1.0</td>\n",
       "      <td>1.0</td>\n",
       "      <td>1.0</td>\n",
       "      <td>1.0</td>\n",
       "      <td>1.0</td>\n",
       "      <td>1.0</td>\n",
       "      <td>1.0</td>\n",
       "      <td>1.0</td>\n",
       "      <td>1.0</td>\n",
       "      <td>1.0</td>\n",
       "    </tr>\n",
       "    <tr>\n",
       "      <th>...</th>\n",
       "      <td>...</td>\n",
       "      <td>...</td>\n",
       "      <td>...</td>\n",
       "      <td>...</td>\n",
       "      <td>...</td>\n",
       "      <td>...</td>\n",
       "      <td>...</td>\n",
       "      <td>...</td>\n",
       "      <td>...</td>\n",
       "      <td>...</td>\n",
       "      <td>...</td>\n",
       "      <td>...</td>\n",
       "      <td>...</td>\n",
       "      <td>...</td>\n",
       "      <td>...</td>\n",
       "      <td>...</td>\n",
       "      <td>...</td>\n",
       "      <td>...</td>\n",
       "      <td>...</td>\n",
       "      <td>...</td>\n",
       "      <td>...</td>\n",
       "    </tr>\n",
       "    <tr>\n",
       "      <th>498663</th>\n",
       "      <td>ACdc6643c3-55a3-4f1b-b07a-fd486c85fb2f</td>\n",
       "      <td>PRICINGENGINE</td>\n",
       "      <td>38 days</td>\n",
       "      <td>327 days</td>\n",
       "      <td>3 days</td>\n",
       "      <td>0.0</td>\n",
       "      <td>0.0</td>\n",
       "      <td>0.0</td>\n",
       "      <td>1.0</td>\n",
       "      <td>1.0</td>\n",
       "      <td>...</td>\n",
       "      <td>1.0</td>\n",
       "      <td>1.0</td>\n",
       "      <td>1.0</td>\n",
       "      <td>1.0</td>\n",
       "      <td>1.0</td>\n",
       "      <td>1.0</td>\n",
       "      <td>1.0</td>\n",
       "      <td>1.0</td>\n",
       "      <td>1.0</td>\n",
       "      <td>1.0</td>\n",
       "    </tr>\n",
       "    <tr>\n",
       "      <th>498664</th>\n",
       "      <td>AC8d97243d-d43d-4f68-bf7f-30d07c485a54</td>\n",
       "      <td>REWARDS</td>\n",
       "      <td>88 days</td>\n",
       "      <td>224 days</td>\n",
       "      <td>5 days</td>\n",
       "      <td>0.0</td>\n",
       "      <td>0.0</td>\n",
       "      <td>0.0</td>\n",
       "      <td>1.0</td>\n",
       "      <td>1.0</td>\n",
       "      <td>...</td>\n",
       "      <td>1.0</td>\n",
       "      <td>1.0</td>\n",
       "      <td>1.0</td>\n",
       "      <td>1.0</td>\n",
       "      <td>1.0</td>\n",
       "      <td>1.0</td>\n",
       "      <td>1.0</td>\n",
       "      <td>1.0</td>\n",
       "      <td>1.0</td>\n",
       "      <td>1.0</td>\n",
       "    </tr>\n",
       "    <tr>\n",
       "      <th>498665</th>\n",
       "      <td>AC762d9492-ad39-4d14-888a-8ac279982d85</td>\n",
       "      <td>PRICINGENGINE</td>\n",
       "      <td>223 days</td>\n",
       "      <td>349 days</td>\n",
       "      <td>47 days</td>\n",
       "      <td>1.0</td>\n",
       "      <td>1.0</td>\n",
       "      <td>1.0</td>\n",
       "      <td>1.0</td>\n",
       "      <td>1.0</td>\n",
       "      <td>...</td>\n",
       "      <td>1.0</td>\n",
       "      <td>1.0</td>\n",
       "      <td>1.0</td>\n",
       "      <td>1.0</td>\n",
       "      <td>1.0</td>\n",
       "      <td>1.0</td>\n",
       "      <td>1.0</td>\n",
       "      <td>1.0</td>\n",
       "      <td>1.0</td>\n",
       "      <td>1.0</td>\n",
       "    </tr>\n",
       "    <tr>\n",
       "      <th>498666</th>\n",
       "      <td>AC043ad7c3-807f-4f92-9c31-3161b69e1994</td>\n",
       "      <td>REWARDS</td>\n",
       "      <td>335 days</td>\n",
       "      <td>376 days</td>\n",
       "      <td>27 days</td>\n",
       "      <td>1.0</td>\n",
       "      <td>1.0</td>\n",
       "      <td>1.0</td>\n",
       "      <td>1.0</td>\n",
       "      <td>1.0</td>\n",
       "      <td>...</td>\n",
       "      <td>1.0</td>\n",
       "      <td>1.0</td>\n",
       "      <td>1.0</td>\n",
       "      <td>1.0</td>\n",
       "      <td>1.0</td>\n",
       "      <td>1.0</td>\n",
       "      <td>1.0</td>\n",
       "      <td>1.0</td>\n",
       "      <td>1.0</td>\n",
       "      <td>1.0</td>\n",
       "    </tr>\n",
       "    <tr>\n",
       "      <th>498667</th>\n",
       "      <td>AC38c6c972-5a5f-4a0f-bf9e-bad4c3c06025</td>\n",
       "      <td>REWARDS</td>\n",
       "      <td>247 days</td>\n",
       "      <td>295 days</td>\n",
       "      <td>8 days</td>\n",
       "      <td>0.0</td>\n",
       "      <td>1.0</td>\n",
       "      <td>1.0</td>\n",
       "      <td>1.0</td>\n",
       "      <td>1.0</td>\n",
       "      <td>...</td>\n",
       "      <td>1.0</td>\n",
       "      <td>1.0</td>\n",
       "      <td>1.0</td>\n",
       "      <td>1.0</td>\n",
       "      <td>1.0</td>\n",
       "      <td>1.0</td>\n",
       "      <td>1.0</td>\n",
       "      <td>1.0</td>\n",
       "      <td>1.0</td>\n",
       "      <td>1.0</td>\n",
       "    </tr>\n",
       "  </tbody>\n",
       "</table>\n",
       "<p>498668 rows × 66 columns</p>\n",
       "</div>"
      ],
      "text/plain": [
       "                                         ac_id   visited_page diff_dates  \\\n",
       "0       ACe761e40e-3259-4e4f-93f9-8f2f2ed34388        REWARDS    52 days   \n",
       "1       AC612ca133-52a6-456d-a978-e6ecfa9e87d6  PRICINGENGINE   155 days   \n",
       "2       AC200056f5-32de-4cbd-927d-278f3ee18282  PRICINGENGINE   257 days   \n",
       "3       AC200056f5-32de-4cbd-927d-278f3ee18282  PRICINGENGINE   209 days   \n",
       "4       AC4c2519a1-4934-47e6-8c22-2ccfa240b586      MYACCOUNT   246 days   \n",
       "...                                        ...            ...        ...   \n",
       "498663  ACdc6643c3-55a3-4f1b-b07a-fd486c85fb2f  PRICINGENGINE    38 days   \n",
       "498664  AC8d97243d-d43d-4f68-bf7f-30d07c485a54        REWARDS    88 days   \n",
       "498665  AC762d9492-ad39-4d14-888a-8ac279982d85  PRICINGENGINE   223 days   \n",
       "498666  AC043ad7c3-807f-4f92-9c31-3161b69e1994        REWARDS   335 days   \n",
       "498667  AC38c6c972-5a5f-4a0f-bf9e-bad4c3c06025        REWARDS   247 days   \n",
       "\n",
       "       Max Date Diff Min Date Diff  Purchase 30_x  Purchase 60_x  \\\n",
       "0           380 days       31 days            0.0            0.0   \n",
       "1           386 days       91 days            0.0            0.0   \n",
       "2           336 days        5 days            0.0            0.0   \n",
       "3           336 days        5 days            0.0            0.0   \n",
       "4           379 days        7 days            0.0            0.0   \n",
       "...              ...           ...            ...            ...   \n",
       "498663      327 days        3 days            0.0            0.0   \n",
       "498664      224 days        5 days            0.0            0.0   \n",
       "498665      349 days       47 days            1.0            1.0   \n",
       "498666      376 days       27 days            1.0            1.0   \n",
       "498667      295 days        8 days            0.0            1.0   \n",
       "\n",
       "        Purchase 90_x  Purchase 120_x  Purchase 180_x  ...  arr_ind_21  \\\n",
       "0                 0.0             0.0             0.0  ...         1.0   \n",
       "1                 0.0             0.0             0.0  ...         1.0   \n",
       "2                 0.0             0.0             0.0  ...         1.0   \n",
       "3                 0.0             0.0             0.0  ...         1.0   \n",
       "4                 1.0             1.0             1.0  ...         1.0   \n",
       "...               ...             ...             ...  ...         ...   \n",
       "498663            0.0             1.0             1.0  ...         1.0   \n",
       "498664            0.0             1.0             1.0  ...         1.0   \n",
       "498665            1.0             1.0             1.0  ...         1.0   \n",
       "498666            1.0             1.0             1.0  ...         1.0   \n",
       "498667            1.0             1.0             1.0  ...         1.0   \n",
       "\n",
       "        arr_ind_22  arr_ind_23  arr_ind_24  arr_ind_25  arr_ind_26  \\\n",
       "0              1.0         1.0         1.0         1.0         1.0   \n",
       "1              1.0         1.0         1.0         1.0         1.0   \n",
       "2              0.0         1.0         1.0         1.0         1.0   \n",
       "3              0.0         1.0         1.0         1.0         1.0   \n",
       "4              1.0         1.0         1.0         1.0         1.0   \n",
       "...            ...         ...         ...         ...         ...   \n",
       "498663         1.0         1.0         1.0         1.0         1.0   \n",
       "498664         1.0         1.0         1.0         1.0         1.0   \n",
       "498665         1.0         1.0         1.0         1.0         1.0   \n",
       "498666         1.0         1.0         1.0         1.0         1.0   \n",
       "498667         1.0         1.0         1.0         1.0         1.0   \n",
       "\n",
       "        arr_ind_27  arr_ind_28  arr_ind_29  arr_ind_30  \n",
       "0              1.0         1.0         1.0         1.0  \n",
       "1              1.0         1.0         1.0         1.0  \n",
       "2              1.0         1.0         1.0         1.0  \n",
       "3              1.0         1.0         1.0         1.0  \n",
       "4              1.0         1.0         1.0         1.0  \n",
       "...            ...         ...         ...         ...  \n",
       "498663         1.0         1.0         1.0         1.0  \n",
       "498664         1.0         1.0         1.0         1.0  \n",
       "498665         1.0         1.0         1.0         1.0  \n",
       "498666         1.0         1.0         1.0         1.0  \n",
       "498667         1.0         1.0         1.0         1.0  \n",
       "\n",
       "[498668 rows x 66 columns]"
      ]
     },
     "execution_count": 3,
     "metadata": {},
     "output_type": "execute_result"
    }
   ],
   "source": [
    "df.drop(columns=df.columns[0], axis=1, inplace=True)\n",
    "df"
   ]
  },
  {
   "cell_type": "code",
   "execution_count": 4,
   "id": "d2172ce7",
   "metadata": {},
   "outputs": [
    {
     "name": "stderr",
     "output_type": "stream",
     "text": [
      "/Users/lianzou/miniconda3/lib/python3.9/site-packages/scipy/__init__.py:146: UserWarning: A NumPy version >=1.16.5 and <1.23.0 is required for this version of SciPy (detected version 1.23.4\n",
      "  warnings.warn(f\"A NumPy version >={np_minversion} and <{np_maxversion}\"\n"
     ]
    }
   ],
   "source": [
    "import matplotlib.pyplot as plt\n",
    "import seaborn as sns\n",
    "%matplotlib inline\n",
    "\n",
    "from sklearn.linear_model import LogisticRegression\n",
    "from sklearn.model_selection import train_test_split \n",
    "from sklearn.metrics import log_loss\n",
    "from sklearn.metrics import accuracy_score"
   ]
  },
  {
   "cell_type": "code",
   "execution_count": 14,
   "id": "75a43338",
   "metadata": {},
   "outputs": [
    {
     "data": {
      "text/plain": [
       "['Purchase 30_x',\n",
       " 'Purchase 60_x',\n",
       " 'Purchase 90_x',\n",
       " 'Purchase 120_x',\n",
       " 'Purchase 180_x',\n",
       " 'Purchase 360_x',\n",
       " 'Web 30_x',\n",
       " 'Web 60_x',\n",
       " 'Web 90_x',\n",
       " 'Web 120_x',\n",
       " 'Web 180_x',\n",
       " 'Web 360_x',\n",
       " 'Purchase 30_y',\n",
       " 'Purchase 60_y',\n",
       " 'Purchase 90_y',\n",
       " 'Purchase 120_y',\n",
       " 'Purchase 180_y',\n",
       " 'Purchase 360_y',\n",
       " 'Web 30_y',\n",
       " 'Web 60_y',\n",
       " 'Web 90_y',\n",
       " 'Web 120_y',\n",
       " 'Web 180_y',\n",
       " 'Web 360_y',\n",
       " 'new_account_indicator',\n",
       " 'spend_active',\n",
       " 'is_active_balance',\n",
       " 'has_credit_limit_reached',\n",
       " 'is_revolving',\n",
       " 'has_spend_at_any_merchant',\n",
       " 'arr_ind_1',\n",
       " 'arr_ind_2']"
      ]
     },
     "execution_count": 14,
     "metadata": {},
     "output_type": "execute_result"
    }
   ],
   "source": [
    "feature_list = list(df.iloc[:, 0:38].select_dtypes(include=\"float64\"))\n",
    "feature_list"
   ]
  },
  {
   "cell_type": "code",
   "execution_count": 15,
   "id": "0f7673ec",
   "metadata": {},
   "outputs": [
    {
     "name": "stdout",
     "output_type": "stream",
     "text": [
      "Number of examples: 498668\n",
      "\n",
      "Number of Features:32\n",
      "['Purchase 30_x', 'Purchase 60_x', 'Purchase 90_x', 'Purchase 120_x', 'Purchase 180_x', 'Purchase 360_x', 'Web 30_x', 'Web 60_x', 'Web 90_x', 'Web 120_x', 'Web 180_x', 'Web 360_x', 'Purchase 30_y', 'Purchase 60_y', 'Purchase 90_y', 'Purchase 120_y', 'Purchase 180_y', 'Purchase 360_y', 'Web 30_y', 'Web 60_y', 'Web 90_y', 'Web 120_y', 'Web 180_y', 'Web 360_y', 'new_account_indicator', 'spend_active', 'is_active_balance', 'has_credit_limit_reached', 'is_revolving', 'has_spend_at_any_merchant', 'arr_ind_1', 'arr_ind_2']\n"
     ]
    }
   ],
   "source": [
    "y = df.loc[:,\"arr_ind_3\"]\n",
    "X = df.loc[:,feature_list]\n",
    "\n",
    "print(\"Number of examples: \" + str(X.shape[0]))\n",
    "print(\"\\nNumber of Features:\" + str(X.shape[1]))\n",
    "print(str(list(X.columns)))"
   ]
  },
  {
   "cell_type": "code",
   "execution_count": 16,
   "id": "eb6fbf79",
   "metadata": {},
   "outputs": [
    {
     "name": "stdout",
     "output_type": "stream",
     "text": [
      "(334107, 32)\n",
      "(164561, 32)\n"
     ]
    }
   ],
   "source": [
    "X_train, X_test, y_train, y_test = train_test_split(X, y, test_size=0.33, random_state=1234)\n",
    "print(X_train.shape)\n",
    "print(X_test.shape)"
   ]
  },
  {
   "cell_type": "code",
   "execution_count": 18,
   "id": "f380213c",
   "metadata": {},
   "outputs": [],
   "source": [
    "def train_test_LR(X_train, y_train, X_test, y_test, c=1):\n",
    "    model = LogisticRegression(C=c)\n",
    "    model.fit(X_train, y_train)  \n",
    "    probability_predictions = model.predict_proba(X_test)\n",
    "    l_loss = log_loss(y_test, probability_predictions)\n",
    "    class_label_predictions = model.predict(X_test)\n",
    "    acc_score = accuracy_score(y_test, class_label_predictions)\n",
    "    \n",
    "    return l_loss, acc_score"
   ]
  },
  {
   "cell_type": "code",
   "execution_count": 19,
   "id": "d5342503",
   "metadata": {},
   "outputs": [
    {
     "name": "stdout",
     "output_type": "stream",
     "text": [
      "Log loss: 0.2931826759439539\n",
      "Accuracy: 0.914031878756206\n"
     ]
    },
    {
     "name": "stderr",
     "output_type": "stream",
     "text": [
      "/Users/lianzou/miniconda3/lib/python3.9/site-packages/sklearn/linear_model/_logistic.py:444: ConvergenceWarning: lbfgs failed to converge (status=1):\n",
      "STOP: TOTAL NO. of ITERATIONS REACHED LIMIT.\n",
      "\n",
      "Increase the number of iterations (max_iter) or scale the data as shown in:\n",
      "    https://scikit-learn.org/stable/modules/preprocessing.html\n",
      "Please also refer to the documentation for alternative solver options:\n",
      "    https://scikit-learn.org/stable/modules/linear_model.html#logistic-regression\n",
      "  n_iter_i = _check_optimize_result(\n"
     ]
    }
   ],
   "source": [
    "loss, acc = train_test_LR(X_train, y_train, X_test, y_test)\n",
    "print('Log loss: ' + str(loss))\n",
    "print('Accuracy: ' + str(acc))"
   ]
  },
  {
   "cell_type": "code",
   "execution_count": 20,
   "id": "b74edf4f",
   "metadata": {},
   "outputs": [
    {
     "data": {
      "text/plain": [
       "{'C': [4.659692194712694e-07,\n",
       "  1.3646582218871971e-06,\n",
       "  3.99659888410108e-06,\n",
       "  1.170461759890991e-05,\n",
       "  3.42786647120644e-05,\n",
       "  0.00010039002509159835,\n",
       "  0.0002940067013271004,\n",
       "  0.0008610411278050081,\n",
       "  0.0025216834188649213,\n",
       "  0.007385114438364337,\n",
       "  0.021628375259051077,\n",
       "  0.06334182364409491,\n",
       "  0.18550568752872848,\n",
       "  0.5432802234880784,\n",
       "  1.591074673586745,\n",
       "  4.659692194712694]}"
      ]
     },
     "execution_count": 20,
     "metadata": {},
     "output_type": "execute_result"
    }
   ],
   "source": [
    "from sklearn.svm import l1_min_c\n",
    "\n",
    "cs = l1_min_c(X_train, y_train, loss=\"log\") * np.logspace(0, 7, 16)\n",
    "param_grid = dict(C = list(cs))\n",
    "param_grid"
   ]
  },
  {
   "cell_type": "code",
   "execution_count": 22,
   "id": "a94b21c4",
   "metadata": {},
   "outputs": [
    {
     "name": "stdout",
     "output_type": "stream",
     "text": [
      "Running Grid Search...\n",
      "Done\n"
     ]
    }
   ],
   "source": [
    "from sklearn.model_selection import train_test_split, GridSearchCV\n",
    "\n",
    "print('Running Grid Search...')\n",
    "\n",
    "model = LogisticRegression(max_iter=1000)\n",
    "grid = GridSearchCV(model, param_grid, cv=5)\n",
    "grid_search = grid.fit(X_train, y_train)\n",
    "\n",
    "print('Done')"
   ]
  },
  {
   "cell_type": "code",
   "execution_count": 23,
   "id": "afce0e7b",
   "metadata": {},
   "outputs": [
    {
     "data": {
      "text/plain": [
       "{'C': 4.659692194712694e-07}"
      ]
     },
     "execution_count": 23,
     "metadata": {},
     "output_type": "execute_result"
    }
   ],
   "source": [
    "best_c = grid_search.best_params_\n",
    "best_c"
   ]
  },
  {
   "cell_type": "code",
   "execution_count": 24,
   "id": "ef45dd69",
   "metadata": {},
   "outputs": [
    {
     "data": {
      "text/html": [
       "<style>#sk-container-id-1 {color: black;background-color: white;}#sk-container-id-1 pre{padding: 0;}#sk-container-id-1 div.sk-toggleable {background-color: white;}#sk-container-id-1 label.sk-toggleable__label {cursor: pointer;display: block;width: 100%;margin-bottom: 0;padding: 0.3em;box-sizing: border-box;text-align: center;}#sk-container-id-1 label.sk-toggleable__label-arrow:before {content: \"▸\";float: left;margin-right: 0.25em;color: #696969;}#sk-container-id-1 label.sk-toggleable__label-arrow:hover:before {color: black;}#sk-container-id-1 div.sk-estimator:hover label.sk-toggleable__label-arrow:before {color: black;}#sk-container-id-1 div.sk-toggleable__content {max-height: 0;max-width: 0;overflow: hidden;text-align: left;background-color: #f0f8ff;}#sk-container-id-1 div.sk-toggleable__content pre {margin: 0.2em;color: black;border-radius: 0.25em;background-color: #f0f8ff;}#sk-container-id-1 input.sk-toggleable__control:checked~div.sk-toggleable__content {max-height: 200px;max-width: 100%;overflow: auto;}#sk-container-id-1 input.sk-toggleable__control:checked~label.sk-toggleable__label-arrow:before {content: \"▾\";}#sk-container-id-1 div.sk-estimator input.sk-toggleable__control:checked~label.sk-toggleable__label {background-color: #d4ebff;}#sk-container-id-1 div.sk-label input.sk-toggleable__control:checked~label.sk-toggleable__label {background-color: #d4ebff;}#sk-container-id-1 input.sk-hidden--visually {border: 0;clip: rect(1px 1px 1px 1px);clip: rect(1px, 1px, 1px, 1px);height: 1px;margin: -1px;overflow: hidden;padding: 0;position: absolute;width: 1px;}#sk-container-id-1 div.sk-estimator {font-family: monospace;background-color: #f0f8ff;border: 1px dotted black;border-radius: 0.25em;box-sizing: border-box;margin-bottom: 0.5em;}#sk-container-id-1 div.sk-estimator:hover {background-color: #d4ebff;}#sk-container-id-1 div.sk-parallel-item::after {content: \"\";width: 100%;border-bottom: 1px solid gray;flex-grow: 1;}#sk-container-id-1 div.sk-label:hover label.sk-toggleable__label {background-color: #d4ebff;}#sk-container-id-1 div.sk-serial::before {content: \"\";position: absolute;border-left: 1px solid gray;box-sizing: border-box;top: 0;bottom: 0;left: 50%;z-index: 0;}#sk-container-id-1 div.sk-serial {display: flex;flex-direction: column;align-items: center;background-color: white;padding-right: 0.2em;padding-left: 0.2em;position: relative;}#sk-container-id-1 div.sk-item {position: relative;z-index: 1;}#sk-container-id-1 div.sk-parallel {display: flex;align-items: stretch;justify-content: center;background-color: white;position: relative;}#sk-container-id-1 div.sk-item::before, #sk-container-id-1 div.sk-parallel-item::before {content: \"\";position: absolute;border-left: 1px solid gray;box-sizing: border-box;top: 0;bottom: 0;left: 50%;z-index: -1;}#sk-container-id-1 div.sk-parallel-item {display: flex;flex-direction: column;z-index: 1;position: relative;background-color: white;}#sk-container-id-1 div.sk-parallel-item:first-child::after {align-self: flex-end;width: 50%;}#sk-container-id-1 div.sk-parallel-item:last-child::after {align-self: flex-start;width: 50%;}#sk-container-id-1 div.sk-parallel-item:only-child::after {width: 0;}#sk-container-id-1 div.sk-dashed-wrapped {border: 1px dashed gray;margin: 0 0.4em 0.5em 0.4em;box-sizing: border-box;padding-bottom: 0.4em;background-color: white;}#sk-container-id-1 div.sk-label label {font-family: monospace;font-weight: bold;display: inline-block;line-height: 1.2em;}#sk-container-id-1 div.sk-label-container {text-align: center;}#sk-container-id-1 div.sk-container {/* jupyter's `normalize.less` sets `[hidden] { display: none; }` but bootstrap.min.css set `[hidden] { display: none !important; }` so we also need the `!important` here to be able to override the default hidden behavior on the sphinx rendered scikit-learn.org. See: https://github.com/scikit-learn/scikit-learn/issues/21755 */display: inline-block !important;position: relative;}#sk-container-id-1 div.sk-text-repr-fallback {display: none;}</style><div id=\"sk-container-id-1\" class=\"sk-top-container\"><div class=\"sk-text-repr-fallback\"><pre>LogisticRegression(C=4.659692194712694e-07, max_iter=1000)</pre><b>In a Jupyter environment, please rerun this cell to show the HTML representation or trust the notebook. <br />On GitHub, the HTML representation is unable to render, please try loading this page with nbviewer.org.</b></div><div class=\"sk-container\" hidden><div class=\"sk-item\"><div class=\"sk-estimator sk-toggleable\"><input class=\"sk-toggleable__control sk-hidden--visually\" id=\"sk-estimator-id-1\" type=\"checkbox\" checked><label for=\"sk-estimator-id-1\" class=\"sk-toggleable__label sk-toggleable__label-arrow\">LogisticRegression</label><div class=\"sk-toggleable__content\"><pre>LogisticRegression(C=4.659692194712694e-07, max_iter=1000)</pre></div></div></div></div></div>"
      ],
      "text/plain": [
       "LogisticRegression(C=4.659692194712694e-07, max_iter=1000)"
      ]
     },
     "execution_count": 24,
     "metadata": {},
     "output_type": "execute_result"
    }
   ],
   "source": [
    "model_best = LogisticRegression(max_iter=1000, C=4.659692194712694e-07)\n",
    "model_best.fit(X_train, y_train)"
   ]
  },
  {
   "cell_type": "code",
   "execution_count": 25,
   "id": "c1252c61",
   "metadata": {},
   "outputs": [],
   "source": [
    "proba_predictions_best = model_best.predict_proba(X_test)[:,1]\n",
    "class_label_predictions_best = model_best.predict(X_test)"
   ]
  },
  {
   "cell_type": "code",
   "execution_count": 27,
   "id": "a24bc2b9",
   "metadata": {},
   "outputs": [
    {
     "data": {
      "text/html": [
       "<div>\n",
       "<style scoped>\n",
       "    .dataframe tbody tr th:only-of-type {\n",
       "        vertical-align: middle;\n",
       "    }\n",
       "\n",
       "    .dataframe tbody tr th {\n",
       "        vertical-align: top;\n",
       "    }\n",
       "\n",
       "    .dataframe thead th {\n",
       "        text-align: right;\n",
       "    }\n",
       "</style>\n",
       "<table border=\"1\" class=\"dataframe\">\n",
       "  <thead>\n",
       "    <tr style=\"text-align: right;\">\n",
       "      <th></th>\n",
       "      <th>Predicted: Arrival 3</th>\n",
       "      <th>Predicted: Not Arrival 3</th>\n",
       "    </tr>\n",
       "  </thead>\n",
       "  <tbody>\n",
       "    <tr>\n",
       "      <th>Actual: Arrival 3</th>\n",
       "      <td>0</td>\n",
       "      <td>14147</td>\n",
       "    </tr>\n",
       "    <tr>\n",
       "      <th>Actual: Not Arrival 3</th>\n",
       "      <td>0</td>\n",
       "      <td>150414</td>\n",
       "    </tr>\n",
       "  </tbody>\n",
       "</table>\n",
       "</div>"
      ],
      "text/plain": [
       "                       Predicted: Arrival 3  Predicted: Not Arrival 3\n",
       "Actual: Arrival 3                         0                     14147\n",
       "Actual: Not Arrival 3                     0                    150414"
      ]
     },
     "execution_count": 27,
     "metadata": {},
     "output_type": "execute_result"
    }
   ],
   "source": [
    "from sklearn.metrics import accuracy_score, confusion_matrix, precision_recall_curve\n",
    "\n",
    "pd.DataFrame(confusion_matrix(y_test, class_label_predictions_best, labels=[True,False]), columns=['Predicted: Arrival 3', 'Predicted: Not Arrival 3'],\n",
    "index=['Actual: Arrival 3', 'Actual: Not Arrival 3'])"
   ]
  },
  {
   "cell_type": "code",
   "execution_count": 29,
   "id": "ed24f3c2",
   "metadata": {},
   "outputs": [],
   "source": [
    "from sklearn.metrics import roc_curve\n",
    "from sklearn.metrics import auc"
   ]
  },
  {
   "cell_type": "code",
   "execution_count": 30,
   "id": "ce3b471a",
   "metadata": {},
   "outputs": [],
   "source": [
    "fpr_best, tpr_best, thresholds_best = roc_curve(y_test, proba_predictions_best)"
   ]
  },
  {
   "cell_type": "code",
   "execution_count": 31,
   "id": "da51efaa",
   "metadata": {},
   "outputs": [
    {
     "data": {
      "image/png": "[encoded data removed]",
      "text/plain": [
       "<Figure size 640x480 with 1 Axes>"
      ]
     },
     "metadata": {},
     "output_type": "display_data"
    }
   ],
   "source": [
    "fig = plt.figure()\n",
    "ax = fig.add_subplot(111)\n",
    "\n",
    "sns.lineplot(x=fpr_best, y=tpr_best, marker = 'o', color='red')\n",
    "\n",
    "plt.title(\"Receiver operating characteristic (ROC) curve\")\n",
    "plt.xlabel(\"False positive rate\")\n",
    "plt.ylabel(\"True positive rate\")\n",
    "plt.legend(['Best hyperparameter'])\n",
    "plt.show()"
   ]
  },
  {
   "cell_type": "code",
   "execution_count": 32,
   "id": "482ae69c",
   "metadata": {},
   "outputs": [
    {
     "name": "stdout",
     "output_type": "stream",
     "text": [
      "0.49975215902988557\n"
     ]
    }
   ],
   "source": [
    "auc_best = auc(fpr_best, tpr_best)\n",
    "print(auc_best)"
   ]
  },
  {
   "cell_type": "code",
   "execution_count": 33,
   "id": "5563c3eb",
   "metadata": {},
   "outputs": [
    {
     "name": "stderr",
     "output_type": "stream",
     "text": [
      "/Users/lianzou/miniconda3/lib/python3.9/site-packages/sklearn/feature_selection/_univariate_selection.py:110: UserWarning: Features [30 31] are constant.\n",
      "  warnings.warn(\"Features %s are constant.\" % constant_features_idx, UserWarning)\n",
      "/Users/lianzou/miniconda3/lib/python3.9/site-packages/sklearn/feature_selection/_univariate_selection.py:111: RuntimeWarning: invalid value encountered in divide\n",
      "  f = msb / msw\n"
     ]
    },
    {
     "name": "stdout",
     "output_type": "stream",
     "text": [
      "Best 5 features:\n",
      "Index(['Purchase 30_x', 'Purchase 60_x', 'Web 60_x', 'Web 60_y',\n",
      "       'spend_active'],\n",
      "      dtype='object')\n",
      "0.49975215902988557\n"
     ]
    }
   ],
   "source": [
    "from sklearn.feature_selection import SelectKBest\n",
    "from sklearn.feature_selection import f_classif\n",
    "\n",
    "selector = SelectKBest(f_classif, k=5)\n",
    "selector.fit(X, y)\n",
    "filter = selector.get_support()\n",
    "top_5_features = X.columns[filter]\n",
    "\n",
    "print(\"Best 5 features:\")\n",
    "print(top_5_features)\n",
    "\n",
    "new_X_train = X_train[top_5_features]\n",
    "new_X_test = X_test[top_5_features]\n",
    "\n",
    "model = LogisticRegression(max_iter=1000, C=4.659692194712694e-07)\n",
    "\n",
    "model.fit(X_train, y_train)\n",
    "\n",
    "proba_predictions = model.predict_proba(X_test)[:,1]\n",
    "\n",
    "fpr, tpr, thresholds = roc_curve(y_test, proba_predictions)\n",
    "auc_result = auc(fpr, tpr)\n",
    "print(auc_result)"
   ]
  },
  {
   "cell_type": "code",
   "execution_count": 34,
   "id": "5b162333",
   "metadata": {},
   "outputs": [],
   "source": [
    "precision_3 = 0\n",
    "recall_3 = 0"
   ]
  },
  {
   "cell_type": "code",
   "execution_count": 35,
   "id": "89811e66",
   "metadata": {},
   "outputs": [
    {
     "data": {
      "text/plain": [
       "['Purchase 30_x',\n",
       " 'Purchase 60_x',\n",
       " 'Purchase 90_x',\n",
       " 'Purchase 120_x',\n",
       " 'Purchase 180_x',\n",
       " 'Purchase 360_x',\n",
       " 'Web 30_x',\n",
       " 'Web 60_x',\n",
       " 'Web 90_x',\n",
       " 'Web 120_x',\n",
       " 'Web 180_x',\n",
       " 'Web 360_x',\n",
       " 'Purchase 30_y',\n",
       " 'Purchase 60_y',\n",
       " 'Purchase 90_y',\n",
       " 'Purchase 120_y',\n",
       " 'Purchase 180_y',\n",
       " 'Purchase 360_y',\n",
       " 'Web 30_y',\n",
       " 'Web 60_y',\n",
       " 'Web 90_y',\n",
       " 'Web 120_y',\n",
       " 'Web 180_y',\n",
       " 'Web 360_y',\n",
       " 'new_account_indicator',\n",
       " 'spend_active',\n",
       " 'is_active_balance',\n",
       " 'has_credit_limit_reached',\n",
       " 'is_revolving',\n",
       " 'has_spend_at_any_merchant',\n",
       " 'arr_ind_1',\n",
       " 'arr_ind_2',\n",
       " 'arr_ind_3',\n",
       " 'arr_ind_4',\n",
       " 'arr_ind_5',\n",
       " 'arr_ind_6',\n",
       " 'arr_ind_7',\n",
       " 'arr_ind_8',\n",
       " 'arr_ind_9']"
      ]
     },
     "execution_count": 35,
     "metadata": {},
     "output_type": "execute_result"
    }
   ],
   "source": [
    "feature_list = list(df.iloc[:, 0:45].select_dtypes(include=\"float64\"))\n",
    "feature_list"
   ]
  },
  {
   "cell_type": "code",
   "execution_count": 36,
   "id": "ac93ad17",
   "metadata": {},
   "outputs": [
    {
     "name": "stdout",
     "output_type": "stream",
     "text": [
      "Number of examples: 498668\n",
      "\n",
      "Number of Features:39\n",
      "['Purchase 30_x', 'Purchase 60_x', 'Purchase 90_x', 'Purchase 120_x', 'Purchase 180_x', 'Purchase 360_x', 'Web 30_x', 'Web 60_x', 'Web 90_x', 'Web 120_x', 'Web 180_x', 'Web 360_x', 'Purchase 30_y', 'Purchase 60_y', 'Purchase 90_y', 'Purchase 120_y', 'Purchase 180_y', 'Purchase 360_y', 'Web 30_y', 'Web 60_y', 'Web 90_y', 'Web 120_y', 'Web 180_y', 'Web 360_y', 'new_account_indicator', 'spend_active', 'is_active_balance', 'has_credit_limit_reached', 'is_revolving', 'has_spend_at_any_merchant', 'arr_ind_1', 'arr_ind_2', 'arr_ind_3', 'arr_ind_4', 'arr_ind_5', 'arr_ind_6', 'arr_ind_7', 'arr_ind_8', 'arr_ind_9']\n"
     ]
    }
   ],
   "source": [
    "y = df.loc[:,\"arr_ind_10\"]\n",
    "X = df.loc[:,feature_list]\n",
    "\n",
    "print(\"Number of examples: \" + str(X.shape[0]))\n",
    "print(\"\\nNumber of Features:\" + str(X.shape[1]))\n",
    "print(str(list(X.columns)))"
   ]
  },
  {
   "cell_type": "code",
   "execution_count": 37,
   "id": "4a148e6f",
   "metadata": {},
   "outputs": [
    {
     "name": "stdout",
     "output_type": "stream",
     "text": [
      "(334107, 39)\n",
      "(164561, 39)\n"
     ]
    }
   ],
   "source": [
    "X_train, X_test, y_train, y_test = train_test_split(X, y, test_size=0.33, random_state=1234)\n",
    "print(X_train.shape)\n",
    "print(X_test.shape)"
   ]
  },
  {
   "cell_type": "code",
   "execution_count": 38,
   "id": "6a06503c",
   "metadata": {},
   "outputs": [],
   "source": [
    "def train_test_LR(X_train, y_train, X_test, y_test, c=1):\n",
    "    model = LogisticRegression(C=c)\n",
    "    model.fit(X_train, y_train)  \n",
    "    probability_predictions = model.predict_proba(X_test)\n",
    "    l_loss = log_loss(y_test, probability_predictions)\n",
    "    class_label_predictions = model.predict(X_test)\n",
    "    acc_score = accuracy_score(y_test, class_label_predictions)\n",
    "    \n",
    "    return l_loss, acc_score"
   ]
  },
  {
   "cell_type": "code",
   "execution_count": 39,
   "id": "33f83f1b",
   "metadata": {},
   "outputs": [
    {
     "name": "stdout",
     "output_type": "stream",
     "text": [
      "Log loss: 0.6922709416018855\n",
      "Accuracy: 0.5215330485351937\n"
     ]
    },
    {
     "name": "stderr",
     "output_type": "stream",
     "text": [
      "/Users/lianzou/miniconda3/lib/python3.9/site-packages/sklearn/linear_model/_logistic.py:444: ConvergenceWarning: lbfgs failed to converge (status=1):\n",
      "STOP: TOTAL NO. of ITERATIONS REACHED LIMIT.\n",
      "\n",
      "Increase the number of iterations (max_iter) or scale the data as shown in:\n",
      "    https://scikit-learn.org/stable/modules/preprocessing.html\n",
      "Please also refer to the documentation for alternative solver options:\n",
      "    https://scikit-learn.org/stable/modules/linear_model.html#logistic-regression\n",
      "  n_iter_i = _check_optimize_result(\n"
     ]
    }
   ],
   "source": [
    "loss, acc = train_test_LR(X_train, y_train, X_test, y_test)\n",
    "print('Log loss: ' + str(loss))\n",
    "print('Accuracy: ' + str(acc))"
   ]
  },
  {
   "cell_type": "markdown",
   "id": "d6858cf4",
   "metadata": {},
   "source": [
    "Accuracy decreased significantly from 0.91 to 0.52 from days 3 to 10"
   ]
  },
  {
   "cell_type": "code",
   "execution_count": 42,
   "id": "b4421073",
   "metadata": {},
   "outputs": [
    {
     "data": {
      "text/plain": [
       "{'C': [9.229477103974674e-06,\n",
       "  2.7029857954888498e-05,\n",
       "  7.916084658217641e-05,\n",
       "  0.00023183398307402312,\n",
       "  0.0006789593344251571,\n",
       "  0.001988430564365805,\n",
       "  0.005823406364464602,\n",
       "  0.01705468739689327,\n",
       "  0.049947117546294016,\n",
       "  0.14627735432065178,\n",
       "  0.42839437865893687,\n",
       "  1.2546148685755012,\n",
       "  3.6743210155516404,\n",
       "  10.760780270883593,\n",
       "  31.514500651449726,\n",
       "  92.29477103974673]}"
      ]
     },
     "execution_count": 42,
     "metadata": {},
     "output_type": "execute_result"
    }
   ],
   "source": [
    "cs = l1_min_c(X_train, y_train, loss=\"log\") * np.logspace(0, 7, 16)\n",
    "param_grid = dict(C = list(cs))\n",
    "param_grid"
   ]
  },
  {
   "cell_type": "code",
   "execution_count": 43,
   "id": "6770be67",
   "metadata": {},
   "outputs": [
    {
     "name": "stdout",
     "output_type": "stream",
     "text": [
      "Running Grid Search...\n",
      "Done\n"
     ]
    }
   ],
   "source": [
    "print('Running Grid Search...')\n",
    "\n",
    "model = LogisticRegression(max_iter=1000)\n",
    "grid = GridSearchCV(model, param_grid, cv=5)\n",
    "grid_search = grid.fit(X_train, y_train)\n",
    "\n",
    "print('Done')"
   ]
  },
  {
   "cell_type": "code",
   "execution_count": 44,
   "id": "31dbd689",
   "metadata": {},
   "outputs": [
    {
     "data": {
      "text/plain": [
       "{'C': 2.7029857954888498e-05}"
      ]
     },
     "execution_count": 44,
     "metadata": {},
     "output_type": "execute_result"
    }
   ],
   "source": [
    "best_c = grid_search.best_params_\n",
    "best_c"
   ]
  },
  {
   "cell_type": "code",
   "execution_count": 45,
   "id": "399b3dc4",
   "metadata": {},
   "outputs": [
    {
     "data": {
      "text/html": [
       "<style>#sk-container-id-2 {color: black;background-color: white;}#sk-container-id-2 pre{padding: 0;}#sk-container-id-2 div.sk-toggleable {background-color: white;}#sk-container-id-2 label.sk-toggleable__label {cursor: pointer;display: block;width: 100%;margin-bottom: 0;padding: 0.3em;box-sizing: border-box;text-align: center;}#sk-container-id-2 label.sk-toggleable__label-arrow:before {content: \"▸\";float: left;margin-right: 0.25em;color: #696969;}#sk-container-id-2 label.sk-toggleable__label-arrow:hover:before {color: black;}#sk-container-id-2 div.sk-estimator:hover label.sk-toggleable__label-arrow:before {color: black;}#sk-container-id-2 div.sk-toggleable__content {max-height: 0;max-width: 0;overflow: hidden;text-align: left;background-color: #f0f8ff;}#sk-container-id-2 div.sk-toggleable__content pre {margin: 0.2em;color: black;border-radius: 0.25em;background-color: #f0f8ff;}#sk-container-id-2 input.sk-toggleable__control:checked~div.sk-toggleable__content {max-height: 200px;max-width: 100%;overflow: auto;}#sk-container-id-2 input.sk-toggleable__control:checked~label.sk-toggleable__label-arrow:before {content: \"▾\";}#sk-container-id-2 div.sk-estimator input.sk-toggleable__control:checked~label.sk-toggleable__label {background-color: #d4ebff;}#sk-container-id-2 div.sk-label input.sk-toggleable__control:checked~label.sk-toggleable__label {background-color: #d4ebff;}#sk-container-id-2 input.sk-hidden--visually {border: 0;clip: rect(1px 1px 1px 1px);clip: rect(1px, 1px, 1px, 1px);height: 1px;margin: -1px;overflow: hidden;padding: 0;position: absolute;width: 1px;}#sk-container-id-2 div.sk-estimator {font-family: monospace;background-color: #f0f8ff;border: 1px dotted black;border-radius: 0.25em;box-sizing: border-box;margin-bottom: 0.5em;}#sk-container-id-2 div.sk-estimator:hover {background-color: #d4ebff;}#sk-container-id-2 div.sk-parallel-item::after {content: \"\";width: 100%;border-bottom: 1px solid gray;flex-grow: 1;}#sk-container-id-2 div.sk-label:hover label.sk-toggleable__label {background-color: #d4ebff;}#sk-container-id-2 div.sk-serial::before {content: \"\";position: absolute;border-left: 1px solid gray;box-sizing: border-box;top: 0;bottom: 0;left: 50%;z-index: 0;}#sk-container-id-2 div.sk-serial {display: flex;flex-direction: column;align-items: center;background-color: white;padding-right: 0.2em;padding-left: 0.2em;position: relative;}#sk-container-id-2 div.sk-item {position: relative;z-index: 1;}#sk-container-id-2 div.sk-parallel {display: flex;align-items: stretch;justify-content: center;background-color: white;position: relative;}#sk-container-id-2 div.sk-item::before, #sk-container-id-2 div.sk-parallel-item::before {content: \"\";position: absolute;border-left: 1px solid gray;box-sizing: border-box;top: 0;bottom: 0;left: 50%;z-index: -1;}#sk-container-id-2 div.sk-parallel-item {display: flex;flex-direction: column;z-index: 1;position: relative;background-color: white;}#sk-container-id-2 div.sk-parallel-item:first-child::after {align-self: flex-end;width: 50%;}#sk-container-id-2 div.sk-parallel-item:last-child::after {align-self: flex-start;width: 50%;}#sk-container-id-2 div.sk-parallel-item:only-child::after {width: 0;}#sk-container-id-2 div.sk-dashed-wrapped {border: 1px dashed gray;margin: 0 0.4em 0.5em 0.4em;box-sizing: border-box;padding-bottom: 0.4em;background-color: white;}#sk-container-id-2 div.sk-label label {font-family: monospace;font-weight: bold;display: inline-block;line-height: 1.2em;}#sk-container-id-2 div.sk-label-container {text-align: center;}#sk-container-id-2 div.sk-container {/* jupyter's `normalize.less` sets `[hidden] { display: none; }` but bootstrap.min.css set `[hidden] { display: none !important; }` so we also need the `!important` here to be able to override the default hidden behavior on the sphinx rendered scikit-learn.org. See: https://github.com/scikit-learn/scikit-learn/issues/21755 */display: inline-block !important;position: relative;}#sk-container-id-2 div.sk-text-repr-fallback {display: none;}</style><div id=\"sk-container-id-2\" class=\"sk-top-container\"><div class=\"sk-text-repr-fallback\"><pre>LogisticRegression(C=2.7029857954888498e-05, max_iter=1000)</pre><b>In a Jupyter environment, please rerun this cell to show the HTML representation or trust the notebook. <br />On GitHub, the HTML representation is unable to render, please try loading this page with nbviewer.org.</b></div><div class=\"sk-container\" hidden><div class=\"sk-item\"><div class=\"sk-estimator sk-toggleable\"><input class=\"sk-toggleable__control sk-hidden--visually\" id=\"sk-estimator-id-2\" type=\"checkbox\" checked><label for=\"sk-estimator-id-2\" class=\"sk-toggleable__label sk-toggleable__label-arrow\">LogisticRegression</label><div class=\"sk-toggleable__content\"><pre>LogisticRegression(C=2.7029857954888498e-05, max_iter=1000)</pre></div></div></div></div></div>"
      ],
      "text/plain": [
       "LogisticRegression(C=2.7029857954888498e-05, max_iter=1000)"
      ]
     },
     "execution_count": 45,
     "metadata": {},
     "output_type": "execute_result"
    }
   ],
   "source": [
    "model_best = LogisticRegression(max_iter=1000, C=2.7029857954888498e-05)\n",
    "model_best.fit(X_train, y_train)"
   ]
  },
  {
   "cell_type": "code",
   "execution_count": 46,
   "id": "ac65d67e",
   "metadata": {},
   "outputs": [],
   "source": [
    "proba_predictions_best = model_best.predict_proba(X_test)[:,1]\n",
    "class_label_predictions_best = model_best.predict(X_test)"
   ]
  },
  {
   "cell_type": "code",
   "execution_count": 47,
   "id": "41074915",
   "metadata": {},
   "outputs": [
    {
     "data": {
      "text/html": [
       "<div>\n",
       "<style scoped>\n",
       "    .dataframe tbody tr th:only-of-type {\n",
       "        vertical-align: middle;\n",
       "    }\n",
       "\n",
       "    .dataframe tbody tr th {\n",
       "        vertical-align: top;\n",
       "    }\n",
       "\n",
       "    .dataframe thead th {\n",
       "        text-align: right;\n",
       "    }\n",
       "</style>\n",
       "<table border=\"1\" class=\"dataframe\">\n",
       "  <thead>\n",
       "    <tr style=\"text-align: right;\">\n",
       "      <th></th>\n",
       "      <th>Predicted: Arrival 10</th>\n",
       "      <th>Predicted: Not Arrival 10</th>\n",
       "    </tr>\n",
       "  </thead>\n",
       "  <tbody>\n",
       "    <tr>\n",
       "      <th>Actual: Arrival 10</th>\n",
       "      <td>3</td>\n",
       "      <td>78746</td>\n",
       "    </tr>\n",
       "    <tr>\n",
       "      <th>Actual: Not Arrival 10</th>\n",
       "      <td>1</td>\n",
       "      <td>85811</td>\n",
       "    </tr>\n",
       "  </tbody>\n",
       "</table>\n",
       "</div>"
      ],
      "text/plain": [
       "                        Predicted: Arrival 10  Predicted: Not Arrival 10\n",
       "Actual: Arrival 10                          3                      78746\n",
       "Actual: Not Arrival 10                      1                      85811"
      ]
     },
     "execution_count": 47,
     "metadata": {},
     "output_type": "execute_result"
    }
   ],
   "source": [
    "pd.DataFrame(confusion_matrix(y_test, class_label_predictions_best, labels=[True,False]), columns=['Predicted: Arrival 10', 'Predicted: Not Arrival 10'],\n",
    "index=['Actual: Arrival 10', 'Actual: Not Arrival 10'])"
   ]
  },
  {
   "cell_type": "code",
   "execution_count": 48,
   "id": "36f6c742",
   "metadata": {},
   "outputs": [],
   "source": [
    "fpr_best, tpr_best, thresholds_best = roc_curve(y_test, proba_predictions_best)"
   ]
  },
  {
   "cell_type": "code",
   "execution_count": 50,
   "id": "d528ca20",
   "metadata": {},
   "outputs": [
    {
     "name": "stdout",
     "output_type": "stream",
     "text": [
      "0.49967858403178195\n"
     ]
    }
   ],
   "source": [
    "auc_best = auc(fpr_best, tpr_best)\n",
    "print(auc_best)"
   ]
  },
  {
   "cell_type": "code",
   "execution_count": 51,
   "id": "49fd4f90",
   "metadata": {},
   "outputs": [
    {
     "name": "stderr",
     "output_type": "stream",
     "text": [
      "/Users/lianzou/miniconda3/lib/python3.9/site-packages/sklearn/feature_selection/_univariate_selection.py:110: UserWarning: Features [30 31] are constant.\n",
      "  warnings.warn(\"Features %s are constant.\" % constant_features_idx, UserWarning)\n",
      "/Users/lianzou/miniconda3/lib/python3.9/site-packages/sklearn/feature_selection/_univariate_selection.py:111: RuntimeWarning: invalid value encountered in divide\n",
      "  f = msb / msw\n"
     ]
    },
    {
     "name": "stdout",
     "output_type": "stream",
     "text": [
      "Best 5 features:\n",
      "Index(['Purchase 60_x', 'Purchase 120_x', 'Purchase 30_y', 'is_active_balance',\n",
      "       'arr_ind_9'],\n",
      "      dtype='object')\n",
      "0.49967858403178195\n"
     ]
    }
   ],
   "source": [
    "selector = SelectKBest(f_classif, k=5)\n",
    "selector.fit(X, y)\n",
    "filter = selector.get_support()\n",
    "top_5_features = X.columns[filter]\n",
    "\n",
    "print(\"Best 5 features:\")\n",
    "print(top_5_features)\n",
    "\n",
    "new_X_train = X_train[top_5_features]\n",
    "new_X_test = X_test[top_5_features]\n",
    "\n",
    "model = LogisticRegression(max_iter=1000, C=2.7029857954888498e-05)\n",
    "\n",
    "model.fit(X_train, y_train)\n",
    "\n",
    "proba_predictions = model.predict_proba(X_test)[:,1]\n",
    "\n",
    "fpr, tpr, thresholds = roc_curve(y_test, proba_predictions)\n",
    "auc_result = auc(fpr, tpr)\n",
    "print(auc_result)"
   ]
  },
  {
   "cell_type": "code",
   "execution_count": 52,
   "id": "153fb609",
   "metadata": {},
   "outputs": [],
   "source": [
    "precision_10 = 3/4\n",
    "recall_10 = 3/78749"
   ]
  },
  {
   "cell_type": "code",
   "execution_count": 53,
   "id": "8bdd0095",
   "metadata": {},
   "outputs": [
    {
     "data": {
      "text/plain": [
       "['Purchase 30_x',\n",
       " 'Purchase 60_x',\n",
       " 'Purchase 90_x',\n",
       " 'Purchase 120_x',\n",
       " 'Purchase 180_x',\n",
       " 'Purchase 360_x',\n",
       " 'Web 30_x',\n",
       " 'Web 60_x',\n",
       " 'Web 90_x',\n",
       " 'Web 120_x',\n",
       " 'Web 180_x',\n",
       " 'Web 360_x',\n",
       " 'Purchase 30_y',\n",
       " 'Purchase 60_y',\n",
       " 'Purchase 90_y',\n",
       " 'Purchase 120_y',\n",
       " 'Purchase 180_y',\n",
       " 'Purchase 360_y',\n",
       " 'Web 30_y',\n",
       " 'Web 60_y',\n",
       " 'Web 90_y',\n",
       " 'Web 120_y',\n",
       " 'Web 180_y',\n",
       " 'Web 360_y',\n",
       " 'new_account_indicator',\n",
       " 'spend_active',\n",
       " 'is_active_balance',\n",
       " 'has_credit_limit_reached',\n",
       " 'is_revolving',\n",
       " 'has_spend_at_any_merchant',\n",
       " 'arr_ind_1',\n",
       " 'arr_ind_2',\n",
       " 'arr_ind_3',\n",
       " 'arr_ind_4',\n",
       " 'arr_ind_5',\n",
       " 'arr_ind_6',\n",
       " 'arr_ind_7',\n",
       " 'arr_ind_8',\n",
       " 'arr_ind_9',\n",
       " 'arr_ind_10',\n",
       " 'arr_ind_11',\n",
       " 'arr_ind_12',\n",
       " 'arr_ind_13',\n",
       " 'arr_ind_14',\n",
       " 'arr_ind_15',\n",
       " 'arr_ind_16',\n",
       " 'arr_ind_17',\n",
       " 'arr_ind_18',\n",
       " 'arr_ind_19']"
      ]
     },
     "execution_count": 53,
     "metadata": {},
     "output_type": "execute_result"
    }
   ],
   "source": [
    "feature_list = list(df.iloc[:, 0:55].select_dtypes(include=\"float64\"))\n",
    "feature_list"
   ]
  },
  {
   "cell_type": "code",
   "execution_count": 54,
   "id": "247b6c24",
   "metadata": {},
   "outputs": [
    {
     "name": "stdout",
     "output_type": "stream",
     "text": [
      "Number of examples: 498668\n",
      "\n",
      "Number of Features:49\n",
      "['Purchase 30_x', 'Purchase 60_x', 'Purchase 90_x', 'Purchase 120_x', 'Purchase 180_x', 'Purchase 360_x', 'Web 30_x', 'Web 60_x', 'Web 90_x', 'Web 120_x', 'Web 180_x', 'Web 360_x', 'Purchase 30_y', 'Purchase 60_y', 'Purchase 90_y', 'Purchase 120_y', 'Purchase 180_y', 'Purchase 360_y', 'Web 30_y', 'Web 60_y', 'Web 90_y', 'Web 120_y', 'Web 180_y', 'Web 360_y', 'new_account_indicator', 'spend_active', 'is_active_balance', 'has_credit_limit_reached', 'is_revolving', 'has_spend_at_any_merchant', 'arr_ind_1', 'arr_ind_2', 'arr_ind_3', 'arr_ind_4', 'arr_ind_5', 'arr_ind_6', 'arr_ind_7', 'arr_ind_8', 'arr_ind_9', 'arr_ind_10', 'arr_ind_11', 'arr_ind_12', 'arr_ind_13', 'arr_ind_14', 'arr_ind_15', 'arr_ind_16', 'arr_ind_17', 'arr_ind_18', 'arr_ind_19']\n"
     ]
    }
   ],
   "source": [
    "y = df.loc[:,\"arr_ind_20\"]\n",
    "X = df.loc[:,feature_list]\n",
    "\n",
    "print(\"Number of examples: \" + str(X.shape[0]))\n",
    "print(\"\\nNumber of Features:\" + str(X.shape[1]))\n",
    "print(str(list(X.columns)))"
   ]
  },
  {
   "cell_type": "code",
   "execution_count": 55,
   "id": "2e78ade8",
   "metadata": {},
   "outputs": [
    {
     "name": "stdout",
     "output_type": "stream",
     "text": [
      "(334107, 49)\n",
      "(164561, 49)\n"
     ]
    }
   ],
   "source": [
    "X_train, X_test, y_train, y_test = train_test_split(X, y, test_size=0.33, random_state=1234)\n",
    "print(X_train.shape)\n",
    "print(X_test.shape)"
   ]
  },
  {
   "cell_type": "code",
   "execution_count": 56,
   "id": "40d1eec4",
   "metadata": {},
   "outputs": [],
   "source": [
    "def train_test_LR(X_train, y_train, X_test, y_test, c=1):\n",
    "    model = LogisticRegression(C=c)\n",
    "    model.fit(X_train, y_train)  \n",
    "    probability_predictions = model.predict_proba(X_test)\n",
    "    l_loss = log_loss(y_test, probability_predictions)\n",
    "    class_label_predictions = model.predict(X_test)\n",
    "    acc_score = accuracy_score(y_test, class_label_predictions)\n",
    "    \n",
    "    return l_loss, acc_score"
   ]
  },
  {
   "cell_type": "code",
   "execution_count": 57,
   "id": "9a1a5d85",
   "metadata": {},
   "outputs": [
    {
     "name": "stdout",
     "output_type": "stream",
     "text": [
      "Log loss: 0.4777902940221649\n",
      "Accuracy: 0.8158190579785004\n"
     ]
    },
    {
     "name": "stderr",
     "output_type": "stream",
     "text": [
      "/Users/lianzou/miniconda3/lib/python3.9/site-packages/sklearn/linear_model/_logistic.py:444: ConvergenceWarning: lbfgs failed to converge (status=1):\n",
      "STOP: TOTAL NO. of ITERATIONS REACHED LIMIT.\n",
      "\n",
      "Increase the number of iterations (max_iter) or scale the data as shown in:\n",
      "    https://scikit-learn.org/stable/modules/preprocessing.html\n",
      "Please also refer to the documentation for alternative solver options:\n",
      "    https://scikit-learn.org/stable/modules/linear_model.html#logistic-regression\n",
      "  n_iter_i = _check_optimize_result(\n"
     ]
    }
   ],
   "source": [
    "loss, acc = train_test_LR(X_train, y_train, X_test, y_test)\n",
    "print('Log loss: ' + str(loss))\n",
    "print('Accuracy: ' + str(acc))"
   ]
  },
  {
   "cell_type": "code",
   "execution_count": 58,
   "id": "1f25bc6d",
   "metadata": {},
   "outputs": [
    {
     "data": {
      "text/plain": [
       "{'C': [6.106681900802449e-07,\n",
       "  1.78843007566804e-06,\n",
       "  5.237676020317506e-06,\n",
       "  1.53392914081708e-05,\n",
       "  4.4923332407742015e-05,\n",
       "  0.00013156447328078644,\n",
       "  0.00038530557957155705,\n",
       "  0.0011284230913320174,\n",
       "  0.0033047501530271205,\n",
       "  0.009678438573107297,\n",
       "  0.028344706521189925,\n",
       "  0.0830115706891804,\n",
       "  0.24311138529987134,\n",
       "  0.71198683715698,\n",
       "  2.0851563807245035,\n",
       "  6.106681900802449]}"
      ]
     },
     "execution_count": 58,
     "metadata": {},
     "output_type": "execute_result"
    }
   ],
   "source": [
    "cs = l1_min_c(X_train, y_train, loss=\"log\") * np.logspace(0, 7, 16)\n",
    "param_grid = dict(C = list(cs))\n",
    "param_grid"
   ]
  },
  {
   "cell_type": "code",
   "execution_count": 59,
   "id": "55ac460f",
   "metadata": {},
   "outputs": [
    {
     "name": "stdout",
     "output_type": "stream",
     "text": [
      "Running Grid Search...\n",
      "Done\n"
     ]
    }
   ],
   "source": [
    "print('Running Grid Search...')\n",
    "\n",
    "model = LogisticRegression(max_iter=1000)\n",
    "grid = GridSearchCV(model, param_grid, cv=5)\n",
    "grid_search = grid.fit(X_train, y_train)\n",
    "\n",
    "print('Done')"
   ]
  },
  {
   "cell_type": "code",
   "execution_count": 60,
   "id": "3e965da6",
   "metadata": {},
   "outputs": [
    {
     "data": {
      "text/plain": [
       "{'C': 6.106681900802449e-07}"
      ]
     },
     "execution_count": 60,
     "metadata": {},
     "output_type": "execute_result"
    }
   ],
   "source": [
    "best_c = grid_search.best_params_\n",
    "best_c"
   ]
  },
  {
   "cell_type": "code",
   "execution_count": 61,
   "id": "363ddd35",
   "metadata": {},
   "outputs": [
    {
     "data": {
      "text/html": [
       "<style>#sk-container-id-3 {color: black;background-color: white;}#sk-container-id-3 pre{padding: 0;}#sk-container-id-3 div.sk-toggleable {background-color: white;}#sk-container-id-3 label.sk-toggleable__label {cursor: pointer;display: block;width: 100%;margin-bottom: 0;padding: 0.3em;box-sizing: border-box;text-align: center;}#sk-container-id-3 label.sk-toggleable__label-arrow:before {content: \"▸\";float: left;margin-right: 0.25em;color: #696969;}#sk-container-id-3 label.sk-toggleable__label-arrow:hover:before {color: black;}#sk-container-id-3 div.sk-estimator:hover label.sk-toggleable__label-arrow:before {color: black;}#sk-container-id-3 div.sk-toggleable__content {max-height: 0;max-width: 0;overflow: hidden;text-align: left;background-color: #f0f8ff;}#sk-container-id-3 div.sk-toggleable__content pre {margin: 0.2em;color: black;border-radius: 0.25em;background-color: #f0f8ff;}#sk-container-id-3 input.sk-toggleable__control:checked~div.sk-toggleable__content {max-height: 200px;max-width: 100%;overflow: auto;}#sk-container-id-3 input.sk-toggleable__control:checked~label.sk-toggleable__label-arrow:before {content: \"▾\";}#sk-container-id-3 div.sk-estimator input.sk-toggleable__control:checked~label.sk-toggleable__label {background-color: #d4ebff;}#sk-container-id-3 div.sk-label input.sk-toggleable__control:checked~label.sk-toggleable__label {background-color: #d4ebff;}#sk-container-id-3 input.sk-hidden--visually {border: 0;clip: rect(1px 1px 1px 1px);clip: rect(1px, 1px, 1px, 1px);height: 1px;margin: -1px;overflow: hidden;padding: 0;position: absolute;width: 1px;}#sk-container-id-3 div.sk-estimator {font-family: monospace;background-color: #f0f8ff;border: 1px dotted black;border-radius: 0.25em;box-sizing: border-box;margin-bottom: 0.5em;}#sk-container-id-3 div.sk-estimator:hover {background-color: #d4ebff;}#sk-container-id-3 div.sk-parallel-item::after {content: \"\";width: 100%;border-bottom: 1px solid gray;flex-grow: 1;}#sk-container-id-3 div.sk-label:hover label.sk-toggleable__label {background-color: #d4ebff;}#sk-container-id-3 div.sk-serial::before {content: \"\";position: absolute;border-left: 1px solid gray;box-sizing: border-box;top: 0;bottom: 0;left: 50%;z-index: 0;}#sk-container-id-3 div.sk-serial {display: flex;flex-direction: column;align-items: center;background-color: white;padding-right: 0.2em;padding-left: 0.2em;position: relative;}#sk-container-id-3 div.sk-item {position: relative;z-index: 1;}#sk-container-id-3 div.sk-parallel {display: flex;align-items: stretch;justify-content: center;background-color: white;position: relative;}#sk-container-id-3 div.sk-item::before, #sk-container-id-3 div.sk-parallel-item::before {content: \"\";position: absolute;border-left: 1px solid gray;box-sizing: border-box;top: 0;bottom: 0;left: 50%;z-index: -1;}#sk-container-id-3 div.sk-parallel-item {display: flex;flex-direction: column;z-index: 1;position: relative;background-color: white;}#sk-container-id-3 div.sk-parallel-item:first-child::after {align-self: flex-end;width: 50%;}#sk-container-id-3 div.sk-parallel-item:last-child::after {align-self: flex-start;width: 50%;}#sk-container-id-3 div.sk-parallel-item:only-child::after {width: 0;}#sk-container-id-3 div.sk-dashed-wrapped {border: 1px dashed gray;margin: 0 0.4em 0.5em 0.4em;box-sizing: border-box;padding-bottom: 0.4em;background-color: white;}#sk-container-id-3 div.sk-label label {font-family: monospace;font-weight: bold;display: inline-block;line-height: 1.2em;}#sk-container-id-3 div.sk-label-container {text-align: center;}#sk-container-id-3 div.sk-container {/* jupyter's `normalize.less` sets `[hidden] { display: none; }` but bootstrap.min.css set `[hidden] { display: none !important; }` so we also need the `!important` here to be able to override the default hidden behavior on the sphinx rendered scikit-learn.org. See: https://github.com/scikit-learn/scikit-learn/issues/21755 */display: inline-block !important;position: relative;}#sk-container-id-3 div.sk-text-repr-fallback {display: none;}</style><div id=\"sk-container-id-3\" class=\"sk-top-container\"><div class=\"sk-text-repr-fallback\"><pre>LogisticRegression(C=6.106681900802449e-07, max_iter=1000)</pre><b>In a Jupyter environment, please rerun this cell to show the HTML representation or trust the notebook. <br />On GitHub, the HTML representation is unable to render, please try loading this page with nbviewer.org.</b></div><div class=\"sk-container\" hidden><div class=\"sk-item\"><div class=\"sk-estimator sk-toggleable\"><input class=\"sk-toggleable__control sk-hidden--visually\" id=\"sk-estimator-id-3\" type=\"checkbox\" checked><label for=\"sk-estimator-id-3\" class=\"sk-toggleable__label sk-toggleable__label-arrow\">LogisticRegression</label><div class=\"sk-toggleable__content\"><pre>LogisticRegression(C=6.106681900802449e-07, max_iter=1000)</pre></div></div></div></div></div>"
      ],
      "text/plain": [
       "LogisticRegression(C=6.106681900802449e-07, max_iter=1000)"
      ]
     },
     "execution_count": 61,
     "metadata": {},
     "output_type": "execute_result"
    }
   ],
   "source": [
    "model_best = LogisticRegression(max_iter=1000, C=6.106681900802449e-07)\n",
    "model_best.fit(X_train, y_train)"
   ]
  },
  {
   "cell_type": "code",
   "execution_count": 62,
   "id": "f6727484",
   "metadata": {},
   "outputs": [],
   "source": [
    "proba_predictions_best = model_best.predict_proba(X_test)[:,1]\n",
    "class_label_predictions_best = model_best.predict(X_test)"
   ]
  },
  {
   "cell_type": "code",
   "execution_count": 63,
   "id": "09804d97",
   "metadata": {},
   "outputs": [
    {
     "data": {
      "text/html": [
       "<div>\n",
       "<style scoped>\n",
       "    .dataframe tbody tr th:only-of-type {\n",
       "        vertical-align: middle;\n",
       "    }\n",
       "\n",
       "    .dataframe tbody tr th {\n",
       "        vertical-align: top;\n",
       "    }\n",
       "\n",
       "    .dataframe thead th {\n",
       "        text-align: right;\n",
       "    }\n",
       "</style>\n",
       "<table border=\"1\" class=\"dataframe\">\n",
       "  <thead>\n",
       "    <tr style=\"text-align: right;\">\n",
       "      <th></th>\n",
       "      <th>Predicted: Arrival 20</th>\n",
       "      <th>Predicted: Not Arrival 20</th>\n",
       "    </tr>\n",
       "  </thead>\n",
       "  <tbody>\n",
       "    <tr>\n",
       "      <th>Actual: Arrival 20</th>\n",
       "      <td>134252</td>\n",
       "      <td>0</td>\n",
       "    </tr>\n",
       "    <tr>\n",
       "      <th>Actual: Not Arrival 20</th>\n",
       "      <td>30309</td>\n",
       "      <td>0</td>\n",
       "    </tr>\n",
       "  </tbody>\n",
       "</table>\n",
       "</div>"
      ],
      "text/plain": [
       "                        Predicted: Arrival 20  Predicted: Not Arrival 20\n",
       "Actual: Arrival 20                     134252                          0\n",
       "Actual: Not Arrival 20                  30309                          0"
      ]
     },
     "execution_count": 63,
     "metadata": {},
     "output_type": "execute_result"
    }
   ],
   "source": [
    "pd.DataFrame(confusion_matrix(y_test, class_label_predictions_best, labels=[True,False]), columns=['Predicted: Arrival 20', 'Predicted: Not Arrival 20'],\n",
    "index=['Actual: Arrival 20', 'Actual: Not Arrival 20'])"
   ]
  },
  {
   "cell_type": "code",
   "execution_count": 64,
   "id": "346834a4",
   "metadata": {},
   "outputs": [
    {
     "name": "stdout",
     "output_type": "stream",
     "text": [
      "0.501359044453536\n"
     ]
    }
   ],
   "source": [
    "fpr_best, tpr_best, thresholds_best = roc_curve(y_test, proba_predictions_best)\n",
    "auc_best = auc(fpr_best, tpr_best)\n",
    "print(auc_best)"
   ]
  },
  {
   "cell_type": "code",
   "execution_count": 65,
   "id": "2f8f35e9",
   "metadata": {},
   "outputs": [
    {
     "name": "stderr",
     "output_type": "stream",
     "text": [
      "/Users/lianzou/miniconda3/lib/python3.9/site-packages/sklearn/feature_selection/_univariate_selection.py:110: UserWarning: Features [30 31] are constant.\n",
      "  warnings.warn(\"Features %s are constant.\" % constant_features_idx, UserWarning)\n",
      "/Users/lianzou/miniconda3/lib/python3.9/site-packages/sklearn/feature_selection/_univariate_selection.py:111: RuntimeWarning: invalid value encountered in divide\n",
      "  f = msb / msw\n"
     ]
    },
    {
     "name": "stdout",
     "output_type": "stream",
     "text": [
      "Best 5 features:\n",
      "Index(['Purchase 60_y', 'arr_ind_10', 'arr_ind_11', 'arr_ind_12',\n",
      "       'arr_ind_13'],\n",
      "      dtype='object')\n",
      "0.501359044453536\n"
     ]
    }
   ],
   "source": [
    "selector = SelectKBest(f_classif, k=5)\n",
    "selector.fit(X, y)\n",
    "filter = selector.get_support()\n",
    "top_5_features = X.columns[filter]\n",
    "\n",
    "print(\"Best 5 features:\")\n",
    "print(top_5_features)\n",
    "\n",
    "new_X_train = X_train[top_5_features]\n",
    "new_X_test = X_test[top_5_features]\n",
    "\n",
    "model = LogisticRegression(max_iter=1000, C=6.106681900802449e-07)\n",
    "\n",
    "model.fit(X_train, y_train)\n",
    "\n",
    "proba_predictions = model.predict_proba(X_test)[:,1]\n",
    "\n",
    "fpr, tpr, thresholds = roc_curve(y_test, proba_predictions)\n",
    "auc_result = auc(fpr, tpr)\n",
    "print(auc_result)"
   ]
  },
  {
   "cell_type": "code",
   "execution_count": 66,
   "id": "3bb70873",
   "metadata": {},
   "outputs": [],
   "source": [
    "precision_20 = 134252/(134252+30309)\n",
    "recall_20 = 1"
   ]
  },
  {
   "cell_type": "code",
   "execution_count": 72,
   "id": "234a3a1e",
   "metadata": {},
   "outputs": [
    {
     "data": {
      "text/plain": [
       "['Purchase 30_x',\n",
       " 'Purchase 60_x',\n",
       " 'Purchase 90_x',\n",
       " 'Purchase 120_x',\n",
       " 'Purchase 180_x',\n",
       " 'Purchase 360_x',\n",
       " 'Web 30_x',\n",
       " 'Web 60_x',\n",
       " 'Web 90_x',\n",
       " 'Web 120_x',\n",
       " 'Web 180_x',\n",
       " 'Web 360_x',\n",
       " 'Purchase 30_y',\n",
       " 'Purchase 60_y',\n",
       " 'Purchase 90_y',\n",
       " 'Purchase 120_y',\n",
       " 'Purchase 180_y',\n",
       " 'Purchase 360_y',\n",
       " 'Web 30_y',\n",
       " 'Web 60_y',\n",
       " 'Web 90_y',\n",
       " 'Web 120_y',\n",
       " 'Web 180_y',\n",
       " 'Web 360_y',\n",
       " 'new_account_indicator',\n",
       " 'spend_active',\n",
       " 'is_active_balance',\n",
       " 'has_credit_limit_reached',\n",
       " 'is_revolving',\n",
       " 'has_spend_at_any_merchant',\n",
       " 'arr_ind_1',\n",
       " 'arr_ind_2',\n",
       " 'arr_ind_3',\n",
       " 'arr_ind_4',\n",
       " 'arr_ind_5',\n",
       " 'arr_ind_6',\n",
       " 'arr_ind_7',\n",
       " 'arr_ind_8',\n",
       " 'arr_ind_9',\n",
       " 'arr_ind_10',\n",
       " 'arr_ind_11',\n",
       " 'arr_ind_12',\n",
       " 'arr_ind_13',\n",
       " 'arr_ind_14',\n",
       " 'arr_ind_15',\n",
       " 'arr_ind_16',\n",
       " 'arr_ind_17',\n",
       " 'arr_ind_18',\n",
       " 'arr_ind_19',\n",
       " 'arr_ind_20',\n",
       " 'arr_ind_21',\n",
       " 'arr_ind_22',\n",
       " 'arr_ind_23',\n",
       " 'arr_ind_24',\n",
       " 'arr_ind_25',\n",
       " 'arr_ind_26',\n",
       " 'arr_ind_27',\n",
       " 'arr_ind_28']"
      ]
     },
     "execution_count": 72,
     "metadata": {},
     "output_type": "execute_result"
    }
   ],
   "source": [
    "feature_list = list(df.iloc[:, 0:64].select_dtypes(include=\"float64\"))\n",
    "feature_list"
   ]
  },
  {
   "cell_type": "code",
   "execution_count": 73,
   "id": "c684a1d4",
   "metadata": {},
   "outputs": [
    {
     "name": "stdout",
     "output_type": "stream",
     "text": [
      "Number of examples: 498668\n",
      "\n",
      "Number of Features:58\n",
      "['Purchase 30_x', 'Purchase 60_x', 'Purchase 90_x', 'Purchase 120_x', 'Purchase 180_x', 'Purchase 360_x', 'Web 30_x', 'Web 60_x', 'Web 90_x', 'Web 120_x', 'Web 180_x', 'Web 360_x', 'Purchase 30_y', 'Purchase 60_y', 'Purchase 90_y', 'Purchase 120_y', 'Purchase 180_y', 'Purchase 360_y', 'Web 30_y', 'Web 60_y', 'Web 90_y', 'Web 120_y', 'Web 180_y', 'Web 360_y', 'new_account_indicator', 'spend_active', 'is_active_balance', 'has_credit_limit_reached', 'is_revolving', 'has_spend_at_any_merchant', 'arr_ind_1', 'arr_ind_2', 'arr_ind_3', 'arr_ind_4', 'arr_ind_5', 'arr_ind_6', 'arr_ind_7', 'arr_ind_8', 'arr_ind_9', 'arr_ind_10', 'arr_ind_11', 'arr_ind_12', 'arr_ind_13', 'arr_ind_14', 'arr_ind_15', 'arr_ind_16', 'arr_ind_17', 'arr_ind_18', 'arr_ind_19', 'arr_ind_20', 'arr_ind_21', 'arr_ind_22', 'arr_ind_23', 'arr_ind_24', 'arr_ind_25', 'arr_ind_26', 'arr_ind_27', 'arr_ind_28']\n"
     ]
    }
   ],
   "source": [
    "y = df.loc[:,\"arr_ind_29\"]\n",
    "X = df.loc[:,feature_list]\n",
    "\n",
    "print(\"Number of examples: \" + str(X.shape[0]))\n",
    "print(\"\\nNumber of Features:\" + str(X.shape[1]))\n",
    "print(str(list(X.columns)))"
   ]
  },
  {
   "cell_type": "code",
   "execution_count": 74,
   "id": "2ccbfd0a",
   "metadata": {},
   "outputs": [
    {
     "name": "stdout",
     "output_type": "stream",
     "text": [
      "(334107, 58)\n",
      "(164561, 58)\n"
     ]
    }
   ],
   "source": [
    "X_train, X_test, y_train, y_test = train_test_split(X, y, test_size=0.33, random_state=1234)\n",
    "print(X_train.shape)\n",
    "print(X_test.shape)"
   ]
  },
  {
   "cell_type": "code",
   "execution_count": 75,
   "id": "0a0fa358",
   "metadata": {},
   "outputs": [],
   "source": [
    "def train_test_LR(X_train, y_train, X_test, y_test, c=1):\n",
    "    model = LogisticRegression(C=c)\n",
    "    model.fit(X_train, y_train)  \n",
    "    probability_predictions = model.predict_proba(X_test)\n",
    "    l_loss = log_loss(y_test, probability_predictions)\n",
    "    class_label_predictions = model.predict(X_test)\n",
    "    acc_score = accuracy_score(y_test, class_label_predictions)\n",
    "    \n",
    "    return l_loss, acc_score"
   ]
  },
  {
   "cell_type": "code",
   "execution_count": 76,
   "id": "58702f1d",
   "metadata": {},
   "outputs": [
    {
     "name": "stdout",
     "output_type": "stream",
     "text": [
      "Log loss: 0.08359528337434832\n",
      "Accuracy: 0.9836838619113885\n"
     ]
    },
    {
     "name": "stderr",
     "output_type": "stream",
     "text": [
      "/Users/lianzou/miniconda3/lib/python3.9/site-packages/sklearn/linear_model/_logistic.py:444: ConvergenceWarning: lbfgs failed to converge (status=1):\n",
      "STOP: TOTAL NO. of ITERATIONS REACHED LIMIT.\n",
      "\n",
      "Increase the number of iterations (max_iter) or scale the data as shown in:\n",
      "    https://scikit-learn.org/stable/modules/preprocessing.html\n",
      "Please also refer to the documentation for alternative solver options:\n",
      "    https://scikit-learn.org/stable/modules/linear_model.html#logistic-regression\n",
      "  n_iter_i = _check_optimize_result(\n"
     ]
    }
   ],
   "source": [
    "loss, acc = train_test_LR(X_train, y_train, X_test, y_test)\n",
    "print('Log loss: ' + str(loss))\n",
    "print('Accuracy: ' + str(acc))"
   ]
  },
  {
   "cell_type": "code",
   "execution_count": 78,
   "id": "8b3bee20",
   "metadata": {},
   "outputs": [
    {
     "data": {
      "text/plain": [
       "{'C': [3.9967682132227883e-07,\n",
       "  1.1705113503721837e-06,\n",
       "  3.4280117040996417e-06,\n",
       "  1.0039427844683108e-05,\n",
       "  2.9401915789278448e-05,\n",
       "  8.610776086583927e-05,\n",
       "  0.0002521790258317896,\n",
       "  0.000738542733314758,\n",
       "  0.002162929161665732,\n",
       "  0.0063344507329817674,\n",
       "  0.018551354709033404,\n",
       "  0.05433032413504549,\n",
       "  0.15911420847242796,\n",
       "  0.46598896179742305,\n",
       "  1.3647160401433804,\n",
       "  3.996768213222788]}"
      ]
     },
     "execution_count": 78,
     "metadata": {},
     "output_type": "execute_result"
    }
   ],
   "source": [
    "cs = l1_min_c(X_train, y_train, loss=\"log\") * np.logspace(0, 7, 16)\n",
    "param_grid = dict(C = list(cs))\n",
    "param_grid"
   ]
  },
  {
   "cell_type": "code",
   "execution_count": 79,
   "id": "da527048",
   "metadata": {},
   "outputs": [
    {
     "name": "stdout",
     "output_type": "stream",
     "text": [
      "Running Grid Search...\n",
      "Done\n"
     ]
    }
   ],
   "source": [
    "print('Running Grid Search...')\n",
    "\n",
    "model = LogisticRegression(max_iter=1000)\n",
    "grid = GridSearchCV(model, param_grid, cv=5)\n",
    "grid_search = grid.fit(X_train, y_train)\n",
    "\n",
    "print('Done')"
   ]
  },
  {
   "cell_type": "code",
   "execution_count": 80,
   "id": "a2910187",
   "metadata": {},
   "outputs": [
    {
     "data": {
      "text/plain": [
       "{'C': 3.9967682132227883e-07}"
      ]
     },
     "execution_count": 80,
     "metadata": {},
     "output_type": "execute_result"
    }
   ],
   "source": [
    "best_c = grid_search.best_params_\n",
    "best_c"
   ]
  },
  {
   "cell_type": "code",
   "execution_count": 81,
   "id": "3f6ffd60",
   "metadata": {},
   "outputs": [
    {
     "data": {
      "text/html": [
       "<style>#sk-container-id-4 {color: black;background-color: white;}#sk-container-id-4 pre{padding: 0;}#sk-container-id-4 div.sk-toggleable {background-color: white;}#sk-container-id-4 label.sk-toggleable__label {cursor: pointer;display: block;width: 100%;margin-bottom: 0;padding: 0.3em;box-sizing: border-box;text-align: center;}#sk-container-id-4 label.sk-toggleable__label-arrow:before {content: \"▸\";float: left;margin-right: 0.25em;color: #696969;}#sk-container-id-4 label.sk-toggleable__label-arrow:hover:before {color: black;}#sk-container-id-4 div.sk-estimator:hover label.sk-toggleable__label-arrow:before {color: black;}#sk-container-id-4 div.sk-toggleable__content {max-height: 0;max-width: 0;overflow: hidden;text-align: left;background-color: #f0f8ff;}#sk-container-id-4 div.sk-toggleable__content pre {margin: 0.2em;color: black;border-radius: 0.25em;background-color: #f0f8ff;}#sk-container-id-4 input.sk-toggleable__control:checked~div.sk-toggleable__content {max-height: 200px;max-width: 100%;overflow: auto;}#sk-container-id-4 input.sk-toggleable__control:checked~label.sk-toggleable__label-arrow:before {content: \"▾\";}#sk-container-id-4 div.sk-estimator input.sk-toggleable__control:checked~label.sk-toggleable__label {background-color: #d4ebff;}#sk-container-id-4 div.sk-label input.sk-toggleable__control:checked~label.sk-toggleable__label {background-color: #d4ebff;}#sk-container-id-4 input.sk-hidden--visually {border: 0;clip: rect(1px 1px 1px 1px);clip: rect(1px, 1px, 1px, 1px);height: 1px;margin: -1px;overflow: hidden;padding: 0;position: absolute;width: 1px;}#sk-container-id-4 div.sk-estimator {font-family: monospace;background-color: #f0f8ff;border: 1px dotted black;border-radius: 0.25em;box-sizing: border-box;margin-bottom: 0.5em;}#sk-container-id-4 div.sk-estimator:hover {background-color: #d4ebff;}#sk-container-id-4 div.sk-parallel-item::after {content: \"\";width: 100%;border-bottom: 1px solid gray;flex-grow: 1;}#sk-container-id-4 div.sk-label:hover label.sk-toggleable__label {background-color: #d4ebff;}#sk-container-id-4 div.sk-serial::before {content: \"\";position: absolute;border-left: 1px solid gray;box-sizing: border-box;top: 0;bottom: 0;left: 50%;z-index: 0;}#sk-container-id-4 div.sk-serial {display: flex;flex-direction: column;align-items: center;background-color: white;padding-right: 0.2em;padding-left: 0.2em;position: relative;}#sk-container-id-4 div.sk-item {position: relative;z-index: 1;}#sk-container-id-4 div.sk-parallel {display: flex;align-items: stretch;justify-content: center;background-color: white;position: relative;}#sk-container-id-4 div.sk-item::before, #sk-container-id-4 div.sk-parallel-item::before {content: \"\";position: absolute;border-left: 1px solid gray;box-sizing: border-box;top: 0;bottom: 0;left: 50%;z-index: -1;}#sk-container-id-4 div.sk-parallel-item {display: flex;flex-direction: column;z-index: 1;position: relative;background-color: white;}#sk-container-id-4 div.sk-parallel-item:first-child::after {align-self: flex-end;width: 50%;}#sk-container-id-4 div.sk-parallel-item:last-child::after {align-self: flex-start;width: 50%;}#sk-container-id-4 div.sk-parallel-item:only-child::after {width: 0;}#sk-container-id-4 div.sk-dashed-wrapped {border: 1px dashed gray;margin: 0 0.4em 0.5em 0.4em;box-sizing: border-box;padding-bottom: 0.4em;background-color: white;}#sk-container-id-4 div.sk-label label {font-family: monospace;font-weight: bold;display: inline-block;line-height: 1.2em;}#sk-container-id-4 div.sk-label-container {text-align: center;}#sk-container-id-4 div.sk-container {/* jupyter's `normalize.less` sets `[hidden] { display: none; }` but bootstrap.min.css set `[hidden] { display: none !important; }` so we also need the `!important` here to be able to override the default hidden behavior on the sphinx rendered scikit-learn.org. See: https://github.com/scikit-learn/scikit-learn/issues/21755 */display: inline-block !important;position: relative;}#sk-container-id-4 div.sk-text-repr-fallback {display: none;}</style><div id=\"sk-container-id-4\" class=\"sk-top-container\"><div class=\"sk-text-repr-fallback\"><pre>LogisticRegression(C=3.9967682132227883e-07, max_iter=1000)</pre><b>In a Jupyter environment, please rerun this cell to show the HTML representation or trust the notebook. <br />On GitHub, the HTML representation is unable to render, please try loading this page with nbviewer.org.</b></div><div class=\"sk-container\" hidden><div class=\"sk-item\"><div class=\"sk-estimator sk-toggleable\"><input class=\"sk-toggleable__control sk-hidden--visually\" id=\"sk-estimator-id-4\" type=\"checkbox\" checked><label for=\"sk-estimator-id-4\" class=\"sk-toggleable__label sk-toggleable__label-arrow\">LogisticRegression</label><div class=\"sk-toggleable__content\"><pre>LogisticRegression(C=3.9967682132227883e-07, max_iter=1000)</pre></div></div></div></div></div>"
      ],
      "text/plain": [
       "LogisticRegression(C=3.9967682132227883e-07, max_iter=1000)"
      ]
     },
     "execution_count": 81,
     "metadata": {},
     "output_type": "execute_result"
    }
   ],
   "source": [
    "model_best = LogisticRegression(max_iter=1000, C=3.9967682132227883e-07)\n",
    "model_best.fit(X_train, y_train)"
   ]
  },
  {
   "cell_type": "code",
   "execution_count": 82,
   "id": "4a30be32",
   "metadata": {},
   "outputs": [],
   "source": [
    "proba_predictions_best = model_best.predict_proba(X_test)[:,1]\n",
    "class_label_predictions_best = model_best.predict(X_test)"
   ]
  },
  {
   "cell_type": "code",
   "execution_count": 83,
   "id": "e4614927",
   "metadata": {},
   "outputs": [
    {
     "data": {
      "text/html": [
       "<div>\n",
       "<style scoped>\n",
       "    .dataframe tbody tr th:only-of-type {\n",
       "        vertical-align: middle;\n",
       "    }\n",
       "\n",
       "    .dataframe tbody tr th {\n",
       "        vertical-align: top;\n",
       "    }\n",
       "\n",
       "    .dataframe thead th {\n",
       "        text-align: right;\n",
       "    }\n",
       "</style>\n",
       "<table border=\"1\" class=\"dataframe\">\n",
       "  <thead>\n",
       "    <tr style=\"text-align: right;\">\n",
       "      <th></th>\n",
       "      <th>Predicted: Arrival 29</th>\n",
       "      <th>Predicted: Not Arrival 29</th>\n",
       "    </tr>\n",
       "  </thead>\n",
       "  <tbody>\n",
       "    <tr>\n",
       "      <th>Actual: Arrival 29</th>\n",
       "      <td>161876</td>\n",
       "      <td>0</td>\n",
       "    </tr>\n",
       "    <tr>\n",
       "      <th>Actual: Not Arrival 29</th>\n",
       "      <td>2685</td>\n",
       "      <td>0</td>\n",
       "    </tr>\n",
       "  </tbody>\n",
       "</table>\n",
       "</div>"
      ],
      "text/plain": [
       "                        Predicted: Arrival 29  Predicted: Not Arrival 29\n",
       "Actual: Arrival 29                     161876                          0\n",
       "Actual: Not Arrival 29                   2685                          0"
      ]
     },
     "execution_count": 83,
     "metadata": {},
     "output_type": "execute_result"
    }
   ],
   "source": [
    "pd.DataFrame(confusion_matrix(y_test, class_label_predictions_best, labels=[True,False]), columns=['Predicted: Arrival 29', 'Predicted: Not Arrival 29'],\n",
    "index=['Actual: Arrival 29', 'Actual: Not Arrival 29'])"
   ]
  },
  {
   "cell_type": "code",
   "execution_count": 84,
   "id": "067a23a5",
   "metadata": {},
   "outputs": [
    {
     "name": "stdout",
     "output_type": "stream",
     "text": [
      "0.5018382394727223\n"
     ]
    }
   ],
   "source": [
    "fpr_best, tpr_best, thresholds_best = roc_curve(y_test, proba_predictions_best)\n",
    "auc_best = auc(fpr_best, tpr_best)\n",
    "print(auc_best)"
   ]
  },
  {
   "cell_type": "code",
   "execution_count": 85,
   "id": "9a01044f",
   "metadata": {},
   "outputs": [
    {
     "name": "stderr",
     "output_type": "stream",
     "text": [
      "/Users/lianzou/miniconda3/lib/python3.9/site-packages/sklearn/feature_selection/_univariate_selection.py:110: UserWarning: Features [30 31] are constant.\n",
      "  warnings.warn(\"Features %s are constant.\" % constant_features_idx, UserWarning)\n",
      "/Users/lianzou/miniconda3/lib/python3.9/site-packages/sklearn/feature_selection/_univariate_selection.py:111: RuntimeWarning: invalid value encountered in divide\n",
      "  f = msb / msw\n"
     ]
    },
    {
     "name": "stdout",
     "output_type": "stream",
     "text": [
      "Best 5 features:\n",
      "Index(['Purchase 90_y', 'Web 60_y', 'Web 90_y', 'new_account_indicator',\n",
      "       'arr_ind_13'],\n",
      "      dtype='object')\n",
      "0.5018382394727223\n"
     ]
    }
   ],
   "source": [
    "selector = SelectKBest(f_classif, k=5)\n",
    "selector.fit(X, y)\n",
    "filter = selector.get_support()\n",
    "top_5_features = X.columns[filter]\n",
    "\n",
    "print(\"Best 5 features:\")\n",
    "print(top_5_features)\n",
    "\n",
    "new_X_train = X_train[top_5_features]\n",
    "new_X_test = X_test[top_5_features]\n",
    "\n",
    "model = LogisticRegression(max_iter=1000, C=3.9967682132227883e-07)\n",
    "\n",
    "model.fit(X_train, y_train)\n",
    "\n",
    "proba_predictions = model.predict_proba(X_test)[:,1]\n",
    "\n",
    "fpr, tpr, thresholds = roc_curve(y_test, proba_predictions)\n",
    "auc_result = auc(fpr, tpr)\n",
    "print(auc_result)"
   ]
  },
  {
   "cell_type": "code",
   "execution_count": 86,
   "id": "8decec98",
   "metadata": {},
   "outputs": [],
   "source": [
    "precision_29 = 161876/(161876+2685)\n",
    "recall_29 = 1"
   ]
  },
  {
   "cell_type": "code",
   "execution_count": 88,
   "id": "7835ad6d",
   "metadata": {},
   "outputs": [
    {
     "name": "stdout",
     "output_type": "stream",
     "text": [
      "0\n",
      "0\n",
      "0.75\n",
      "3.8095721850436196e-05\n",
      "0.8158190579785004\n",
      "1\n",
      "0.9836838619113885\n",
      "1\n"
     ]
    }
   ],
   "source": [
    "print(precision_3)\n",
    "print(recall_3)\n",
    "print(precision_10)\n",
    "print(recall_10)\n",
    "print(precision_20)\n",
    "print(recall_20)\n",
    "print(precision_29)\n",
    "print(recall_29)"
   ]
  }
 ],
 "metadata": {
  "kernelspec": {
   "display_name": "Python 3 (ipykernel)",
   "language": "python",
   "name": "python3"
  },
  "language_info": {
   "codemirror_mode": {
    "name": "ipython",
    "version": 3
   },
   "file_extension": ".py",
   "mimetype": "text/x-python",
   "name": "python",
   "nbconvert_exporter": "python",
   "pygments_lexer": "ipython3",
   "version": "3.9.12"
  }
 },
 "nbformat": 4,
 "nbformat_minor": 5
}
