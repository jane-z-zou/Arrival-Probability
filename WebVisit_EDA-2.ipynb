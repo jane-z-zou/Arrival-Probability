{
 "cells": [
  {
   "cell_type": "code",
   "execution_count": 1,
   "id": "e1f36024",
   "metadata": {},
   "outputs": [],
   "source": [
    "import pandas as pd\n",
    "import numpy as np\n",
    "import os, glob\n",
    "\n",
    "filename = os.path.join(os.getcwd(), \"WebPurchase\", \"purchase_records.txt\")\n",
    "df = pd.read_table(filename, header=None)\n",
    "df.columns = ['ac_id','purchase_date']"
   ]
  },
  {
   "cell_type": "code",
   "execution_count": 2,
   "id": "70e0e9f8",
   "metadata": {},
   "outputs": [
    {
     "data": {
      "text/html": [
       "<div>\n",
       "<style scoped>\n",
       "    .dataframe tbody tr th:only-of-type {\n",
       "        vertical-align: middle;\n",
       "    }\n",
       "\n",
       "    .dataframe tbody tr th {\n",
       "        vertical-align: top;\n",
       "    }\n",
       "\n",
       "    .dataframe thead th {\n",
       "        text-align: right;\n",
       "    }\n",
       "</style>\n",
       "<table border=\"1\" class=\"dataframe\">\n",
       "  <thead>\n",
       "    <tr style=\"text-align: right;\">\n",
       "      <th></th>\n",
       "      <th>ac_id</th>\n",
       "      <th>purchase_date</th>\n",
       "    </tr>\n",
       "  </thead>\n",
       "  <tbody>\n",
       "    <tr>\n",
       "      <th>0</th>\n",
       "      <td>AC6fe3b89d-437f-49ca-825a-b9d65f117f94</td>\n",
       "      <td>6/17/17</td>\n",
       "    </tr>\n",
       "    <tr>\n",
       "      <th>1</th>\n",
       "      <td>AC3c8d6ef5-098e-421f-aad4-a563817aa655</td>\n",
       "      <td>6/17/17</td>\n",
       "    </tr>\n",
       "    <tr>\n",
       "      <th>2</th>\n",
       "      <td>AC916c16ac-344c-4654-b461-0994faf15c93</td>\n",
       "      <td>6/17/17</td>\n",
       "    </tr>\n",
       "    <tr>\n",
       "      <th>3</th>\n",
       "      <td>ACfd2bc854-d75c-400f-b96e-c4930e876c0f</td>\n",
       "      <td>6/17/17</td>\n",
       "    </tr>\n",
       "    <tr>\n",
       "      <th>4</th>\n",
       "      <td>ACe9aa7f4e-0e40-454e-883f-b0adb2ec0055</td>\n",
       "      <td>6/17/17</td>\n",
       "    </tr>\n",
       "    <tr>\n",
       "      <th>5</th>\n",
       "      <td>ACf00c42d0-b71f-4ec5-bdeb-697e36eece24</td>\n",
       "      <td>6/17/17</td>\n",
       "    </tr>\n",
       "    <tr>\n",
       "      <th>6</th>\n",
       "      <td>AC08b4867c-6097-4527-afa6-2113dceb1fd4</td>\n",
       "      <td>6/17/17</td>\n",
       "    </tr>\n",
       "    <tr>\n",
       "      <th>7</th>\n",
       "      <td>AC43c46d79-e344-4498-ba2b-bd175f586128</td>\n",
       "      <td>6/17/17</td>\n",
       "    </tr>\n",
       "    <tr>\n",
       "      <th>8</th>\n",
       "      <td>ACde9adb6e-3030-4899-9247-0d9d9a95f2b5</td>\n",
       "      <td>6/17/17</td>\n",
       "    </tr>\n",
       "    <tr>\n",
       "      <th>9</th>\n",
       "      <td>ACbf8bdcac-10cf-4905-9748-38485c7da428</td>\n",
       "      <td>6/17/17</td>\n",
       "    </tr>\n",
       "  </tbody>\n",
       "</table>\n",
       "</div>"
      ],
      "text/plain": [
       "                                    ac_id purchase_date\n",
       "0  AC6fe3b89d-437f-49ca-825a-b9d65f117f94       6/17/17\n",
       "1  AC3c8d6ef5-098e-421f-aad4-a563817aa655       6/17/17\n",
       "2  AC916c16ac-344c-4654-b461-0994faf15c93       6/17/17\n",
       "3  ACfd2bc854-d75c-400f-b96e-c4930e876c0f       6/17/17\n",
       "4  ACe9aa7f4e-0e40-454e-883f-b0adb2ec0055       6/17/17\n",
       "5  ACf00c42d0-b71f-4ec5-bdeb-697e36eece24       6/17/17\n",
       "6  AC08b4867c-6097-4527-afa6-2113dceb1fd4       6/17/17\n",
       "7  AC43c46d79-e344-4498-ba2b-bd175f586128       6/17/17\n",
       "8  ACde9adb6e-3030-4899-9247-0d9d9a95f2b5       6/17/17\n",
       "9  ACbf8bdcac-10cf-4905-9748-38485c7da428       6/17/17"
      ]
     },
     "execution_count": 2,
     "metadata": {},
     "output_type": "execute_result"
    }
   ],
   "source": [
    "df.head(10)"
   ]
  },
  {
   "cell_type": "code",
   "execution_count": 26,
   "id": "56a244b8",
   "metadata": {},
   "outputs": [
    {
     "data": {
      "text/html": [
       "<div>\n",
       "<style scoped>\n",
       "    .dataframe tbody tr th:only-of-type {\n",
       "        vertical-align: middle;\n",
       "    }\n",
       "\n",
       "    .dataframe tbody tr th {\n",
       "        vertical-align: top;\n",
       "    }\n",
       "\n",
       "    .dataframe thead th {\n",
       "        text-align: right;\n",
       "    }\n",
       "</style>\n",
       "<table border=\"1\" class=\"dataframe\">\n",
       "  <thead>\n",
       "    <tr style=\"text-align: right;\">\n",
       "      <th></th>\n",
       "      <th>ac_id</th>\n",
       "      <th>webvisited_date</th>\n",
       "      <th>visited_page</th>\n",
       "    </tr>\n",
       "  </thead>\n",
       "  <tbody>\n",
       "    <tr>\n",
       "      <th>0</th>\n",
       "      <td>AC6ebf5f05-f229-43d4-a810-2a8492180127</td>\n",
       "      <td>6/17/17</td>\n",
       "      <td>NaN</td>\n",
       "    </tr>\n",
       "    <tr>\n",
       "      <th>1</th>\n",
       "      <td>ACce4cd8ea-8b3d-4767-9609-b353d1f633c0</td>\n",
       "      <td>6/17/17</td>\n",
       "      <td>NaN</td>\n",
       "    </tr>\n",
       "    <tr>\n",
       "      <th>2</th>\n",
       "      <td>AC7d351059-47ef-4011-91d6-1ad803204854</td>\n",
       "      <td>6/17/17</td>\n",
       "      <td>MYACCOUNT</td>\n",
       "    </tr>\n",
       "    <tr>\n",
       "      <th>3</th>\n",
       "      <td>AC763265f0-40ac-400f-ad11-897ccdeb7d23</td>\n",
       "      <td>6/17/17</td>\n",
       "      <td>REWARDS</td>\n",
       "    </tr>\n",
       "    <tr>\n",
       "      <th>4</th>\n",
       "      <td>ACd89983be-b4e9-4e84-8936-f055f4ed3e7d</td>\n",
       "      <td>6/17/17</td>\n",
       "      <td>PRICINGENGINE</td>\n",
       "    </tr>\n",
       "    <tr>\n",
       "      <th>5</th>\n",
       "      <td>AC8ee59710-eb2f-4b48-a5c5-ae1627aba281</td>\n",
       "      <td>6/17/17</td>\n",
       "      <td>PRICINGENGINE</td>\n",
       "    </tr>\n",
       "    <tr>\n",
       "      <th>6</th>\n",
       "      <td>AC61169457-6279-428a-8414-ae968d891aa8</td>\n",
       "      <td>6/17/17</td>\n",
       "      <td>MYACCOUNT</td>\n",
       "    </tr>\n",
       "    <tr>\n",
       "      <th>7</th>\n",
       "      <td>AC2182f0dd-61f5-4f07-8144-44330b16a940</td>\n",
       "      <td>6/17/17</td>\n",
       "      <td>PRICINGENGINE</td>\n",
       "    </tr>\n",
       "    <tr>\n",
       "      <th>8</th>\n",
       "      <td>AC78b5ae75-a46c-4d84-a781-e29ba248ac52</td>\n",
       "      <td>6/17/17</td>\n",
       "      <td>MYACCOUNT</td>\n",
       "    </tr>\n",
       "    <tr>\n",
       "      <th>9</th>\n",
       "      <td>ACf5de13a2-16fa-4afe-be49-1d49c6ef6640</td>\n",
       "      <td>6/17/17</td>\n",
       "      <td>PRICINGENGINE</td>\n",
       "    </tr>\n",
       "  </tbody>\n",
       "</table>\n",
       "</div>"
      ],
      "text/plain": [
       "                                    ac_id webvisited_date   visited_page\n",
       "0  AC6ebf5f05-f229-43d4-a810-2a8492180127         6/17/17            NaN\n",
       "1  ACce4cd8ea-8b3d-4767-9609-b353d1f633c0         6/17/17            NaN\n",
       "2  AC7d351059-47ef-4011-91d6-1ad803204854         6/17/17      MYACCOUNT\n",
       "3  AC763265f0-40ac-400f-ad11-897ccdeb7d23         6/17/17        REWARDS\n",
       "4  ACd89983be-b4e9-4e84-8936-f055f4ed3e7d         6/17/17  PRICINGENGINE\n",
       "5  AC8ee59710-eb2f-4b48-a5c5-ae1627aba281         6/17/17  PRICINGENGINE\n",
       "6  AC61169457-6279-428a-8414-ae968d891aa8         6/17/17      MYACCOUNT\n",
       "7  AC2182f0dd-61f5-4f07-8144-44330b16a940         6/17/17  PRICINGENGINE\n",
       "8  AC78b5ae75-a46c-4d84-a781-e29ba248ac52         6/17/17      MYACCOUNT\n",
       "9  ACf5de13a2-16fa-4afe-be49-1d49c6ef6640         6/17/17  PRICINGENGINE"
      ]
     },
     "execution_count": 26,
     "metadata": {},
     "output_type": "execute_result"
    }
   ],
   "source": [
    "filename = os.path.join(os.getcwd(), \"WebPurchase\", \"webvisit.txt\")\n",
    "df1 = pd.read_table(filename, header=None)\n",
    "df1.columns = ['ac_id','webvisited_date','visited_page']\n",
    "df1 = df1.replace(r'^\\s*$', np.nan, regex=True)\n",
    "df1.head(10)"
   ]
  },
  {
   "cell_type": "code",
   "execution_count": 27,
   "id": "31678480",
   "metadata": {},
   "outputs": [
    {
     "data": {
      "text/plain": [
       "(7229674, 2)"
      ]
     },
     "execution_count": 27,
     "metadata": {},
     "output_type": "execute_result"
    }
   ],
   "source": [
    "df.shape"
   ]
  },
  {
   "cell_type": "code",
   "execution_count": 28,
   "id": "bb1c0cf8",
   "metadata": {},
   "outputs": [
    {
     "data": {
      "text/plain": [
       "(1000000, 3)"
      ]
     },
     "execution_count": 28,
     "metadata": {},
     "output_type": "execute_result"
    }
   ],
   "source": [
    "df1.shape"
   ]
  },
  {
   "cell_type": "markdown",
   "id": "4eeec409",
   "metadata": {},
   "source": [
    "Purchase records (df) much larger, contains whether customer made any purchase during the year. \n",
    "\n",
    "Web visit logs (df1) the history of customers at pages, not purchases."
   ]
  },
  {
   "cell_type": "code",
   "execution_count": 29,
   "id": "f4c6bd30",
   "metadata": {},
   "outputs": [
    {
     "data": {
      "text/html": [
       "<div>\n",
       "<style scoped>\n",
       "    .dataframe tbody tr th:only-of-type {\n",
       "        vertical-align: middle;\n",
       "    }\n",
       "\n",
       "    .dataframe tbody tr th {\n",
       "        vertical-align: top;\n",
       "    }\n",
       "\n",
       "    .dataframe thead th {\n",
       "        text-align: right;\n",
       "    }\n",
       "</style>\n",
       "<table border=\"1\" class=\"dataframe\">\n",
       "  <thead>\n",
       "    <tr style=\"text-align: right;\">\n",
       "      <th></th>\n",
       "      <th>ac_id</th>\n",
       "      <th>visits</th>\n",
       "    </tr>\n",
       "  </thead>\n",
       "  <tbody>\n",
       "    <tr>\n",
       "      <th>0</th>\n",
       "      <td>AC00001abb-e40b-4a19-978d-cc6becf33489</td>\n",
       "      <td>2</td>\n",
       "    </tr>\n",
       "    <tr>\n",
       "      <th>1</th>\n",
       "      <td>AC000061e1-9f80-4765-8ad4-993d5ab83e39</td>\n",
       "      <td>2</td>\n",
       "    </tr>\n",
       "    <tr>\n",
       "      <th>2</th>\n",
       "      <td>AC000064d8-cb24-44c6-b4ed-0cafa86b8d3e</td>\n",
       "      <td>3</td>\n",
       "    </tr>\n",
       "    <tr>\n",
       "      <th>3</th>\n",
       "      <td>AC0000754d-ba7a-45ed-b9a1-629d0bb0060d</td>\n",
       "      <td>2</td>\n",
       "    </tr>\n",
       "    <tr>\n",
       "      <th>4</th>\n",
       "      <td>AC0000b6cd-f27e-4c73-8d97-3510b8192c84</td>\n",
       "      <td>1</td>\n",
       "    </tr>\n",
       "    <tr>\n",
       "      <th>...</th>\n",
       "      <td>...</td>\n",
       "      <td>...</td>\n",
       "    </tr>\n",
       "    <tr>\n",
       "      <th>603625</th>\n",
       "      <td>ACffff7058-c1a4-45ea-9e0e-ab2c55a1b1d0</td>\n",
       "      <td>2</td>\n",
       "    </tr>\n",
       "    <tr>\n",
       "      <th>603626</th>\n",
       "      <td>ACffff8281-2731-4676-8856-acf3a588cf73</td>\n",
       "      <td>1</td>\n",
       "    </tr>\n",
       "    <tr>\n",
       "      <th>603627</th>\n",
       "      <td>ACffff8d3a-da1a-40c9-b29e-d5ed32713d5d</td>\n",
       "      <td>1</td>\n",
       "    </tr>\n",
       "    <tr>\n",
       "      <th>603628</th>\n",
       "      <td>ACffffd50a-291a-4067-92ae-9f8e8c629a9e</td>\n",
       "      <td>2</td>\n",
       "    </tr>\n",
       "    <tr>\n",
       "      <th>603629</th>\n",
       "      <td>ac_id</td>\n",
       "      <td>1</td>\n",
       "    </tr>\n",
       "  </tbody>\n",
       "</table>\n",
       "<p>603630 rows × 2 columns</p>\n",
       "</div>"
      ],
      "text/plain": [
       "                                         ac_id  visits\n",
       "0       AC00001abb-e40b-4a19-978d-cc6becf33489       2\n",
       "1       AC000061e1-9f80-4765-8ad4-993d5ab83e39       2\n",
       "2       AC000064d8-cb24-44c6-b4ed-0cafa86b8d3e       3\n",
       "3       AC0000754d-ba7a-45ed-b9a1-629d0bb0060d       2\n",
       "4       AC0000b6cd-f27e-4c73-8d97-3510b8192c84       1\n",
       "...                                        ...     ...\n",
       "603625  ACffff7058-c1a4-45ea-9e0e-ab2c55a1b1d0       2\n",
       "603626  ACffff8281-2731-4676-8856-acf3a588cf73       1\n",
       "603627  ACffff8d3a-da1a-40c9-b29e-d5ed32713d5d       1\n",
       "603628  ACffffd50a-291a-4067-92ae-9f8e8c629a9e       2\n",
       "603629                                   ac_id       1\n",
       "\n",
       "[603630 rows x 2 columns]"
      ]
     },
     "execution_count": 29,
     "metadata": {},
     "output_type": "execute_result"
    }
   ],
   "source": [
    "df1_grouped_id = df1.groupby(['ac_id']).size().reset_index(name = 'visits')\n",
    "df1_grouped_id"
   ]
  },
  {
   "cell_type": "code",
   "execution_count": 30,
   "id": "f0e6cb77",
   "metadata": {},
   "outputs": [
    {
     "data": {
      "text/html": [
       "<div>\n",
       "<style scoped>\n",
       "    .dataframe tbody tr th:only-of-type {\n",
       "        vertical-align: middle;\n",
       "    }\n",
       "\n",
       "    .dataframe tbody tr th {\n",
       "        vertical-align: top;\n",
       "    }\n",
       "\n",
       "    .dataframe thead th {\n",
       "        text-align: right;\n",
       "    }\n",
       "</style>\n",
       "<table border=\"1\" class=\"dataframe\">\n",
       "  <thead>\n",
       "    <tr style=\"text-align: right;\">\n",
       "      <th></th>\n",
       "      <th>ac_id</th>\n",
       "      <th>visits</th>\n",
       "    </tr>\n",
       "  </thead>\n",
       "  <tbody>\n",
       "    <tr>\n",
       "      <th>0</th>\n",
       "      <td>AC00001abb-e40b-4a19-978d-cc6becf33489</td>\n",
       "      <td>2</td>\n",
       "    </tr>\n",
       "    <tr>\n",
       "      <th>1</th>\n",
       "      <td>AC000061e1-9f80-4765-8ad4-993d5ab83e39</td>\n",
       "      <td>2</td>\n",
       "    </tr>\n",
       "    <tr>\n",
       "      <th>2</th>\n",
       "      <td>AC000064d8-cb24-44c6-b4ed-0cafa86b8d3e</td>\n",
       "      <td>3</td>\n",
       "    </tr>\n",
       "    <tr>\n",
       "      <th>3</th>\n",
       "      <td>AC0000754d-ba7a-45ed-b9a1-629d0bb0060d</td>\n",
       "      <td>2</td>\n",
       "    </tr>\n",
       "    <tr>\n",
       "      <th>4</th>\n",
       "      <td>AC0000b6cd-f27e-4c73-8d97-3510b8192c84</td>\n",
       "      <td>1</td>\n",
       "    </tr>\n",
       "    <tr>\n",
       "      <th>...</th>\n",
       "      <td>...</td>\n",
       "      <td>...</td>\n",
       "    </tr>\n",
       "    <tr>\n",
       "      <th>603624</th>\n",
       "      <td>ACffff64ed-5e67-40ec-817d-4a05c62413e9</td>\n",
       "      <td>3</td>\n",
       "    </tr>\n",
       "    <tr>\n",
       "      <th>603625</th>\n",
       "      <td>ACffff7058-c1a4-45ea-9e0e-ab2c55a1b1d0</td>\n",
       "      <td>2</td>\n",
       "    </tr>\n",
       "    <tr>\n",
       "      <th>603626</th>\n",
       "      <td>ACffff8281-2731-4676-8856-acf3a588cf73</td>\n",
       "      <td>1</td>\n",
       "    </tr>\n",
       "    <tr>\n",
       "      <th>603627</th>\n",
       "      <td>ACffff8d3a-da1a-40c9-b29e-d5ed32713d5d</td>\n",
       "      <td>1</td>\n",
       "    </tr>\n",
       "    <tr>\n",
       "      <th>603628</th>\n",
       "      <td>ACffffd50a-291a-4067-92ae-9f8e8c629a9e</td>\n",
       "      <td>2</td>\n",
       "    </tr>\n",
       "  </tbody>\n",
       "</table>\n",
       "<p>603629 rows × 2 columns</p>\n",
       "</div>"
      ],
      "text/plain": [
       "                                         ac_id  visits\n",
       "0       AC00001abb-e40b-4a19-978d-cc6becf33489       2\n",
       "1       AC000061e1-9f80-4765-8ad4-993d5ab83e39       2\n",
       "2       AC000064d8-cb24-44c6-b4ed-0cafa86b8d3e       3\n",
       "3       AC0000754d-ba7a-45ed-b9a1-629d0bb0060d       2\n",
       "4       AC0000b6cd-f27e-4c73-8d97-3510b8192c84       1\n",
       "...                                        ...     ...\n",
       "603624  ACffff64ed-5e67-40ec-817d-4a05c62413e9       3\n",
       "603625  ACffff7058-c1a4-45ea-9e0e-ab2c55a1b1d0       2\n",
       "603626  ACffff8281-2731-4676-8856-acf3a588cf73       1\n",
       "603627  ACffff8d3a-da1a-40c9-b29e-d5ed32713d5d       1\n",
       "603628  ACffffd50a-291a-4067-92ae-9f8e8c629a9e       2\n",
       "\n",
       "[603629 rows x 2 columns]"
      ]
     },
     "execution_count": 30,
     "metadata": {},
     "output_type": "execute_result"
    }
   ],
   "source": [
    "df1_grouped_id = df1_grouped_id.drop(603629,axis=0)\n",
    "df1_grouped_id"
   ]
  },
  {
   "cell_type": "code",
   "execution_count": 31,
   "id": "de2ff435",
   "metadata": {},
   "outputs": [],
   "source": [
    "from functools import reduce\n",
    "dfs = [df,df1]\n",
    "df2 = reduce(lambda  left,right: pd.merge(left,right,on=['ac_id'],\n",
    "                                               how='outer'), dfs)"
   ]
  },
  {
   "cell_type": "code",
   "execution_count": 32,
   "id": "7c70a11d",
   "metadata": {},
   "outputs": [
    {
     "data": {
      "text/html": [
       "<div>\n",
       "<style scoped>\n",
       "    .dataframe tbody tr th:only-of-type {\n",
       "        vertical-align: middle;\n",
       "    }\n",
       "\n",
       "    .dataframe tbody tr th {\n",
       "        vertical-align: top;\n",
       "    }\n",
       "\n",
       "    .dataframe thead th {\n",
       "        text-align: right;\n",
       "    }\n",
       "</style>\n",
       "<table border=\"1\" class=\"dataframe\">\n",
       "  <thead>\n",
       "    <tr style=\"text-align: right;\">\n",
       "      <th></th>\n",
       "      <th>ac_id</th>\n",
       "      <th>purchase_date</th>\n",
       "      <th>webvisited_date</th>\n",
       "      <th>visited_page</th>\n",
       "    </tr>\n",
       "  </thead>\n",
       "  <tbody>\n",
       "    <tr>\n",
       "      <th>0</th>\n",
       "      <td>AC6fe3b89d-437f-49ca-825a-b9d65f117f94</td>\n",
       "      <td>6/17/17</td>\n",
       "      <td>11/16/17</td>\n",
       "      <td>REWARDS</td>\n",
       "    </tr>\n",
       "    <tr>\n",
       "      <th>1</th>\n",
       "      <td>AC6fe3b89d-437f-49ca-825a-b9d65f117f94</td>\n",
       "      <td>6/17/17</td>\n",
       "      <td>6/22/18</td>\n",
       "      <td>REWARDS</td>\n",
       "    </tr>\n",
       "    <tr>\n",
       "      <th>2</th>\n",
       "      <td>AC6fe3b89d-437f-49ca-825a-b9d65f117f94</td>\n",
       "      <td>6/1/18</td>\n",
       "      <td>11/16/17</td>\n",
       "      <td>REWARDS</td>\n",
       "    </tr>\n",
       "    <tr>\n",
       "      <th>3</th>\n",
       "      <td>AC6fe3b89d-437f-49ca-825a-b9d65f117f94</td>\n",
       "      <td>6/1/18</td>\n",
       "      <td>6/22/18</td>\n",
       "      <td>REWARDS</td>\n",
       "    </tr>\n",
       "    <tr>\n",
       "      <th>4</th>\n",
       "      <td>AC6fe3b89d-437f-49ca-825a-b9d65f117f94</td>\n",
       "      <td>2/19/18</td>\n",
       "      <td>11/16/17</td>\n",
       "      <td>REWARDS</td>\n",
       "    </tr>\n",
       "    <tr>\n",
       "      <th>5</th>\n",
       "      <td>AC6fe3b89d-437f-49ca-825a-b9d65f117f94</td>\n",
       "      <td>2/19/18</td>\n",
       "      <td>6/22/18</td>\n",
       "      <td>REWARDS</td>\n",
       "    </tr>\n",
       "    <tr>\n",
       "      <th>6</th>\n",
       "      <td>AC6fe3b89d-437f-49ca-825a-b9d65f117f94</td>\n",
       "      <td>4/4/18</td>\n",
       "      <td>11/16/17</td>\n",
       "      <td>REWARDS</td>\n",
       "    </tr>\n",
       "    <tr>\n",
       "      <th>7</th>\n",
       "      <td>AC6fe3b89d-437f-49ca-825a-b9d65f117f94</td>\n",
       "      <td>4/4/18</td>\n",
       "      <td>6/22/18</td>\n",
       "      <td>REWARDS</td>\n",
       "    </tr>\n",
       "    <tr>\n",
       "      <th>8</th>\n",
       "      <td>AC6fe3b89d-437f-49ca-825a-b9d65f117f94</td>\n",
       "      <td>8/22/17</td>\n",
       "      <td>11/16/17</td>\n",
       "      <td>REWARDS</td>\n",
       "    </tr>\n",
       "    <tr>\n",
       "      <th>9</th>\n",
       "      <td>AC6fe3b89d-437f-49ca-825a-b9d65f117f94</td>\n",
       "      <td>8/22/17</td>\n",
       "      <td>6/22/18</td>\n",
       "      <td>REWARDS</td>\n",
       "    </tr>\n",
       "  </tbody>\n",
       "</table>\n",
       "</div>"
      ],
      "text/plain": [
       "                                    ac_id purchase_date webvisited_date  \\\n",
       "0  AC6fe3b89d-437f-49ca-825a-b9d65f117f94       6/17/17        11/16/17   \n",
       "1  AC6fe3b89d-437f-49ca-825a-b9d65f117f94       6/17/17         6/22/18   \n",
       "2  AC6fe3b89d-437f-49ca-825a-b9d65f117f94        6/1/18        11/16/17   \n",
       "3  AC6fe3b89d-437f-49ca-825a-b9d65f117f94        6/1/18         6/22/18   \n",
       "4  AC6fe3b89d-437f-49ca-825a-b9d65f117f94       2/19/18        11/16/17   \n",
       "5  AC6fe3b89d-437f-49ca-825a-b9d65f117f94       2/19/18         6/22/18   \n",
       "6  AC6fe3b89d-437f-49ca-825a-b9d65f117f94        4/4/18        11/16/17   \n",
       "7  AC6fe3b89d-437f-49ca-825a-b9d65f117f94        4/4/18         6/22/18   \n",
       "8  AC6fe3b89d-437f-49ca-825a-b9d65f117f94       8/22/17        11/16/17   \n",
       "9  AC6fe3b89d-437f-49ca-825a-b9d65f117f94       8/22/17         6/22/18   \n",
       "\n",
       "  visited_page  \n",
       "0      REWARDS  \n",
       "1      REWARDS  \n",
       "2      REWARDS  \n",
       "3      REWARDS  \n",
       "4      REWARDS  \n",
       "5      REWARDS  \n",
       "6      REWARDS  \n",
       "7      REWARDS  \n",
       "8      REWARDS  \n",
       "9      REWARDS  "
      ]
     },
     "execution_count": 32,
     "metadata": {},
     "output_type": "execute_result"
    }
   ],
   "source": [
    "df2.head(10)"
   ]
  },
  {
   "cell_type": "code",
   "execution_count": 33,
   "id": "d2d0ce1e",
   "metadata": {},
   "outputs": [
    {
     "data": {
      "text/plain": [
       "(10414416, 4)"
      ]
     },
     "execution_count": 33,
     "metadata": {},
     "output_type": "execute_result"
    }
   ],
   "source": [
    "df2.shape"
   ]
  },
  {
   "cell_type": "markdown",
   "id": "5866cdd8",
   "metadata": {},
   "source": [
    "10 million entries, multiple visits by customers, different purchase and web visit days. \n",
    "\n",
    "Feature to explore: possible correlation between the number of purchases and the number of website visits?"
   ]
  },
  {
   "cell_type": "code",
   "execution_count": 34,
   "id": "a0523382",
   "metadata": {},
   "outputs": [
    {
     "data": {
      "text/html": [
       "<div>\n",
       "<style scoped>\n",
       "    .dataframe tbody tr th:only-of-type {\n",
       "        vertical-align: middle;\n",
       "    }\n",
       "\n",
       "    .dataframe tbody tr th {\n",
       "        vertical-align: top;\n",
       "    }\n",
       "\n",
       "    .dataframe thead th {\n",
       "        text-align: right;\n",
       "    }\n",
       "</style>\n",
       "<table border=\"1\" class=\"dataframe\">\n",
       "  <thead>\n",
       "    <tr style=\"text-align: right;\">\n",
       "      <th></th>\n",
       "      <th>ac_id</th>\n",
       "      <th>visit_count</th>\n",
       "    </tr>\n",
       "  </thead>\n",
       "  <tbody>\n",
       "    <tr>\n",
       "      <th>0</th>\n",
       "      <td>AC000017b9-3e7d-4133-9e59-ddddcb4a911d</td>\n",
       "      <td>13</td>\n",
       "    </tr>\n",
       "    <tr>\n",
       "      <th>1</th>\n",
       "      <td>AC00001abb-e40b-4a19-978d-cc6becf33489</td>\n",
       "      <td>16</td>\n",
       "    </tr>\n",
       "    <tr>\n",
       "      <th>2</th>\n",
       "      <td>AC000061e1-9f80-4765-8ad4-993d5ab83e39</td>\n",
       "      <td>10</td>\n",
       "    </tr>\n",
       "    <tr>\n",
       "      <th>3</th>\n",
       "      <td>AC000064d8-cb24-44c6-b4ed-0cafa86b8d3e</td>\n",
       "      <td>24</td>\n",
       "    </tr>\n",
       "    <tr>\n",
       "      <th>4</th>\n",
       "      <td>AC0000754d-ba7a-45ed-b9a1-629d0bb0060d</td>\n",
       "      <td>12</td>\n",
       "    </tr>\n",
       "    <tr>\n",
       "      <th>5</th>\n",
       "      <td>AC0000a060-4516-40d8-8e0a-066fd231cad7</td>\n",
       "      <td>3</td>\n",
       "    </tr>\n",
       "    <tr>\n",
       "      <th>6</th>\n",
       "      <td>AC0000a2fa-f6bf-4fc9-afb6-448f14bdd6b1</td>\n",
       "      <td>8</td>\n",
       "    </tr>\n",
       "    <tr>\n",
       "      <th>7</th>\n",
       "      <td>AC0000b6cd-f27e-4c73-8d97-3510b8192c84</td>\n",
       "      <td>7</td>\n",
       "    </tr>\n",
       "    <tr>\n",
       "      <th>8</th>\n",
       "      <td>AC0000bef9-0845-4c93-bec5-6c1e6d7fbe19</td>\n",
       "      <td>5</td>\n",
       "    </tr>\n",
       "    <tr>\n",
       "      <th>9</th>\n",
       "      <td>AC00011dd2-4a5e-4539-96ee-ac0a958245a4</td>\n",
       "      <td>7</td>\n",
       "    </tr>\n",
       "  </tbody>\n",
       "</table>\n",
       "</div>"
      ],
      "text/plain": [
       "                                    ac_id  visit_count\n",
       "0  AC000017b9-3e7d-4133-9e59-ddddcb4a911d           13\n",
       "1  AC00001abb-e40b-4a19-978d-cc6becf33489           16\n",
       "2  AC000061e1-9f80-4765-8ad4-993d5ab83e39           10\n",
       "3  AC000064d8-cb24-44c6-b4ed-0cafa86b8d3e           24\n",
       "4  AC0000754d-ba7a-45ed-b9a1-629d0bb0060d           12\n",
       "5  AC0000a060-4516-40d8-8e0a-066fd231cad7            3\n",
       "6  AC0000a2fa-f6bf-4fc9-afb6-448f14bdd6b1            8\n",
       "7  AC0000b6cd-f27e-4c73-8d97-3510b8192c84            7\n",
       "8  AC0000bef9-0845-4c93-bec5-6c1e6d7fbe19            5\n",
       "9  AC00011dd2-4a5e-4539-96ee-ac0a958245a4            7"
      ]
     },
     "execution_count": 34,
     "metadata": {},
     "output_type": "execute_result"
    }
   ],
   "source": [
    "df2_grouped_id = df2.groupby(['ac_id']).size().reset_index(name = 'visit_count')\n",
    "df2_grouped_id.head(10)"
   ]
  },
  {
   "cell_type": "code",
   "execution_count": 35,
   "id": "2823241e",
   "metadata": {},
   "outputs": [
    {
     "data": {
      "text/plain": [
       "(899927, 2)"
      ]
     },
     "execution_count": 35,
     "metadata": {},
     "output_type": "execute_result"
    }
   ],
   "source": [
    "df2_grouped_id.shape"
   ]
  },
  {
   "cell_type": "markdown",
   "id": "d8bf01d0",
   "metadata": {},
   "source": [
    "Missing (900k-899927 = 73) entries being visited website but any specific pages, possibly stayed on home page"
   ]
  },
  {
   "cell_type": "code",
   "execution_count": 36,
   "id": "b0824bf3",
   "metadata": {},
   "outputs": [
    {
     "data": {
      "text/html": [
       "<div>\n",
       "<style scoped>\n",
       "    .dataframe tbody tr th:only-of-type {\n",
       "        vertical-align: middle;\n",
       "    }\n",
       "\n",
       "    .dataframe tbody tr th {\n",
       "        vertical-align: top;\n",
       "    }\n",
       "\n",
       "    .dataframe thead th {\n",
       "        text-align: right;\n",
       "    }\n",
       "</style>\n",
       "<table border=\"1\" class=\"dataframe\">\n",
       "  <thead>\n",
       "    <tr style=\"text-align: right;\">\n",
       "      <th></th>\n",
       "      <th>visited_page</th>\n",
       "      <th>visit_count</th>\n",
       "    </tr>\n",
       "  </thead>\n",
       "  <tbody>\n",
       "    <tr>\n",
       "      <th>0</th>\n",
       "      <td>MYACCOUNT</td>\n",
       "      <td>2002676</td>\n",
       "    </tr>\n",
       "    <tr>\n",
       "      <th>1</th>\n",
       "      <td>PRICINGENGINE</td>\n",
       "      <td>2015997</td>\n",
       "    </tr>\n",
       "    <tr>\n",
       "      <th>2</th>\n",
       "      <td>REWARDS</td>\n",
       "      <td>2005252</td>\n",
       "    </tr>\n",
       "  </tbody>\n",
       "</table>\n",
       "</div>"
      ],
      "text/plain": [
       "    visited_page  visit_count\n",
       "0      MYACCOUNT      2002676\n",
       "1  PRICINGENGINE      2015997\n",
       "2        REWARDS      2005252"
      ]
     },
     "execution_count": 36,
     "metadata": {},
     "output_type": "execute_result"
    }
   ],
   "source": [
    "df2_grouped_page = df2.groupby(['visited_page']).size().reset_index(name = 'visit_count')\n",
    "df2_grouped_page.head(10)"
   ]
  },
  {
   "cell_type": "code",
   "execution_count": 37,
   "id": "7e6fa8bd",
   "metadata": {},
   "outputs": [
    {
     "data": {
      "text/plain": [
       "4390491"
      ]
     },
     "execution_count": 37,
     "metadata": {},
     "output_type": "execute_result"
    }
   ],
   "source": [
    "df2['visited_page'].isna().sum()"
   ]
  },
  {
   "cell_type": "markdown",
   "id": "8f0423ee",
   "metadata": {},
   "source": [
    "Why are 4390491 occurances of visiting the site missing? Where are the customers visiting then? (Home page, bookmarked login, etc) Initial hypothesis that 73 entries were missing due to blank pages incorrect."
   ]
  },
  {
   "cell_type": "code",
   "execution_count": 38,
   "id": "f952dd48",
   "metadata": {},
   "outputs": [
    {
     "data": {
      "text/html": [
       "<div>\n",
       "<style scoped>\n",
       "    .dataframe tbody tr th:only-of-type {\n",
       "        vertical-align: middle;\n",
       "    }\n",
       "\n",
       "    .dataframe tbody tr th {\n",
       "        vertical-align: top;\n",
       "    }\n",
       "\n",
       "    .dataframe thead th {\n",
       "        text-align: right;\n",
       "    }\n",
       "</style>\n",
       "<table border=\"1\" class=\"dataframe\">\n",
       "  <thead>\n",
       "    <tr style=\"text-align: right;\">\n",
       "      <th></th>\n",
       "      <th>ac_id</th>\n",
       "      <th>visit_count</th>\n",
       "    </tr>\n",
       "  </thead>\n",
       "  <tbody>\n",
       "    <tr>\n",
       "      <th>899917</th>\n",
       "      <td>ACffff5419-8e25-44a4-baea-0df7d062912b</td>\n",
       "      <td>4</td>\n",
       "    </tr>\n",
       "    <tr>\n",
       "      <th>899918</th>\n",
       "      <td>ACffff59ab-65c9-420a-9280-a4e33d676004</td>\n",
       "      <td>11</td>\n",
       "    </tr>\n",
       "    <tr>\n",
       "      <th>899919</th>\n",
       "      <td>ACffff64ed-5e67-40ec-817d-4a05c62413e9</td>\n",
       "      <td>18</td>\n",
       "    </tr>\n",
       "    <tr>\n",
       "      <th>899920</th>\n",
       "      <td>ACffff7058-c1a4-45ea-9e0e-ab2c55a1b1d0</td>\n",
       "      <td>22</td>\n",
       "    </tr>\n",
       "    <tr>\n",
       "      <th>899921</th>\n",
       "      <td>ACffff8281-2731-4676-8856-acf3a588cf73</td>\n",
       "      <td>10</td>\n",
       "    </tr>\n",
       "    <tr>\n",
       "      <th>899922</th>\n",
       "      <td>ACffff8d20-b401-4bff-8ec0-e308c20f9822</td>\n",
       "      <td>10</td>\n",
       "    </tr>\n",
       "    <tr>\n",
       "      <th>899923</th>\n",
       "      <td>ACffff8d3a-da1a-40c9-b29e-d5ed32713d5d</td>\n",
       "      <td>10</td>\n",
       "    </tr>\n",
       "    <tr>\n",
       "      <th>899924</th>\n",
       "      <td>ACffffd50a-291a-4067-92ae-9f8e8c629a9e</td>\n",
       "      <td>12</td>\n",
       "    </tr>\n",
       "    <tr>\n",
       "      <th>899925</th>\n",
       "      <td>ACffffef1f-cfbc-4973-8926-35ef7a1491ab</td>\n",
       "      <td>5</td>\n",
       "    </tr>\n",
       "    <tr>\n",
       "      <th>899926</th>\n",
       "      <td>ac_id</td>\n",
       "      <td>8</td>\n",
       "    </tr>\n",
       "  </tbody>\n",
       "</table>\n",
       "</div>"
      ],
      "text/plain": [
       "                                         ac_id  visit_count\n",
       "899917  ACffff5419-8e25-44a4-baea-0df7d062912b            4\n",
       "899918  ACffff59ab-65c9-420a-9280-a4e33d676004           11\n",
       "899919  ACffff64ed-5e67-40ec-817d-4a05c62413e9           18\n",
       "899920  ACffff7058-c1a4-45ea-9e0e-ab2c55a1b1d0           22\n",
       "899921  ACffff8281-2731-4676-8856-acf3a588cf73           10\n",
       "899922  ACffff8d20-b401-4bff-8ec0-e308c20f9822           10\n",
       "899923  ACffff8d3a-da1a-40c9-b29e-d5ed32713d5d           10\n",
       "899924  ACffffd50a-291a-4067-92ae-9f8e8c629a9e           12\n",
       "899925  ACffffef1f-cfbc-4973-8926-35ef7a1491ab            5\n",
       "899926                                   ac_id            8"
      ]
     },
     "execution_count": 38,
     "metadata": {},
     "output_type": "execute_result"
    }
   ],
   "source": [
    "df2_grouped_id.tail(10)"
   ]
  },
  {
   "cell_type": "code",
   "execution_count": 39,
   "id": "293564aa",
   "metadata": {},
   "outputs": [
    {
     "data": {
      "text/html": [
       "<div>\n",
       "<style scoped>\n",
       "    .dataframe tbody tr th:only-of-type {\n",
       "        vertical-align: middle;\n",
       "    }\n",
       "\n",
       "    .dataframe tbody tr th {\n",
       "        vertical-align: top;\n",
       "    }\n",
       "\n",
       "    .dataframe thead th {\n",
       "        text-align: right;\n",
       "    }\n",
       "</style>\n",
       "<table border=\"1\" class=\"dataframe\">\n",
       "  <thead>\n",
       "    <tr style=\"text-align: right;\">\n",
       "      <th></th>\n",
       "      <th>ac_id</th>\n",
       "      <th>visit_count</th>\n",
       "    </tr>\n",
       "  </thead>\n",
       "  <tbody>\n",
       "    <tr>\n",
       "      <th>0</th>\n",
       "      <td>AC000017b9-3e7d-4133-9e59-ddddcb4a911d</td>\n",
       "      <td>13</td>\n",
       "    </tr>\n",
       "    <tr>\n",
       "      <th>1</th>\n",
       "      <td>AC00001abb-e40b-4a19-978d-cc6becf33489</td>\n",
       "      <td>16</td>\n",
       "    </tr>\n",
       "    <tr>\n",
       "      <th>2</th>\n",
       "      <td>AC000061e1-9f80-4765-8ad4-993d5ab83e39</td>\n",
       "      <td>10</td>\n",
       "    </tr>\n",
       "    <tr>\n",
       "      <th>3</th>\n",
       "      <td>AC000064d8-cb24-44c6-b4ed-0cafa86b8d3e</td>\n",
       "      <td>24</td>\n",
       "    </tr>\n",
       "    <tr>\n",
       "      <th>4</th>\n",
       "      <td>AC0000754d-ba7a-45ed-b9a1-629d0bb0060d</td>\n",
       "      <td>12</td>\n",
       "    </tr>\n",
       "    <tr>\n",
       "      <th>...</th>\n",
       "      <td>...</td>\n",
       "      <td>...</td>\n",
       "    </tr>\n",
       "    <tr>\n",
       "      <th>899921</th>\n",
       "      <td>ACffff8281-2731-4676-8856-acf3a588cf73</td>\n",
       "      <td>10</td>\n",
       "    </tr>\n",
       "    <tr>\n",
       "      <th>899922</th>\n",
       "      <td>ACffff8d20-b401-4bff-8ec0-e308c20f9822</td>\n",
       "      <td>10</td>\n",
       "    </tr>\n",
       "    <tr>\n",
       "      <th>899923</th>\n",
       "      <td>ACffff8d3a-da1a-40c9-b29e-d5ed32713d5d</td>\n",
       "      <td>10</td>\n",
       "    </tr>\n",
       "    <tr>\n",
       "      <th>899924</th>\n",
       "      <td>ACffffd50a-291a-4067-92ae-9f8e8c629a9e</td>\n",
       "      <td>12</td>\n",
       "    </tr>\n",
       "    <tr>\n",
       "      <th>899925</th>\n",
       "      <td>ACffffef1f-cfbc-4973-8926-35ef7a1491ab</td>\n",
       "      <td>5</td>\n",
       "    </tr>\n",
       "  </tbody>\n",
       "</table>\n",
       "<p>899926 rows × 2 columns</p>\n",
       "</div>"
      ],
      "text/plain": [
       "                                         ac_id  visit_count\n",
       "0       AC000017b9-3e7d-4133-9e59-ddddcb4a911d           13\n",
       "1       AC00001abb-e40b-4a19-978d-cc6becf33489           16\n",
       "2       AC000061e1-9f80-4765-8ad4-993d5ab83e39           10\n",
       "3       AC000064d8-cb24-44c6-b4ed-0cafa86b8d3e           24\n",
       "4       AC0000754d-ba7a-45ed-b9a1-629d0bb0060d           12\n",
       "...                                        ...          ...\n",
       "899921  ACffff8281-2731-4676-8856-acf3a588cf73           10\n",
       "899922  ACffff8d20-b401-4bff-8ec0-e308c20f9822           10\n",
       "899923  ACffff8d3a-da1a-40c9-b29e-d5ed32713d5d           10\n",
       "899924  ACffffd50a-291a-4067-92ae-9f8e8c629a9e           12\n",
       "899925  ACffffef1f-cfbc-4973-8926-35ef7a1491ab            5\n",
       "\n",
       "[899926 rows x 2 columns]"
      ]
     },
     "execution_count": 39,
     "metadata": {},
     "output_type": "execute_result"
    }
   ],
   "source": [
    "df2_grouped_id = df2_grouped_id.drop(899926,axis=0)\n",
    "df2_grouped_id"
   ]
  },
  {
   "cell_type": "markdown",
   "id": "50e9ba71",
   "metadata": {},
   "source": [
    "Dropped last row, ac_id being just ac_id, visit count of 8. Remaining 74 entries of ac_id where?"
   ]
  },
  {
   "cell_type": "code",
   "execution_count": 40,
   "id": "ee5f7aa7",
   "metadata": {},
   "outputs": [
    {
     "data": {
      "text/html": [
       "<div>\n",
       "<style scoped>\n",
       "    .dataframe tbody tr th:only-of-type {\n",
       "        vertical-align: middle;\n",
       "    }\n",
       "\n",
       "    .dataframe tbody tr th {\n",
       "        vertical-align: top;\n",
       "    }\n",
       "\n",
       "    .dataframe thead th {\n",
       "        text-align: right;\n",
       "    }\n",
       "</style>\n",
       "<table border=\"1\" class=\"dataframe\">\n",
       "  <thead>\n",
       "    <tr style=\"text-align: right;\">\n",
       "      <th></th>\n",
       "      <th>ac_id</th>\n",
       "      <th>webvisited_date</th>\n",
       "      <th>visited_page</th>\n",
       "    </tr>\n",
       "  </thead>\n",
       "  <tbody>\n",
       "    <tr>\n",
       "      <th>999990</th>\n",
       "      <td>AC616c65ce-3e64-4363-a330-4c474b27fe03</td>\n",
       "      <td>9/18/17</td>\n",
       "      <td>MYACCOUNT</td>\n",
       "    </tr>\n",
       "    <tr>\n",
       "      <th>999991</th>\n",
       "      <td>AC94814616-54bc-42ed-80dd-9c2b34ffc93f</td>\n",
       "      <td>9/18/17</td>\n",
       "      <td>NaN</td>\n",
       "    </tr>\n",
       "    <tr>\n",
       "      <th>999992</th>\n",
       "      <td>AC2ccd897c-c800-42f4-b0a7-a1bb266ea6b9</td>\n",
       "      <td>9/18/17</td>\n",
       "      <td>NaN</td>\n",
       "    </tr>\n",
       "    <tr>\n",
       "      <th>999993</th>\n",
       "      <td>AC386c9259-a3bb-450e-ab79-bfcccdff49dc</td>\n",
       "      <td>9/18/17</td>\n",
       "      <td>NaN</td>\n",
       "    </tr>\n",
       "    <tr>\n",
       "      <th>999994</th>\n",
       "      <td>AC48ae0cb6-6852-4abe-8255-59f65d049ab4</td>\n",
       "      <td>9/18/17</td>\n",
       "      <td>REWARDS</td>\n",
       "    </tr>\n",
       "    <tr>\n",
       "      <th>999995</th>\n",
       "      <td>AC7b85dd54-70e2-4c5a-a1cd-66dd15280f81</td>\n",
       "      <td>9/18/17</td>\n",
       "      <td>REWARDS</td>\n",
       "    </tr>\n",
       "    <tr>\n",
       "      <th>999996</th>\n",
       "      <td>ACa9452768-3319-4ffc-9506-1ac344e0017c</td>\n",
       "      <td>9/18/17</td>\n",
       "      <td>NaN</td>\n",
       "    </tr>\n",
       "    <tr>\n",
       "      <th>999997</th>\n",
       "      <td>ACc2db57f2-16cc-4593-8529-4890c37678ad</td>\n",
       "      <td>9/18/17</td>\n",
       "      <td>REWARDS</td>\n",
       "    </tr>\n",
       "    <tr>\n",
       "      <th>999998</th>\n",
       "      <td>AC93960bf7-a77a-4ff9-9c3a-9dc8cdba9d5a</td>\n",
       "      <td>9/18/17</td>\n",
       "      <td>MYACCOUNT</td>\n",
       "    </tr>\n",
       "    <tr>\n",
       "      <th>999999</th>\n",
       "      <td>ACc1913044-4541-4195-9d7a-5e2b138799e6</td>\n",
       "      <td>9/18/17</td>\n",
       "      <td>PRICINGENGINE</td>\n",
       "    </tr>\n",
       "  </tbody>\n",
       "</table>\n",
       "</div>"
      ],
      "text/plain": [
       "                                         ac_id webvisited_date   visited_page\n",
       "999990  AC616c65ce-3e64-4363-a330-4c474b27fe03         9/18/17      MYACCOUNT\n",
       "999991  AC94814616-54bc-42ed-80dd-9c2b34ffc93f         9/18/17            NaN\n",
       "999992  AC2ccd897c-c800-42f4-b0a7-a1bb266ea6b9         9/18/17            NaN\n",
       "999993  AC386c9259-a3bb-450e-ab79-bfcccdff49dc         9/18/17            NaN\n",
       "999994  AC48ae0cb6-6852-4abe-8255-59f65d049ab4         9/18/17        REWARDS\n",
       "999995  AC7b85dd54-70e2-4c5a-a1cd-66dd15280f81         9/18/17        REWARDS\n",
       "999996  ACa9452768-3319-4ffc-9506-1ac344e0017c         9/18/17            NaN\n",
       "999997  ACc2db57f2-16cc-4593-8529-4890c37678ad         9/18/17        REWARDS\n",
       "999998  AC93960bf7-a77a-4ff9-9c3a-9dc8cdba9d5a         9/18/17      MYACCOUNT\n",
       "999999  ACc1913044-4541-4195-9d7a-5e2b138799e6         9/18/17  PRICINGENGINE"
      ]
     },
     "execution_count": 40,
     "metadata": {},
     "output_type": "execute_result"
    }
   ],
   "source": [
    "df1.tail(10)"
   ]
  },
  {
   "cell_type": "code",
   "execution_count": 41,
   "id": "0e83e05a",
   "metadata": {},
   "outputs": [
    {
     "data": {
      "text/plain": [
       "ac_id              object\n",
       "webvisited_date    object\n",
       "visited_page       object\n",
       "dtype: object"
      ]
     },
     "execution_count": 41,
     "metadata": {},
     "output_type": "execute_result"
    }
   ],
   "source": [
    "df1.dtypes"
   ]
  },
  {
   "cell_type": "code",
   "execution_count": 42,
   "id": "2646cc5f",
   "metadata": {},
   "outputs": [],
   "source": [
    "rank_df2_id = df2_grouped_id.sort_values(['visit_count'],ascending=False)"
   ]
  },
  {
   "cell_type": "code",
   "execution_count": 43,
   "id": "1b359ce6",
   "metadata": {},
   "outputs": [
    {
     "data": {
      "text/html": [
       "<div>\n",
       "<style scoped>\n",
       "    .dataframe tbody tr th:only-of-type {\n",
       "        vertical-align: middle;\n",
       "    }\n",
       "\n",
       "    .dataframe tbody tr th {\n",
       "        vertical-align: top;\n",
       "    }\n",
       "\n",
       "    .dataframe thead th {\n",
       "        text-align: right;\n",
       "    }\n",
       "</style>\n",
       "<table border=\"1\" class=\"dataframe\">\n",
       "  <thead>\n",
       "    <tr style=\"text-align: right;\">\n",
       "      <th></th>\n",
       "      <th>ac_id</th>\n",
       "      <th>visit_count</th>\n",
       "    </tr>\n",
       "  </thead>\n",
       "  <tbody>\n",
       "    <tr>\n",
       "      <th>357488</th>\n",
       "      <td>AC65877431-ef61-4ca2-bab9-b1051b90a3ec</td>\n",
       "      <td>126</td>\n",
       "    </tr>\n",
       "    <tr>\n",
       "      <th>84674</th>\n",
       "      <td>AC181c3d91-3cc3-4533-87d8-9e2bd3616076</td>\n",
       "      <td>112</td>\n",
       "    </tr>\n",
       "    <tr>\n",
       "      <th>642190</th>\n",
       "      <td>ACb68f3bc4-e37b-4ae0-8328-a1eb9edebc3a</td>\n",
       "      <td>105</td>\n",
       "    </tr>\n",
       "    <tr>\n",
       "      <th>432456</th>\n",
       "      <td>AC7ac3f792-1dd6-47f8-bd10-76579c903e6a</td>\n",
       "      <td>102</td>\n",
       "    </tr>\n",
       "    <tr>\n",
       "      <th>787740</th>\n",
       "      <td>ACdff06430-6233-4dd8-8acc-60a3bf003e2c</td>\n",
       "      <td>102</td>\n",
       "    </tr>\n",
       "    <tr>\n",
       "      <th>736036</th>\n",
       "      <td>ACd12eeb18-055f-4e76-8de8-e8dddddf357d</td>\n",
       "      <td>102</td>\n",
       "    </tr>\n",
       "    <tr>\n",
       "      <th>564114</th>\n",
       "      <td>ACa0428413-2017-4313-9a32-eb20d353a707</td>\n",
       "      <td>100</td>\n",
       "    </tr>\n",
       "    <tr>\n",
       "      <th>659044</th>\n",
       "      <td>ACbb4c4add-003c-425a-bfa0-f18ef6e46100</td>\n",
       "      <td>98</td>\n",
       "    </tr>\n",
       "    <tr>\n",
       "      <th>701970</th>\n",
       "      <td>ACc78d2e69-5d80-44f6-bcd8-ad8493db9456</td>\n",
       "      <td>96</td>\n",
       "    </tr>\n",
       "    <tr>\n",
       "      <th>390507</th>\n",
       "      <td>AC6ee10161-7bc1-40ee-b376-2b34b57451fc</td>\n",
       "      <td>96</td>\n",
       "    </tr>\n",
       "  </tbody>\n",
       "</table>\n",
       "</div>"
      ],
      "text/plain": [
       "                                         ac_id  visit_count\n",
       "357488  AC65877431-ef61-4ca2-bab9-b1051b90a3ec          126\n",
       "84674   AC181c3d91-3cc3-4533-87d8-9e2bd3616076          112\n",
       "642190  ACb68f3bc4-e37b-4ae0-8328-a1eb9edebc3a          105\n",
       "432456  AC7ac3f792-1dd6-47f8-bd10-76579c903e6a          102\n",
       "787740  ACdff06430-6233-4dd8-8acc-60a3bf003e2c          102\n",
       "736036  ACd12eeb18-055f-4e76-8de8-e8dddddf357d          102\n",
       "564114  ACa0428413-2017-4313-9a32-eb20d353a707          100\n",
       "659044  ACbb4c4add-003c-425a-bfa0-f18ef6e46100           98\n",
       "701970  ACc78d2e69-5d80-44f6-bcd8-ad8493db9456           96\n",
       "390507  AC6ee10161-7bc1-40ee-b376-2b34b57451fc           96"
      ]
     },
     "execution_count": 43,
     "metadata": {},
     "output_type": "execute_result"
    }
   ],
   "source": [
    "rank_df2_id.head(10)"
   ]
  },
  {
   "cell_type": "code",
   "execution_count": 44,
   "id": "c5ef949a",
   "metadata": {},
   "outputs": [
    {
     "data": {
      "text/plain": [
       "(899926, 2)"
      ]
     },
     "execution_count": 44,
     "metadata": {},
     "output_type": "execute_result"
    }
   ],
   "source": [
    "rank_df2_id.shape"
   ]
  },
  {
   "cell_type": "code",
   "execution_count": 45,
   "id": "fb4b71e1",
   "metadata": {},
   "outputs": [
    {
     "data": {
      "text/html": [
       "<div>\n",
       "<style scoped>\n",
       "    .dataframe tbody tr th:only-of-type {\n",
       "        vertical-align: middle;\n",
       "    }\n",
       "\n",
       "    .dataframe tbody tr th {\n",
       "        vertical-align: top;\n",
       "    }\n",
       "\n",
       "    .dataframe thead th {\n",
       "        text-align: right;\n",
       "    }\n",
       "</style>\n",
       "<table border=\"1\" class=\"dataframe\">\n",
       "  <thead>\n",
       "    <tr style=\"text-align: right;\">\n",
       "      <th></th>\n",
       "      <th>ac_id</th>\n",
       "      <th>visits</th>\n",
       "    </tr>\n",
       "  </thead>\n",
       "  <tbody>\n",
       "    <tr>\n",
       "      <th>176171</th>\n",
       "      <td>AC4a8a9b9d-2b63-471b-a4ef-a9d63f1a5146</td>\n",
       "      <td>9</td>\n",
       "    </tr>\n",
       "    <tr>\n",
       "      <th>31373</th>\n",
       "      <td>AC0d562bd4-41b8-452d-b0c5-f0b4d0e1f3a7</td>\n",
       "      <td>9</td>\n",
       "    </tr>\n",
       "    <tr>\n",
       "      <th>58505</th>\n",
       "      <td>AC18cf8a0c-469f-4d9e-85a7-3d8683faf0fe</td>\n",
       "      <td>9</td>\n",
       "    </tr>\n",
       "    <tr>\n",
       "      <th>301542</th>\n",
       "      <td>AC7fae8a1e-262a-4559-93e8-39831962d3c9</td>\n",
       "      <td>8</td>\n",
       "    </tr>\n",
       "    <tr>\n",
       "      <th>48963</th>\n",
       "      <td>AC14be37e4-f9f6-4765-b60b-3605db0322ff</td>\n",
       "      <td>8</td>\n",
       "    </tr>\n",
       "    <tr>\n",
       "      <th>584179</th>\n",
       "      <td>ACf7b9d0d4-45b5-4796-818b-d38cfa3e7de9</td>\n",
       "      <td>8</td>\n",
       "    </tr>\n",
       "    <tr>\n",
       "      <th>146204</th>\n",
       "      <td>AC3df4dddc-2374-43d1-a739-ecab6fcd353b</td>\n",
       "      <td>8</td>\n",
       "    </tr>\n",
       "    <tr>\n",
       "      <th>355824</th>\n",
       "      <td>AC96a42313-e0e4-4e1c-b769-b8820b4c3505</td>\n",
       "      <td>8</td>\n",
       "    </tr>\n",
       "    <tr>\n",
       "      <th>150365</th>\n",
       "      <td>AC3fa9f600-ee16-4e9d-993c-69a196a9e739</td>\n",
       "      <td>8</td>\n",
       "    </tr>\n",
       "    <tr>\n",
       "      <th>523076</th>\n",
       "      <td>ACddc7710a-e5c7-4865-a853-9ab17b92170d</td>\n",
       "      <td>8</td>\n",
       "    </tr>\n",
       "  </tbody>\n",
       "</table>\n",
       "</div>"
      ],
      "text/plain": [
       "                                         ac_id  visits\n",
       "176171  AC4a8a9b9d-2b63-471b-a4ef-a9d63f1a5146       9\n",
       "31373   AC0d562bd4-41b8-452d-b0c5-f0b4d0e1f3a7       9\n",
       "58505   AC18cf8a0c-469f-4d9e-85a7-3d8683faf0fe       9\n",
       "301542  AC7fae8a1e-262a-4559-93e8-39831962d3c9       8\n",
       "48963   AC14be37e4-f9f6-4765-b60b-3605db0322ff       8\n",
       "584179  ACf7b9d0d4-45b5-4796-818b-d38cfa3e7de9       8\n",
       "146204  AC3df4dddc-2374-43d1-a739-ecab6fcd353b       8\n",
       "355824  AC96a42313-e0e4-4e1c-b769-b8820b4c3505       8\n",
       "150365  AC3fa9f600-ee16-4e9d-993c-69a196a9e739       8\n",
       "523076  ACddc7710a-e5c7-4865-a853-9ab17b92170d       8"
      ]
     },
     "execution_count": 45,
     "metadata": {},
     "output_type": "execute_result"
    }
   ],
   "source": [
    "rank_df1_id = df1_grouped_id.sort_values(['visits'],ascending=False)\n",
    "rank_df1_id.head(10)"
   ]
  },
  {
   "cell_type": "code",
   "execution_count": 46,
   "id": "d8cd13ac",
   "metadata": {},
   "outputs": [
    {
     "data": {
      "text/plain": [
       "(603629, 2)"
      ]
     },
     "execution_count": 46,
     "metadata": {},
     "output_type": "execute_result"
    }
   ],
   "source": [
    "rank_df1_id.shape"
   ]
  },
  {
   "cell_type": "markdown",
   "id": "c7c0122e",
   "metadata": {},
   "source": [
    "Purchase records more visits than web visits, justified with size of df"
   ]
  },
  {
   "cell_type": "code",
   "execution_count": 47,
   "id": "e8bc69f6",
   "metadata": {},
   "outputs": [],
   "source": [
    "dfs = [rank_df1_id,rank_df2_id]\n",
    "visit_rank_df = reduce(lambda  left,right: pd.merge(left,right,on=['ac_id'],\n",
    "                                               how='outer'), dfs)"
   ]
  },
  {
   "cell_type": "code",
   "execution_count": 48,
   "id": "44be231a",
   "metadata": {},
   "outputs": [
    {
     "data": {
      "text/html": [
       "<div>\n",
       "<style scoped>\n",
       "    .dataframe tbody tr th:only-of-type {\n",
       "        vertical-align: middle;\n",
       "    }\n",
       "\n",
       "    .dataframe tbody tr th {\n",
       "        vertical-align: top;\n",
       "    }\n",
       "\n",
       "    .dataframe thead th {\n",
       "        text-align: right;\n",
       "    }\n",
       "</style>\n",
       "<table border=\"1\" class=\"dataframe\">\n",
       "  <thead>\n",
       "    <tr style=\"text-align: right;\">\n",
       "      <th></th>\n",
       "      <th>ac_id</th>\n",
       "      <th>visits</th>\n",
       "      <th>visit_count</th>\n",
       "    </tr>\n",
       "  </thead>\n",
       "  <tbody>\n",
       "    <tr>\n",
       "      <th>0</th>\n",
       "      <td>AC4a8a9b9d-2b63-471b-a4ef-a9d63f1a5146</td>\n",
       "      <td>9.0</td>\n",
       "      <td>72</td>\n",
       "    </tr>\n",
       "    <tr>\n",
       "      <th>1</th>\n",
       "      <td>AC0d562bd4-41b8-452d-b0c5-f0b4d0e1f3a7</td>\n",
       "      <td>9.0</td>\n",
       "      <td>81</td>\n",
       "    </tr>\n",
       "    <tr>\n",
       "      <th>2</th>\n",
       "      <td>AC18cf8a0c-469f-4d9e-85a7-3d8683faf0fe</td>\n",
       "      <td>9.0</td>\n",
       "      <td>72</td>\n",
       "    </tr>\n",
       "    <tr>\n",
       "      <th>3</th>\n",
       "      <td>AC7fae8a1e-262a-4559-93e8-39831962d3c9</td>\n",
       "      <td>8.0</td>\n",
       "      <td>64</td>\n",
       "    </tr>\n",
       "    <tr>\n",
       "      <th>4</th>\n",
       "      <td>AC14be37e4-f9f6-4765-b60b-3605db0322ff</td>\n",
       "      <td>8.0</td>\n",
       "      <td>72</td>\n",
       "    </tr>\n",
       "    <tr>\n",
       "      <th>5</th>\n",
       "      <td>ACf7b9d0d4-45b5-4796-818b-d38cfa3e7de9</td>\n",
       "      <td>8.0</td>\n",
       "      <td>24</td>\n",
       "    </tr>\n",
       "    <tr>\n",
       "      <th>6</th>\n",
       "      <td>AC3df4dddc-2374-43d1-a739-ecab6fcd353b</td>\n",
       "      <td>8.0</td>\n",
       "      <td>64</td>\n",
       "    </tr>\n",
       "    <tr>\n",
       "      <th>7</th>\n",
       "      <td>AC96a42313-e0e4-4e1c-b769-b8820b4c3505</td>\n",
       "      <td>8.0</td>\n",
       "      <td>64</td>\n",
       "    </tr>\n",
       "    <tr>\n",
       "      <th>8</th>\n",
       "      <td>AC3fa9f600-ee16-4e9d-993c-69a196a9e739</td>\n",
       "      <td>8.0</td>\n",
       "      <td>80</td>\n",
       "    </tr>\n",
       "    <tr>\n",
       "      <th>9</th>\n",
       "      <td>ACddc7710a-e5c7-4865-a853-9ab17b92170d</td>\n",
       "      <td>8.0</td>\n",
       "      <td>72</td>\n",
       "    </tr>\n",
       "  </tbody>\n",
       "</table>\n",
       "</div>"
      ],
      "text/plain": [
       "                                    ac_id  visits  visit_count\n",
       "0  AC4a8a9b9d-2b63-471b-a4ef-a9d63f1a5146     9.0           72\n",
       "1  AC0d562bd4-41b8-452d-b0c5-f0b4d0e1f3a7     9.0           81\n",
       "2  AC18cf8a0c-469f-4d9e-85a7-3d8683faf0fe     9.0           72\n",
       "3  AC7fae8a1e-262a-4559-93e8-39831962d3c9     8.0           64\n",
       "4  AC14be37e4-f9f6-4765-b60b-3605db0322ff     8.0           72\n",
       "5  ACf7b9d0d4-45b5-4796-818b-d38cfa3e7de9     8.0           24\n",
       "6  AC3df4dddc-2374-43d1-a739-ecab6fcd353b     8.0           64\n",
       "7  AC96a42313-e0e4-4e1c-b769-b8820b4c3505     8.0           64\n",
       "8  AC3fa9f600-ee16-4e9d-993c-69a196a9e739     8.0           80\n",
       "9  ACddc7710a-e5c7-4865-a853-9ab17b92170d     8.0           72"
      ]
     },
     "execution_count": 48,
     "metadata": {},
     "output_type": "execute_result"
    }
   ],
   "source": [
    "visit_rank_df.head(10)"
   ]
  },
  {
   "cell_type": "code",
   "execution_count": 49,
   "id": "a8dac598",
   "metadata": {},
   "outputs": [
    {
     "data": {
      "text/plain": [
       "(899926, 3)"
      ]
     },
     "execution_count": 49,
     "metadata": {},
     "output_type": "execute_result"
    }
   ],
   "source": [
    "visit_rank_df.shape"
   ]
  },
  {
   "cell_type": "code",
   "execution_count": 50,
   "id": "116cd5ab",
   "metadata": {},
   "outputs": [
    {
     "data": {
      "text/plain": [
       "ac_id               0\n",
       "visits         296297\n",
       "visit_count         0\n",
       "dtype: int64"
      ]
     },
     "execution_count": 50,
     "metadata": {},
     "output_type": "execute_result"
    }
   ],
   "source": [
    "visit_rank_df.isnull().sum()"
   ]
  },
  {
   "cell_type": "code",
   "execution_count": 51,
   "id": "fb803542",
   "metadata": {},
   "outputs": [
    {
     "data": {
      "text/html": [
       "<div>\n",
       "<style scoped>\n",
       "    .dataframe tbody tr th:only-of-type {\n",
       "        vertical-align: middle;\n",
       "    }\n",
       "\n",
       "    .dataframe tbody tr th {\n",
       "        vertical-align: top;\n",
       "    }\n",
       "\n",
       "    .dataframe thead th {\n",
       "        text-align: right;\n",
       "    }\n",
       "</style>\n",
       "<table border=\"1\" class=\"dataframe\">\n",
       "  <thead>\n",
       "    <tr style=\"text-align: right;\">\n",
       "      <th></th>\n",
       "      <th>ac_id</th>\n",
       "      <th>visits</th>\n",
       "      <th>visit_count</th>\n",
       "    </tr>\n",
       "  </thead>\n",
       "  <tbody>\n",
       "    <tr>\n",
       "      <th>899916</th>\n",
       "      <td>ACa86cc2cf-d98d-4f9b-943d-c9570e277d84</td>\n",
       "      <td>NaN</td>\n",
       "      <td>1</td>\n",
       "    </tr>\n",
       "    <tr>\n",
       "      <th>899917</th>\n",
       "      <td>AC086aa463-b219-4ce6-8f30-211086e9e592</td>\n",
       "      <td>NaN</td>\n",
       "      <td>1</td>\n",
       "    </tr>\n",
       "    <tr>\n",
       "      <th>899918</th>\n",
       "      <td>ACc5553977-116c-4ddf-b326-0d453ad8b1ac</td>\n",
       "      <td>NaN</td>\n",
       "      <td>1</td>\n",
       "    </tr>\n",
       "    <tr>\n",
       "      <th>899919</th>\n",
       "      <td>AC162b32d5-f60e-46fe-bb7b-779b6e25944b</td>\n",
       "      <td>NaN</td>\n",
       "      <td>1</td>\n",
       "    </tr>\n",
       "    <tr>\n",
       "      <th>899920</th>\n",
       "      <td>AC31099182-62b9-4e16-9cad-d5d2bb266601</td>\n",
       "      <td>NaN</td>\n",
       "      <td>1</td>\n",
       "    </tr>\n",
       "    <tr>\n",
       "      <th>899921</th>\n",
       "      <td>ACa2a8c5b9-40e6-4fdc-9cbf-7ceea0cf4773</td>\n",
       "      <td>NaN</td>\n",
       "      <td>1</td>\n",
       "    </tr>\n",
       "    <tr>\n",
       "      <th>899922</th>\n",
       "      <td>ACa0b786e0-78c5-442f-bda4-ddbfdf3a8763</td>\n",
       "      <td>NaN</td>\n",
       "      <td>1</td>\n",
       "    </tr>\n",
       "    <tr>\n",
       "      <th>899923</th>\n",
       "      <td>AC31058f91-ac73-4885-a52a-25f9bb9c5518</td>\n",
       "      <td>NaN</td>\n",
       "      <td>1</td>\n",
       "    </tr>\n",
       "    <tr>\n",
       "      <th>899924</th>\n",
       "      <td>AC49dba85c-6f37-4cba-a1ea-d2a38a2c95e4</td>\n",
       "      <td>NaN</td>\n",
       "      <td>1</td>\n",
       "    </tr>\n",
       "    <tr>\n",
       "      <th>899925</th>\n",
       "      <td>ACb81ce591-372a-4141-993b-406fb90bb343</td>\n",
       "      <td>NaN</td>\n",
       "      <td>1</td>\n",
       "    </tr>\n",
       "  </tbody>\n",
       "</table>\n",
       "</div>"
      ],
      "text/plain": [
       "                                         ac_id  visits  visit_count\n",
       "899916  ACa86cc2cf-d98d-4f9b-943d-c9570e277d84     NaN            1\n",
       "899917  AC086aa463-b219-4ce6-8f30-211086e9e592     NaN            1\n",
       "899918  ACc5553977-116c-4ddf-b326-0d453ad8b1ac     NaN            1\n",
       "899919  AC162b32d5-f60e-46fe-bb7b-779b6e25944b     NaN            1\n",
       "899920  AC31099182-62b9-4e16-9cad-d5d2bb266601     NaN            1\n",
       "899921  ACa2a8c5b9-40e6-4fdc-9cbf-7ceea0cf4773     NaN            1\n",
       "899922  ACa0b786e0-78c5-442f-bda4-ddbfdf3a8763     NaN            1\n",
       "899923  AC31058f91-ac73-4885-a52a-25f9bb9c5518     NaN            1\n",
       "899924  AC49dba85c-6f37-4cba-a1ea-d2a38a2c95e4     NaN            1\n",
       "899925  ACb81ce591-372a-4141-993b-406fb90bb343     NaN            1"
      ]
     },
     "execution_count": 51,
     "metadata": {},
     "output_type": "execute_result"
    }
   ],
   "source": [
    "visit_rank_df.tail(10)"
   ]
  },
  {
   "cell_type": "markdown",
   "id": "66978c87",
   "metadata": {},
   "source": [
    "Confirms the difference in unique ac_id between purchase records and visitng the site is 296297"
   ]
  },
  {
   "cell_type": "code",
   "execution_count": 52,
   "id": "b005df89",
   "metadata": {},
   "outputs": [],
   "source": [
    "%matplotlib inline\n",
    "import matplotlib.pyplot as plt \n",
    "import seaborn as sns\n",
    "sns.set_theme()"
   ]
  },
  {
   "cell_type": "code",
   "execution_count": 53,
   "id": "0ca87294",
   "metadata": {},
   "outputs": [],
   "source": [
    "import scipy.stats as stats"
   ]
  },
  {
   "cell_type": "code",
   "execution_count": 54,
   "id": "148b8be7",
   "metadata": {},
   "outputs": [],
   "source": [
    "visit_rank_df['label'] = stats.mstats.winsorize(visit_rank_df['visit_count'], limits=[0.01, 0.01])"
   ]
  },
  {
   "cell_type": "code",
   "execution_count": 55,
   "id": "db9b5c8d",
   "metadata": {},
   "outputs": [
    {
     "data": {
      "text/html": [
       "<div>\n",
       "<style scoped>\n",
       "    .dataframe tbody tr th:only-of-type {\n",
       "        vertical-align: middle;\n",
       "    }\n",
       "\n",
       "    .dataframe tbody tr th {\n",
       "        vertical-align: top;\n",
       "    }\n",
       "\n",
       "    .dataframe thead th {\n",
       "        text-align: right;\n",
       "    }\n",
       "</style>\n",
       "<table border=\"1\" class=\"dataframe\">\n",
       "  <thead>\n",
       "    <tr style=\"text-align: right;\">\n",
       "      <th></th>\n",
       "      <th>ac_id</th>\n",
       "      <th>visits</th>\n",
       "      <th>visit_count</th>\n",
       "      <th>label</th>\n",
       "    </tr>\n",
       "  </thead>\n",
       "  <tbody>\n",
       "    <tr>\n",
       "      <th>0</th>\n",
       "      <td>AC4a8a9b9d-2b63-471b-a4ef-a9d63f1a5146</td>\n",
       "      <td>9.0</td>\n",
       "      <td>72</td>\n",
       "      <td>40</td>\n",
       "    </tr>\n",
       "    <tr>\n",
       "      <th>1</th>\n",
       "      <td>AC0d562bd4-41b8-452d-b0c5-f0b4d0e1f3a7</td>\n",
       "      <td>9.0</td>\n",
       "      <td>81</td>\n",
       "      <td>40</td>\n",
       "    </tr>\n",
       "    <tr>\n",
       "      <th>2</th>\n",
       "      <td>AC18cf8a0c-469f-4d9e-85a7-3d8683faf0fe</td>\n",
       "      <td>9.0</td>\n",
       "      <td>72</td>\n",
       "      <td>40</td>\n",
       "    </tr>\n",
       "    <tr>\n",
       "      <th>3</th>\n",
       "      <td>AC7fae8a1e-262a-4559-93e8-39831962d3c9</td>\n",
       "      <td>8.0</td>\n",
       "      <td>64</td>\n",
       "      <td>40</td>\n",
       "    </tr>\n",
       "    <tr>\n",
       "      <th>4</th>\n",
       "      <td>AC14be37e4-f9f6-4765-b60b-3605db0322ff</td>\n",
       "      <td>8.0</td>\n",
       "      <td>72</td>\n",
       "      <td>40</td>\n",
       "    </tr>\n",
       "    <tr>\n",
       "      <th>5</th>\n",
       "      <td>ACf7b9d0d4-45b5-4796-818b-d38cfa3e7de9</td>\n",
       "      <td>8.0</td>\n",
       "      <td>24</td>\n",
       "      <td>24</td>\n",
       "    </tr>\n",
       "    <tr>\n",
       "      <th>6</th>\n",
       "      <td>AC3df4dddc-2374-43d1-a739-ecab6fcd353b</td>\n",
       "      <td>8.0</td>\n",
       "      <td>64</td>\n",
       "      <td>40</td>\n",
       "    </tr>\n",
       "    <tr>\n",
       "      <th>7</th>\n",
       "      <td>AC96a42313-e0e4-4e1c-b769-b8820b4c3505</td>\n",
       "      <td>8.0</td>\n",
       "      <td>64</td>\n",
       "      <td>40</td>\n",
       "    </tr>\n",
       "    <tr>\n",
       "      <th>8</th>\n",
       "      <td>AC3fa9f600-ee16-4e9d-993c-69a196a9e739</td>\n",
       "      <td>8.0</td>\n",
       "      <td>80</td>\n",
       "      <td>40</td>\n",
       "    </tr>\n",
       "    <tr>\n",
       "      <th>9</th>\n",
       "      <td>ACddc7710a-e5c7-4865-a853-9ab17b92170d</td>\n",
       "      <td>8.0</td>\n",
       "      <td>72</td>\n",
       "      <td>40</td>\n",
       "    </tr>\n",
       "  </tbody>\n",
       "</table>\n",
       "</div>"
      ],
      "text/plain": [
       "                                    ac_id  visits  visit_count  label\n",
       "0  AC4a8a9b9d-2b63-471b-a4ef-a9d63f1a5146     9.0           72     40\n",
       "1  AC0d562bd4-41b8-452d-b0c5-f0b4d0e1f3a7     9.0           81     40\n",
       "2  AC18cf8a0c-469f-4d9e-85a7-3d8683faf0fe     9.0           72     40\n",
       "3  AC7fae8a1e-262a-4559-93e8-39831962d3c9     8.0           64     40\n",
       "4  AC14be37e4-f9f6-4765-b60b-3605db0322ff     8.0           72     40\n",
       "5  ACf7b9d0d4-45b5-4796-818b-d38cfa3e7de9     8.0           24     24\n",
       "6  AC3df4dddc-2374-43d1-a739-ecab6fcd353b     8.0           64     40\n",
       "7  AC96a42313-e0e4-4e1c-b769-b8820b4c3505     8.0           64     40\n",
       "8  AC3fa9f600-ee16-4e9d-993c-69a196a9e739     8.0           80     40\n",
       "9  ACddc7710a-e5c7-4865-a853-9ab17b92170d     8.0           72     40"
      ]
     },
     "execution_count": 55,
     "metadata": {},
     "output_type": "execute_result"
    }
   ],
   "source": [
    "visit_rank_df.head(10)"
   ]
  },
  {
   "cell_type": "code",
   "execution_count": 56,
   "id": "a6ef8679",
   "metadata": {},
   "outputs": [
    {
     "name": "stdout",
     "output_type": "stream",
     "text": [
      "[-2 -1  0  2  4  5  6  8  9 10 11 12 14 15 16 17 20 23 24 25 26 28 30 32\n",
      " 35 36 37 38 40 41 44 45 48 50 51 55 56 58 60 62 65 72 86]\n"
     ]
    }
   ],
   "source": [
    "visit_count_diff = visit_rank_df['visit_count'] - visit_rank_df['label']\n",
    "print(np.unique(visit_count_diff))"
   ]
  },
  {
   "cell_type": "code",
   "execution_count": 57,
   "id": "77209766",
   "metadata": {},
   "outputs": [
    {
     "name": "stdout",
     "output_type": "stream",
     "text": [
      "ac_id               0\n",
      "visits         296297\n",
      "visit_count         0\n",
      "label               0\n",
      "dtype: int64\n"
     ]
    }
   ],
   "source": [
    "nan_count = np.sum(visit_rank_df.isnull(),axis=0)\n",
    "print(nan_count)"
   ]
  },
  {
   "cell_type": "code",
   "execution_count": 58,
   "id": "029107e6",
   "metadata": {},
   "outputs": [],
   "source": [
    "visit_rank_df['visits_na'] = visit_rank_df['visits'].isnull()"
   ]
  },
  {
   "cell_type": "code",
   "execution_count": 60,
   "id": "8b16913f",
   "metadata": {},
   "outputs": [],
   "source": [
    "mean_visit = visit_rank_df['visits'].mean()\n",
    "visit_rank_df['visits'].fillna(value=mean_visit, inplace=True)"
   ]
  },
  {
   "cell_type": "code",
   "execution_count": 61,
   "id": "ac236eef",
   "metadata": {},
   "outputs": [
    {
     "data": {
      "text/plain": [
       "0"
      ]
     },
     "execution_count": 61,
     "metadata": {},
     "output_type": "execute_result"
    }
   ],
   "source": [
    "np.sum(visit_rank_df['visits'].isnull(), axis = 0)"
   ]
  },
  {
   "cell_type": "markdown",
   "id": "62f1aa71",
   "metadata": {},
   "source": [
    "Successful in replacing number of visits null values"
   ]
  },
  {
   "cell_type": "code",
   "execution_count": 62,
   "id": "42729070",
   "metadata": {},
   "outputs": [
    {
     "data": {
      "text/html": [
       "<div>\n",
       "<style scoped>\n",
       "    .dataframe tbody tr th:only-of-type {\n",
       "        vertical-align: middle;\n",
       "    }\n",
       "\n",
       "    .dataframe tbody tr th {\n",
       "        vertical-align: top;\n",
       "    }\n",
       "\n",
       "    .dataframe thead th {\n",
       "        text-align: right;\n",
       "    }\n",
       "</style>\n",
       "<table border=\"1\" class=\"dataframe\">\n",
       "  <thead>\n",
       "    <tr style=\"text-align: right;\">\n",
       "      <th></th>\n",
       "      <th>visits</th>\n",
       "      <th>visit_count</th>\n",
       "      <th>label</th>\n",
       "      <th>visits_na</th>\n",
       "    </tr>\n",
       "  </thead>\n",
       "  <tbody>\n",
       "    <tr>\n",
       "      <th>visits</th>\n",
       "      <td>1.000000e+00</td>\n",
       "      <td>0.735898</td>\n",
       "      <td>0.731688</td>\n",
       "      <td>2.671267e-15</td>\n",
       "    </tr>\n",
       "    <tr>\n",
       "      <th>visit_count</th>\n",
       "      <td>7.358979e-01</td>\n",
       "      <td>1.000000</td>\n",
       "      <td>0.988500</td>\n",
       "      <td>-3.194550e-01</td>\n",
       "    </tr>\n",
       "    <tr>\n",
       "      <th>label</th>\n",
       "      <td>7.316881e-01</td>\n",
       "      <td>0.988500</td>\n",
       "      <td>1.000000</td>\n",
       "      <td>-3.302928e-01</td>\n",
       "    </tr>\n",
       "    <tr>\n",
       "      <th>visits_na</th>\n",
       "      <td>2.671267e-15</td>\n",
       "      <td>-0.319455</td>\n",
       "      <td>-0.330293</td>\n",
       "      <td>1.000000e+00</td>\n",
       "    </tr>\n",
       "  </tbody>\n",
       "</table>\n",
       "</div>"
      ],
      "text/plain": [
       "                   visits  visit_count     label     visits_na\n",
       "visits       1.000000e+00     0.735898  0.731688  2.671267e-15\n",
       "visit_count  7.358979e-01     1.000000  0.988500 -3.194550e-01\n",
       "label        7.316881e-01     0.988500  1.000000 -3.302928e-01\n",
       "visits_na    2.671267e-15    -0.319455 -0.330293  1.000000e+00"
      ]
     },
     "execution_count": 62,
     "metadata": {},
     "output_type": "execute_result"
    }
   ],
   "source": [
    "visit_rank_df.corr()"
   ]
  },
  {
   "cell_type": "code",
   "execution_count": 63,
   "id": "4a36df7b",
   "metadata": {},
   "outputs": [
    {
     "data": {
      "text/plain": [
       "visits         0.731688\n",
       "visit_count    0.988500\n",
       "label          1.000000\n",
       "visits_na     -0.330293\n",
       "Name: label, dtype: float64"
      ]
     },
     "execution_count": 63,
     "metadata": {},
     "output_type": "execute_result"
    }
   ],
   "source": [
    "visit_rank_df.corr()['label']"
   ]
  },
  {
   "cell_type": "code",
   "execution_count": 64,
   "id": "500a9acd",
   "metadata": {},
   "outputs": [
    {
     "data": {
      "text/plain": [
       "visits         0.731688\n",
       "visit_count    0.988500\n",
       "visits_na     -0.330293\n",
       "Name: label, dtype: float64"
      ]
     },
     "execution_count": 64,
     "metadata": {},
     "output_type": "execute_result"
    }
   ],
   "source": [
    "exclude = ['label']\n",
    "visit_rank_df.corr()['label'].drop(exclude,axis=0)"
   ]
  },
  {
   "cell_type": "code",
   "execution_count": 65,
   "id": "9f799cd7",
   "metadata": {},
   "outputs": [
    {
     "name": "stdout",
     "output_type": "stream",
     "text": [
      "visit_count    0.988500\n",
      "visits         0.731688\n",
      "visits_na     -0.330293\n",
      "Name: label, dtype: float64\n"
     ]
    }
   ],
   "source": [
    "corrs = visit_rank_df.corr()['label'].drop(exclude, axis = 0)\n",
    "corrs_sorted = corrs.sort_values(ascending=False)\n",
    "print(corrs_sorted)"
   ]
  },
  {
   "cell_type": "code",
   "execution_count": 66,
   "id": "7da14cbe",
   "metadata": {},
   "outputs": [
    {
     "data": {
      "text/plain": [
       "[0.9884996936847787, 0.7316881456753451]"
      ]
     },
     "execution_count": 66,
     "metadata": {},
     "output_type": "execute_result"
    }
   ],
   "source": [
    "top_two_corr = corrs_sorted[0:2].tolist()\n",
    "top_two_corr"
   ]
  },
  {
   "cell_type": "code",
   "execution_count": 67,
   "id": "bb2a5746",
   "metadata": {},
   "outputs": [
    {
     "data": {
      "text/html": [
       "<div>\n",
       "<style scoped>\n",
       "    .dataframe tbody tr th:only-of-type {\n",
       "        vertical-align: middle;\n",
       "    }\n",
       "\n",
       "    .dataframe tbody tr th {\n",
       "        vertical-align: top;\n",
       "    }\n",
       "\n",
       "    .dataframe thead th {\n",
       "        text-align: right;\n",
       "    }\n",
       "</style>\n",
       "<table border=\"1\" class=\"dataframe\">\n",
       "  <thead>\n",
       "    <tr style=\"text-align: right;\">\n",
       "      <th></th>\n",
       "      <th>visit_count</th>\n",
       "      <th>visits</th>\n",
       "      <th>label</th>\n",
       "    </tr>\n",
       "  </thead>\n",
       "  <tbody>\n",
       "    <tr>\n",
       "      <th>0</th>\n",
       "      <td>72</td>\n",
       "      <td>9.000000</td>\n",
       "      <td>40</td>\n",
       "    </tr>\n",
       "    <tr>\n",
       "      <th>1</th>\n",
       "      <td>81</td>\n",
       "      <td>9.000000</td>\n",
       "      <td>40</td>\n",
       "    </tr>\n",
       "    <tr>\n",
       "      <th>2</th>\n",
       "      <td>72</td>\n",
       "      <td>9.000000</td>\n",
       "      <td>40</td>\n",
       "    </tr>\n",
       "    <tr>\n",
       "      <th>3</th>\n",
       "      <td>64</td>\n",
       "      <td>8.000000</td>\n",
       "      <td>40</td>\n",
       "    </tr>\n",
       "    <tr>\n",
       "      <th>4</th>\n",
       "      <td>72</td>\n",
       "      <td>8.000000</td>\n",
       "      <td>40</td>\n",
       "    </tr>\n",
       "    <tr>\n",
       "      <th>...</th>\n",
       "      <td>...</td>\n",
       "      <td>...</td>\n",
       "      <td>...</td>\n",
       "    </tr>\n",
       "    <tr>\n",
       "      <th>899921</th>\n",
       "      <td>1</td>\n",
       "      <td>1.656645</td>\n",
       "      <td>3</td>\n",
       "    </tr>\n",
       "    <tr>\n",
       "      <th>899922</th>\n",
       "      <td>1</td>\n",
       "      <td>1.656645</td>\n",
       "      <td>3</td>\n",
       "    </tr>\n",
       "    <tr>\n",
       "      <th>899923</th>\n",
       "      <td>1</td>\n",
       "      <td>1.656645</td>\n",
       "      <td>3</td>\n",
       "    </tr>\n",
       "    <tr>\n",
       "      <th>899924</th>\n",
       "      <td>1</td>\n",
       "      <td>1.656645</td>\n",
       "      <td>3</td>\n",
       "    </tr>\n",
       "    <tr>\n",
       "      <th>899925</th>\n",
       "      <td>1</td>\n",
       "      <td>1.656645</td>\n",
       "      <td>3</td>\n",
       "    </tr>\n",
       "  </tbody>\n",
       "</table>\n",
       "<p>899926 rows × 3 columns</p>\n",
       "</div>"
      ],
      "text/plain": [
       "        visit_count    visits  label\n",
       "0                72  9.000000     40\n",
       "1                81  9.000000     40\n",
       "2                72  9.000000     40\n",
       "3                64  8.000000     40\n",
       "4                72  8.000000     40\n",
       "...             ...       ...    ...\n",
       "899921            1  1.656645      3\n",
       "899922            1  1.656645      3\n",
       "899923            1  1.656645      3\n",
       "899924            1  1.656645      3\n",
       "899925            1  1.656645      3\n",
       "\n",
       "[899926 rows x 3 columns]"
      ]
     },
     "execution_count": 67,
     "metadata": {},
     "output_type": "execute_result"
    }
   ],
   "source": [
    "df_sub = visit_rank_df[['visit_count', 'visits', 'label']].copy()\n",
    "df_sub"
   ]
  },
  {
   "cell_type": "code",
   "execution_count": 68,
   "id": "27019e59",
   "metadata": {},
   "outputs": [
    {
     "data": {
      "text/plain": [
       "<seaborn.axisgrid.PairGrid at 0x7fb93dbb2f40>"
      ]
     },
     "execution_count": 68,
     "metadata": {},
     "output_type": "execute_result"
    },
    {
     "data": {
      "image/png": "[encoded data removed]",
      "text/plain": [
       "<Figure size 540x540 with 12 Axes>"
      ]
     },
     "metadata": {},
     "output_type": "display_data"
    }
   ],
   "source": [
    "sns.pairplot(data=df_sub)"
   ]
  },
  {
   "cell_type": "code",
   "execution_count": null,
   "id": "110a148f",
   "metadata": {},
   "outputs": [],
   "source": []
  }
 ],
 "metadata": {
  "kernelspec": {
   "display_name": "Python 3 (ipykernel)",
   "language": "python",
   "name": "python3"
  },
  "language_info": {
   "codemirror_mode": {
    "name": "ipython",
    "version": 3
   },
   "file_extension": ".py",
   "mimetype": "text/x-python",
   "name": "python",
   "nbconvert_exporter": "python",
   "pygments_lexer": "ipython3",
   "version": "3.9.12"
  }
 },
 "nbformat": 4,
 "nbformat_minor": 5
}
