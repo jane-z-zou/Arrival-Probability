{
 "cells": [
  {
   "cell_type": "code",
   "execution_count": 1,
   "id": "452eb14e",
   "metadata": {},
   "outputs": [],
   "source": [
    "import os\n",
    "inputs = []\n",
    "for file in os.listdir(\"Dependent\"):\n",
    "    if file.endswith(\".txt\"):\n",
    "        inputs.append(os.path.join(\"Dependent\", file))\n",
    "\n",
    "# concatanate all txt files in a file called merged_dep.txt\n",
    "with open('merged_dep.txt', 'w') as outfile:\n",
    "    for fname in inputs:\n",
    "        with open(fname, encoding=\"utf-8\", errors='ignore') as infile:\n",
    "            for line in infile:\n",
    "                outfile.write(line)"
   ]
  },
  {
   "cell_type": "code",
   "execution_count": 2,
   "id": "120164ce",
   "metadata": {},
   "outputs": [],
   "source": [
    "import pandas as pd\n",
    "import numpy as np\n",
    "import os, glob"
   ]
  },
  {
   "cell_type": "code",
   "execution_count": 3,
   "id": "b04fb0ae",
   "metadata": {},
   "outputs": [],
   "source": [
    "filename = os.path.join(os.getcwd(), \"Dependent\", \"merged_dep.txt\")"
   ]
  },
  {
   "cell_type": "code",
   "execution_count": 4,
   "id": "cd82301e",
   "metadata": {},
   "outputs": [],
   "source": [
    "df = pd.read_table(filename, low_memory=False)"
   ]
  },
  {
   "cell_type": "code",
   "execution_count": 5,
   "id": "1708cdbe",
   "metadata": {},
   "outputs": [
    {
     "data": {
      "text/plain": [
       "(27897898, 2)"
      ]
     },
     "execution_count": 5,
     "metadata": {},
     "output_type": "execute_result"
    }
   ],
   "source": [
    "df.shape"
   ]
  },
  {
   "cell_type": "code",
   "execution_count": 6,
   "id": "05193920",
   "metadata": {},
   "outputs": [
    {
     "data": {
      "text/html": [
       "<div>\n",
       "<style scoped>\n",
       "    .dataframe tbody tr th:only-of-type {\n",
       "        vertical-align: middle;\n",
       "    }\n",
       "\n",
       "    .dataframe tbody tr th {\n",
       "        vertical-align: top;\n",
       "    }\n",
       "\n",
       "    .dataframe thead th {\n",
       "        text-align: right;\n",
       "    }\n",
       "</style>\n",
       "<table border=\"1\" class=\"dataframe\">\n",
       "  <thead>\n",
       "    <tr style=\"text-align: right;\">\n",
       "      <th></th>\n",
       "      <th>ac_id</th>\n",
       "      <th>arr_ind_2</th>\n",
       "    </tr>\n",
       "  </thead>\n",
       "  <tbody>\n",
       "    <tr>\n",
       "      <th>0</th>\n",
       "      <td>AC4592fa29-384c-4d58-a74b-2ac5780e884f</td>\n",
       "      <td>0.0</td>\n",
       "    </tr>\n",
       "    <tr>\n",
       "      <th>1</th>\n",
       "      <td>AC4fb74ef4-3f46-4e6a-9ae7-657320b463bc</td>\n",
       "      <td>0.0</td>\n",
       "    </tr>\n",
       "    <tr>\n",
       "      <th>2</th>\n",
       "      <td>AC10e4b9f0-e76f-4da7-a0d3-99988ef23f08</td>\n",
       "      <td>0.0</td>\n",
       "    </tr>\n",
       "    <tr>\n",
       "      <th>3</th>\n",
       "      <td>ACe990a57f-8061-4303-97f6-83b6c580a5f1</td>\n",
       "      <td>0.0</td>\n",
       "    </tr>\n",
       "    <tr>\n",
       "      <th>4</th>\n",
       "      <td>ACcec24e2f-c5d0-49ac-ae7d-8106e50646ce</td>\n",
       "      <td>0.0</td>\n",
       "    </tr>\n",
       "    <tr>\n",
       "      <th>5</th>\n",
       "      <td>AC54a351a3-ce4b-477e-b2f3-3e9be042c4ff</td>\n",
       "      <td>0.0</td>\n",
       "    </tr>\n",
       "    <tr>\n",
       "      <th>6</th>\n",
       "      <td>ACbfe839d3-6893-4c22-852e-7f40b19aba0f</td>\n",
       "      <td>0.0</td>\n",
       "    </tr>\n",
       "    <tr>\n",
       "      <th>7</th>\n",
       "      <td>ACb4cb4c24-404a-4b24-9c2e-fd7c35b4f6a1</td>\n",
       "      <td>0.0</td>\n",
       "    </tr>\n",
       "    <tr>\n",
       "      <th>8</th>\n",
       "      <td>AC8520aa82-7936-4fb8-9dbe-70afc9c524a7</td>\n",
       "      <td>0.0</td>\n",
       "    </tr>\n",
       "    <tr>\n",
       "      <th>9</th>\n",
       "      <td>ACb7273b5d-8be1-47f9-8318-edd6fd5ca648</td>\n",
       "      <td>0.0</td>\n",
       "    </tr>\n",
       "  </tbody>\n",
       "</table>\n",
       "</div>"
      ],
      "text/plain": [
       "                                    ac_id arr_ind_2\n",
       "0  AC4592fa29-384c-4d58-a74b-2ac5780e884f       0.0\n",
       "1  AC4fb74ef4-3f46-4e6a-9ae7-657320b463bc       0.0\n",
       "2  AC10e4b9f0-e76f-4da7-a0d3-99988ef23f08       0.0\n",
       "3  ACe990a57f-8061-4303-97f6-83b6c580a5f1       0.0\n",
       "4  ACcec24e2f-c5d0-49ac-ae7d-8106e50646ce       0.0\n",
       "5  AC54a351a3-ce4b-477e-b2f3-3e9be042c4ff       0.0\n",
       "6  ACbfe839d3-6893-4c22-852e-7f40b19aba0f       0.0\n",
       "7  ACb4cb4c24-404a-4b24-9c2e-fd7c35b4f6a1       0.0\n",
       "8  AC8520aa82-7936-4fb8-9dbe-70afc9c524a7       0.0\n",
       "9  ACb7273b5d-8be1-47f9-8318-edd6fd5ca648       0.0"
      ]
     },
     "execution_count": 6,
     "metadata": {},
     "output_type": "execute_result"
    }
   ],
   "source": [
    "df.head(10)"
   ]
  },
  {
   "cell_type": "code",
   "execution_count": 7,
   "id": "d73a576d",
   "metadata": {},
   "outputs": [
    {
     "data": {
      "text/html": [
       "<div>\n",
       "<style scoped>\n",
       "    .dataframe tbody tr th:only-of-type {\n",
       "        vertical-align: middle;\n",
       "    }\n",
       "\n",
       "    .dataframe tbody tr th {\n",
       "        vertical-align: top;\n",
       "    }\n",
       "\n",
       "    .dataframe thead th {\n",
       "        text-align: right;\n",
       "    }\n",
       "</style>\n",
       "<table border=\"1\" class=\"dataframe\">\n",
       "  <thead>\n",
       "    <tr style=\"text-align: right;\">\n",
       "      <th></th>\n",
       "      <th>ac_id</th>\n",
       "      <th>arr_ind_2</th>\n",
       "    </tr>\n",
       "  </thead>\n",
       "  <tbody>\n",
       "    <tr>\n",
       "      <th>27897888</th>\n",
       "      <td>ACca7618a7-7df4-452e-b9f8-39e9be07a2c8</td>\n",
       "      <td>1</td>\n",
       "    </tr>\n",
       "    <tr>\n",
       "      <th>27897889</th>\n",
       "      <td>AC95e4eb4f-6469-4a67-be70-90395e85ee4f</td>\n",
       "      <td>1</td>\n",
       "    </tr>\n",
       "    <tr>\n",
       "      <th>27897890</th>\n",
       "      <td>AC3b11edc9-486c-436b-b650-5f6cd9067535</td>\n",
       "      <td>1</td>\n",
       "    </tr>\n",
       "    <tr>\n",
       "      <th>27897891</th>\n",
       "      <td>AC0243ef2f-920c-42e4-8f5f-67b44c7d7624</td>\n",
       "      <td>1</td>\n",
       "    </tr>\n",
       "    <tr>\n",
       "      <th>27897892</th>\n",
       "      <td>AC242fbaac-f33b-401b-89a2-02f183f9ee0b</td>\n",
       "      <td>1</td>\n",
       "    </tr>\n",
       "    <tr>\n",
       "      <th>27897893</th>\n",
       "      <td>ACe6f464d2-cd3d-4b5f-bcfa-28fb67b10610</td>\n",
       "      <td>1</td>\n",
       "    </tr>\n",
       "    <tr>\n",
       "      <th>27897894</th>\n",
       "      <td>ACc6f19043-dbe1-41cd-8735-44567ba06bfa</td>\n",
       "      <td>1</td>\n",
       "    </tr>\n",
       "    <tr>\n",
       "      <th>27897895</th>\n",
       "      <td>AC9cc93ce0-d0bd-4223-8f1d-9a6eb3b9b997</td>\n",
       "      <td>1</td>\n",
       "    </tr>\n",
       "    <tr>\n",
       "      <th>27897896</th>\n",
       "      <td>ACb2d8faf2-849e-49d4-90af-641273c7ec21</td>\n",
       "      <td>1</td>\n",
       "    </tr>\n",
       "    <tr>\n",
       "      <th>27897897</th>\n",
       "      <td>ACc252ad90-9bed-468c-8a5</td>\n",
       "      <td>NaN</td>\n",
       "    </tr>\n",
       "  </tbody>\n",
       "</table>\n",
       "</div>"
      ],
      "text/plain": [
       "                                           ac_id arr_ind_2\n",
       "27897888  ACca7618a7-7df4-452e-b9f8-39e9be07a2c8         1\n",
       "27897889  AC95e4eb4f-6469-4a67-be70-90395e85ee4f         1\n",
       "27897890  AC3b11edc9-486c-436b-b650-5f6cd9067535         1\n",
       "27897891  AC0243ef2f-920c-42e4-8f5f-67b44c7d7624         1\n",
       "27897892  AC242fbaac-f33b-401b-89a2-02f183f9ee0b         1\n",
       "27897893  ACe6f464d2-cd3d-4b5f-bcfa-28fb67b10610         1\n",
       "27897894  ACc6f19043-dbe1-41cd-8735-44567ba06bfa         1\n",
       "27897895  AC9cc93ce0-d0bd-4223-8f1d-9a6eb3b9b997         1\n",
       "27897896  ACb2d8faf2-849e-49d4-90af-641273c7ec21         1\n",
       "27897897                ACc252ad90-9bed-468c-8a5       NaN"
      ]
     },
     "execution_count": 7,
     "metadata": {},
     "output_type": "execute_result"
    }
   ],
   "source": [
    "df.tail(10)"
   ]
  },
  {
   "cell_type": "code",
   "execution_count": 8,
   "id": "b74963dc",
   "metadata": {},
   "outputs": [],
   "source": [
    "df = df.drop(27897897,axis=0)"
   ]
  },
  {
   "cell_type": "code",
   "execution_count": 9,
   "id": "446b369f",
   "metadata": {},
   "outputs": [
    {
     "data": {
      "text/html": [
       "<div>\n",
       "<style scoped>\n",
       "    .dataframe tbody tr th:only-of-type {\n",
       "        vertical-align: middle;\n",
       "    }\n",
       "\n",
       "    .dataframe tbody tr th {\n",
       "        vertical-align: top;\n",
       "    }\n",
       "\n",
       "    .dataframe thead th {\n",
       "        text-align: right;\n",
       "    }\n",
       "</style>\n",
       "<table border=\"1\" class=\"dataframe\">\n",
       "  <thead>\n",
       "    <tr style=\"text-align: right;\">\n",
       "      <th></th>\n",
       "      <th>ac_id</th>\n",
       "      <th>arr_ind_2</th>\n",
       "    </tr>\n",
       "  </thead>\n",
       "  <tbody>\n",
       "    <tr>\n",
       "      <th>27897892</th>\n",
       "      <td>AC242fbaac-f33b-401b-89a2-02f183f9ee0b</td>\n",
       "      <td>1</td>\n",
       "    </tr>\n",
       "    <tr>\n",
       "      <th>27897893</th>\n",
       "      <td>ACe6f464d2-cd3d-4b5f-bcfa-28fb67b10610</td>\n",
       "      <td>1</td>\n",
       "    </tr>\n",
       "    <tr>\n",
       "      <th>27897894</th>\n",
       "      <td>ACc6f19043-dbe1-41cd-8735-44567ba06bfa</td>\n",
       "      <td>1</td>\n",
       "    </tr>\n",
       "    <tr>\n",
       "      <th>27897895</th>\n",
       "      <td>AC9cc93ce0-d0bd-4223-8f1d-9a6eb3b9b997</td>\n",
       "      <td>1</td>\n",
       "    </tr>\n",
       "    <tr>\n",
       "      <th>27897896</th>\n",
       "      <td>ACb2d8faf2-849e-49d4-90af-641273c7ec21</td>\n",
       "      <td>1</td>\n",
       "    </tr>\n",
       "  </tbody>\n",
       "</table>\n",
       "</div>"
      ],
      "text/plain": [
       "                                           ac_id arr_ind_2\n",
       "27897892  AC242fbaac-f33b-401b-89a2-02f183f9ee0b         1\n",
       "27897893  ACe6f464d2-cd3d-4b5f-bcfa-28fb67b10610         1\n",
       "27897894  ACc6f19043-dbe1-41cd-8735-44567ba06bfa         1\n",
       "27897895  AC9cc93ce0-d0bd-4223-8f1d-9a6eb3b9b997         1\n",
       "27897896  ACb2d8faf2-849e-49d4-90af-641273c7ec21         1"
      ]
     },
     "execution_count": 9,
     "metadata": {},
     "output_type": "execute_result"
    }
   ],
   "source": [
    "df.tail()"
   ]
  },
  {
   "cell_type": "code",
   "execution_count": 10,
   "id": "bba0d890",
   "metadata": {},
   "outputs": [
    {
     "data": {
      "text/plain": [
       "ac_id        object\n",
       "arr_ind_2    object\n",
       "dtype: object"
      ]
     },
     "execution_count": 10,
     "metadata": {},
     "output_type": "execute_result"
    }
   ],
   "source": [
    "df.dtypes"
   ]
  },
  {
   "cell_type": "code",
   "execution_count": 11,
   "id": "dccf0d1e",
   "metadata": {},
   "outputs": [
    {
     "data": {
      "text/plain": [
       "(27897897, 2)"
      ]
     },
     "execution_count": 11,
     "metadata": {},
     "output_type": "execute_result"
    }
   ],
   "source": [
    "df.shape"
   ]
  },
  {
   "cell_type": "code",
   "execution_count": 12,
   "id": "e36ffbe7",
   "metadata": {},
   "outputs": [
    {
     "data": {
      "text/plain": [
       "ac_id        0\n",
       "arr_ind_2    0\n",
       "dtype: int64"
      ]
     },
     "execution_count": 12,
     "metadata": {},
     "output_type": "execute_result"
    }
   ],
   "source": [
    "df.isnull().sum()"
   ]
  },
  {
   "cell_type": "code",
   "execution_count": 13,
   "id": "cb4889f3",
   "metadata": {},
   "outputs": [],
   "source": [
    "df = df.loc[df['arr_ind_2'] != 0.0]"
   ]
  },
  {
   "cell_type": "code",
   "execution_count": 14,
   "id": "5b855ab4",
   "metadata": {},
   "outputs": [
    {
     "data": {
      "text/plain": [
       "<bound method NDFrame.head of                                            ac_id arr_ind_2\n",
       "0         AC4592fa29-384c-4d58-a74b-2ac5780e884f       0.0\n",
       "1         AC4fb74ef4-3f46-4e6a-9ae7-657320b463bc       0.0\n",
       "2         AC10e4b9f0-e76f-4da7-a0d3-99988ef23f08       0.0\n",
       "3         ACe990a57f-8061-4303-97f6-83b6c580a5f1       0.0\n",
       "4         ACcec24e2f-c5d0-49ac-ae7d-8106e50646ce       0.0\n",
       "...                                          ...       ...\n",
       "27897892  AC242fbaac-f33b-401b-89a2-02f183f9ee0b         1\n",
       "27897893  ACe6f464d2-cd3d-4b5f-bcfa-28fb67b10610         1\n",
       "27897894  ACc6f19043-dbe1-41cd-8735-44567ba06bfa         1\n",
       "27897895  AC9cc93ce0-d0bd-4223-8f1d-9a6eb3b9b997         1\n",
       "27897896  ACb2d8faf2-849e-49d4-90af-641273c7ec21         1\n",
       "\n",
       "[27897897 rows x 2 columns]>"
      ]
     },
     "execution_count": 14,
     "metadata": {},
     "output_type": "execute_result"
    }
   ],
   "source": [
    "df.head"
   ]
  },
  {
   "cell_type": "code",
   "execution_count": 15,
   "id": "cb8f7cb5",
   "metadata": {},
   "outputs": [
    {
     "data": {
      "text/html": [
       "<div>\n",
       "<style scoped>\n",
       "    .dataframe tbody tr th:only-of-type {\n",
       "        vertical-align: middle;\n",
       "    }\n",
       "\n",
       "    .dataframe tbody tr th {\n",
       "        vertical-align: top;\n",
       "    }\n",
       "\n",
       "    .dataframe thead th {\n",
       "        text-align: right;\n",
       "    }\n",
       "</style>\n",
       "<table border=\"1\" class=\"dataframe\">\n",
       "  <thead>\n",
       "    <tr style=\"text-align: right;\">\n",
       "      <th></th>\n",
       "      <th>ac_id</th>\n",
       "      <th>arr_ind_2</th>\n",
       "    </tr>\n",
       "  </thead>\n",
       "  <tbody>\n",
       "    <tr>\n",
       "      <th>0</th>\n",
       "      <td>AC4592fa29-384c-4d58-a74b-2ac5780e884f</td>\n",
       "      <td>0.0</td>\n",
       "    </tr>\n",
       "    <tr>\n",
       "      <th>1</th>\n",
       "      <td>AC4fb74ef4-3f46-4e6a-9ae7-657320b463bc</td>\n",
       "      <td>0.0</td>\n",
       "    </tr>\n",
       "    <tr>\n",
       "      <th>2</th>\n",
       "      <td>AC10e4b9f0-e76f-4da7-a0d3-99988ef23f08</td>\n",
       "      <td>0.0</td>\n",
       "    </tr>\n",
       "    <tr>\n",
       "      <th>3</th>\n",
       "      <td>ACe990a57f-8061-4303-97f6-83b6c580a5f1</td>\n",
       "      <td>0.0</td>\n",
       "    </tr>\n",
       "    <tr>\n",
       "      <th>4</th>\n",
       "      <td>ACcec24e2f-c5d0-49ac-ae7d-8106e50646ce</td>\n",
       "      <td>0.0</td>\n",
       "    </tr>\n",
       "    <tr>\n",
       "      <th>...</th>\n",
       "      <td>...</td>\n",
       "      <td>...</td>\n",
       "    </tr>\n",
       "    <tr>\n",
       "      <th>27897892</th>\n",
       "      <td>AC242fbaac-f33b-401b-89a2-02f183f9ee0b</td>\n",
       "      <td>1</td>\n",
       "    </tr>\n",
       "    <tr>\n",
       "      <th>27897893</th>\n",
       "      <td>ACe6f464d2-cd3d-4b5f-bcfa-28fb67b10610</td>\n",
       "      <td>1</td>\n",
       "    </tr>\n",
       "    <tr>\n",
       "      <th>27897894</th>\n",
       "      <td>ACc6f19043-dbe1-41cd-8735-44567ba06bfa</td>\n",
       "      <td>1</td>\n",
       "    </tr>\n",
       "    <tr>\n",
       "      <th>27897895</th>\n",
       "      <td>AC9cc93ce0-d0bd-4223-8f1d-9a6eb3b9b997</td>\n",
       "      <td>1</td>\n",
       "    </tr>\n",
       "    <tr>\n",
       "      <th>27897896</th>\n",
       "      <td>ACb2d8faf2-849e-49d4-90af-641273c7ec21</td>\n",
       "      <td>1</td>\n",
       "    </tr>\n",
       "  </tbody>\n",
       "</table>\n",
       "<p>27897897 rows × 2 columns</p>\n",
       "</div>"
      ],
      "text/plain": [
       "                                           ac_id arr_ind_2\n",
       "0         AC4592fa29-384c-4d58-a74b-2ac5780e884f       0.0\n",
       "1         AC4fb74ef4-3f46-4e6a-9ae7-657320b463bc       0.0\n",
       "2         AC10e4b9f0-e76f-4da7-a0d3-99988ef23f08       0.0\n",
       "3         ACe990a57f-8061-4303-97f6-83b6c580a5f1       0.0\n",
       "4         ACcec24e2f-c5d0-49ac-ae7d-8106e50646ce       0.0\n",
       "...                                          ...       ...\n",
       "27897892  AC242fbaac-f33b-401b-89a2-02f183f9ee0b         1\n",
       "27897893  ACe6f464d2-cd3d-4b5f-bcfa-28fb67b10610         1\n",
       "27897894  ACc6f19043-dbe1-41cd-8735-44567ba06bfa         1\n",
       "27897895  AC9cc93ce0-d0bd-4223-8f1d-9a6eb3b9b997         1\n",
       "27897896  ACb2d8faf2-849e-49d4-90af-641273c7ec21         1\n",
       "\n",
       "[27897897 rows x 2 columns]"
      ]
     },
     "execution_count": 15,
     "metadata": {},
     "output_type": "execute_result"
    }
   ],
   "source": [
    "df.loc[~(df==0).all(axis=1)]"
   ]
  },
  {
   "cell_type": "code",
   "execution_count": 16,
   "id": "9bc48e81",
   "metadata": {},
   "outputs": [
    {
     "data": {
      "text/plain": [
       "(27897897, 2)"
      ]
     },
     "execution_count": 16,
     "metadata": {},
     "output_type": "execute_result"
    }
   ],
   "source": [
    "df.shape"
   ]
  },
  {
   "cell_type": "code",
   "execution_count": 17,
   "id": "369845de",
   "metadata": {},
   "outputs": [],
   "source": [
    "df= df[df['arr_ind_2'] != '0.0']"
   ]
  },
  {
   "cell_type": "code",
   "execution_count": 18,
   "id": "ee583010",
   "metadata": {},
   "outputs": [
    {
     "data": {
      "text/plain": [
       "(26097897, 2)"
      ]
     },
     "execution_count": 18,
     "metadata": {},
     "output_type": "execute_result"
    }
   ],
   "source": [
    "df.shape"
   ]
  },
  {
   "cell_type": "code",
   "execution_count": 19,
   "id": "3a8c4759",
   "metadata": {},
   "outputs": [],
   "source": [
    "df= df[df['arr_ind_2'] != '0']"
   ]
  },
  {
   "cell_type": "code",
   "execution_count": 20,
   "id": "a45ff75d",
   "metadata": {},
   "outputs": [
    {
     "data": {
      "text/plain": [
       "(17550411, 2)"
      ]
     },
     "execution_count": 20,
     "metadata": {},
     "output_type": "execute_result"
    }
   ],
   "source": [
    "df.shape"
   ]
  },
  {
   "cell_type": "code",
   "execution_count": 21,
   "id": "f28696e5",
   "metadata": {},
   "outputs": [
    {
     "data": {
      "text/html": [
       "<div>\n",
       "<style scoped>\n",
       "    .dataframe tbody tr th:only-of-type {\n",
       "        vertical-align: middle;\n",
       "    }\n",
       "\n",
       "    .dataframe tbody tr th {\n",
       "        vertical-align: top;\n",
       "    }\n",
       "\n",
       "    .dataframe thead th {\n",
       "        text-align: right;\n",
       "    }\n",
       "</style>\n",
       "<table border=\"1\" class=\"dataframe\">\n",
       "  <thead>\n",
       "    <tr style=\"text-align: right;\">\n",
       "      <th></th>\n",
       "      <th>ac_id</th>\n",
       "      <th>arr_ind_2</th>\n",
       "    </tr>\n",
       "  </thead>\n",
       "  <tbody>\n",
       "    <tr>\n",
       "      <th>900000</th>\n",
       "      <td>ac_id</td>\n",
       "      <td>arr_ind_3</td>\n",
       "    </tr>\n",
       "    <tr>\n",
       "      <th>1723333</th>\n",
       "      <td>ACff808411-aed9-4086-b89a-201f8e933b78</td>\n",
       "      <td>1</td>\n",
       "    </tr>\n",
       "    <tr>\n",
       "      <th>1723334</th>\n",
       "      <td>ACe57a7da9-c6e8-48e5-9e55-284591469402</td>\n",
       "      <td>1</td>\n",
       "    </tr>\n",
       "    <tr>\n",
       "      <th>1723335</th>\n",
       "      <td>ACe11bb30a-01a9-4e6b-b0ca-d440deb8243d</td>\n",
       "      <td>1</td>\n",
       "    </tr>\n",
       "    <tr>\n",
       "      <th>1723336</th>\n",
       "      <td>ACdda04363-1fed-44a6-acb1-765ad193d891</td>\n",
       "      <td>1</td>\n",
       "    </tr>\n",
       "    <tr>\n",
       "      <th>1723337</th>\n",
       "      <td>AC6684ce34-8417-4124-8097-4287dc931c0e</td>\n",
       "      <td>1</td>\n",
       "    </tr>\n",
       "    <tr>\n",
       "      <th>1723338</th>\n",
       "      <td>AC6d85410c-bb1f-45ad-b7be-5139e144cd25</td>\n",
       "      <td>1</td>\n",
       "    </tr>\n",
       "    <tr>\n",
       "      <th>1723339</th>\n",
       "      <td>AC97425b41-0e6e-4504-8285-6dd716575e33</td>\n",
       "      <td>1</td>\n",
       "    </tr>\n",
       "    <tr>\n",
       "      <th>1723340</th>\n",
       "      <td>AC3ea03c29-c28a-4773-b824-74406dde35f1</td>\n",
       "      <td>1</td>\n",
       "    </tr>\n",
       "    <tr>\n",
       "      <th>1723341</th>\n",
       "      <td>ACa2bc4588-7181-4a5c-bc6f-95af36c78b58</td>\n",
       "      <td>1</td>\n",
       "    </tr>\n",
       "  </tbody>\n",
       "</table>\n",
       "</div>"
      ],
      "text/plain": [
       "                                          ac_id  arr_ind_2\n",
       "900000                                    ac_id  arr_ind_3\n",
       "1723333  ACff808411-aed9-4086-b89a-201f8e933b78          1\n",
       "1723334  ACe57a7da9-c6e8-48e5-9e55-284591469402          1\n",
       "1723335  ACe11bb30a-01a9-4e6b-b0ca-d440deb8243d          1\n",
       "1723336  ACdda04363-1fed-44a6-acb1-765ad193d891          1\n",
       "1723337  AC6684ce34-8417-4124-8097-4287dc931c0e          1\n",
       "1723338  AC6d85410c-bb1f-45ad-b7be-5139e144cd25          1\n",
       "1723339  AC97425b41-0e6e-4504-8285-6dd716575e33          1\n",
       "1723340  AC3ea03c29-c28a-4773-b824-74406dde35f1          1\n",
       "1723341  ACa2bc4588-7181-4a5c-bc6f-95af36c78b58          1"
      ]
     },
     "execution_count": 21,
     "metadata": {},
     "output_type": "execute_result"
    }
   ],
   "source": [
    "df.head(10)"
   ]
  },
  {
   "cell_type": "code",
   "execution_count": 22,
   "id": "493e804c",
   "metadata": {},
   "outputs": [],
   "source": [
    "df = df.drop(900000,axis=0)"
   ]
  },
  {
   "cell_type": "code",
   "execution_count": 23,
   "id": "3de7bac7",
   "metadata": {},
   "outputs": [
    {
     "data": {
      "text/html": [
       "<div>\n",
       "<style scoped>\n",
       "    .dataframe tbody tr th:only-of-type {\n",
       "        vertical-align: middle;\n",
       "    }\n",
       "\n",
       "    .dataframe tbody tr th {\n",
       "        vertical-align: top;\n",
       "    }\n",
       "\n",
       "    .dataframe thead th {\n",
       "        text-align: right;\n",
       "    }\n",
       "</style>\n",
       "<table border=\"1\" class=\"dataframe\">\n",
       "  <thead>\n",
       "    <tr style=\"text-align: right;\">\n",
       "      <th></th>\n",
       "      <th>ac_id</th>\n",
       "      <th>arr_ind_2</th>\n",
       "    </tr>\n",
       "  </thead>\n",
       "  <tbody>\n",
       "    <tr>\n",
       "      <th>1723333</th>\n",
       "      <td>ACff808411-aed9-4086-b89a-201f8e933b78</td>\n",
       "      <td>1</td>\n",
       "    </tr>\n",
       "    <tr>\n",
       "      <th>1723334</th>\n",
       "      <td>ACe57a7da9-c6e8-48e5-9e55-284591469402</td>\n",
       "      <td>1</td>\n",
       "    </tr>\n",
       "    <tr>\n",
       "      <th>1723335</th>\n",
       "      <td>ACe11bb30a-01a9-4e6b-b0ca-d440deb8243d</td>\n",
       "      <td>1</td>\n",
       "    </tr>\n",
       "    <tr>\n",
       "      <th>1723336</th>\n",
       "      <td>ACdda04363-1fed-44a6-acb1-765ad193d891</td>\n",
       "      <td>1</td>\n",
       "    </tr>\n",
       "    <tr>\n",
       "      <th>1723337</th>\n",
       "      <td>AC6684ce34-8417-4124-8097-4287dc931c0e</td>\n",
       "      <td>1</td>\n",
       "    </tr>\n",
       "    <tr>\n",
       "      <th>1723338</th>\n",
       "      <td>AC6d85410c-bb1f-45ad-b7be-5139e144cd25</td>\n",
       "      <td>1</td>\n",
       "    </tr>\n",
       "    <tr>\n",
       "      <th>1723339</th>\n",
       "      <td>AC97425b41-0e6e-4504-8285-6dd716575e33</td>\n",
       "      <td>1</td>\n",
       "    </tr>\n",
       "    <tr>\n",
       "      <th>1723340</th>\n",
       "      <td>AC3ea03c29-c28a-4773-b824-74406dde35f1</td>\n",
       "      <td>1</td>\n",
       "    </tr>\n",
       "    <tr>\n",
       "      <th>1723341</th>\n",
       "      <td>ACa2bc4588-7181-4a5c-bc6f-95af36c78b58</td>\n",
       "      <td>1</td>\n",
       "    </tr>\n",
       "    <tr>\n",
       "      <th>1723342</th>\n",
       "      <td>ACb1c9186b-4a83-45ff-b024-aba0039e0897</td>\n",
       "      <td>1</td>\n",
       "    </tr>\n",
       "  </tbody>\n",
       "</table>\n",
       "</div>"
      ],
      "text/plain": [
       "                                          ac_id arr_ind_2\n",
       "1723333  ACff808411-aed9-4086-b89a-201f8e933b78         1\n",
       "1723334  ACe57a7da9-c6e8-48e5-9e55-284591469402         1\n",
       "1723335  ACe11bb30a-01a9-4e6b-b0ca-d440deb8243d         1\n",
       "1723336  ACdda04363-1fed-44a6-acb1-765ad193d891         1\n",
       "1723337  AC6684ce34-8417-4124-8097-4287dc931c0e         1\n",
       "1723338  AC6d85410c-bb1f-45ad-b7be-5139e144cd25         1\n",
       "1723339  AC97425b41-0e6e-4504-8285-6dd716575e33         1\n",
       "1723340  AC3ea03c29-c28a-4773-b824-74406dde35f1         1\n",
       "1723341  ACa2bc4588-7181-4a5c-bc6f-95af36c78b58         1\n",
       "1723342  ACb1c9186b-4a83-45ff-b024-aba0039e0897         1"
      ]
     },
     "execution_count": 23,
     "metadata": {},
     "output_type": "execute_result"
    }
   ],
   "source": [
    "df.head(10)"
   ]
  },
  {
   "cell_type": "code",
   "execution_count": 24,
   "id": "f99ef039",
   "metadata": {},
   "outputs": [
    {
     "data": {
      "text/plain": [
       "(17550410, 2)"
      ]
     },
     "execution_count": 24,
     "metadata": {},
     "output_type": "execute_result"
    }
   ],
   "source": [
    "df.shape"
   ]
  },
  {
   "cell_type": "code",
   "execution_count": 25,
   "id": "ee66039f",
   "metadata": {},
   "outputs": [
    {
     "data": {
      "text/html": [
       "<div>\n",
       "<style scoped>\n",
       "    .dataframe tbody tr th:only-of-type {\n",
       "        vertical-align: middle;\n",
       "    }\n",
       "\n",
       "    .dataframe tbody tr th {\n",
       "        vertical-align: top;\n",
       "    }\n",
       "\n",
       "    .dataframe thead th {\n",
       "        text-align: right;\n",
       "    }\n",
       "</style>\n",
       "<table border=\"1\" class=\"dataframe\">\n",
       "  <thead>\n",
       "    <tr style=\"text-align: right;\">\n",
       "      <th></th>\n",
       "      <th>ac_id</th>\n",
       "      <th>arr_ind_2</th>\n",
       "    </tr>\n",
       "  </thead>\n",
       "  <tbody>\n",
       "    <tr>\n",
       "      <th>27897887</th>\n",
       "      <td>AC281beb5e-366a-4a79-a262-2278bc910f5e</td>\n",
       "      <td>1</td>\n",
       "    </tr>\n",
       "    <tr>\n",
       "      <th>27897888</th>\n",
       "      <td>ACca7618a7-7df4-452e-b9f8-39e9be07a2c8</td>\n",
       "      <td>1</td>\n",
       "    </tr>\n",
       "    <tr>\n",
       "      <th>27897889</th>\n",
       "      <td>AC95e4eb4f-6469-4a67-be70-90395e85ee4f</td>\n",
       "      <td>1</td>\n",
       "    </tr>\n",
       "    <tr>\n",
       "      <th>27897890</th>\n",
       "      <td>AC3b11edc9-486c-436b-b650-5f6cd9067535</td>\n",
       "      <td>1</td>\n",
       "    </tr>\n",
       "    <tr>\n",
       "      <th>27897891</th>\n",
       "      <td>AC0243ef2f-920c-42e4-8f5f-67b44c7d7624</td>\n",
       "      <td>1</td>\n",
       "    </tr>\n",
       "    <tr>\n",
       "      <th>27897892</th>\n",
       "      <td>AC242fbaac-f33b-401b-89a2-02f183f9ee0b</td>\n",
       "      <td>1</td>\n",
       "    </tr>\n",
       "    <tr>\n",
       "      <th>27897893</th>\n",
       "      <td>ACe6f464d2-cd3d-4b5f-bcfa-28fb67b10610</td>\n",
       "      <td>1</td>\n",
       "    </tr>\n",
       "    <tr>\n",
       "      <th>27897894</th>\n",
       "      <td>ACc6f19043-dbe1-41cd-8735-44567ba06bfa</td>\n",
       "      <td>1</td>\n",
       "    </tr>\n",
       "    <tr>\n",
       "      <th>27897895</th>\n",
       "      <td>AC9cc93ce0-d0bd-4223-8f1d-9a6eb3b9b997</td>\n",
       "      <td>1</td>\n",
       "    </tr>\n",
       "    <tr>\n",
       "      <th>27897896</th>\n",
       "      <td>ACb2d8faf2-849e-49d4-90af-641273c7ec21</td>\n",
       "      <td>1</td>\n",
       "    </tr>\n",
       "  </tbody>\n",
       "</table>\n",
       "</div>"
      ],
      "text/plain": [
       "                                           ac_id arr_ind_2\n",
       "27897887  AC281beb5e-366a-4a79-a262-2278bc910f5e         1\n",
       "27897888  ACca7618a7-7df4-452e-b9f8-39e9be07a2c8         1\n",
       "27897889  AC95e4eb4f-6469-4a67-be70-90395e85ee4f         1\n",
       "27897890  AC3b11edc9-486c-436b-b650-5f6cd9067535         1\n",
       "27897891  AC0243ef2f-920c-42e4-8f5f-67b44c7d7624         1\n",
       "27897892  AC242fbaac-f33b-401b-89a2-02f183f9ee0b         1\n",
       "27897893  ACe6f464d2-cd3d-4b5f-bcfa-28fb67b10610         1\n",
       "27897894  ACc6f19043-dbe1-41cd-8735-44567ba06bfa         1\n",
       "27897895  AC9cc93ce0-d0bd-4223-8f1d-9a6eb3b9b997         1\n",
       "27897896  ACb2d8faf2-849e-49d4-90af-641273c7ec21         1"
      ]
     },
     "execution_count": 25,
     "metadata": {},
     "output_type": "execute_result"
    }
   ],
   "source": [
    "df.tail(10)"
   ]
  },
  {
   "cell_type": "code",
   "execution_count": 26,
   "id": "5ff6e848",
   "metadata": {},
   "outputs": [],
   "source": [
    "df_grouped_id = df.groupby(['ac_id']).size().reset_index(name = 'arr_id_count')"
   ]
  },
  {
   "cell_type": "code",
   "execution_count": 27,
   "id": "4ec435e5",
   "metadata": {},
   "outputs": [
    {
     "data": {
      "text/html": [
       "<div>\n",
       "<style scoped>\n",
       "    .dataframe tbody tr th:only-of-type {\n",
       "        vertical-align: middle;\n",
       "    }\n",
       "\n",
       "    .dataframe tbody tr th {\n",
       "        vertical-align: top;\n",
       "    }\n",
       "\n",
       "    .dataframe thead th {\n",
       "        text-align: right;\n",
       "    }\n",
       "</style>\n",
       "<table border=\"1\" class=\"dataframe\">\n",
       "  <thead>\n",
       "    <tr style=\"text-align: right;\">\n",
       "      <th></th>\n",
       "      <th>ac_id</th>\n",
       "      <th>arr_id_count</th>\n",
       "    </tr>\n",
       "  </thead>\n",
       "  <tbody>\n",
       "    <tr>\n",
       "      <th>0</th>\n",
       "      <td>AC000017b9-3e7d-4133-9e59-ddddcb4a911d</td>\n",
       "      <td>19</td>\n",
       "    </tr>\n",
       "    <tr>\n",
       "      <th>1</th>\n",
       "      <td>AC00001abb-e40b-4a19-978d-cc6becf33489</td>\n",
       "      <td>17</td>\n",
       "    </tr>\n",
       "    <tr>\n",
       "      <th>2</th>\n",
       "      <td>AC000061e1-9f80-4765-8ad4-993d5ab83e39</td>\n",
       "      <td>16</td>\n",
       "    </tr>\n",
       "    <tr>\n",
       "      <th>3</th>\n",
       "      <td>AC000064d8-cb24-44c6-b4ed-0cafa86b8d3e</td>\n",
       "      <td>20</td>\n",
       "    </tr>\n",
       "    <tr>\n",
       "      <th>4</th>\n",
       "      <td>AC0000754d-ba7a-45ed-b9a1-629d0bb0060d</td>\n",
       "      <td>22</td>\n",
       "    </tr>\n",
       "    <tr>\n",
       "      <th>...</th>\n",
       "      <td>...</td>\n",
       "      <td>...</td>\n",
       "    </tr>\n",
       "    <tr>\n",
       "      <th>900021</th>\n",
       "      <td>ACffff8d20-b401-4bff-8ec0-e308c20f9822</td>\n",
       "      <td>21</td>\n",
       "    </tr>\n",
       "    <tr>\n",
       "      <th>900022</th>\n",
       "      <td>ACffff8d3a-da1a-40c9-b29e-d5ed32713d5d</td>\n",
       "      <td>19</td>\n",
       "    </tr>\n",
       "    <tr>\n",
       "      <th>900023</th>\n",
       "      <td>ACffffd50a-291a-4067-92ae-9f8e8c629a9e</td>\n",
       "      <td>19</td>\n",
       "    </tr>\n",
       "    <tr>\n",
       "      <th>900024</th>\n",
       "      <td>ACffffef1f-cfbc-4973-8926-35ef7a1491ab</td>\n",
       "      <td>19</td>\n",
       "    </tr>\n",
       "    <tr>\n",
       "      <th>900025</th>\n",
       "      <td>ac_id</td>\n",
       "      <td>19</td>\n",
       "    </tr>\n",
       "  </tbody>\n",
       "</table>\n",
       "<p>900026 rows × 2 columns</p>\n",
       "</div>"
      ],
      "text/plain": [
       "                                         ac_id  arr_id_count\n",
       "0       AC000017b9-3e7d-4133-9e59-ddddcb4a911d            19\n",
       "1       AC00001abb-e40b-4a19-978d-cc6becf33489            17\n",
       "2       AC000061e1-9f80-4765-8ad4-993d5ab83e39            16\n",
       "3       AC000064d8-cb24-44c6-b4ed-0cafa86b8d3e            20\n",
       "4       AC0000754d-ba7a-45ed-b9a1-629d0bb0060d            22\n",
       "...                                        ...           ...\n",
       "900021  ACffff8d20-b401-4bff-8ec0-e308c20f9822            21\n",
       "900022  ACffff8d3a-da1a-40c9-b29e-d5ed32713d5d            19\n",
       "900023  ACffffd50a-291a-4067-92ae-9f8e8c629a9e            19\n",
       "900024  ACffffef1f-cfbc-4973-8926-35ef7a1491ab            19\n",
       "900025                                   ac_id            19\n",
       "\n",
       "[900026 rows x 2 columns]"
      ]
     },
     "execution_count": 27,
     "metadata": {},
     "output_type": "execute_result"
    }
   ],
   "source": [
    "df_grouped_id"
   ]
  },
  {
   "cell_type": "code",
   "execution_count": 28,
   "id": "a752fcdc",
   "metadata": {},
   "outputs": [],
   "source": [
    "df_grouped_id = df_grouped_id.drop(900025,axis=0)"
   ]
  },
  {
   "cell_type": "markdown",
   "id": "f5910c47",
   "metadata": {},
   "source": [
    "Of the over 27 million customers that arrived on the website during the 31 day campaign, only 900k visited at least once, very similar number to the account data datasets"
   ]
  },
  {
   "cell_type": "code",
   "execution_count": 29,
   "id": "d135739c",
   "metadata": {},
   "outputs": [
    {
     "data": {
      "text/html": [
       "<div>\n",
       "<style scoped>\n",
       "    .dataframe tbody tr th:only-of-type {\n",
       "        vertical-align: middle;\n",
       "    }\n",
       "\n",
       "    .dataframe tbody tr th {\n",
       "        vertical-align: top;\n",
       "    }\n",
       "\n",
       "    .dataframe thead th {\n",
       "        text-align: right;\n",
       "    }\n",
       "</style>\n",
       "<table border=\"1\" class=\"dataframe\">\n",
       "  <thead>\n",
       "    <tr style=\"text-align: right;\">\n",
       "      <th></th>\n",
       "      <th>ac_id</th>\n",
       "      <th>arr_id_count</th>\n",
       "    </tr>\n",
       "  </thead>\n",
       "  <tbody>\n",
       "    <tr>\n",
       "      <th>0</th>\n",
       "      <td>AC000017b9-3e7d-4133-9e59-ddddcb4a911d</td>\n",
       "      <td>19</td>\n",
       "    </tr>\n",
       "    <tr>\n",
       "      <th>1</th>\n",
       "      <td>AC00001abb-e40b-4a19-978d-cc6becf33489</td>\n",
       "      <td>17</td>\n",
       "    </tr>\n",
       "    <tr>\n",
       "      <th>2</th>\n",
       "      <td>AC000061e1-9f80-4765-8ad4-993d5ab83e39</td>\n",
       "      <td>16</td>\n",
       "    </tr>\n",
       "    <tr>\n",
       "      <th>3</th>\n",
       "      <td>AC000064d8-cb24-44c6-b4ed-0cafa86b8d3e</td>\n",
       "      <td>20</td>\n",
       "    </tr>\n",
       "    <tr>\n",
       "      <th>4</th>\n",
       "      <td>AC0000754d-ba7a-45ed-b9a1-629d0bb0060d</td>\n",
       "      <td>22</td>\n",
       "    </tr>\n",
       "    <tr>\n",
       "      <th>...</th>\n",
       "      <td>...</td>\n",
       "      <td>...</td>\n",
       "    </tr>\n",
       "    <tr>\n",
       "      <th>900020</th>\n",
       "      <td>ACffff8281-2731-4676-8856-acf3a588cf73</td>\n",
       "      <td>17</td>\n",
       "    </tr>\n",
       "    <tr>\n",
       "      <th>900021</th>\n",
       "      <td>ACffff8d20-b401-4bff-8ec0-e308c20f9822</td>\n",
       "      <td>21</td>\n",
       "    </tr>\n",
       "    <tr>\n",
       "      <th>900022</th>\n",
       "      <td>ACffff8d3a-da1a-40c9-b29e-d5ed32713d5d</td>\n",
       "      <td>19</td>\n",
       "    </tr>\n",
       "    <tr>\n",
       "      <th>900023</th>\n",
       "      <td>ACffffd50a-291a-4067-92ae-9f8e8c629a9e</td>\n",
       "      <td>19</td>\n",
       "    </tr>\n",
       "    <tr>\n",
       "      <th>900024</th>\n",
       "      <td>ACffffef1f-cfbc-4973-8926-35ef7a1491ab</td>\n",
       "      <td>19</td>\n",
       "    </tr>\n",
       "  </tbody>\n",
       "</table>\n",
       "<p>900025 rows × 2 columns</p>\n",
       "</div>"
      ],
      "text/plain": [
       "                                         ac_id  arr_id_count\n",
       "0       AC000017b9-3e7d-4133-9e59-ddddcb4a911d            19\n",
       "1       AC00001abb-e40b-4a19-978d-cc6becf33489            17\n",
       "2       AC000061e1-9f80-4765-8ad4-993d5ab83e39            16\n",
       "3       AC000064d8-cb24-44c6-b4ed-0cafa86b8d3e            20\n",
       "4       AC0000754d-ba7a-45ed-b9a1-629d0bb0060d            22\n",
       "...                                        ...           ...\n",
       "900020  ACffff8281-2731-4676-8856-acf3a588cf73            17\n",
       "900021  ACffff8d20-b401-4bff-8ec0-e308c20f9822            21\n",
       "900022  ACffff8d3a-da1a-40c9-b29e-d5ed32713d5d            19\n",
       "900023  ACffffd50a-291a-4067-92ae-9f8e8c629a9e            19\n",
       "900024  ACffffef1f-cfbc-4973-8926-35ef7a1491ab            19\n",
       "\n",
       "[900025 rows x 2 columns]"
      ]
     },
     "execution_count": 29,
     "metadata": {},
     "output_type": "execute_result"
    }
   ],
   "source": [
    "df_grouped_id"
   ]
  },
  {
   "cell_type": "code",
   "execution_count": 30,
   "id": "0a983858",
   "metadata": {},
   "outputs": [],
   "source": [
    "rank_df = df_grouped_id.sort_values(['arr_id_count'],ascending=False)"
   ]
  },
  {
   "cell_type": "code",
   "execution_count": 31,
   "id": "67c24c92",
   "metadata": {},
   "outputs": [
    {
     "data": {
      "text/html": [
       "<div>\n",
       "<style scoped>\n",
       "    .dataframe tbody tr th:only-of-type {\n",
       "        vertical-align: middle;\n",
       "    }\n",
       "\n",
       "    .dataframe tbody tr th {\n",
       "        vertical-align: top;\n",
       "    }\n",
       "\n",
       "    .dataframe thead th {\n",
       "        text-align: right;\n",
       "    }\n",
       "</style>\n",
       "<table border=\"1\" class=\"dataframe\">\n",
       "  <thead>\n",
       "    <tr style=\"text-align: right;\">\n",
       "      <th></th>\n",
       "      <th>ac_id</th>\n",
       "      <th>arr_id_count</th>\n",
       "    </tr>\n",
       "  </thead>\n",
       "  <tbody>\n",
       "    <tr>\n",
       "      <th>360844</th>\n",
       "      <td>AC6672023d-323e-4060-b4e8-5f9de5492167</td>\n",
       "      <td>28</td>\n",
       "    </tr>\n",
       "    <tr>\n",
       "      <th>372006</th>\n",
       "      <td>AC69a3b2ad-80d6-485f-a962-f8528184d2a4</td>\n",
       "      <td>28</td>\n",
       "    </tr>\n",
       "    <tr>\n",
       "      <th>346313</th>\n",
       "      <td>AC62534be2-dfef-4260-9eaf-7a4dc2b4c009</td>\n",
       "      <td>28</td>\n",
       "    </tr>\n",
       "    <tr>\n",
       "      <th>263258</th>\n",
       "      <td>AC4acc5ae5-3afd-4ca6-8e52-de11ef79273e</td>\n",
       "      <td>28</td>\n",
       "    </tr>\n",
       "    <tr>\n",
       "      <th>522551</th>\n",
       "      <td>AC94542c1d-2b9f-4481-9671-7b66337e6b9b</td>\n",
       "      <td>28</td>\n",
       "    </tr>\n",
       "    <tr>\n",
       "      <th>...</th>\n",
       "      <td>...</td>\n",
       "      <td>...</td>\n",
       "    </tr>\n",
       "    <tr>\n",
       "      <th>654328</th>\n",
       "      <td>ACb9f5f357-f252-4256-b8ac_id</td>\n",
       "      <td>1</td>\n",
       "    </tr>\n",
       "    <tr>\n",
       "      <th>143522</th>\n",
       "      <td>AC28d3d42c-6aaf-4c69-b7ac_id</td>\n",
       "      <td>1</td>\n",
       "    </tr>\n",
       "    <tr>\n",
       "      <th>837315</th>\n",
       "      <td>ACee0312f3-a6ea-4ad8-83ac_id</td>\n",
       "      <td>1</td>\n",
       "    </tr>\n",
       "    <tr>\n",
       "      <th>216881</th>\n",
       "      <td>AC3da9a41e-21aa-48fe-9abac_id</td>\n",
       "      <td>1</td>\n",
       "    </tr>\n",
       "    <tr>\n",
       "      <th>151429</th>\n",
       "      <td>AC2b0e3c85-3ff8-45e5-adac_id</td>\n",
       "      <td>1</td>\n",
       "    </tr>\n",
       "  </tbody>\n",
       "</table>\n",
       "<p>900025 rows × 2 columns</p>\n",
       "</div>"
      ],
      "text/plain": [
       "                                         ac_id  arr_id_count\n",
       "360844  AC6672023d-323e-4060-b4e8-5f9de5492167            28\n",
       "372006  AC69a3b2ad-80d6-485f-a962-f8528184d2a4            28\n",
       "346313  AC62534be2-dfef-4260-9eaf-7a4dc2b4c009            28\n",
       "263258  AC4acc5ae5-3afd-4ca6-8e52-de11ef79273e            28\n",
       "522551  AC94542c1d-2b9f-4481-9671-7b66337e6b9b            28\n",
       "...                                        ...           ...\n",
       "654328            ACb9f5f357-f252-4256-b8ac_id             1\n",
       "143522            AC28d3d42c-6aaf-4c69-b7ac_id             1\n",
       "837315            ACee0312f3-a6ea-4ad8-83ac_id             1\n",
       "216881           AC3da9a41e-21aa-48fe-9abac_id             1\n",
       "151429            AC2b0e3c85-3ff8-45e5-adac_id             1\n",
       "\n",
       "[900025 rows x 2 columns]"
      ]
     },
     "execution_count": 31,
     "metadata": {},
     "output_type": "execute_result"
    }
   ],
   "source": [
    "rank_df"
   ]
  },
  {
   "cell_type": "code",
   "execution_count": 32,
   "id": "9f600c62",
   "metadata": {},
   "outputs": [
    {
     "data": {
      "text/plain": [
       "ac_id           0\n",
       "arr_id_count    0\n",
       "dtype: int64"
      ]
     },
     "execution_count": 32,
     "metadata": {},
     "output_type": "execute_result"
    }
   ],
   "source": [
    "rank_df.isnull().sum()"
   ]
  },
  {
   "cell_type": "code",
   "execution_count": 33,
   "id": "8232f224",
   "metadata": {},
   "outputs": [],
   "source": [
    "import scipy.stats as stats\n",
    "import seaborn as sns\n",
    "import matplotlib.pyplot as plt"
   ]
  },
  {
   "cell_type": "code",
   "execution_count": 34,
   "id": "7ec65a38",
   "metadata": {},
   "outputs": [
    {
     "data": {
      "text/html": [
       "<div>\n",
       "<style scoped>\n",
       "    .dataframe tbody tr th:only-of-type {\n",
       "        vertical-align: middle;\n",
       "    }\n",
       "\n",
       "    .dataframe tbody tr th {\n",
       "        vertical-align: top;\n",
       "    }\n",
       "\n",
       "    .dataframe thead th {\n",
       "        text-align: right;\n",
       "    }\n",
       "</style>\n",
       "<table border=\"1\" class=\"dataframe\">\n",
       "  <thead>\n",
       "    <tr style=\"text-align: right;\">\n",
       "      <th>col_0</th>\n",
       "      <th>count</th>\n",
       "    </tr>\n",
       "    <tr>\n",
       "      <th>arr_id_count</th>\n",
       "      <th></th>\n",
       "    </tr>\n",
       "  </thead>\n",
       "  <tbody>\n",
       "    <tr>\n",
       "      <th>1</th>\n",
       "      <td>24</td>\n",
       "    </tr>\n",
       "    <tr>\n",
       "      <th>2</th>\n",
       "      <td>1</td>\n",
       "    </tr>\n",
       "    <tr>\n",
       "      <th>10</th>\n",
       "      <td>13</td>\n",
       "    </tr>\n",
       "    <tr>\n",
       "      <th>11</th>\n",
       "      <td>49</td>\n",
       "    </tr>\n",
       "    <tr>\n",
       "      <th>12</th>\n",
       "      <td>360</td>\n",
       "    </tr>\n",
       "    <tr>\n",
       "      <th>13</th>\n",
       "      <td>1625</td>\n",
       "    </tr>\n",
       "    <tr>\n",
       "      <th>14</th>\n",
       "      <td>5832</td>\n",
       "    </tr>\n",
       "    <tr>\n",
       "      <th>15</th>\n",
       "      <td>17699</td>\n",
       "    </tr>\n",
       "    <tr>\n",
       "      <th>16</th>\n",
       "      <td>42093</td>\n",
       "    </tr>\n",
       "    <tr>\n",
       "      <th>17</th>\n",
       "      <td>82108</td>\n",
       "    </tr>\n",
       "    <tr>\n",
       "      <th>18</th>\n",
       "      <td>129086</td>\n",
       "    </tr>\n",
       "    <tr>\n",
       "      <th>19</th>\n",
       "      <td>166005</td>\n",
       "    </tr>\n",
       "    <tr>\n",
       "      <th>20</th>\n",
       "      <td>168375</td>\n",
       "    </tr>\n",
       "    <tr>\n",
       "      <th>21</th>\n",
       "      <td>136422</td>\n",
       "    </tr>\n",
       "    <tr>\n",
       "      <th>22</th>\n",
       "      <td>86917</td>\n",
       "    </tr>\n",
       "    <tr>\n",
       "      <th>23</th>\n",
       "      <td>42663</td>\n",
       "    </tr>\n",
       "    <tr>\n",
       "      <th>24</th>\n",
       "      <td>15473</td>\n",
       "    </tr>\n",
       "    <tr>\n",
       "      <th>25</th>\n",
       "      <td>4371</td>\n",
       "    </tr>\n",
       "    <tr>\n",
       "      <th>26</th>\n",
       "      <td>810</td>\n",
       "    </tr>\n",
       "    <tr>\n",
       "      <th>27</th>\n",
       "      <td>93</td>\n",
       "    </tr>\n",
       "    <tr>\n",
       "      <th>28</th>\n",
       "      <td>6</td>\n",
       "    </tr>\n",
       "  </tbody>\n",
       "</table>\n",
       "</div>"
      ],
      "text/plain": [
       "col_0          count\n",
       "arr_id_count        \n",
       "1                 24\n",
       "2                  1\n",
       "10                13\n",
       "11                49\n",
       "12               360\n",
       "13              1625\n",
       "14              5832\n",
       "15             17699\n",
       "16             42093\n",
       "17             82108\n",
       "18            129086\n",
       "19            166005\n",
       "20            168375\n",
       "21            136422\n",
       "22             86917\n",
       "23             42663\n",
       "24             15473\n",
       "25              4371\n",
       "26               810\n",
       "27                93\n",
       "28                 6"
      ]
     },
     "execution_count": 34,
     "metadata": {},
     "output_type": "execute_result"
    }
   ],
   "source": [
    "table = pd.crosstab(index=rank_df['arr_id_count'], columns='count')\n",
    "table"
   ]
  },
  {
   "cell_type": "markdown",
   "id": "03867e1a",
   "metadata": {},
   "source": [
    "More like a bell curve distibution for the number of responses per day"
   ]
  },
  {
   "cell_type": "code",
   "execution_count": 35,
   "id": "ac86b3e1",
   "metadata": {},
   "outputs": [],
   "source": [
    "import os \n",
    "filename = os.path.join(os.getcwd(), \"Dependent\", \"dependent_1.txt\")"
   ]
  },
  {
   "cell_type": "code",
   "execution_count": 36,
   "id": "b6f98f0d",
   "metadata": {},
   "outputs": [],
   "source": [
    "import pandas as pd\n",
    "df = pd.read_table(filename)"
   ]
  },
  {
   "cell_type": "code",
   "execution_count": 37,
   "id": "a36fef5b",
   "metadata": {},
   "outputs": [
    {
     "data": {
      "text/html": [
       "<div>\n",
       "<style scoped>\n",
       "    .dataframe tbody tr th:only-of-type {\n",
       "        vertical-align: middle;\n",
       "    }\n",
       "\n",
       "    .dataframe tbody tr th {\n",
       "        vertical-align: top;\n",
       "    }\n",
       "\n",
       "    .dataframe thead th {\n",
       "        text-align: right;\n",
       "    }\n",
       "</style>\n",
       "<table border=\"1\" class=\"dataframe\">\n",
       "  <thead>\n",
       "    <tr style=\"text-align: right;\">\n",
       "      <th></th>\n",
       "      <th>ac_id</th>\n",
       "      <th>arr_ind_1</th>\n",
       "    </tr>\n",
       "  </thead>\n",
       "  <tbody>\n",
       "    <tr>\n",
       "      <th>0</th>\n",
       "      <td>AC4592fa29-384c-4d58-a74b-2ac5780e884f</td>\n",
       "      <td>0.0</td>\n",
       "    </tr>\n",
       "    <tr>\n",
       "      <th>1</th>\n",
       "      <td>AC4fb74ef4-3f46-4e6a-9ae7-657320b463bc</td>\n",
       "      <td>0.0</td>\n",
       "    </tr>\n",
       "    <tr>\n",
       "      <th>2</th>\n",
       "      <td>AC10e4b9f0-e76f-4da7-a0d3-99988ef23f08</td>\n",
       "      <td>0.0</td>\n",
       "    </tr>\n",
       "    <tr>\n",
       "      <th>3</th>\n",
       "      <td>ACe990a57f-8061-4303-97f6-83b6c580a5f1</td>\n",
       "      <td>0.0</td>\n",
       "    </tr>\n",
       "    <tr>\n",
       "      <th>4</th>\n",
       "      <td>ACcec24e2f-c5d0-49ac-ae7d-8106e50646ce</td>\n",
       "      <td>0.0</td>\n",
       "    </tr>\n",
       "    <tr>\n",
       "      <th>5</th>\n",
       "      <td>AC54a351a3-ce4b-477e-b2f3-3e9be042c4ff</td>\n",
       "      <td>0.0</td>\n",
       "    </tr>\n",
       "    <tr>\n",
       "      <th>6</th>\n",
       "      <td>ACbfe839d3-6893-4c22-852e-7f40b19aba0f</td>\n",
       "      <td>0.0</td>\n",
       "    </tr>\n",
       "    <tr>\n",
       "      <th>7</th>\n",
       "      <td>ACb4cb4c24-404a-4b24-9c2e-fd7c35b4f6a1</td>\n",
       "      <td>0.0</td>\n",
       "    </tr>\n",
       "    <tr>\n",
       "      <th>8</th>\n",
       "      <td>AC8520aa82-7936-4fb8-9dbe-70afc9c524a7</td>\n",
       "      <td>0.0</td>\n",
       "    </tr>\n",
       "    <tr>\n",
       "      <th>9</th>\n",
       "      <td>ACb7273b5d-8be1-47f9-8318-edd6fd5ca648</td>\n",
       "      <td>0.0</td>\n",
       "    </tr>\n",
       "  </tbody>\n",
       "</table>\n",
       "</div>"
      ],
      "text/plain": [
       "                                    ac_id  arr_ind_1\n",
       "0  AC4592fa29-384c-4d58-a74b-2ac5780e884f        0.0\n",
       "1  AC4fb74ef4-3f46-4e6a-9ae7-657320b463bc        0.0\n",
       "2  AC10e4b9f0-e76f-4da7-a0d3-99988ef23f08        0.0\n",
       "3  ACe990a57f-8061-4303-97f6-83b6c580a5f1        0.0\n",
       "4  ACcec24e2f-c5d0-49ac-ae7d-8106e50646ce        0.0\n",
       "5  AC54a351a3-ce4b-477e-b2f3-3e9be042c4ff        0.0\n",
       "6  ACbfe839d3-6893-4c22-852e-7f40b19aba0f        0.0\n",
       "7  ACb4cb4c24-404a-4b24-9c2e-fd7c35b4f6a1        0.0\n",
       "8  AC8520aa82-7936-4fb8-9dbe-70afc9c524a7        0.0\n",
       "9  ACb7273b5d-8be1-47f9-8318-edd6fd5ca648        0.0"
      ]
     },
     "execution_count": 37,
     "metadata": {},
     "output_type": "execute_result"
    }
   ],
   "source": [
    "df.head(10)"
   ]
  },
  {
   "cell_type": "code",
   "execution_count": 38,
   "id": "315aeebb",
   "metadata": {},
   "outputs": [
    {
     "data": {
      "text/plain": [
       "(900000, 2)"
      ]
     },
     "execution_count": 38,
     "metadata": {},
     "output_type": "execute_result"
    }
   ],
   "source": [
    "df.shape"
   ]
  },
  {
   "cell_type": "code",
   "execution_count": 39,
   "id": "217924e0",
   "metadata": {},
   "outputs": [],
   "source": [
    "filename = os.path.join(os.getcwd(), \"Dependent\", \"dependent_10.txt\")\n",
    "df = pd.read_table(filename)"
   ]
  },
  {
   "cell_type": "code",
   "execution_count": 40,
   "id": "5a3e0ddb",
   "metadata": {},
   "outputs": [
    {
     "data": {
      "text/plain": [
       "(899922, 2)"
      ]
     },
     "execution_count": 40,
     "metadata": {},
     "output_type": "execute_result"
    }
   ],
   "source": [
    "df.shape"
   ]
  },
  {
   "cell_type": "code",
   "execution_count": 41,
   "id": "517385c6",
   "metadata": {},
   "outputs": [
    {
     "data": {
      "text/plain": [
       "(899922, 2)"
      ]
     },
     "execution_count": 41,
     "metadata": {},
     "output_type": "execute_result"
    }
   ],
   "source": [
    "filename = os.path.join(os.getcwd(), \"Dependent\", \"dependent_20.txt\")\n",
    "df = pd.read_table(filename)\n",
    "df.shape"
   ]
  },
  {
   "cell_type": "code",
   "execution_count": 42,
   "id": "54143ccc",
   "metadata": {},
   "outputs": [
    {
     "data": {
      "text/plain": [
       "(900000, 2)"
      ]
     },
     "execution_count": 42,
     "metadata": {},
     "output_type": "execute_result"
    }
   ],
   "source": [
    "filename = os.path.join(os.getcwd(), \"Dependent\", \"dependent_31.txt\")\n",
    "df = pd.read_table(filename)\n",
    "df.shape"
   ]
  },
  {
   "cell_type": "code",
   "execution_count": 43,
   "id": "8aad4dcb",
   "metadata": {},
   "outputs": [
    {
     "data": {
      "text/html": [
       "<div>\n",
       "<style scoped>\n",
       "    .dataframe tbody tr th:only-of-type {\n",
       "        vertical-align: middle;\n",
       "    }\n",
       "\n",
       "    .dataframe tbody tr th {\n",
       "        vertical-align: top;\n",
       "    }\n",
       "\n",
       "    .dataframe thead th {\n",
       "        text-align: right;\n",
       "    }\n",
       "</style>\n",
       "<table border=\"1\" class=\"dataframe\">\n",
       "  <thead>\n",
       "    <tr style=\"text-align: right;\">\n",
       "      <th></th>\n",
       "      <th>ac_id</th>\n",
       "      <th>arr_ind_31</th>\n",
       "    </tr>\n",
       "  </thead>\n",
       "  <tbody>\n",
       "    <tr>\n",
       "      <th>0</th>\n",
       "      <td>AC4592fa29-384c-4d58-a74b-2ac5780e884f</td>\n",
       "      <td>1.0</td>\n",
       "    </tr>\n",
       "    <tr>\n",
       "      <th>1</th>\n",
       "      <td>AC4fb74ef4-3f46-4e6a-9ae7-657320b463bc</td>\n",
       "      <td>1.0</td>\n",
       "    </tr>\n",
       "    <tr>\n",
       "      <th>2</th>\n",
       "      <td>AC10e4b9f0-e76f-4da7-a0d3-99988ef23f08</td>\n",
       "      <td>1.0</td>\n",
       "    </tr>\n",
       "    <tr>\n",
       "      <th>3</th>\n",
       "      <td>ACe990a57f-8061-4303-97f6-83b6c580a5f1</td>\n",
       "      <td>1.0</td>\n",
       "    </tr>\n",
       "    <tr>\n",
       "      <th>4</th>\n",
       "      <td>ACcec24e2f-c5d0-49ac-ae7d-8106e50646ce</td>\n",
       "      <td>1.0</td>\n",
       "    </tr>\n",
       "  </tbody>\n",
       "</table>\n",
       "</div>"
      ],
      "text/plain": [
       "                                    ac_id  arr_ind_31\n",
       "0  AC4592fa29-384c-4d58-a74b-2ac5780e884f         1.0\n",
       "1  AC4fb74ef4-3f46-4e6a-9ae7-657320b463bc         1.0\n",
       "2  AC10e4b9f0-e76f-4da7-a0d3-99988ef23f08         1.0\n",
       "3  ACe990a57f-8061-4303-97f6-83b6c580a5f1         1.0\n",
       "4  ACcec24e2f-c5d0-49ac-ae7d-8106e50646ce         1.0"
      ]
     },
     "execution_count": 43,
     "metadata": {},
     "output_type": "execute_result"
    }
   ],
   "source": [
    "df.head()"
   ]
  },
  {
   "cell_type": "code",
   "execution_count": 44,
   "id": "34926096",
   "metadata": {},
   "outputs": [
    {
     "data": {
      "text/plain": [
       "(900000, 2)"
      ]
     },
     "execution_count": 44,
     "metadata": {},
     "output_type": "execute_result"
    }
   ],
   "source": [
    "df.shape"
   ]
  },
  {
   "cell_type": "code",
   "execution_count": null,
   "id": "05d0626a",
   "metadata": {},
   "outputs": [],
   "source": []
  }
 ],
 "metadata": {
  "kernelspec": {
   "display_name": "Python 3 (ipykernel)",
   "language": "python",
   "name": "python3"
  },
  "language_info": {
   "codemirror_mode": {
    "name": "ipython",
    "version": 3
   },
   "file_extension": ".py",
   "mimetype": "text/x-python",
   "name": "python",
   "nbconvert_exporter": "python",
   "pygments_lexer": "ipython3",
   "version": "3.9.12"
  }
 },
 "nbformat": 4,
 "nbformat_minor": 5
}
