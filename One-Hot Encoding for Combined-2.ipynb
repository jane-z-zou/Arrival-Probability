{
 "cells": [
  {
   "cell_type": "code",
   "execution_count": 1,
   "id": "65f21462",
   "metadata": {},
   "outputs": [],
   "source": [
    "import pandas as pd\n",
    "import numpy as np\n",
    "import os, glob"
   ]
  },
  {
   "cell_type": "code",
   "execution_count": 2,
   "id": "812dd4b9",
   "metadata": {},
   "outputs": [],
   "source": [
    "filename = os.path.join(os.getcwd(), \"DF_FINAL.txt\")"
   ]
  },
  {
   "cell_type": "code",
   "execution_count": 3,
   "id": "dedfe753",
   "metadata": {},
   "outputs": [],
   "source": [
    "df = pd.read_table(filename, low_memory=False)"
   ]
  },
  {
   "cell_type": "code",
   "execution_count": 4,
   "id": "35d305de",
   "metadata": {},
   "outputs": [
    {
     "data": {
      "text/plain": [
       "(900135, 14)"
      ]
     },
     "execution_count": 4,
     "metadata": {},
     "output_type": "execute_result"
    }
   ],
   "source": [
    "df.shape"
   ]
  },
  {
   "cell_type": "code",
   "execution_count": 5,
   "id": "9a613ea4",
   "metadata": {},
   "outputs": [
    {
     "data": {
      "text/html": [
       "<div>\n",
       "<style scoped>\n",
       "    .dataframe tbody tr th:only-of-type {\n",
       "        vertical-align: middle;\n",
       "    }\n",
       "\n",
       "    .dataframe tbody tr th {\n",
       "        vertical-align: top;\n",
       "    }\n",
       "\n",
       "    .dataframe thead th {\n",
       "        text-align: right;\n",
       "    }\n",
       "</style>\n",
       "<table border=\"1\" class=\"dataframe\">\n",
       "  <thead>\n",
       "    <tr style=\"text-align: right;\">\n",
       "      <th></th>\n",
       "      <th>Unnamed: 0</th>\n",
       "      <th>ac_id</th>\n",
       "      <th>cycle_dt</th>\n",
       "      <th>payment_due_dt</th>\n",
       "      <th>new_account_indicator</th>\n",
       "      <th>member_since_in_months</th>\n",
       "      <th>spend_active</th>\n",
       "      <th>is_active_balance</th>\n",
       "      <th>has_credit_limit_reached</th>\n",
       "      <th>is_revolving</th>\n",
       "      <th>has_spend_at_any_merchant</th>\n",
       "      <th>arr_id_count</th>\n",
       "      <th>visits</th>\n",
       "      <th>visit_count</th>\n",
       "    </tr>\n",
       "  </thead>\n",
       "  <tbody>\n",
       "    <tr>\n",
       "      <th>0</th>\n",
       "      <td>0</td>\n",
       "      <td>AC4592fa29-384c-4d58-a74b-2ac5780e884f</td>\n",
       "      <td>3/14/18</td>\n",
       "      <td>4/8/18</td>\n",
       "      <td>0.0</td>\n",
       "      <td>NaN</td>\n",
       "      <td>1.0</td>\n",
       "      <td>0.0</td>\n",
       "      <td>0.0</td>\n",
       "      <td>0.0</td>\n",
       "      <td>0.0</td>\n",
       "      <td>20.0</td>\n",
       "      <td>1.0</td>\n",
       "      <td>6.0</td>\n",
       "    </tr>\n",
       "    <tr>\n",
       "      <th>1</th>\n",
       "      <td>1</td>\n",
       "      <td>AC4fb74ef4-3f46-4e6a-9ae7-657320b463bc</td>\n",
       "      <td>NaN</td>\n",
       "      <td>NaN</td>\n",
       "      <td>0.0</td>\n",
       "      <td>NaN</td>\n",
       "      <td>1.0</td>\n",
       "      <td>0.0</td>\n",
       "      <td>0.0</td>\n",
       "      <td>0.0</td>\n",
       "      <td>1.0</td>\n",
       "      <td>21.0</td>\n",
       "      <td>2.0</td>\n",
       "      <td>14.0</td>\n",
       "    </tr>\n",
       "    <tr>\n",
       "      <th>2</th>\n",
       "      <td>2</td>\n",
       "      <td>AC10e4b9f0-e76f-4da7-a0d3-99988ef23f08</td>\n",
       "      <td>3/7/18</td>\n",
       "      <td>4/2/18</td>\n",
       "      <td>0.0</td>\n",
       "      <td>185.0</td>\n",
       "      <td>1.0</td>\n",
       "      <td>0.0</td>\n",
       "      <td>0.0</td>\n",
       "      <td>0.0</td>\n",
       "      <td>0.0</td>\n",
       "      <td>21.0</td>\n",
       "      <td>1.0</td>\n",
       "      <td>6.0</td>\n",
       "    </tr>\n",
       "    <tr>\n",
       "      <th>3</th>\n",
       "      <td>3</td>\n",
       "      <td>ACe990a57f-8061-4303-97f6-83b6c580a5f1</td>\n",
       "      <td>NaN</td>\n",
       "      <td>NaN</td>\n",
       "      <td>0.0</td>\n",
       "      <td>324.0</td>\n",
       "      <td>1.0</td>\n",
       "      <td>0.0</td>\n",
       "      <td>0.0</td>\n",
       "      <td>0.0</td>\n",
       "      <td>0.0</td>\n",
       "      <td>18.0</td>\n",
       "      <td>2.0</td>\n",
       "      <td>18.0</td>\n",
       "    </tr>\n",
       "    <tr>\n",
       "      <th>4</th>\n",
       "      <td>4</td>\n",
       "      <td>ACcec24e2f-c5d0-49ac-ae7d-8106e50646ce</td>\n",
       "      <td>3/28/18</td>\n",
       "      <td>4/23/18</td>\n",
       "      <td>0.0</td>\n",
       "      <td>19.0</td>\n",
       "      <td>1.0</td>\n",
       "      <td>0.0</td>\n",
       "      <td>0.0</td>\n",
       "      <td>0.0</td>\n",
       "      <td>0.0</td>\n",
       "      <td>19.0</td>\n",
       "      <td>2.0</td>\n",
       "      <td>16.0</td>\n",
       "    </tr>\n",
       "    <tr>\n",
       "      <th>5</th>\n",
       "      <td>5</td>\n",
       "      <td>AC54a351a3-ce4b-477e-b2f3-3e9be042c4ff</td>\n",
       "      <td>3/23/18</td>\n",
       "      <td>4/17/18</td>\n",
       "      <td>0.0</td>\n",
       "      <td>14.0</td>\n",
       "      <td>1.0</td>\n",
       "      <td>1.0</td>\n",
       "      <td>0.0</td>\n",
       "      <td>0.0</td>\n",
       "      <td>0.0</td>\n",
       "      <td>22.0</td>\n",
       "      <td>NaN</td>\n",
       "      <td>4.0</td>\n",
       "    </tr>\n",
       "    <tr>\n",
       "      <th>6</th>\n",
       "      <td>6</td>\n",
       "      <td>ACbfe839d3-6893-4c22-852e-7f40b19aba0f</td>\n",
       "      <td>3/16/18</td>\n",
       "      <td>4/10/18</td>\n",
       "      <td>0.0</td>\n",
       "      <td>NaN</td>\n",
       "      <td>1.0</td>\n",
       "      <td>0.0</td>\n",
       "      <td>0.0</td>\n",
       "      <td>0.0</td>\n",
       "      <td>1.0</td>\n",
       "      <td>21.0</td>\n",
       "      <td>1.0</td>\n",
       "      <td>4.0</td>\n",
       "    </tr>\n",
       "    <tr>\n",
       "      <th>7</th>\n",
       "      <td>7</td>\n",
       "      <td>ACb4cb4c24-404a-4b24-9c2e-fd7c35b4f6a1</td>\n",
       "      <td>3/25/18</td>\n",
       "      <td>4/19/18</td>\n",
       "      <td>0.0</td>\n",
       "      <td>248.0</td>\n",
       "      <td>1.0</td>\n",
       "      <td>0.0</td>\n",
       "      <td>0.0</td>\n",
       "      <td>0.0</td>\n",
       "      <td>0.0</td>\n",
       "      <td>22.0</td>\n",
       "      <td>1.0</td>\n",
       "      <td>4.0</td>\n",
       "    </tr>\n",
       "    <tr>\n",
       "      <th>8</th>\n",
       "      <td>8</td>\n",
       "      <td>AC8520aa82-7936-4fb8-9dbe-70afc9c524a7</td>\n",
       "      <td>3/18/18</td>\n",
       "      <td>4/13/18</td>\n",
       "      <td>0.0</td>\n",
       "      <td>288.0</td>\n",
       "      <td>1.0</td>\n",
       "      <td>0.0</td>\n",
       "      <td>0.0</td>\n",
       "      <td>0.0</td>\n",
       "      <td>0.0</td>\n",
       "      <td>18.0</td>\n",
       "      <td>2.0</td>\n",
       "      <td>14.0</td>\n",
       "    </tr>\n",
       "    <tr>\n",
       "      <th>9</th>\n",
       "      <td>9</td>\n",
       "      <td>ACb7273b5d-8be1-47f9-8318-edd6fd5ca648</td>\n",
       "      <td>3/16/18</td>\n",
       "      <td>4/10/18</td>\n",
       "      <td>0.0</td>\n",
       "      <td>55.0</td>\n",
       "      <td>0.0</td>\n",
       "      <td>0.0</td>\n",
       "      <td>0.0</td>\n",
       "      <td>0.0</td>\n",
       "      <td>0.0</td>\n",
       "      <td>19.0</td>\n",
       "      <td>2.0</td>\n",
       "      <td>8.0</td>\n",
       "    </tr>\n",
       "  </tbody>\n",
       "</table>\n",
       "</div>"
      ],
      "text/plain": [
       "   Unnamed: 0                                   ac_id cycle_dt payment_due_dt  \\\n",
       "0           0  AC4592fa29-384c-4d58-a74b-2ac5780e884f  3/14/18         4/8/18   \n",
       "1           1  AC4fb74ef4-3f46-4e6a-9ae7-657320b463bc      NaN            NaN   \n",
       "2           2  AC10e4b9f0-e76f-4da7-a0d3-99988ef23f08   3/7/18         4/2/18   \n",
       "3           3  ACe990a57f-8061-4303-97f6-83b6c580a5f1      NaN            NaN   \n",
       "4           4  ACcec24e2f-c5d0-49ac-ae7d-8106e50646ce  3/28/18        4/23/18   \n",
       "5           5  AC54a351a3-ce4b-477e-b2f3-3e9be042c4ff  3/23/18        4/17/18   \n",
       "6           6  ACbfe839d3-6893-4c22-852e-7f40b19aba0f  3/16/18        4/10/18   \n",
       "7           7  ACb4cb4c24-404a-4b24-9c2e-fd7c35b4f6a1  3/25/18        4/19/18   \n",
       "8           8  AC8520aa82-7936-4fb8-9dbe-70afc9c524a7  3/18/18        4/13/18   \n",
       "9           9  ACb7273b5d-8be1-47f9-8318-edd6fd5ca648  3/16/18        4/10/18   \n",
       "\n",
       "   new_account_indicator  member_since_in_months  spend_active  \\\n",
       "0                    0.0                     NaN           1.0   \n",
       "1                    0.0                     NaN           1.0   \n",
       "2                    0.0                   185.0           1.0   \n",
       "3                    0.0                   324.0           1.0   \n",
       "4                    0.0                    19.0           1.0   \n",
       "5                    0.0                    14.0           1.0   \n",
       "6                    0.0                     NaN           1.0   \n",
       "7                    0.0                   248.0           1.0   \n",
       "8                    0.0                   288.0           1.0   \n",
       "9                    0.0                    55.0           0.0   \n",
       "\n",
       "   is_active_balance  has_credit_limit_reached  is_revolving  \\\n",
       "0                0.0                       0.0           0.0   \n",
       "1                0.0                       0.0           0.0   \n",
       "2                0.0                       0.0           0.0   \n",
       "3                0.0                       0.0           0.0   \n",
       "4                0.0                       0.0           0.0   \n",
       "5                1.0                       0.0           0.0   \n",
       "6                0.0                       0.0           0.0   \n",
       "7                0.0                       0.0           0.0   \n",
       "8                0.0                       0.0           0.0   \n",
       "9                0.0                       0.0           0.0   \n",
       "\n",
       "   has_spend_at_any_merchant  arr_id_count  visits  visit_count  \n",
       "0                        0.0          20.0     1.0          6.0  \n",
       "1                        1.0          21.0     2.0         14.0  \n",
       "2                        0.0          21.0     1.0          6.0  \n",
       "3                        0.0          18.0     2.0         18.0  \n",
       "4                        0.0          19.0     2.0         16.0  \n",
       "5                        0.0          22.0     NaN          4.0  \n",
       "6                        1.0          21.0     1.0          4.0  \n",
       "7                        0.0          22.0     1.0          4.0  \n",
       "8                        0.0          18.0     2.0         14.0  \n",
       "9                        0.0          19.0     2.0          8.0  "
      ]
     },
     "execution_count": 5,
     "metadata": {},
     "output_type": "execute_result"
    }
   ],
   "source": [
    "df.head(10)"
   ]
  },
  {
   "cell_type": "code",
   "execution_count": 6,
   "id": "f665a2ee",
   "metadata": {},
   "outputs": [
    {
     "data": {
      "text/html": [
       "<div>\n",
       "<style scoped>\n",
       "    .dataframe tbody tr th:only-of-type {\n",
       "        vertical-align: middle;\n",
       "    }\n",
       "\n",
       "    .dataframe tbody tr th {\n",
       "        vertical-align: top;\n",
       "    }\n",
       "\n",
       "    .dataframe thead th {\n",
       "        text-align: right;\n",
       "    }\n",
       "</style>\n",
       "<table border=\"1\" class=\"dataframe\">\n",
       "  <thead>\n",
       "    <tr style=\"text-align: right;\">\n",
       "      <th></th>\n",
       "      <th>ac_id</th>\n",
       "      <th>cycle_dt</th>\n",
       "      <th>payment_due_dt</th>\n",
       "      <th>new_account_indicator</th>\n",
       "      <th>member_since_in_months</th>\n",
       "      <th>spend_active</th>\n",
       "      <th>is_active_balance</th>\n",
       "      <th>has_credit_limit_reached</th>\n",
       "      <th>is_revolving</th>\n",
       "      <th>has_spend_at_any_merchant</th>\n",
       "      <th>arr_id_count</th>\n",
       "      <th>visits</th>\n",
       "      <th>visit_count</th>\n",
       "    </tr>\n",
       "  </thead>\n",
       "  <tbody>\n",
       "    <tr>\n",
       "      <th>0</th>\n",
       "      <td>AC4592fa29-384c-4d58-a74b-2ac5780e884f</td>\n",
       "      <td>3/14/18</td>\n",
       "      <td>4/8/18</td>\n",
       "      <td>0.0</td>\n",
       "      <td>NaN</td>\n",
       "      <td>1.0</td>\n",
       "      <td>0.0</td>\n",
       "      <td>0.0</td>\n",
       "      <td>0.0</td>\n",
       "      <td>0.0</td>\n",
       "      <td>20.0</td>\n",
       "      <td>1.0</td>\n",
       "      <td>6.0</td>\n",
       "    </tr>\n",
       "    <tr>\n",
       "      <th>1</th>\n",
       "      <td>AC4fb74ef4-3f46-4e6a-9ae7-657320b463bc</td>\n",
       "      <td>NaN</td>\n",
       "      <td>NaN</td>\n",
       "      <td>0.0</td>\n",
       "      <td>NaN</td>\n",
       "      <td>1.0</td>\n",
       "      <td>0.0</td>\n",
       "      <td>0.0</td>\n",
       "      <td>0.0</td>\n",
       "      <td>1.0</td>\n",
       "      <td>21.0</td>\n",
       "      <td>2.0</td>\n",
       "      <td>14.0</td>\n",
       "    </tr>\n",
       "    <tr>\n",
       "      <th>2</th>\n",
       "      <td>AC10e4b9f0-e76f-4da7-a0d3-99988ef23f08</td>\n",
       "      <td>3/7/18</td>\n",
       "      <td>4/2/18</td>\n",
       "      <td>0.0</td>\n",
       "      <td>185.0</td>\n",
       "      <td>1.0</td>\n",
       "      <td>0.0</td>\n",
       "      <td>0.0</td>\n",
       "      <td>0.0</td>\n",
       "      <td>0.0</td>\n",
       "      <td>21.0</td>\n",
       "      <td>1.0</td>\n",
       "      <td>6.0</td>\n",
       "    </tr>\n",
       "    <tr>\n",
       "      <th>3</th>\n",
       "      <td>ACe990a57f-8061-4303-97f6-83b6c580a5f1</td>\n",
       "      <td>NaN</td>\n",
       "      <td>NaN</td>\n",
       "      <td>0.0</td>\n",
       "      <td>324.0</td>\n",
       "      <td>1.0</td>\n",
       "      <td>0.0</td>\n",
       "      <td>0.0</td>\n",
       "      <td>0.0</td>\n",
       "      <td>0.0</td>\n",
       "      <td>18.0</td>\n",
       "      <td>2.0</td>\n",
       "      <td>18.0</td>\n",
       "    </tr>\n",
       "    <tr>\n",
       "      <th>4</th>\n",
       "      <td>ACcec24e2f-c5d0-49ac-ae7d-8106e50646ce</td>\n",
       "      <td>3/28/18</td>\n",
       "      <td>4/23/18</td>\n",
       "      <td>0.0</td>\n",
       "      <td>19.0</td>\n",
       "      <td>1.0</td>\n",
       "      <td>0.0</td>\n",
       "      <td>0.0</td>\n",
       "      <td>0.0</td>\n",
       "      <td>0.0</td>\n",
       "      <td>19.0</td>\n",
       "      <td>2.0</td>\n",
       "      <td>16.0</td>\n",
       "    </tr>\n",
       "    <tr>\n",
       "      <th>...</th>\n",
       "      <td>...</td>\n",
       "      <td>...</td>\n",
       "      <td>...</td>\n",
       "      <td>...</td>\n",
       "      <td>...</td>\n",
       "      <td>...</td>\n",
       "      <td>...</td>\n",
       "      <td>...</td>\n",
       "      <td>...</td>\n",
       "      <td>...</td>\n",
       "      <td>...</td>\n",
       "      <td>...</td>\n",
       "      <td>...</td>\n",
       "    </tr>\n",
       "    <tr>\n",
       "      <th>900130</th>\n",
       "      <td>ACb9f5f357-f252-4256-b8ac_id</td>\n",
       "      <td>NaN</td>\n",
       "      <td>NaN</td>\n",
       "      <td>NaN</td>\n",
       "      <td>NaN</td>\n",
       "      <td>NaN</td>\n",
       "      <td>NaN</td>\n",
       "      <td>NaN</td>\n",
       "      <td>NaN</td>\n",
       "      <td>NaN</td>\n",
       "      <td>1.0</td>\n",
       "      <td>NaN</td>\n",
       "      <td>NaN</td>\n",
       "    </tr>\n",
       "    <tr>\n",
       "      <th>900131</th>\n",
       "      <td>AC28d3d42c-6aaf-4c69-b7ac_id</td>\n",
       "      <td>NaN</td>\n",
       "      <td>NaN</td>\n",
       "      <td>NaN</td>\n",
       "      <td>NaN</td>\n",
       "      <td>NaN</td>\n",
       "      <td>NaN</td>\n",
       "      <td>NaN</td>\n",
       "      <td>NaN</td>\n",
       "      <td>NaN</td>\n",
       "      <td>1.0</td>\n",
       "      <td>NaN</td>\n",
       "      <td>NaN</td>\n",
       "    </tr>\n",
       "    <tr>\n",
       "      <th>900132</th>\n",
       "      <td>ACee0312f3-a6ea-4ad8-83ac_id</td>\n",
       "      <td>NaN</td>\n",
       "      <td>NaN</td>\n",
       "      <td>NaN</td>\n",
       "      <td>NaN</td>\n",
       "      <td>NaN</td>\n",
       "      <td>NaN</td>\n",
       "      <td>NaN</td>\n",
       "      <td>NaN</td>\n",
       "      <td>NaN</td>\n",
       "      <td>1.0</td>\n",
       "      <td>NaN</td>\n",
       "      <td>NaN</td>\n",
       "    </tr>\n",
       "    <tr>\n",
       "      <th>900133</th>\n",
       "      <td>AC3da9a41e-21aa-48fe-9abac_id</td>\n",
       "      <td>NaN</td>\n",
       "      <td>NaN</td>\n",
       "      <td>NaN</td>\n",
       "      <td>NaN</td>\n",
       "      <td>NaN</td>\n",
       "      <td>NaN</td>\n",
       "      <td>NaN</td>\n",
       "      <td>NaN</td>\n",
       "      <td>NaN</td>\n",
       "      <td>1.0</td>\n",
       "      <td>NaN</td>\n",
       "      <td>NaN</td>\n",
       "    </tr>\n",
       "    <tr>\n",
       "      <th>900134</th>\n",
       "      <td>AC2b0e3c85-3ff8-45e5-adac_id</td>\n",
       "      <td>NaN</td>\n",
       "      <td>NaN</td>\n",
       "      <td>NaN</td>\n",
       "      <td>NaN</td>\n",
       "      <td>NaN</td>\n",
       "      <td>NaN</td>\n",
       "      <td>NaN</td>\n",
       "      <td>NaN</td>\n",
       "      <td>NaN</td>\n",
       "      <td>1.0</td>\n",
       "      <td>NaN</td>\n",
       "      <td>NaN</td>\n",
       "    </tr>\n",
       "  </tbody>\n",
       "</table>\n",
       "<p>900135 rows × 13 columns</p>\n",
       "</div>"
      ],
      "text/plain": [
       "                                         ac_id cycle_dt payment_due_dt  \\\n",
       "0       AC4592fa29-384c-4d58-a74b-2ac5780e884f  3/14/18         4/8/18   \n",
       "1       AC4fb74ef4-3f46-4e6a-9ae7-657320b463bc      NaN            NaN   \n",
       "2       AC10e4b9f0-e76f-4da7-a0d3-99988ef23f08   3/7/18         4/2/18   \n",
       "3       ACe990a57f-8061-4303-97f6-83b6c580a5f1      NaN            NaN   \n",
       "4       ACcec24e2f-c5d0-49ac-ae7d-8106e50646ce  3/28/18        4/23/18   \n",
       "...                                        ...      ...            ...   \n",
       "900130            ACb9f5f357-f252-4256-b8ac_id      NaN            NaN   \n",
       "900131            AC28d3d42c-6aaf-4c69-b7ac_id      NaN            NaN   \n",
       "900132            ACee0312f3-a6ea-4ad8-83ac_id      NaN            NaN   \n",
       "900133           AC3da9a41e-21aa-48fe-9abac_id      NaN            NaN   \n",
       "900134            AC2b0e3c85-3ff8-45e5-adac_id      NaN            NaN   \n",
       "\n",
       "        new_account_indicator  member_since_in_months  spend_active  \\\n",
       "0                         0.0                     NaN           1.0   \n",
       "1                         0.0                     NaN           1.0   \n",
       "2                         0.0                   185.0           1.0   \n",
       "3                         0.0                   324.0           1.0   \n",
       "4                         0.0                    19.0           1.0   \n",
       "...                       ...                     ...           ...   \n",
       "900130                    NaN                     NaN           NaN   \n",
       "900131                    NaN                     NaN           NaN   \n",
       "900132                    NaN                     NaN           NaN   \n",
       "900133                    NaN                     NaN           NaN   \n",
       "900134                    NaN                     NaN           NaN   \n",
       "\n",
       "        is_active_balance  has_credit_limit_reached  is_revolving  \\\n",
       "0                     0.0                       0.0           0.0   \n",
       "1                     0.0                       0.0           0.0   \n",
       "2                     0.0                       0.0           0.0   \n",
       "3                     0.0                       0.0           0.0   \n",
       "4                     0.0                       0.0           0.0   \n",
       "...                   ...                       ...           ...   \n",
       "900130                NaN                       NaN           NaN   \n",
       "900131                NaN                       NaN           NaN   \n",
       "900132                NaN                       NaN           NaN   \n",
       "900133                NaN                       NaN           NaN   \n",
       "900134                NaN                       NaN           NaN   \n",
       "\n",
       "        has_spend_at_any_merchant  arr_id_count  visits  visit_count  \n",
       "0                             0.0          20.0     1.0          6.0  \n",
       "1                             1.0          21.0     2.0         14.0  \n",
       "2                             0.0          21.0     1.0          6.0  \n",
       "3                             0.0          18.0     2.0         18.0  \n",
       "4                             0.0          19.0     2.0         16.0  \n",
       "...                           ...           ...     ...          ...  \n",
       "900130                        NaN           1.0     NaN          NaN  \n",
       "900131                        NaN           1.0     NaN          NaN  \n",
       "900132                        NaN           1.0     NaN          NaN  \n",
       "900133                        NaN           1.0     NaN          NaN  \n",
       "900134                        NaN           1.0     NaN          NaN  \n",
       "\n",
       "[900135 rows x 13 columns]"
      ]
     },
     "execution_count": 6,
     "metadata": {},
     "output_type": "execute_result"
    }
   ],
   "source": [
    "df.drop(df.columns[[0]], axis=1, inplace=True)\n",
    "df"
   ]
  },
  {
   "cell_type": "code",
   "execution_count": 7,
   "id": "c5363628",
   "metadata": {},
   "outputs": [
    {
     "data": {
      "text/html": [
       "<div>\n",
       "<style scoped>\n",
       "    .dataframe tbody tr th:only-of-type {\n",
       "        vertical-align: middle;\n",
       "    }\n",
       "\n",
       "    .dataframe tbody tr th {\n",
       "        vertical-align: top;\n",
       "    }\n",
       "\n",
       "    .dataframe thead th {\n",
       "        text-align: right;\n",
       "    }\n",
       "</style>\n",
       "<table border=\"1\" class=\"dataframe\">\n",
       "  <thead>\n",
       "    <tr style=\"text-align: right;\">\n",
       "      <th></th>\n",
       "      <th>new_account_indicator</th>\n",
       "      <th>member_since_in_months</th>\n",
       "      <th>spend_active</th>\n",
       "      <th>is_active_balance</th>\n",
       "      <th>has_credit_limit_reached</th>\n",
       "      <th>is_revolving</th>\n",
       "      <th>has_spend_at_any_merchant</th>\n",
       "      <th>arr_id_count</th>\n",
       "      <th>visits</th>\n",
       "      <th>visit_count</th>\n",
       "    </tr>\n",
       "  </thead>\n",
       "  <tbody>\n",
       "    <tr>\n",
       "      <th>count</th>\n",
       "      <td>900000.000000</td>\n",
       "      <td>532613.000000</td>\n",
       "      <td>900000.000000</td>\n",
       "      <td>900000.000000</td>\n",
       "      <td>900000.000000</td>\n",
       "      <td>900000.000000</td>\n",
       "      <td>900000.000000</td>\n",
       "      <td>900025.000000</td>\n",
       "      <td>603629.000000</td>\n",
       "      <td>899926.000000</td>\n",
       "    </tr>\n",
       "    <tr>\n",
       "      <th>mean</th>\n",
       "      <td>0.002844</td>\n",
       "      <td>184.894830</td>\n",
       "      <td>0.823349</td>\n",
       "      <td>0.117778</td>\n",
       "      <td>0.016667</td>\n",
       "      <td>0.051111</td>\n",
       "      <td>0.106667</td>\n",
       "      <td>19.499893</td>\n",
       "      <td>1.656645</td>\n",
       "      <td>11.572516</td>\n",
       "    </tr>\n",
       "    <tr>\n",
       "      <th>std</th>\n",
       "      <td>0.053257</td>\n",
       "      <td>125.486852</td>\n",
       "      <td>0.381373</td>\n",
       "      <td>0.322345</td>\n",
       "      <td>0.128019</td>\n",
       "      <td>0.220224</td>\n",
       "      <td>0.308689</td>\n",
       "      <td>2.081119</td>\n",
       "      <td>0.867782</td>\n",
       "      <td>7.761985</td>\n",
       "    </tr>\n",
       "    <tr>\n",
       "      <th>min</th>\n",
       "      <td>0.000000</td>\n",
       "      <td>0.000000</td>\n",
       "      <td>0.000000</td>\n",
       "      <td>0.000000</td>\n",
       "      <td>0.000000</td>\n",
       "      <td>0.000000</td>\n",
       "      <td>0.000000</td>\n",
       "      <td>1.000000</td>\n",
       "      <td>1.000000</td>\n",
       "      <td>1.000000</td>\n",
       "    </tr>\n",
       "    <tr>\n",
       "      <th>25%</th>\n",
       "      <td>0.000000</td>\n",
       "      <td>83.000000</td>\n",
       "      <td>1.000000</td>\n",
       "      <td>0.000000</td>\n",
       "      <td>0.000000</td>\n",
       "      <td>0.000000</td>\n",
       "      <td>0.000000</td>\n",
       "      <td>18.000000</td>\n",
       "      <td>1.000000</td>\n",
       "      <td>7.000000</td>\n",
       "    </tr>\n",
       "    <tr>\n",
       "      <th>50%</th>\n",
       "      <td>0.000000</td>\n",
       "      <td>168.000000</td>\n",
       "      <td>1.000000</td>\n",
       "      <td>0.000000</td>\n",
       "      <td>0.000000</td>\n",
       "      <td>0.000000</td>\n",
       "      <td>0.000000</td>\n",
       "      <td>20.000000</td>\n",
       "      <td>1.000000</td>\n",
       "      <td>9.000000</td>\n",
       "    </tr>\n",
       "    <tr>\n",
       "      <th>75%</th>\n",
       "      <td>0.000000</td>\n",
       "      <td>271.000000</td>\n",
       "      <td>1.000000</td>\n",
       "      <td>0.000000</td>\n",
       "      <td>0.000000</td>\n",
       "      <td>0.000000</td>\n",
       "      <td>0.000000</td>\n",
       "      <td>21.000000</td>\n",
       "      <td>2.000000</td>\n",
       "      <td>14.000000</td>\n",
       "    </tr>\n",
       "    <tr>\n",
       "      <th>max</th>\n",
       "      <td>1.000000</td>\n",
       "      <td>790.000000</td>\n",
       "      <td>1.000000</td>\n",
       "      <td>1.000000</td>\n",
       "      <td>1.000000</td>\n",
       "      <td>1.000000</td>\n",
       "      <td>1.000000</td>\n",
       "      <td>28.000000</td>\n",
       "      <td>9.000000</td>\n",
       "      <td>126.000000</td>\n",
       "    </tr>\n",
       "  </tbody>\n",
       "</table>\n",
       "</div>"
      ],
      "text/plain": [
       "       new_account_indicator  member_since_in_months   spend_active  \\\n",
       "count          900000.000000           532613.000000  900000.000000   \n",
       "mean                0.002844              184.894830       0.823349   \n",
       "std                 0.053257              125.486852       0.381373   \n",
       "min                 0.000000                0.000000       0.000000   \n",
       "25%                 0.000000               83.000000       1.000000   \n",
       "50%                 0.000000              168.000000       1.000000   \n",
       "75%                 0.000000              271.000000       1.000000   \n",
       "max                 1.000000              790.000000       1.000000   \n",
       "\n",
       "       is_active_balance  has_credit_limit_reached   is_revolving  \\\n",
       "count      900000.000000             900000.000000  900000.000000   \n",
       "mean            0.117778                  0.016667       0.051111   \n",
       "std             0.322345                  0.128019       0.220224   \n",
       "min             0.000000                  0.000000       0.000000   \n",
       "25%             0.000000                  0.000000       0.000000   \n",
       "50%             0.000000                  0.000000       0.000000   \n",
       "75%             0.000000                  0.000000       0.000000   \n",
       "max             1.000000                  1.000000       1.000000   \n",
       "\n",
       "       has_spend_at_any_merchant   arr_id_count         visits    visit_count  \n",
       "count              900000.000000  900025.000000  603629.000000  899926.000000  \n",
       "mean                    0.106667      19.499893       1.656645      11.572516  \n",
       "std                     0.308689       2.081119       0.867782       7.761985  \n",
       "min                     0.000000       1.000000       1.000000       1.000000  \n",
       "25%                     0.000000      18.000000       1.000000       7.000000  \n",
       "50%                     0.000000      20.000000       1.000000       9.000000  \n",
       "75%                     0.000000      21.000000       2.000000      14.000000  \n",
       "max                     1.000000      28.000000       9.000000     126.000000  "
      ]
     },
     "execution_count": 7,
     "metadata": {},
     "output_type": "execute_result"
    }
   ],
   "source": [
    "df.describe()"
   ]
  },
  {
   "cell_type": "code",
   "execution_count": 8,
   "id": "17772af6",
   "metadata": {},
   "outputs": [
    {
     "name": "stdout",
     "output_type": "stream",
     "text": [
      "ac_id                             0\n",
      "cycle_dt                      94266\n",
      "payment_due_dt                94266\n",
      "new_account_indicator           135\n",
      "member_since_in_months       367522\n",
      "spend_active                    135\n",
      "is_active_balance               135\n",
      "has_credit_limit_reached        135\n",
      "is_revolving                    135\n",
      "has_spend_at_any_merchant       135\n",
      "arr_id_count                    110\n",
      "visits                       296506\n",
      "visit_count                     209\n",
      "dtype: int64\n"
     ]
    }
   ],
   "source": [
    "print(df.isnull().sum())"
   ]
  },
  {
   "cell_type": "code",
   "execution_count": 9,
   "id": "630382b2",
   "metadata": {},
   "outputs": [
    {
     "name": "stdout",
     "output_type": "stream",
     "text": [
      "853689\n"
     ]
    }
   ],
   "source": [
    "print(df.isnull().sum().sum())"
   ]
  },
  {
   "cell_type": "code",
   "execution_count": 10,
   "id": "e69b138f",
   "metadata": {},
   "outputs": [
    {
     "data": {
      "text/plain": [
       "ac_id                         object\n",
       "cycle_dt                      object\n",
       "payment_due_dt                object\n",
       "new_account_indicator        float64\n",
       "member_since_in_months       float64\n",
       "spend_active                 float64\n",
       "is_active_balance            float64\n",
       "has_credit_limit_reached     float64\n",
       "is_revolving                 float64\n",
       "has_spend_at_any_merchant    float64\n",
       "arr_id_count                 float64\n",
       "visits                       float64\n",
       "visit_count                  float64\n",
       "dtype: object"
      ]
     },
     "execution_count": 10,
     "metadata": {},
     "output_type": "execute_result"
    }
   ],
   "source": [
    "df.dtypes"
   ]
  },
  {
   "cell_type": "code",
   "execution_count": 11,
   "id": "02baca31",
   "metadata": {},
   "outputs": [],
   "source": [
    "to_encode = list(df.select_dtypes(include=['object']).columns)"
   ]
  },
  {
   "cell_type": "code",
   "execution_count": 12,
   "id": "f4cf3d42",
   "metadata": {},
   "outputs": [
    {
     "data": {
      "text/plain": [
       "ac_id             900026\n",
       "cycle_dt              22\n",
       "payment_due_dt        23\n",
       "dtype: int64"
      ]
     },
     "execution_count": 12,
     "metadata": {},
     "output_type": "execute_result"
    }
   ],
   "source": [
    "# candidates for one-hot encoding\n",
    "df[to_encode].nunique()"
   ]
  },
  {
   "cell_type": "code",
   "execution_count": 13,
   "id": "d60780c1",
   "metadata": {},
   "outputs": [],
   "source": [
    "df.drop(columns='ac_id', inplace = True)\n",
    "to_encode.remove('ac_id')"
   ]
  },
  {
   "cell_type": "code",
   "execution_count": 14,
   "id": "20bbe0ac",
   "metadata": {},
   "outputs": [],
   "source": [
    "from sklearn.preprocessing import OneHotEncoder\n",
    "\n",
    "# Create the encoder:\n",
    "encoder = OneHotEncoder(handle_unknown=\"error\", sparse=False)\n",
    "\n",
    "# Apply the encoder:\n",
    "df_enc = pd.DataFrame(encoder.fit_transform(df[to_encode]))\n",
    "\n",
    "# Reinstate the original column names:\n",
    "df_enc.columns = encoder.get_feature_names_out(to_encode)"
   ]
  },
  {
   "cell_type": "code",
   "execution_count": 15,
   "id": "047ea1d5",
   "metadata": {},
   "outputs": [
    {
     "data": {
      "text/html": [
       "<div>\n",
       "<style scoped>\n",
       "    .dataframe tbody tr th:only-of-type {\n",
       "        vertical-align: middle;\n",
       "    }\n",
       "\n",
       "    .dataframe tbody tr th {\n",
       "        vertical-align: top;\n",
       "    }\n",
       "\n",
       "    .dataframe thead th {\n",
       "        text-align: right;\n",
       "    }\n",
       "</style>\n",
       "<table border=\"1\" class=\"dataframe\">\n",
       "  <thead>\n",
       "    <tr style=\"text-align: right;\">\n",
       "      <th></th>\n",
       "      <th>cycle_dt_-1</th>\n",
       "      <th>cycle_dt_3/11/18</th>\n",
       "      <th>cycle_dt_3/12/18</th>\n",
       "      <th>cycle_dt_3/13/18</th>\n",
       "      <th>cycle_dt_3/14/18</th>\n",
       "      <th>cycle_dt_3/15/18</th>\n",
       "      <th>cycle_dt_3/16/18</th>\n",
       "      <th>cycle_dt_3/18/18</th>\n",
       "      <th>cycle_dt_3/19/18</th>\n",
       "      <th>cycle_dt_3/2/18</th>\n",
       "      <th>...</th>\n",
       "      <th>payment_due_dt_4/21/18</th>\n",
       "      <th>payment_due_dt_4/23/18</th>\n",
       "      <th>payment_due_dt_4/24/18</th>\n",
       "      <th>payment_due_dt_4/3/18</th>\n",
       "      <th>payment_due_dt_4/5/18</th>\n",
       "      <th>payment_due_dt_4/6/18</th>\n",
       "      <th>payment_due_dt_4/7/18</th>\n",
       "      <th>payment_due_dt_4/8/18</th>\n",
       "      <th>payment_due_dt_4/9/18</th>\n",
       "      <th>payment_due_dt_nan</th>\n",
       "    </tr>\n",
       "  </thead>\n",
       "  <tbody>\n",
       "    <tr>\n",
       "      <th>0</th>\n",
       "      <td>0.0</td>\n",
       "      <td>0.0</td>\n",
       "      <td>0.0</td>\n",
       "      <td>0.0</td>\n",
       "      <td>1.0</td>\n",
       "      <td>0.0</td>\n",
       "      <td>0.0</td>\n",
       "      <td>0.0</td>\n",
       "      <td>0.0</td>\n",
       "      <td>0.0</td>\n",
       "      <td>...</td>\n",
       "      <td>0.0</td>\n",
       "      <td>0.0</td>\n",
       "      <td>0.0</td>\n",
       "      <td>0.0</td>\n",
       "      <td>0.0</td>\n",
       "      <td>0.0</td>\n",
       "      <td>0.0</td>\n",
       "      <td>1.0</td>\n",
       "      <td>0.0</td>\n",
       "      <td>0.0</td>\n",
       "    </tr>\n",
       "    <tr>\n",
       "      <th>1</th>\n",
       "      <td>0.0</td>\n",
       "      <td>0.0</td>\n",
       "      <td>0.0</td>\n",
       "      <td>0.0</td>\n",
       "      <td>0.0</td>\n",
       "      <td>0.0</td>\n",
       "      <td>0.0</td>\n",
       "      <td>0.0</td>\n",
       "      <td>0.0</td>\n",
       "      <td>0.0</td>\n",
       "      <td>...</td>\n",
       "      <td>0.0</td>\n",
       "      <td>0.0</td>\n",
       "      <td>0.0</td>\n",
       "      <td>0.0</td>\n",
       "      <td>0.0</td>\n",
       "      <td>0.0</td>\n",
       "      <td>0.0</td>\n",
       "      <td>0.0</td>\n",
       "      <td>0.0</td>\n",
       "      <td>1.0</td>\n",
       "    </tr>\n",
       "    <tr>\n",
       "      <th>2</th>\n",
       "      <td>0.0</td>\n",
       "      <td>0.0</td>\n",
       "      <td>0.0</td>\n",
       "      <td>0.0</td>\n",
       "      <td>0.0</td>\n",
       "      <td>0.0</td>\n",
       "      <td>0.0</td>\n",
       "      <td>0.0</td>\n",
       "      <td>0.0</td>\n",
       "      <td>0.0</td>\n",
       "      <td>...</td>\n",
       "      <td>0.0</td>\n",
       "      <td>0.0</td>\n",
       "      <td>0.0</td>\n",
       "      <td>0.0</td>\n",
       "      <td>0.0</td>\n",
       "      <td>0.0</td>\n",
       "      <td>0.0</td>\n",
       "      <td>0.0</td>\n",
       "      <td>0.0</td>\n",
       "      <td>0.0</td>\n",
       "    </tr>\n",
       "    <tr>\n",
       "      <th>3</th>\n",
       "      <td>0.0</td>\n",
       "      <td>0.0</td>\n",
       "      <td>0.0</td>\n",
       "      <td>0.0</td>\n",
       "      <td>0.0</td>\n",
       "      <td>0.0</td>\n",
       "      <td>0.0</td>\n",
       "      <td>0.0</td>\n",
       "      <td>0.0</td>\n",
       "      <td>0.0</td>\n",
       "      <td>...</td>\n",
       "      <td>0.0</td>\n",
       "      <td>0.0</td>\n",
       "      <td>0.0</td>\n",
       "      <td>0.0</td>\n",
       "      <td>0.0</td>\n",
       "      <td>0.0</td>\n",
       "      <td>0.0</td>\n",
       "      <td>0.0</td>\n",
       "      <td>0.0</td>\n",
       "      <td>1.0</td>\n",
       "    </tr>\n",
       "    <tr>\n",
       "      <th>4</th>\n",
       "      <td>0.0</td>\n",
       "      <td>0.0</td>\n",
       "      <td>0.0</td>\n",
       "      <td>0.0</td>\n",
       "      <td>0.0</td>\n",
       "      <td>0.0</td>\n",
       "      <td>0.0</td>\n",
       "      <td>0.0</td>\n",
       "      <td>0.0</td>\n",
       "      <td>0.0</td>\n",
       "      <td>...</td>\n",
       "      <td>0.0</td>\n",
       "      <td>1.0</td>\n",
       "      <td>0.0</td>\n",
       "      <td>0.0</td>\n",
       "      <td>0.0</td>\n",
       "      <td>0.0</td>\n",
       "      <td>0.0</td>\n",
       "      <td>0.0</td>\n",
       "      <td>0.0</td>\n",
       "      <td>0.0</td>\n",
       "    </tr>\n",
       "  </tbody>\n",
       "</table>\n",
       "<p>5 rows × 47 columns</p>\n",
       "</div>"
      ],
      "text/plain": [
       "   cycle_dt_-1  cycle_dt_3/11/18  cycle_dt_3/12/18  cycle_dt_3/13/18  \\\n",
       "0          0.0               0.0               0.0               0.0   \n",
       "1          0.0               0.0               0.0               0.0   \n",
       "2          0.0               0.0               0.0               0.0   \n",
       "3          0.0               0.0               0.0               0.0   \n",
       "4          0.0               0.0               0.0               0.0   \n",
       "\n",
       "   cycle_dt_3/14/18  cycle_dt_3/15/18  cycle_dt_3/16/18  cycle_dt_3/18/18  \\\n",
       "0               1.0               0.0               0.0               0.0   \n",
       "1               0.0               0.0               0.0               0.0   \n",
       "2               0.0               0.0               0.0               0.0   \n",
       "3               0.0               0.0               0.0               0.0   \n",
       "4               0.0               0.0               0.0               0.0   \n",
       "\n",
       "   cycle_dt_3/19/18  cycle_dt_3/2/18  ...  payment_due_dt_4/21/18  \\\n",
       "0               0.0              0.0  ...                     0.0   \n",
       "1               0.0              0.0  ...                     0.0   \n",
       "2               0.0              0.0  ...                     0.0   \n",
       "3               0.0              0.0  ...                     0.0   \n",
       "4               0.0              0.0  ...                     0.0   \n",
       "\n",
       "   payment_due_dt_4/23/18  payment_due_dt_4/24/18  payment_due_dt_4/3/18  \\\n",
       "0                     0.0                     0.0                    0.0   \n",
       "1                     0.0                     0.0                    0.0   \n",
       "2                     0.0                     0.0                    0.0   \n",
       "3                     0.0                     0.0                    0.0   \n",
       "4                     1.0                     0.0                    0.0   \n",
       "\n",
       "   payment_due_dt_4/5/18  payment_due_dt_4/6/18  payment_due_dt_4/7/18  \\\n",
       "0                    0.0                    0.0                    0.0   \n",
       "1                    0.0                    0.0                    0.0   \n",
       "2                    0.0                    0.0                    0.0   \n",
       "3                    0.0                    0.0                    0.0   \n",
       "4                    0.0                    0.0                    0.0   \n",
       "\n",
       "   payment_due_dt_4/8/18  payment_due_dt_4/9/18  payment_due_dt_nan  \n",
       "0                    1.0                    0.0                 0.0  \n",
       "1                    0.0                    0.0                 1.0  \n",
       "2                    0.0                    0.0                 0.0  \n",
       "3                    0.0                    0.0                 1.0  \n",
       "4                    0.0                    0.0                 0.0  \n",
       "\n",
       "[5 rows x 47 columns]"
      ]
     },
     "execution_count": 15,
     "metadata": {},
     "output_type": "execute_result"
    }
   ],
   "source": [
    "df_enc.head()"
   ]
  },
  {
   "cell_type": "code",
   "execution_count": 16,
   "id": "a0f6abcc",
   "metadata": {},
   "outputs": [],
   "source": [
    "df.drop(columns = to_encode ,axis=1, inplace=True)"
   ]
  },
  {
   "cell_type": "code",
   "execution_count": 17,
   "id": "37b18d9f",
   "metadata": {},
   "outputs": [
    {
     "data": {
      "text/html": [
       "<div>\n",
       "<style scoped>\n",
       "    .dataframe tbody tr th:only-of-type {\n",
       "        vertical-align: middle;\n",
       "    }\n",
       "\n",
       "    .dataframe tbody tr th {\n",
       "        vertical-align: top;\n",
       "    }\n",
       "\n",
       "    .dataframe thead th {\n",
       "        text-align: right;\n",
       "    }\n",
       "</style>\n",
       "<table border=\"1\" class=\"dataframe\">\n",
       "  <thead>\n",
       "    <tr style=\"text-align: right;\">\n",
       "      <th></th>\n",
       "      <th>new_account_indicator</th>\n",
       "      <th>member_since_in_months</th>\n",
       "      <th>spend_active</th>\n",
       "      <th>is_active_balance</th>\n",
       "      <th>has_credit_limit_reached</th>\n",
       "      <th>is_revolving</th>\n",
       "      <th>has_spend_at_any_merchant</th>\n",
       "      <th>arr_id_count</th>\n",
       "      <th>visits</th>\n",
       "      <th>visit_count</th>\n",
       "    </tr>\n",
       "  </thead>\n",
       "  <tbody>\n",
       "    <tr>\n",
       "      <th>0</th>\n",
       "      <td>0.0</td>\n",
       "      <td>NaN</td>\n",
       "      <td>1.0</td>\n",
       "      <td>0.0</td>\n",
       "      <td>0.0</td>\n",
       "      <td>0.0</td>\n",
       "      <td>0.0</td>\n",
       "      <td>20.0</td>\n",
       "      <td>1.0</td>\n",
       "      <td>6.0</td>\n",
       "    </tr>\n",
       "    <tr>\n",
       "      <th>1</th>\n",
       "      <td>0.0</td>\n",
       "      <td>NaN</td>\n",
       "      <td>1.0</td>\n",
       "      <td>0.0</td>\n",
       "      <td>0.0</td>\n",
       "      <td>0.0</td>\n",
       "      <td>1.0</td>\n",
       "      <td>21.0</td>\n",
       "      <td>2.0</td>\n",
       "      <td>14.0</td>\n",
       "    </tr>\n",
       "    <tr>\n",
       "      <th>2</th>\n",
       "      <td>0.0</td>\n",
       "      <td>185.0</td>\n",
       "      <td>1.0</td>\n",
       "      <td>0.0</td>\n",
       "      <td>0.0</td>\n",
       "      <td>0.0</td>\n",
       "      <td>0.0</td>\n",
       "      <td>21.0</td>\n",
       "      <td>1.0</td>\n",
       "      <td>6.0</td>\n",
       "    </tr>\n",
       "    <tr>\n",
       "      <th>3</th>\n",
       "      <td>0.0</td>\n",
       "      <td>324.0</td>\n",
       "      <td>1.0</td>\n",
       "      <td>0.0</td>\n",
       "      <td>0.0</td>\n",
       "      <td>0.0</td>\n",
       "      <td>0.0</td>\n",
       "      <td>18.0</td>\n",
       "      <td>2.0</td>\n",
       "      <td>18.0</td>\n",
       "    </tr>\n",
       "    <tr>\n",
       "      <th>4</th>\n",
       "      <td>0.0</td>\n",
       "      <td>19.0</td>\n",
       "      <td>1.0</td>\n",
       "      <td>0.0</td>\n",
       "      <td>0.0</td>\n",
       "      <td>0.0</td>\n",
       "      <td>0.0</td>\n",
       "      <td>19.0</td>\n",
       "      <td>2.0</td>\n",
       "      <td>16.0</td>\n",
       "    </tr>\n",
       "  </tbody>\n",
       "</table>\n",
       "</div>"
      ],
      "text/plain": [
       "   new_account_indicator  member_since_in_months  spend_active  \\\n",
       "0                    0.0                     NaN           1.0   \n",
       "1                    0.0                     NaN           1.0   \n",
       "2                    0.0                   185.0           1.0   \n",
       "3                    0.0                   324.0           1.0   \n",
       "4                    0.0                    19.0           1.0   \n",
       "\n",
       "   is_active_balance  has_credit_limit_reached  is_revolving  \\\n",
       "0                0.0                       0.0           0.0   \n",
       "1                0.0                       0.0           0.0   \n",
       "2                0.0                       0.0           0.0   \n",
       "3                0.0                       0.0           0.0   \n",
       "4                0.0                       0.0           0.0   \n",
       "\n",
       "   has_spend_at_any_merchant  arr_id_count  visits  visit_count  \n",
       "0                        0.0          20.0     1.0          6.0  \n",
       "1                        1.0          21.0     2.0         14.0  \n",
       "2                        0.0          21.0     1.0          6.0  \n",
       "3                        0.0          18.0     2.0         18.0  \n",
       "4                        0.0          19.0     2.0         16.0  "
      ]
     },
     "execution_count": 17,
     "metadata": {},
     "output_type": "execute_result"
    }
   ],
   "source": [
    "df.head()"
   ]
  },
  {
   "cell_type": "code",
   "execution_count": 18,
   "id": "ae530a0a",
   "metadata": {},
   "outputs": [],
   "source": [
    "df = df.join(df_enc)"
   ]
  },
  {
   "cell_type": "code",
   "execution_count": 19,
   "id": "c7b72dae",
   "metadata": {},
   "outputs": [
    {
     "data": {
      "text/plain": [
       "Index(['new_account_indicator', 'member_since_in_months', 'spend_active',\n",
       "       'is_active_balance', 'has_credit_limit_reached', 'is_revolving',\n",
       "       'has_spend_at_any_merchant', 'arr_id_count', 'visits', 'visit_count',\n",
       "       'cycle_dt_-1', 'cycle_dt_3/11/18', 'cycle_dt_3/12/18',\n",
       "       'cycle_dt_3/13/18', 'cycle_dt_3/14/18', 'cycle_dt_3/15/18',\n",
       "       'cycle_dt_3/16/18', 'cycle_dt_3/18/18', 'cycle_dt_3/19/18',\n",
       "       'cycle_dt_3/2/18', 'cycle_dt_3/20/18', 'cycle_dt_3/21/18',\n",
       "       'cycle_dt_3/22/18', 'cycle_dt_3/23/18', 'cycle_dt_3/25/18',\n",
       "       'cycle_dt_3/26/18', 'cycle_dt_3/27/18', 'cycle_dt_3/28/18',\n",
       "       'cycle_dt_3/29/18', 'cycle_dt_3/7/18', 'cycle_dt_3/8/18',\n",
       "       'cycle_dt_3/9/18', 'cycle_dt_nan', 'payment_due_dt_-1',\n",
       "       'payment_due_dt_3/24/18', 'payment_due_dt_3/27/18',\n",
       "       'payment_due_dt_3/31/18', 'payment_due_dt_4/10/18',\n",
       "       'payment_due_dt_4/12/18', 'payment_due_dt_4/13/18',\n",
       "       'payment_due_dt_4/14/18', 'payment_due_dt_4/15/18',\n",
       "       'payment_due_dt_4/16/18', 'payment_due_dt_4/17/18',\n",
       "       'payment_due_dt_4/19/18', 'payment_due_dt_4/2/18',\n",
       "       'payment_due_dt_4/20/18', 'payment_due_dt_4/21/18',\n",
       "       'payment_due_dt_4/23/18', 'payment_due_dt_4/24/18',\n",
       "       'payment_due_dt_4/3/18', 'payment_due_dt_4/5/18',\n",
       "       'payment_due_dt_4/6/18', 'payment_due_dt_4/7/18',\n",
       "       'payment_due_dt_4/8/18', 'payment_due_dt_4/9/18', 'payment_due_dt_nan'],\n",
       "      dtype='object')"
      ]
     },
     "execution_count": 19,
     "metadata": {},
     "output_type": "execute_result"
    }
   ],
   "source": [
    "df.columns # checks column names after join the transformed categorical features contained in df_enc to df"
   ]
  },
  {
   "cell_type": "code",
   "execution_count": 20,
   "id": "2cc65198",
   "metadata": {},
   "outputs": [],
   "source": [
    "df['member_since_in_months'] = df['member_since_in_months'].fillna(0)"
   ]
  },
  {
   "cell_type": "code",
   "execution_count": 21,
   "id": "f949253d",
   "metadata": {},
   "outputs": [
    {
     "data": {
      "text/html": [
       "<div>\n",
       "<style scoped>\n",
       "    .dataframe tbody tr th:only-of-type {\n",
       "        vertical-align: middle;\n",
       "    }\n",
       "\n",
       "    .dataframe tbody tr th {\n",
       "        vertical-align: top;\n",
       "    }\n",
       "\n",
       "    .dataframe thead th {\n",
       "        text-align: right;\n",
       "    }\n",
       "</style>\n",
       "<table border=\"1\" class=\"dataframe\">\n",
       "  <thead>\n",
       "    <tr style=\"text-align: right;\">\n",
       "      <th></th>\n",
       "      <th>new_account_indicator</th>\n",
       "      <th>member_since_in_months</th>\n",
       "      <th>spend_active</th>\n",
       "      <th>is_active_balance</th>\n",
       "      <th>has_credit_limit_reached</th>\n",
       "      <th>is_revolving</th>\n",
       "      <th>has_spend_at_any_merchant</th>\n",
       "      <th>arr_id_count</th>\n",
       "      <th>visits</th>\n",
       "      <th>visit_count</th>\n",
       "      <th>...</th>\n",
       "      <th>payment_due_dt_4/21/18</th>\n",
       "      <th>payment_due_dt_4/23/18</th>\n",
       "      <th>payment_due_dt_4/24/18</th>\n",
       "      <th>payment_due_dt_4/3/18</th>\n",
       "      <th>payment_due_dt_4/5/18</th>\n",
       "      <th>payment_due_dt_4/6/18</th>\n",
       "      <th>payment_due_dt_4/7/18</th>\n",
       "      <th>payment_due_dt_4/8/18</th>\n",
       "      <th>payment_due_dt_4/9/18</th>\n",
       "      <th>payment_due_dt_nan</th>\n",
       "    </tr>\n",
       "  </thead>\n",
       "  <tbody>\n",
       "    <tr>\n",
       "      <th>0</th>\n",
       "      <td>0.0</td>\n",
       "      <td>0.0</td>\n",
       "      <td>1.0</td>\n",
       "      <td>0.0</td>\n",
       "      <td>0.0</td>\n",
       "      <td>0.0</td>\n",
       "      <td>0.0</td>\n",
       "      <td>20.0</td>\n",
       "      <td>1.0</td>\n",
       "      <td>6.0</td>\n",
       "      <td>...</td>\n",
       "      <td>0.0</td>\n",
       "      <td>0.0</td>\n",
       "      <td>0.0</td>\n",
       "      <td>0.0</td>\n",
       "      <td>0.0</td>\n",
       "      <td>0.0</td>\n",
       "      <td>0.0</td>\n",
       "      <td>1.0</td>\n",
       "      <td>0.0</td>\n",
       "      <td>0.0</td>\n",
       "    </tr>\n",
       "    <tr>\n",
       "      <th>1</th>\n",
       "      <td>0.0</td>\n",
       "      <td>0.0</td>\n",
       "      <td>1.0</td>\n",
       "      <td>0.0</td>\n",
       "      <td>0.0</td>\n",
       "      <td>0.0</td>\n",
       "      <td>1.0</td>\n",
       "      <td>21.0</td>\n",
       "      <td>2.0</td>\n",
       "      <td>14.0</td>\n",
       "      <td>...</td>\n",
       "      <td>0.0</td>\n",
       "      <td>0.0</td>\n",
       "      <td>0.0</td>\n",
       "      <td>0.0</td>\n",
       "      <td>0.0</td>\n",
       "      <td>0.0</td>\n",
       "      <td>0.0</td>\n",
       "      <td>0.0</td>\n",
       "      <td>0.0</td>\n",
       "      <td>1.0</td>\n",
       "    </tr>\n",
       "    <tr>\n",
       "      <th>2</th>\n",
       "      <td>0.0</td>\n",
       "      <td>185.0</td>\n",
       "      <td>1.0</td>\n",
       "      <td>0.0</td>\n",
       "      <td>0.0</td>\n",
       "      <td>0.0</td>\n",
       "      <td>0.0</td>\n",
       "      <td>21.0</td>\n",
       "      <td>1.0</td>\n",
       "      <td>6.0</td>\n",
       "      <td>...</td>\n",
       "      <td>0.0</td>\n",
       "      <td>0.0</td>\n",
       "      <td>0.0</td>\n",
       "      <td>0.0</td>\n",
       "      <td>0.0</td>\n",
       "      <td>0.0</td>\n",
       "      <td>0.0</td>\n",
       "      <td>0.0</td>\n",
       "      <td>0.0</td>\n",
       "      <td>0.0</td>\n",
       "    </tr>\n",
       "    <tr>\n",
       "      <th>3</th>\n",
       "      <td>0.0</td>\n",
       "      <td>324.0</td>\n",
       "      <td>1.0</td>\n",
       "      <td>0.0</td>\n",
       "      <td>0.0</td>\n",
       "      <td>0.0</td>\n",
       "      <td>0.0</td>\n",
       "      <td>18.0</td>\n",
       "      <td>2.0</td>\n",
       "      <td>18.0</td>\n",
       "      <td>...</td>\n",
       "      <td>0.0</td>\n",
       "      <td>0.0</td>\n",
       "      <td>0.0</td>\n",
       "      <td>0.0</td>\n",
       "      <td>0.0</td>\n",
       "      <td>0.0</td>\n",
       "      <td>0.0</td>\n",
       "      <td>0.0</td>\n",
       "      <td>0.0</td>\n",
       "      <td>1.0</td>\n",
       "    </tr>\n",
       "    <tr>\n",
       "      <th>4</th>\n",
       "      <td>0.0</td>\n",
       "      <td>19.0</td>\n",
       "      <td>1.0</td>\n",
       "      <td>0.0</td>\n",
       "      <td>0.0</td>\n",
       "      <td>0.0</td>\n",
       "      <td>0.0</td>\n",
       "      <td>19.0</td>\n",
       "      <td>2.0</td>\n",
       "      <td>16.0</td>\n",
       "      <td>...</td>\n",
       "      <td>0.0</td>\n",
       "      <td>1.0</td>\n",
       "      <td>0.0</td>\n",
       "      <td>0.0</td>\n",
       "      <td>0.0</td>\n",
       "      <td>0.0</td>\n",
       "      <td>0.0</td>\n",
       "      <td>0.0</td>\n",
       "      <td>0.0</td>\n",
       "      <td>0.0</td>\n",
       "    </tr>\n",
       "    <tr>\n",
       "      <th>5</th>\n",
       "      <td>0.0</td>\n",
       "      <td>14.0</td>\n",
       "      <td>1.0</td>\n",
       "      <td>1.0</td>\n",
       "      <td>0.0</td>\n",
       "      <td>0.0</td>\n",
       "      <td>0.0</td>\n",
       "      <td>22.0</td>\n",
       "      <td>NaN</td>\n",
       "      <td>4.0</td>\n",
       "      <td>...</td>\n",
       "      <td>0.0</td>\n",
       "      <td>0.0</td>\n",
       "      <td>0.0</td>\n",
       "      <td>0.0</td>\n",
       "      <td>0.0</td>\n",
       "      <td>0.0</td>\n",
       "      <td>0.0</td>\n",
       "      <td>0.0</td>\n",
       "      <td>0.0</td>\n",
       "      <td>0.0</td>\n",
       "    </tr>\n",
       "    <tr>\n",
       "      <th>6</th>\n",
       "      <td>0.0</td>\n",
       "      <td>0.0</td>\n",
       "      <td>1.0</td>\n",
       "      <td>0.0</td>\n",
       "      <td>0.0</td>\n",
       "      <td>0.0</td>\n",
       "      <td>1.0</td>\n",
       "      <td>21.0</td>\n",
       "      <td>1.0</td>\n",
       "      <td>4.0</td>\n",
       "      <td>...</td>\n",
       "      <td>0.0</td>\n",
       "      <td>0.0</td>\n",
       "      <td>0.0</td>\n",
       "      <td>0.0</td>\n",
       "      <td>0.0</td>\n",
       "      <td>0.0</td>\n",
       "      <td>0.0</td>\n",
       "      <td>0.0</td>\n",
       "      <td>0.0</td>\n",
       "      <td>0.0</td>\n",
       "    </tr>\n",
       "    <tr>\n",
       "      <th>7</th>\n",
       "      <td>0.0</td>\n",
       "      <td>248.0</td>\n",
       "      <td>1.0</td>\n",
       "      <td>0.0</td>\n",
       "      <td>0.0</td>\n",
       "      <td>0.0</td>\n",
       "      <td>0.0</td>\n",
       "      <td>22.0</td>\n",
       "      <td>1.0</td>\n",
       "      <td>4.0</td>\n",
       "      <td>...</td>\n",
       "      <td>0.0</td>\n",
       "      <td>0.0</td>\n",
       "      <td>0.0</td>\n",
       "      <td>0.0</td>\n",
       "      <td>0.0</td>\n",
       "      <td>0.0</td>\n",
       "      <td>0.0</td>\n",
       "      <td>0.0</td>\n",
       "      <td>0.0</td>\n",
       "      <td>0.0</td>\n",
       "    </tr>\n",
       "    <tr>\n",
       "      <th>8</th>\n",
       "      <td>0.0</td>\n",
       "      <td>288.0</td>\n",
       "      <td>1.0</td>\n",
       "      <td>0.0</td>\n",
       "      <td>0.0</td>\n",
       "      <td>0.0</td>\n",
       "      <td>0.0</td>\n",
       "      <td>18.0</td>\n",
       "      <td>2.0</td>\n",
       "      <td>14.0</td>\n",
       "      <td>...</td>\n",
       "      <td>0.0</td>\n",
       "      <td>0.0</td>\n",
       "      <td>0.0</td>\n",
       "      <td>0.0</td>\n",
       "      <td>0.0</td>\n",
       "      <td>0.0</td>\n",
       "      <td>0.0</td>\n",
       "      <td>0.0</td>\n",
       "      <td>0.0</td>\n",
       "      <td>0.0</td>\n",
       "    </tr>\n",
       "    <tr>\n",
       "      <th>9</th>\n",
       "      <td>0.0</td>\n",
       "      <td>55.0</td>\n",
       "      <td>0.0</td>\n",
       "      <td>0.0</td>\n",
       "      <td>0.0</td>\n",
       "      <td>0.0</td>\n",
       "      <td>0.0</td>\n",
       "      <td>19.0</td>\n",
       "      <td>2.0</td>\n",
       "      <td>8.0</td>\n",
       "      <td>...</td>\n",
       "      <td>0.0</td>\n",
       "      <td>0.0</td>\n",
       "      <td>0.0</td>\n",
       "      <td>0.0</td>\n",
       "      <td>0.0</td>\n",
       "      <td>0.0</td>\n",
       "      <td>0.0</td>\n",
       "      <td>0.0</td>\n",
       "      <td>0.0</td>\n",
       "      <td>0.0</td>\n",
       "    </tr>\n",
       "  </tbody>\n",
       "</table>\n",
       "<p>10 rows × 57 columns</p>\n",
       "</div>"
      ],
      "text/plain": [
       "   new_account_indicator  member_since_in_months  spend_active  \\\n",
       "0                    0.0                     0.0           1.0   \n",
       "1                    0.0                     0.0           1.0   \n",
       "2                    0.0                   185.0           1.0   \n",
       "3                    0.0                   324.0           1.0   \n",
       "4                    0.0                    19.0           1.0   \n",
       "5                    0.0                    14.0           1.0   \n",
       "6                    0.0                     0.0           1.0   \n",
       "7                    0.0                   248.0           1.0   \n",
       "8                    0.0                   288.0           1.0   \n",
       "9                    0.0                    55.0           0.0   \n",
       "\n",
       "   is_active_balance  has_credit_limit_reached  is_revolving  \\\n",
       "0                0.0                       0.0           0.0   \n",
       "1                0.0                       0.0           0.0   \n",
       "2                0.0                       0.0           0.0   \n",
       "3                0.0                       0.0           0.0   \n",
       "4                0.0                       0.0           0.0   \n",
       "5                1.0                       0.0           0.0   \n",
       "6                0.0                       0.0           0.0   \n",
       "7                0.0                       0.0           0.0   \n",
       "8                0.0                       0.0           0.0   \n",
       "9                0.0                       0.0           0.0   \n",
       "\n",
       "   has_spend_at_any_merchant  arr_id_count  visits  visit_count  ...  \\\n",
       "0                        0.0          20.0     1.0          6.0  ...   \n",
       "1                        1.0          21.0     2.0         14.0  ...   \n",
       "2                        0.0          21.0     1.0          6.0  ...   \n",
       "3                        0.0          18.0     2.0         18.0  ...   \n",
       "4                        0.0          19.0     2.0         16.0  ...   \n",
       "5                        0.0          22.0     NaN          4.0  ...   \n",
       "6                        1.0          21.0     1.0          4.0  ...   \n",
       "7                        0.0          22.0     1.0          4.0  ...   \n",
       "8                        0.0          18.0     2.0         14.0  ...   \n",
       "9                        0.0          19.0     2.0          8.0  ...   \n",
       "\n",
       "   payment_due_dt_4/21/18  payment_due_dt_4/23/18  payment_due_dt_4/24/18  \\\n",
       "0                     0.0                     0.0                     0.0   \n",
       "1                     0.0                     0.0                     0.0   \n",
       "2                     0.0                     0.0                     0.0   \n",
       "3                     0.0                     0.0                     0.0   \n",
       "4                     0.0                     1.0                     0.0   \n",
       "5                     0.0                     0.0                     0.0   \n",
       "6                     0.0                     0.0                     0.0   \n",
       "7                     0.0                     0.0                     0.0   \n",
       "8                     0.0                     0.0                     0.0   \n",
       "9                     0.0                     0.0                     0.0   \n",
       "\n",
       "   payment_due_dt_4/3/18  payment_due_dt_4/5/18  payment_due_dt_4/6/18  \\\n",
       "0                    0.0                    0.0                    0.0   \n",
       "1                    0.0                    0.0                    0.0   \n",
       "2                    0.0                    0.0                    0.0   \n",
       "3                    0.0                    0.0                    0.0   \n",
       "4                    0.0                    0.0                    0.0   \n",
       "5                    0.0                    0.0                    0.0   \n",
       "6                    0.0                    0.0                    0.0   \n",
       "7                    0.0                    0.0                    0.0   \n",
       "8                    0.0                    0.0                    0.0   \n",
       "9                    0.0                    0.0                    0.0   \n",
       "\n",
       "   payment_due_dt_4/7/18  payment_due_dt_4/8/18  payment_due_dt_4/9/18  \\\n",
       "0                    0.0                    1.0                    0.0   \n",
       "1                    0.0                    0.0                    0.0   \n",
       "2                    0.0                    0.0                    0.0   \n",
       "3                    0.0                    0.0                    0.0   \n",
       "4                    0.0                    0.0                    0.0   \n",
       "5                    0.0                    0.0                    0.0   \n",
       "6                    0.0                    0.0                    0.0   \n",
       "7                    0.0                    0.0                    0.0   \n",
       "8                    0.0                    0.0                    0.0   \n",
       "9                    0.0                    0.0                    0.0   \n",
       "\n",
       "   payment_due_dt_nan  \n",
       "0                 0.0  \n",
       "1                 1.0  \n",
       "2                 0.0  \n",
       "3                 1.0  \n",
       "4                 0.0  \n",
       "5                 0.0  \n",
       "6                 0.0  \n",
       "7                 0.0  \n",
       "8                 0.0  \n",
       "9                 0.0  \n",
       "\n",
       "[10 rows x 57 columns]"
      ]
     },
     "execution_count": 21,
     "metadata": {},
     "output_type": "execute_result"
    }
   ],
   "source": [
    "df.head(10)"
   ]
  },
  {
   "cell_type": "code",
   "execution_count": 22,
   "id": "e20e111d",
   "metadata": {},
   "outputs": [
    {
     "data": {
      "text/html": [
       "<div>\n",
       "<style scoped>\n",
       "    .dataframe tbody tr th:only-of-type {\n",
       "        vertical-align: middle;\n",
       "    }\n",
       "\n",
       "    .dataframe tbody tr th {\n",
       "        vertical-align: top;\n",
       "    }\n",
       "\n",
       "    .dataframe thead th {\n",
       "        text-align: right;\n",
       "    }\n",
       "</style>\n",
       "<table border=\"1\" class=\"dataframe\">\n",
       "  <thead>\n",
       "    <tr style=\"text-align: right;\">\n",
       "      <th></th>\n",
       "      <th>new_account_indicator</th>\n",
       "      <th>member_since_in_months</th>\n",
       "      <th>spend_active</th>\n",
       "      <th>is_active_balance</th>\n",
       "      <th>has_credit_limit_reached</th>\n",
       "      <th>is_revolving</th>\n",
       "      <th>has_spend_at_any_merchant</th>\n",
       "      <th>arr_id_count</th>\n",
       "      <th>visits</th>\n",
       "      <th>visit_count</th>\n",
       "      <th>...</th>\n",
       "      <th>payment_due_dt_4/21/18</th>\n",
       "      <th>payment_due_dt_4/23/18</th>\n",
       "      <th>payment_due_dt_4/24/18</th>\n",
       "      <th>payment_due_dt_4/3/18</th>\n",
       "      <th>payment_due_dt_4/5/18</th>\n",
       "      <th>payment_due_dt_4/6/18</th>\n",
       "      <th>payment_due_dt_4/7/18</th>\n",
       "      <th>payment_due_dt_4/8/18</th>\n",
       "      <th>payment_due_dt_4/9/18</th>\n",
       "      <th>payment_due_dt_nan</th>\n",
       "    </tr>\n",
       "  </thead>\n",
       "  <tbody>\n",
       "    <tr>\n",
       "      <th>count</th>\n",
       "      <td>900000.000000</td>\n",
       "      <td>900135.000000</td>\n",
       "      <td>900000.000000</td>\n",
       "      <td>900000.000000</td>\n",
       "      <td>900000.000000</td>\n",
       "      <td>900000.000000</td>\n",
       "      <td>900000.000000</td>\n",
       "      <td>900025.000000</td>\n",
       "      <td>603629.000000</td>\n",
       "      <td>899926.000000</td>\n",
       "      <td>...</td>\n",
       "      <td>900135.000000</td>\n",
       "      <td>900135.000000</td>\n",
       "      <td>900135.000000</td>\n",
       "      <td>900135.000000</td>\n",
       "      <td>900135.000000</td>\n",
       "      <td>900135.000000</td>\n",
       "      <td>900135.000000</td>\n",
       "      <td>900135.000000</td>\n",
       "      <td>900135.000000</td>\n",
       "      <td>900135.000000</td>\n",
       "    </tr>\n",
       "    <tr>\n",
       "      <th>mean</th>\n",
       "      <td>0.002844</td>\n",
       "      <td>109.402912</td>\n",
       "      <td>0.823349</td>\n",
       "      <td>0.117778</td>\n",
       "      <td>0.016667</td>\n",
       "      <td>0.051111</td>\n",
       "      <td>0.106667</td>\n",
       "      <td>19.499893</td>\n",
       "      <td>1.656645</td>\n",
       "      <td>11.572516</td>\n",
       "      <td>...</td>\n",
       "      <td>0.041975</td>\n",
       "      <td>0.008145</td>\n",
       "      <td>0.047481</td>\n",
       "      <td>0.013210</td>\n",
       "      <td>0.035441</td>\n",
       "      <td>0.035530</td>\n",
       "      <td>0.029374</td>\n",
       "      <td>0.035959</td>\n",
       "      <td>0.022748</td>\n",
       "      <td>0.104724</td>\n",
       "    </tr>\n",
       "    <tr>\n",
       "      <th>std</th>\n",
       "      <td>0.053257</td>\n",
       "      <td>132.576629</td>\n",
       "      <td>0.381373</td>\n",
       "      <td>0.322345</td>\n",
       "      <td>0.128019</td>\n",
       "      <td>0.220224</td>\n",
       "      <td>0.308689</td>\n",
       "      <td>2.081119</td>\n",
       "      <td>0.867782</td>\n",
       "      <td>7.761985</td>\n",
       "      <td>...</td>\n",
       "      <td>0.200532</td>\n",
       "      <td>0.089884</td>\n",
       "      <td>0.212665</td>\n",
       "      <td>0.114174</td>\n",
       "      <td>0.184893</td>\n",
       "      <td>0.185116</td>\n",
       "      <td>0.168854</td>\n",
       "      <td>0.186188</td>\n",
       "      <td>0.149098</td>\n",
       "      <td>0.306198</td>\n",
       "    </tr>\n",
       "    <tr>\n",
       "      <th>min</th>\n",
       "      <td>0.000000</td>\n",
       "      <td>0.000000</td>\n",
       "      <td>0.000000</td>\n",
       "      <td>0.000000</td>\n",
       "      <td>0.000000</td>\n",
       "      <td>0.000000</td>\n",
       "      <td>0.000000</td>\n",
       "      <td>1.000000</td>\n",
       "      <td>1.000000</td>\n",
       "      <td>1.000000</td>\n",
       "      <td>...</td>\n",
       "      <td>0.000000</td>\n",
       "      <td>0.000000</td>\n",
       "      <td>0.000000</td>\n",
       "      <td>0.000000</td>\n",
       "      <td>0.000000</td>\n",
       "      <td>0.000000</td>\n",
       "      <td>0.000000</td>\n",
       "      <td>0.000000</td>\n",
       "      <td>0.000000</td>\n",
       "      <td>0.000000</td>\n",
       "    </tr>\n",
       "    <tr>\n",
       "      <th>25%</th>\n",
       "      <td>0.000000</td>\n",
       "      <td>0.000000</td>\n",
       "      <td>1.000000</td>\n",
       "      <td>0.000000</td>\n",
       "      <td>0.000000</td>\n",
       "      <td>0.000000</td>\n",
       "      <td>0.000000</td>\n",
       "      <td>18.000000</td>\n",
       "      <td>1.000000</td>\n",
       "      <td>7.000000</td>\n",
       "      <td>...</td>\n",
       "      <td>0.000000</td>\n",
       "      <td>0.000000</td>\n",
       "      <td>0.000000</td>\n",
       "      <td>0.000000</td>\n",
       "      <td>0.000000</td>\n",
       "      <td>0.000000</td>\n",
       "      <td>0.000000</td>\n",
       "      <td>0.000000</td>\n",
       "      <td>0.000000</td>\n",
       "      <td>0.000000</td>\n",
       "    </tr>\n",
       "    <tr>\n",
       "      <th>50%</th>\n",
       "      <td>0.000000</td>\n",
       "      <td>47.000000</td>\n",
       "      <td>1.000000</td>\n",
       "      <td>0.000000</td>\n",
       "      <td>0.000000</td>\n",
       "      <td>0.000000</td>\n",
       "      <td>0.000000</td>\n",
       "      <td>20.000000</td>\n",
       "      <td>1.000000</td>\n",
       "      <td>9.000000</td>\n",
       "      <td>...</td>\n",
       "      <td>0.000000</td>\n",
       "      <td>0.000000</td>\n",
       "      <td>0.000000</td>\n",
       "      <td>0.000000</td>\n",
       "      <td>0.000000</td>\n",
       "      <td>0.000000</td>\n",
       "      <td>0.000000</td>\n",
       "      <td>0.000000</td>\n",
       "      <td>0.000000</td>\n",
       "      <td>0.000000</td>\n",
       "    </tr>\n",
       "    <tr>\n",
       "      <th>75%</th>\n",
       "      <td>0.000000</td>\n",
       "      <td>191.000000</td>\n",
       "      <td>1.000000</td>\n",
       "      <td>0.000000</td>\n",
       "      <td>0.000000</td>\n",
       "      <td>0.000000</td>\n",
       "      <td>0.000000</td>\n",
       "      <td>21.000000</td>\n",
       "      <td>2.000000</td>\n",
       "      <td>14.000000</td>\n",
       "      <td>...</td>\n",
       "      <td>0.000000</td>\n",
       "      <td>0.000000</td>\n",
       "      <td>0.000000</td>\n",
       "      <td>0.000000</td>\n",
       "      <td>0.000000</td>\n",
       "      <td>0.000000</td>\n",
       "      <td>0.000000</td>\n",
       "      <td>0.000000</td>\n",
       "      <td>0.000000</td>\n",
       "      <td>0.000000</td>\n",
       "    </tr>\n",
       "    <tr>\n",
       "      <th>max</th>\n",
       "      <td>1.000000</td>\n",
       "      <td>790.000000</td>\n",
       "      <td>1.000000</td>\n",
       "      <td>1.000000</td>\n",
       "      <td>1.000000</td>\n",
       "      <td>1.000000</td>\n",
       "      <td>1.000000</td>\n",
       "      <td>28.000000</td>\n",
       "      <td>9.000000</td>\n",
       "      <td>126.000000</td>\n",
       "      <td>...</td>\n",
       "      <td>1.000000</td>\n",
       "      <td>1.000000</td>\n",
       "      <td>1.000000</td>\n",
       "      <td>1.000000</td>\n",
       "      <td>1.000000</td>\n",
       "      <td>1.000000</td>\n",
       "      <td>1.000000</td>\n",
       "      <td>1.000000</td>\n",
       "      <td>1.000000</td>\n",
       "      <td>1.000000</td>\n",
       "    </tr>\n",
       "  </tbody>\n",
       "</table>\n",
       "<p>8 rows × 57 columns</p>\n",
       "</div>"
      ],
      "text/plain": [
       "       new_account_indicator  member_since_in_months   spend_active  \\\n",
       "count          900000.000000           900135.000000  900000.000000   \n",
       "mean                0.002844              109.402912       0.823349   \n",
       "std                 0.053257              132.576629       0.381373   \n",
       "min                 0.000000                0.000000       0.000000   \n",
       "25%                 0.000000                0.000000       1.000000   \n",
       "50%                 0.000000               47.000000       1.000000   \n",
       "75%                 0.000000              191.000000       1.000000   \n",
       "max                 1.000000              790.000000       1.000000   \n",
       "\n",
       "       is_active_balance  has_credit_limit_reached   is_revolving  \\\n",
       "count      900000.000000             900000.000000  900000.000000   \n",
       "mean            0.117778                  0.016667       0.051111   \n",
       "std             0.322345                  0.128019       0.220224   \n",
       "min             0.000000                  0.000000       0.000000   \n",
       "25%             0.000000                  0.000000       0.000000   \n",
       "50%             0.000000                  0.000000       0.000000   \n",
       "75%             0.000000                  0.000000       0.000000   \n",
       "max             1.000000                  1.000000       1.000000   \n",
       "\n",
       "       has_spend_at_any_merchant   arr_id_count         visits    visit_count  \\\n",
       "count              900000.000000  900025.000000  603629.000000  899926.000000   \n",
       "mean                    0.106667      19.499893       1.656645      11.572516   \n",
       "std                     0.308689       2.081119       0.867782       7.761985   \n",
       "min                     0.000000       1.000000       1.000000       1.000000   \n",
       "25%                     0.000000      18.000000       1.000000       7.000000   \n",
       "50%                     0.000000      20.000000       1.000000       9.000000   \n",
       "75%                     0.000000      21.000000       2.000000      14.000000   \n",
       "max                     1.000000      28.000000       9.000000     126.000000   \n",
       "\n",
       "       ...  payment_due_dt_4/21/18  payment_due_dt_4/23/18  \\\n",
       "count  ...           900135.000000           900135.000000   \n",
       "mean   ...                0.041975                0.008145   \n",
       "std    ...                0.200532                0.089884   \n",
       "min    ...                0.000000                0.000000   \n",
       "25%    ...                0.000000                0.000000   \n",
       "50%    ...                0.000000                0.000000   \n",
       "75%    ...                0.000000                0.000000   \n",
       "max    ...                1.000000                1.000000   \n",
       "\n",
       "       payment_due_dt_4/24/18  payment_due_dt_4/3/18  payment_due_dt_4/5/18  \\\n",
       "count           900135.000000          900135.000000          900135.000000   \n",
       "mean                 0.047481               0.013210               0.035441   \n",
       "std                  0.212665               0.114174               0.184893   \n",
       "min                  0.000000               0.000000               0.000000   \n",
       "25%                  0.000000               0.000000               0.000000   \n",
       "50%                  0.000000               0.000000               0.000000   \n",
       "75%                  0.000000               0.000000               0.000000   \n",
       "max                  1.000000               1.000000               1.000000   \n",
       "\n",
       "       payment_due_dt_4/6/18  payment_due_dt_4/7/18  payment_due_dt_4/8/18  \\\n",
       "count          900135.000000          900135.000000          900135.000000   \n",
       "mean                0.035530               0.029374               0.035959   \n",
       "std                 0.185116               0.168854               0.186188   \n",
       "min                 0.000000               0.000000               0.000000   \n",
       "25%                 0.000000               0.000000               0.000000   \n",
       "50%                 0.000000               0.000000               0.000000   \n",
       "75%                 0.000000               0.000000               0.000000   \n",
       "max                 1.000000               1.000000               1.000000   \n",
       "\n",
       "       payment_due_dt_4/9/18  payment_due_dt_nan  \n",
       "count          900135.000000       900135.000000  \n",
       "mean                0.022748            0.104724  \n",
       "std                 0.149098            0.306198  \n",
       "min                 0.000000            0.000000  \n",
       "25%                 0.000000            0.000000  \n",
       "50%                 0.000000            0.000000  \n",
       "75%                 0.000000            0.000000  \n",
       "max                 1.000000            1.000000  \n",
       "\n",
       "[8 rows x 57 columns]"
      ]
     },
     "execution_count": 22,
     "metadata": {},
     "output_type": "execute_result"
    }
   ],
   "source": [
    "df.describe()"
   ]
  },
  {
   "cell_type": "code",
   "execution_count": 43,
   "id": "43cfa62d",
   "metadata": {},
   "outputs": [
    {
     "name": "stderr",
     "output_type": "stream",
     "text": [
      "/var/folders/p_/rr1hwkg50s1d8bw8c286g0ww0000gn/T/ipykernel_64455/3653193624.py:4: RuntimeWarning: More than 20 figures have been opened. Figures created through the pyplot interface (`matplotlib.pyplot.figure`) are retained until explicitly closed and may consume too much memory. (To control this warning, see the rcParam `figure.max_open_warning`).\n",
      "  plt.figure()\n"
     ]
    },
    {
     "data": {
      "image/png": "[encoded data removed]",
      "text/plain": [
       "<Figure size 432x288 with 1 Axes>"
      ]
     },
     "metadata": {
      "needs_background": "light"
     },
     "output_type": "display_data"
    },
    {
     "data": {
      "image/png": "[encoded data removed]",
      "text/plain": [
       "<Figure size 432x288 with 1 Axes>"
      ]
     },
     "metadata": {
      "needs_background": "light"
     },
     "output_type": "display_data"
    },
    {
     "data": {
      "image/png": "[encoded data removed]",
      "text/plain": [
       "<Figure size 432x288 with 1 Axes>"
      ]
     },
     "metadata": {
      "needs_background": "light"
     },
     "output_type": "display_data"
    },
    {
     "data": {
      "image/png": "[encoded data removed]",
      "text/plain": [
       "<Figure size 432x288 with 1 Axes>"
      ]
     },
     "metadata": {
      "needs_background": "light"
     },
     "output_type": "display_data"
    },
    {
     "data": {
      "image/png": "[encoded data removed]",
      "text/plain": [
       "<Figure size 432x288 with 1 Axes>"
      ]
     },
     "metadata": {
      "needs_background": "light"
     },
     "output_type": "display_data"
    },
    {
     "data": {
      "image/png": "[encoded data removed]",
      "text/plain": [
       "<Figure size 432x288 with 1 Axes>"
      ]
     },
     "metadata": {
      "needs_background": "light"
     },
     "output_type": "display_data"
    },
    {
     "data": {
      "image/png": "[encoded data removed]",
      "text/plain": [
       "<Figure size 432x288 with 1 Axes>"
      ]
     },
     "metadata": {
      "needs_background": "light"
     },
     "output_type": "display_data"
    },
    {
     "data": {
      "image/png": "[encoded data removed]",
      "text/plain": [
       "<Figure size 432x288 with 1 Axes>"
      ]
     },
     "metadata": {
      "needs_background": "light"
     },
     "output_type": "display_data"
    },
    {
     "data": {
      "image/png": "[encoded data removed]",
      "text/plain": [
       "<Figure size 432x288 with 1 Axes>"
      ]
     },
     "metadata": {
      "needs_background": "light"
     },
     "output_type": "display_data"
    },
    {
     "data": {
      "image/png": "[encoded data removed]",
      "text/plain": [
       "<Figure size 432x288 with 1 Axes>"
      ]
     },
     "metadata": {
      "needs_background": "light"
     },
     "output_type": "display_data"
    },
    {
     "data": {
      "image/png": "[encoded data removed]",
      "text/plain": [
       "<Figure size 432x288 with 1 Axes>"
      ]
     },
     "metadata": {
      "needs_background": "light"
     },
     "output_type": "display_data"
    },
    {
     "data": {
      "image/png": "[encoded data removed]",
      "text/plain": [
       "<Figure size 432x288 with 1 Axes>"
      ]
     },
     "metadata": {
      "needs_background": "light"
     },
     "output_type": "display_data"
    },
    {
     "data": {
      "image/png": "[encoded data removed]",
      "text/plain": [
       "<Figure size 432x288 with 1 Axes>"
      ]
     },
     "metadata": {
      "needs_background": "light"
     },
     "output_type": "display_data"
    },
    {
     "data": {
      "image/png": "[encoded data removed]",
      "text/plain": [
       "<Figure size 432x288 with 1 Axes>"
      ]
     },
     "metadata": {
      "needs_background": "light"
     },
     "output_type": "display_data"
    },
    {
     "data": {
      "image/png": "[encoded data removed]",
      "text/plain": [
       "<Figure size 432x288 with 1 Axes>"
      ]
     },
     "metadata": {
      "needs_background": "light"
     },
     "output_type": "display_data"
    },
    {
     "data": {
      "image/png": "[encoded data removed]",
      "text/plain": [
       "<Figure size 432x288 with 1 Axes>"
      ]
     },
     "metadata": {
      "needs_background": "light"
     },
     "output_type": "display_data"
    },
    {
     "data": {
      "image/png": "[encoded data removed]",
      "text/plain": [
       "<Figure size 432x288 with 1 Axes>"
      ]
     },
     "metadata": {
      "needs_background": "light"
     },
     "output_type": "display_data"
    },
    {
     "data": {
      "image/png": "[encoded data removed]",
      "text/plain": [
       "<Figure size 432x288 with 1 Axes>"
      ]
     },
     "metadata": {
      "needs_background": "light"
     },
     "output_type": "display_data"
    },
    {
     "data": {
      "image/png": "[encoded data removed]",
      "text/plain": [
       "<Figure size 432x288 with 1 Axes>"
      ]
     },
     "metadata": {
      "needs_background": "light"
     },
     "output_type": "display_data"
    },
    {
     "data": {
      "image/png": "[encoded data removed]",
      "text/plain": [
       "<Figure size 432x288 with 1 Axes>"
      ]
     },
     "metadata": {
      "needs_background": "light"
     },
     "output_type": "display_data"
    },
    {
     "data": {
      "image/png": "[encoded data removed]",
      "text/plain": [
       "<Figure size 432x288 with 1 Axes>"
      ]
     },
     "metadata": {
      "needs_background": "light"
     },
     "output_type": "display_data"
    },
    {
     "data": {
      "image/png": "[encoded data removed]",
      "text/plain": [
       "<Figure size 432x288 with 1 Axes>"
      ]
     },
     "metadata": {
      "needs_background": "light"
     },
     "output_type": "display_data"
    },
    {
     "data": {
      "image/png": "[encoded data removed]",
      "text/plain": [
       "<Figure size 432x288 with 1 Axes>"
      ]
     },
     "metadata": {
      "needs_background": "light"
     },
     "output_type": "display_data"
    },
    {
     "data": {
      "image/png": "[encoded data removed]",
      "text/plain": [
       "<Figure size 432x288 with 1 Axes>"
      ]
     },
     "metadata": {
      "needs_background": "light"
     },
     "output_type": "display_data"
    },
    {
     "data": {
      "image/png": "[encoded data removed]",
      "text/plain": [
       "<Figure size 432x288 with 1 Axes>"
      ]
     },
     "metadata": {
      "needs_background": "light"
     },
     "output_type": "display_data"
    },
    {
     "data": {
      "image/png": "[encoded data removed]",
      "text/plain": [
       "<Figure size 432x288 with 1 Axes>"
      ]
     },
     "metadata": {
      "needs_background": "light"
     },
     "output_type": "display_data"
    },
    {
     "data": {
      "image/png": "[encoded data removed]",
      "text/plain": [
       "<Figure size 432x288 with 1 Axes>"
      ]
     },
     "metadata": {
      "needs_background": "light"
     },
     "output_type": "display_data"
    },
    {
     "data": {
      "image/png": "[encoded data removed]",
      "text/plain": [
       "<Figure size 432x288 with 1 Axes>"
      ]
     },
     "metadata": {
      "needs_background": "light"
     },
     "output_type": "display_data"
    },
    {
     "data": {
      "image/png": "[encoded data removed]",
      "text/plain": [
       "<Figure size 432x288 with 1 Axes>"
      ]
     },
     "metadata": {
      "needs_background": "light"
     },
     "output_type": "display_data"
    },
    {
     "data": {
      "image/png": "[encoded data removed]",
      "text/plain": [
       "<Figure size 432x288 with 1 Axes>"
      ]
     },
     "metadata": {
      "needs_background": "light"
     },
     "output_type": "display_data"
    },
    {
     "data": {
      "image/png": "[encoded data removed]",
      "text/plain": [
       "<Figure size 432x288 with 1 Axes>"
      ]
     },
     "metadata": {
      "needs_background": "light"
     },
     "output_type": "display_data"
    },
    {
     "data": {
      "image/png": "[encoded data removed]",
      "text/plain": [
       "<Figure size 432x288 with 1 Axes>"
      ]
     },
     "metadata": {
      "needs_background": "light"
     },
     "output_type": "display_data"
    },
    {
     "data": {
      "image/png": "[encoded data removed]",
      "text/plain": [
       "<Figure size 432x288 with 1 Axes>"
      ]
     },
     "metadata": {
      "needs_background": "light"
     },
     "output_type": "display_data"
    },
    {
     "data": {
      "image/png": "[encoded data removed]",
      "text/plain": [
       "<Figure size 432x288 with 1 Axes>"
      ]
     },
     "metadata": {
      "needs_background": "light"
     },
     "output_type": "display_data"
    },
    {
     "data": {
      "image/png": "[encoded data removed]",
      "text/plain": [
       "<Figure size 432x288 with 1 Axes>"
      ]
     },
     "metadata": {
      "needs_background": "light"
     },
     "output_type": "display_data"
    },
    {
     "data": {
      "image/png": "[encoded data removed]",
      "text/plain": [
       "<Figure size 432x288 with 1 Axes>"
      ]
     },
     "metadata": {
      "needs_background": "light"
     },
     "output_type": "display_data"
    },
    {
     "data": {
      "image/png": "[encoded data removed]",
      "text/plain": [
       "<Figure size 432x288 with 1 Axes>"
      ]
     },
     "metadata": {
      "needs_background": "light"
     },
     "output_type": "display_data"
    },
    {
     "data": {
      "image/png": "[encoded data removed]",
      "text/plain": [
       "<Figure size 432x288 with 1 Axes>"
      ]
     },
     "metadata": {
      "needs_background": "light"
     },
     "output_type": "display_data"
    },
    {
     "data": {
      "image/png": "[encoded data removed]",
      "text/plain": [
       "<Figure size 432x288 with 1 Axes>"
      ]
     },
     "metadata": {
      "needs_background": "light"
     },
     "output_type": "display_data"
    },
    {
     "data": {
      "image/png": "[encoded data removed]",
      "text/plain": [
       "<Figure size 432x288 with 1 Axes>"
      ]
     },
     "metadata": {
      "needs_background": "light"
     },
     "output_type": "display_data"
    },
    {
     "data": {
      "image/png": "[encoded data removed]",
      "text/plain": [
       "<Figure size 432x288 with 1 Axes>"
      ]
     },
     "metadata": {
      "needs_background": "light"
     },
     "output_type": "display_data"
    },
    {
     "data": {
      "image/png": "[encoded data removed]",
      "text/plain": [
       "<Figure size 432x288 with 1 Axes>"
      ]
     },
     "metadata": {
      "needs_background": "light"
     },
     "output_type": "display_data"
    },
    {
     "data": {
      "image/png": "[encoded data removed]",
      "text/plain": [
       "<Figure size 432x288 with 1 Axes>"
      ]
     },
     "metadata": {
      "needs_background": "light"
     },
     "output_type": "display_data"
    },
    {
     "data": {
      "image/png": "[encoded data removed]",
      "text/plain": [
       "<Figure size 432x288 with 1 Axes>"
      ]
     },
     "metadata": {
      "needs_background": "light"
     },
     "output_type": "display_data"
    },
    {
     "data": {
      "image/png": "[encoded data removed]",
      "text/plain": [
       "<Figure size 432x288 with 1 Axes>"
      ]
     },
     "metadata": {
      "needs_background": "light"
     },
     "output_type": "display_data"
    },
    {
     "data": {
      "image/png": "[encoded data removed]",
      "text/plain": [
       "<Figure size 432x288 with 1 Axes>"
      ]
     },
     "metadata": {
      "needs_background": "light"
     },
     "output_type": "display_data"
    },
    {
     "data": {
      "image/png": "[encoded data removed]",
      "text/plain": [
       "<Figure size 432x288 with 1 Axes>"
      ]
     },
     "metadata": {
      "needs_background": "light"
     },
     "output_type": "display_data"
    },
    {
     "data": {
      "image/png": "[encoded data removed]",
      "text/plain": [
       "<Figure size 432x288 with 1 Axes>"
      ]
     },
     "metadata": {
      "needs_background": "light"
     },
     "output_type": "display_data"
    },
    {
     "data": {
      "image/png": "[encoded data removed]",
      "text/plain": [
       "<Figure size 432x288 with 1 Axes>"
      ]
     },
     "metadata": {
      "needs_background": "light"
     },
     "output_type": "display_data"
    },
    {
     "data": {
      "image/png": "[encoded data removed]",
      "text/plain": [
       "<Figure size 432x288 with 1 Axes>"
      ]
     },
     "metadata": {
      "needs_background": "light"
     },
     "output_type": "display_data"
    },
    {
     "data": {
      "image/png": "[encoded data removed]",
      "text/plain": [
       "<Figure size 432x288 with 1 Axes>"
      ]
     },
     "metadata": {
      "needs_background": "light"
     },
     "output_type": "display_data"
    },
    {
     "data": {
      "image/png": "[encoded data removed]",
      "text/plain": [
       "<Figure size 432x288 with 1 Axes>"
      ]
     },
     "metadata": {
      "needs_background": "light"
     },
     "output_type": "display_data"
    },
    {
     "data": {
      "image/png": "[encoded data removed]",
      "text/plain": [
       "<Figure size 432x288 with 1 Axes>"
      ]
     },
     "metadata": {
      "needs_background": "light"
     },
     "output_type": "display_data"
    },
    {
     "data": {
      "image/png": "[encoded data removed]",
      "text/plain": [
       "<Figure size 432x288 with 1 Axes>"
      ]
     },
     "metadata": {
      "needs_background": "light"
     },
     "output_type": "display_data"
    },
    {
     "data": {
      "image/png": "[encoded data removed]",
      "text/plain": [
       "<Figure size 432x288 with 1 Axes>"
      ]
     },
     "metadata": {
      "needs_background": "light"
     },
     "output_type": "display_data"
    },
    {
     "data": {
      "image/png": "[encoded data removed]",
      "text/plain": [
       "<Figure size 432x288 with 1 Axes>"
      ]
     },
     "metadata": {
      "needs_background": "light"
     },
     "output_type": "display_data"
    },
    {
     "data": {
      "image/png": "[encoded data removed]",
      "text/plain": [
       "<Figure size 432x288 with 1 Axes>"
      ]
     },
     "metadata": {
      "needs_background": "light"
     },
     "output_type": "display_data"
    }
   ],
   "source": [
    "import matplotlib.pyplot as plt\n",
    "\n",
    "for column in df:\n",
    "    plt.figure()\n",
    "    df.boxplot([column])\n",
    "    \n",
    "plt.show()"
   ]
  },
  {
   "cell_type": "code",
   "execution_count": null,
   "id": "edb0ba2a",
   "metadata": {},
   "outputs": [],
   "source": []
  }
 ],
 "metadata": {
  "kernelspec": {
   "display_name": "Python 3 (ipykernel)",
   "language": "python",
   "name": "python3"
  },
  "language_info": {
   "codemirror_mode": {
    "name": "ipython",
    "version": 3
   },
   "file_extension": ".py",
   "mimetype": "text/x-python",
   "name": "python",
   "nbconvert_exporter": "python",
   "pygments_lexer": "ipython3",
   "version": "3.9.12"
  }
 },
 "nbformat": 4,
 "nbformat_minor": 5
}
