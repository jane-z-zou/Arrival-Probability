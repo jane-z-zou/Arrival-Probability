{
  "nbformat": 4,
  "nbformat_minor": 0,
  "metadata": {
    "colab": {
      "provenance": []
    },
    "kernelspec": {
      "name": "python3",
      "display_name": "Python 3"
    },
    "language_info": {
      "name": "python"
    }
  },
  "cells": [
    {
      "cell_type": "code",
      "execution_count": 42,
      "metadata": {
        "id": "hRDNsB4uCHzE"
      },
      "outputs": [],
      "source": [
        "import numpy as np\n",
        "import pandas as pd\n",
        "import matplotlib.pyplot as plt\n",
        "from sklearn.model_selection import train_test_split \n",
        "from sklearn.metrics import accuracy_score"
      ]
    },
    {
      "cell_type": "code",
      "source": [
        "filename = \"/content/drive/MyDrive/BTTAI/Feature Engineering/FEATURE_ENGINEERING.txt\"\n",
        "df = pd.read_table(filename)"
      ],
      "metadata": {
        "id": "MtBkQn42EEfH"
      },
      "execution_count": 33,
      "outputs": []
    },
    {
      "cell_type": "code",
      "source": [
        "feature_list = list(df.iloc[:, 0:38].select_dtypes(include=\"float64\"))\n"
      ],
      "metadata": {
        "id": "yOBHUWbXKb2Z"
      },
      "execution_count": 34,
      "outputs": []
    },
    {
      "cell_type": "code",
      "source": [
        "feature_list"
      ],
      "metadata": {
        "colab": {
          "base_uri": "https://localhost:8080/"
        },
        "id": "RCJJWQwUKwqd",
        "outputId": "c19f8d11-0b2f-4068-b9f1-5b26e8bb7e9e"
      },
      "execution_count": 35,
      "outputs": [
        {
          "output_type": "execute_result",
          "data": {
            "text/plain": [
              "['Purchase 30_x',\n",
              " 'Purchase 60_x',\n",
              " 'Purchase 90_x',\n",
              " 'Purchase 120_x',\n",
              " 'Purchase 180_x',\n",
              " 'Purchase 360_x',\n",
              " 'Web 30_x',\n",
              " 'Web 60_x',\n",
              " 'Web 90_x',\n",
              " 'Web 120_x',\n",
              " 'Web 180_x',\n",
              " 'Web 360_x',\n",
              " 'Purchase 30_y',\n",
              " 'Purchase 60_y',\n",
              " 'Purchase 90_y',\n",
              " 'Purchase 120_y',\n",
              " 'Purchase 180_y',\n",
              " 'Purchase 360_y',\n",
              " 'Web 30_y',\n",
              " 'Web 60_y',\n",
              " 'Web 90_y',\n",
              " 'Web 120_y',\n",
              " 'Web 180_y',\n",
              " 'Web 360_y',\n",
              " 'new_account_indicator',\n",
              " 'spend_active',\n",
              " 'is_active_balance',\n",
              " 'has_credit_limit_reached',\n",
              " 'is_revolving',\n",
              " 'has_spend_at_any_merchant',\n",
              " 'arr_ind_1']"
            ]
          },
          "metadata": {},
          "execution_count": 35
        }
      ]
    },
    {
      "cell_type": "code",
      "source": [
        "train_y = df.loc[:,\"arr_ind_3\"]\n",
        "train_X = df.loc[:,feature_list]\n"
      ],
      "metadata": {
        "id": "fvzu2w-SKdcP"
      },
      "execution_count": 64,
      "outputs": []
    },
    {
      "cell_type": "code",
      "source": [
        "print(\"Number of examples: \" + str(train_X.shape[0]))\n",
        "print(\"\\nNumber of Features:\" + str(train_X.shape[1]))\n",
        "print(str(list(train_X.columns)))"
      ],
      "metadata": {
        "colab": {
          "base_uri": "https://localhost:8080/"
        },
        "id": "mp9biaEVK9B3",
        "outputId": "5b1ac15e-76c7-4601-ee43-cf366f99666a"
      },
      "execution_count": 39,
      "outputs": [
        {
          "output_type": "stream",
          "name": "stdout",
          "text": [
            "['Purchase 30_x', 'Purchase 60_x', 'Purchase 90_x', 'Purchase 120_x', 'Purchase 180_x', 'Purchase 360_x', 'Web 30_x', 'Web 60_x', 'Web 90_x', 'Web 120_x', 'Web 180_x', 'Web 360_x', 'Purchase 30_y', 'Purchase 60_y', 'Purchase 90_y', 'Purchase 120_y', 'Purchase 180_y', 'Purchase 360_y', 'Web 30_y', 'Web 60_y', 'Web 90_y', 'Web 120_y', 'Web 180_y', 'Web 360_y', 'new_account_indicator', 'spend_active', 'is_active_balance', 'has_credit_limit_reached', 'is_revolving', 'has_spend_at_any_merchant', 'arr_ind_1']\n"
          ]
        }
      ]
    },
    {
      "cell_type": "code",
      "source": [
        "from sklearn.preprocessing import MinMaxScaler\n",
        "scaler = MinMaxScaler()"
      ],
      "metadata": {
        "id": "Jc6qGrKFCmDo"
      },
      "execution_count": 49,
      "outputs": []
    },
    {
      "cell_type": "code",
      "source": [
        "X_train, X_test, y_train, y_test = train_test_split(train_X, train_y, test_size=0.33, random_state=1234)\n"
      ],
      "metadata": {
        "id": "36c_0SgaOHl1"
      },
      "execution_count": 64,
      "outputs": []
    },
    {
      "cell_type": "code",
      "source": [
        "X_train_scale = scaler.fit_transform(X_train)\n",
        "X_test_scale = scaler.fit_transform(X_test)"
      ],
      "metadata": {
        "colab": {
          "base_uri": "https://localhost:8080/",
          "height": 204
        },
        "id": "rDCT_vXSMnGR",
        "outputId": "63a81026-4419-4629-e515-8b6a555d7826"
      },
      "execution_count": 77,
      "outputs": [
        {
          "output_type": "error",
          "ename": "NameError",
          "evalue": "ignored",
          "traceback": [
            "\u001b[0;31m---------------------------------------------------------------------------\u001b[0m",
            "\u001b[0;31mNameError\u001b[0m                                 Traceback (most recent call last)",
            "\u001b[0;32m<ipython-input-77-ee9afa256a4a>\u001b[0m in \u001b[0;36m<module>\u001b[0;34m\u001b[0m\n\u001b[0;32m----> 1\u001b[0;31m \u001b[0mX_test_scale\u001b[0m \u001b[0;34m=\u001b[0m \u001b[0mscaler\u001b[0m\u001b[0;34m.\u001b[0m\u001b[0mfit_transform\u001b[0m\u001b[0;34m(\u001b[0m\u001b[0mX_test\u001b[0m\u001b[0;34m)\u001b[0m\u001b[0;34m\u001b[0m\u001b[0;34m\u001b[0m\u001b[0m\n\u001b[0m",
            "\u001b[0;31mNameError\u001b[0m: name 'X_test' is not defined"
          ]
        }
      ]
    },
    {
      "cell_type": "code",
      "source": [
        "# import machine learning algorithms\n",
        "from sklearn.ensemble import GradientBoostingClassifier\n",
        "from sklearn.metrics import classification_report, confusion_matrix, roc_curve, auc"
      ],
      "metadata": {
        "id": "AriEvLEACpup"
      },
      "execution_count": 75,
      "outputs": []
    },
    {
      "cell_type": "code",
      "source": [
        "learning_rates = [0.05, 0.1, 0.25, 0.5, 0.75, 1]\n",
        "for learning_rate in learning_rates:\n",
        "    gb = GradientBoostingClassifier(n_estimators=20, learning_rate = learning_rate, max_features=2, max_depth = 2, random_state = 0)\n",
        "    gb.fit(X_train_sub, y_train_sub)\n",
        "    print(\"Learning rate: \", learning_rate)\n",
        "    print(\"Accuracy score (training): {0:.3f}\".format(gb.score(X_train_sub, y_train_sub)))\n",
        "    print(\"Accuracy score (validation): {0:.3f}\".format(gb.score(X_validation_sub, y_validation_sub)))\n",
        "    print()"
      ],
      "metadata": {
        "colab": {
          "base_uri": "https://localhost:8080/",
          "height": 133
        },
        "id": "r3uO95oYEICk",
        "outputId": "e67186f8-0e61-4a33-ed1c-0231b3e530b6"
      },
      "execution_count": 72,
      "outputs": [
        {
          "output_type": "error",
          "ename": "SyntaxError",
          "evalue": "ignored",
          "traceback": [
            "\u001b[0;36m  File \u001b[0;32m\"<ipython-input-72-78aeba548210>\"\u001b[0;36m, line \u001b[0;32m1\u001b[0m\n\u001b[0;31m    for learning_rate in learning_rates:\u001b[0m\n\u001b[0m                                        ^\u001b[0m\n\u001b[0;31mSyntaxError\u001b[0m\u001b[0;31m:\u001b[0m unexpected EOF while parsing\n"
          ]
        }
      ]
    },
    {
      "cell_type": "code",
      "source": [
        "gb = GradientBoostingClassifier(n_estimators=20, learning_rate = 0.5, max_features=2, max_depth = 2, random_state = 0)\n",
        "gb.fit(X_train_sub, y_train_sub)\n",
        "predictions = gb.predict(X_validation_sub)\n",
        "\n",
        "print(\"Confusion Matrix:\")\n",
        "print(confusion_matrix(y_validation_sub, predictions))\n",
        "print()\n",
        "print(\"Classification Report\")\n",
        "print(classification_report(y_validation_sub, predictions))"
      ],
      "metadata": {
        "colab": {
          "base_uri": "https://localhost:8080/"
        },
        "id": "MssvUIvcEKTP",
        "outputId": "46fdbdd7-81b2-4e73-df15-371f42ba7825"
      },
      "execution_count": 70,
      "outputs": [
        {
          "output_type": "stream",
          "name": "stdout",
          "text": [
            "Confusion Matrix:\n"
          ]
        }
      ]
    },
    {
      "cell_type": "code",
      "source": [
        "y_scores_gb = gb.decision_function(X_validation_sub)\n",
        "fpr_gb, tpr_gb, _ = roc_curve(y_validation_sub, y_scores_gb)\n",
        "roc_auc_gb = auc(fpr_gb, tpr_gb)\n",
        "\n",
        "print(\"Area under ROC curve = {:0.2f}\".format(roc_auc_gb))"
      ],
      "metadata": {
        "colab": {
          "base_uri": "https://localhost:8080/",
          "height": 204
        },
        "id": "mqB_BUu6EQXw",
        "outputId": "9651dd33-1240-4e2c-dc3f-fbae339d24a3"
      },
      "execution_count": 71,
      "outputs": [
        {
          "output_type": "error",
          "ename": "NameError",
          "evalue": "ignored",
          "traceback": [
            "\u001b[0;31m---------------------------------------------------------------------------\u001b[0m",
            "\u001b[0;31mNameError\u001b[0m                                 Traceback (most recent call last)",
            "\u001b[0;32m<ipython-input-71-4309bf658ad8>\u001b[0m in \u001b[0;36m<module>\u001b[0;34m\u001b[0m\n\u001b[0;32m----> 1\u001b[0;31m \u001b[0mroc_auc_gb\u001b[0m \u001b[0;34m=\u001b[0m \u001b[0mauc\u001b[0m\u001b[0;34m(\u001b[0m\u001b[0mfpr_gb\u001b[0m\u001b[0;34m,\u001b[0m \u001b[0mtpr_gb\u001b[0m\u001b[0;34m)\u001b[0m\u001b[0;34m\u001b[0m\u001b[0;34m\u001b[0m\u001b[0m\n\u001b[0m",
            "\u001b[0;31mNameError\u001b[0m: name 'fpr_gb' is not defined"
          ]
        }
      ]
    }
  ]
}