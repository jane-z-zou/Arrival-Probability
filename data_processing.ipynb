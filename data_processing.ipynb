{
 "cells": [
  {
   "cell_type": "code",
   "execution_count": 1,
   "metadata": {},
   "outputs": [],
   "source": [
    "import pandas as pd\n",
    "import numpy as np\n",
    "import os \n",
    "import functools\n",
    "from functools import reduce"
   ]
  },
  {
   "cell_type": "code",
   "execution_count": 2,
   "metadata": {},
   "outputs": [],
   "source": [
    "filename = \"account_new_indicator.txt\"\n",
    "df = pd.read_csv(filename, delimiter = '\\t')\n",
    "df.to_csv('account_new_indicator.csv', index = None)"
   ]
  },
  {
   "cell_type": "code",
   "execution_count": 3,
   "metadata": {},
   "outputs": [
    {
     "data": {
      "text/html": [
       "<div>\n",
       "<style scoped>\n",
       "    .dataframe tbody tr th:only-of-type {\n",
       "        vertical-align: middle;\n",
       "    }\n",
       "\n",
       "    .dataframe tbody tr th {\n",
       "        vertical-align: top;\n",
       "    }\n",
       "\n",
       "    .dataframe thead th {\n",
       "        text-align: right;\n",
       "    }\n",
       "</style>\n",
       "<table border=\"1\" class=\"dataframe\">\n",
       "  <thead>\n",
       "    <tr style=\"text-align: right;\">\n",
       "      <th></th>\n",
       "      <th>ac_id</th>\n",
       "      <th>new_account_indicator</th>\n",
       "    </tr>\n",
       "  </thead>\n",
       "  <tbody>\n",
       "    <tr>\n",
       "      <th>0</th>\n",
       "      <td>ACb1711af2-92c1-430c-ba0e-840d6139939c</td>\n",
       "      <td>1</td>\n",
       "    </tr>\n",
       "    <tr>\n",
       "      <th>1</th>\n",
       "      <td>AC1c46776c-e9a2-406a-9edb-6abd04471023</td>\n",
       "      <td>1</td>\n",
       "    </tr>\n",
       "    <tr>\n",
       "      <th>2</th>\n",
       "      <td>AC21919775-c797-497d-8eae-157fdd71f9f6</td>\n",
       "      <td>1</td>\n",
       "    </tr>\n",
       "    <tr>\n",
       "      <th>3</th>\n",
       "      <td>AC2876beb8-c307-4499-a3d2-abd4b26b566d</td>\n",
       "      <td>1</td>\n",
       "    </tr>\n",
       "    <tr>\n",
       "      <th>4</th>\n",
       "      <td>ACf59d8398-07b7-44d9-8926-73520fc3f2b4</td>\n",
       "      <td>1</td>\n",
       "    </tr>\n",
       "  </tbody>\n",
       "</table>\n",
       "</div>"
      ],
      "text/plain": [
       "                                    ac_id  new_account_indicator\n",
       "0  ACb1711af2-92c1-430c-ba0e-840d6139939c                      1\n",
       "1  AC1c46776c-e9a2-406a-9edb-6abd04471023                      1\n",
       "2  AC21919775-c797-497d-8eae-157fdd71f9f6                      1\n",
       "3  AC2876beb8-c307-4499-a3d2-abd4b26b566d                      1\n",
       "4  ACf59d8398-07b7-44d9-8926-73520fc3f2b4                      1"
      ]
     },
     "execution_count": 3,
     "metadata": {},
     "output_type": "execute_result"
    }
   ],
   "source": [
    "df_newId = pd.read_csv('account_new_indicator.csv')\n",
    "df_newId.head()"
   ]
  },
  {
   "cell_type": "code",
   "execution_count": 4,
   "metadata": {},
   "outputs": [
    {
     "data": {
      "text/plain": [
       "(900000, 2)"
      ]
     },
     "execution_count": 4,
     "metadata": {},
     "output_type": "execute_result"
    }
   ],
   "source": [
    "df_newId.shape"
   ]
  },
  {
   "cell_type": "code",
   "execution_count": null,
   "metadata": {},
   "outputs": [],
   "source": []
  },
  {
   "cell_type": "code",
   "execution_count": 5,
   "metadata": {},
   "outputs": [
    {
     "data": {
      "text/plain": [
       "ac_id                    0\n",
       "new_account_indicator    0\n",
       "dtype: int64"
      ]
     },
     "execution_count": 5,
     "metadata": {},
     "output_type": "execute_result"
    }
   ],
   "source": [
    "nan_count = np.sum(df_newId.isnull(), axis = 0)\n",
    "nan_count"
   ]
  },
  {
   "cell_type": "code",
   "execution_count": 6,
   "metadata": {},
   "outputs": [
    {
     "data": {
      "text/html": [
       "<div>\n",
       "<style scoped>\n",
       "    .dataframe tbody tr th:only-of-type {\n",
       "        vertical-align: middle;\n",
       "    }\n",
       "\n",
       "    .dataframe tbody tr th {\n",
       "        vertical-align: top;\n",
       "    }\n",
       "\n",
       "    .dataframe thead th {\n",
       "        text-align: right;\n",
       "    }\n",
       "</style>\n",
       "<table border=\"1\" class=\"dataframe\">\n",
       "  <thead>\n",
       "    <tr style=\"text-align: right;\">\n",
       "      <th></th>\n",
       "      <th>ac_id</th>\n",
       "      <th>member_since_in_months</th>\n",
       "    </tr>\n",
       "  </thead>\n",
       "  <tbody>\n",
       "    <tr>\n",
       "      <th>0</th>\n",
       "      <td>ACebd244ca-9b9f-4371-926c-9d424a8d5fe8</td>\n",
       "      <td>57</td>\n",
       "    </tr>\n",
       "    <tr>\n",
       "      <th>1</th>\n",
       "      <td>AC04451007-0259-484a-a7f0-4b1c976c24f0</td>\n",
       "      <td>78</td>\n",
       "    </tr>\n",
       "    <tr>\n",
       "      <th>2</th>\n",
       "      <td>AC669f1741-d33d-4128-8fb9-2fa17a08faa5</td>\n",
       "      <td>85</td>\n",
       "    </tr>\n",
       "    <tr>\n",
       "      <th>3</th>\n",
       "      <td>AC3ce6890c-1023-4792-8b24-e8ea5fd7a961</td>\n",
       "      <td>83</td>\n",
       "    </tr>\n",
       "    <tr>\n",
       "      <th>4</th>\n",
       "      <td>AC5f411b49-4472-4088-9e04-a4e3bf969364</td>\n",
       "      <td>98</td>\n",
       "    </tr>\n",
       "  </tbody>\n",
       "</table>\n",
       "</div>"
      ],
      "text/plain": [
       "                                    ac_id  member_since_in_months\n",
       "0  ACebd244ca-9b9f-4371-926c-9d424a8d5fe8                      57\n",
       "1  AC04451007-0259-484a-a7f0-4b1c976c24f0                      78\n",
       "2  AC669f1741-d33d-4128-8fb9-2fa17a08faa5                      85\n",
       "3  AC3ce6890c-1023-4792-8b24-e8ea5fd7a961                      83\n",
       "4  AC5f411b49-4472-4088-9e04-a4e3bf969364                      98"
      ]
     },
     "execution_count": 6,
     "metadata": {},
     "output_type": "execute_result"
    }
   ],
   "source": [
    "filename = \"account_tenure.txt\"\n",
    "df = pd.read_csv(filename, delimiter = '\\t')\n",
    "df.to_csv('account_tenure.csv', index = None)\n",
    "df_tenure = pd.read_csv('account_tenure.csv')\n",
    "df_tenure.head()"
   ]
  },
  {
   "cell_type": "code",
   "execution_count": 7,
   "metadata": {},
   "outputs": [
    {
     "data": {
      "text/plain": [
       "(806172, 2)"
      ]
     },
     "execution_count": 7,
     "metadata": {},
     "output_type": "execute_result"
    }
   ],
   "source": [
    "df_tenure.shape"
   ]
  },
  {
   "cell_type": "code",
   "execution_count": 8,
   "metadata": {},
   "outputs": [
    {
     "data": {
      "text/plain": [
       "ac_id                     0\n",
       "member_since_in_months    0\n",
       "dtype: int64"
      ]
     },
     "execution_count": 8,
     "metadata": {},
     "output_type": "execute_result"
    }
   ],
   "source": [
    "nan_count = np.sum(df_tenure.isnull(), axis = 0)\n",
    "nan_count"
   ]
  },
  {
   "cell_type": "code",
   "execution_count": null,
   "metadata": {},
   "outputs": [],
   "source": []
  },
  {
   "cell_type": "code",
   "execution_count": 9,
   "metadata": {},
   "outputs": [
    {
     "data": {
      "text/html": [
       "<div>\n",
       "<style scoped>\n",
       "    .dataframe tbody tr th:only-of-type {\n",
       "        vertical-align: middle;\n",
       "    }\n",
       "\n",
       "    .dataframe tbody tr th {\n",
       "        vertical-align: top;\n",
       "    }\n",
       "\n",
       "    .dataframe thead th {\n",
       "        text-align: right;\n",
       "    }\n",
       "</style>\n",
       "<table border=\"1\" class=\"dataframe\">\n",
       "  <thead>\n",
       "    <tr style=\"text-align: right;\">\n",
       "      <th></th>\n",
       "      <th>ac_id</th>\n",
       "      <th>cycle_dt</th>\n",
       "      <th>payment_due_dt</th>\n",
       "    </tr>\n",
       "  </thead>\n",
       "  <tbody>\n",
       "    <tr>\n",
       "      <th>0</th>\n",
       "      <td>AC426748db-ea46-4d4b-871d-daf2f6f4dd42</td>\n",
       "      <td>3/29/18</td>\n",
       "      <td>4/24/18</td>\n",
       "    </tr>\n",
       "    <tr>\n",
       "      <th>1</th>\n",
       "      <td>AC4c3eb8e1-453c-4a3d-9a31-7049effa0d1a</td>\n",
       "      <td>3/29/18</td>\n",
       "      <td>4/24/18</td>\n",
       "    </tr>\n",
       "    <tr>\n",
       "      <th>2</th>\n",
       "      <td>AC2b35a028-0479-4f02-86c9-9aa3382f49b3</td>\n",
       "      <td>3/29/18</td>\n",
       "      <td>4/24/18</td>\n",
       "    </tr>\n",
       "    <tr>\n",
       "      <th>3</th>\n",
       "      <td>ACd733d78b-0db5-450b-bf19-d1f371e073fb</td>\n",
       "      <td>3/29/18</td>\n",
       "      <td>4/24/18</td>\n",
       "    </tr>\n",
       "    <tr>\n",
       "      <th>4</th>\n",
       "      <td>ACb11c3ad1-f50f-4ef6-9517-95c8f436a911</td>\n",
       "      <td>3/29/18</td>\n",
       "      <td>4/24/18</td>\n",
       "    </tr>\n",
       "  </tbody>\n",
       "</table>\n",
       "</div>"
      ],
      "text/plain": [
       "                                    ac_id cycle_dt payment_due_dt\n",
       "0  AC426748db-ea46-4d4b-871d-daf2f6f4dd42  3/29/18        4/24/18\n",
       "1  AC4c3eb8e1-453c-4a3d-9a31-7049effa0d1a  3/29/18        4/24/18\n",
       "2  AC2b35a028-0479-4f02-86c9-9aa3382f49b3  3/29/18        4/24/18\n",
       "3  ACd733d78b-0db5-450b-bf19-d1f371e073fb  3/29/18        4/24/18\n",
       "4  ACb11c3ad1-f50f-4ef6-9517-95c8f436a911  3/29/18        4/24/18"
      ]
     },
     "execution_count": 9,
     "metadata": {},
     "output_type": "execute_result"
    }
   ],
   "source": [
    "filename = \"account_cycle_tenure.txt\"\n",
    "df = pd.read_csv(filename, delimiter = '\\t')\n",
    "df.to_csv('account_cycle_tenure.csv', index = None)\n",
    "df_cycle_tenure = pd.read_csv('account_cycle_tenure.csv')\n",
    "df_cycle_tenure.head()"
   ]
  },
  {
   "cell_type": "code",
   "execution_count": 10,
   "metadata": {},
   "outputs": [
    {
     "data": {
      "text/plain": [
       "(805869, 3)"
      ]
     },
     "execution_count": 10,
     "metadata": {},
     "output_type": "execute_result"
    }
   ],
   "source": [
    "df_cycle_tenure.shape"
   ]
  },
  {
   "cell_type": "code",
   "execution_count": 11,
   "metadata": {},
   "outputs": [
    {
     "data": {
      "text/plain": [
       "(900000, 2)"
      ]
     },
     "execution_count": 11,
     "metadata": {},
     "output_type": "execute_result"
    }
   ],
   "source": [
    "filename = \"spend_active_indicator.txt\"\n",
    "df = pd.read_csv(filename, delimiter = '\\t')\n",
    "df.to_csv('spend_active_indicator.csv', index = None)\n",
    "df_activeId = pd.read_csv('spend_active_indicator.csv')\n",
    "df_activeId.head()\n",
    "df_activeId.shape"
   ]
  },
  {
   "cell_type": "code",
   "execution_count": 12,
   "metadata": {},
   "outputs": [
    {
     "data": {
      "text/plain": [
       "(900000, 1)"
      ]
     },
     "execution_count": 12,
     "metadata": {},
     "output_type": "execute_result"
    }
   ],
   "source": [
    "filename = \"account.txt\"\n",
    "df = pd.read_csv(filename, delimiter = '\\t')\n",
    "df.to_csv('account.csv', index = None)\n",
    "df_account = pd.read_csv('account.csv')\n",
    "df_account.head()\n",
    "df_account.shape"
   ]
  },
  {
   "cell_type": "code",
   "execution_count": 13,
   "metadata": {},
   "outputs": [
    {
     "data": {
      "text/plain": [
       "(900000, 2)"
      ]
     },
     "execution_count": 13,
     "metadata": {},
     "output_type": "execute_result"
    }
   ],
   "source": [
    "filename = \"spend_balance_active_indicator.txt\"\n",
    "df = pd.read_csv(filename, delimiter = '\\t')\n",
    "df.to_csv('spend_balance_active_indicator.csv', index = None)\n",
    "df_balanceId = pd.read_csv('spend_balance_active_indicator.csv')\n",
    "df_balanceId.head()\n",
    "df_balanceId.shape"
   ]
  },
  {
   "cell_type": "code",
   "execution_count": 14,
   "metadata": {},
   "outputs": [
    {
     "data": {
      "text/plain": [
       "(900000, 2)"
      ]
     },
     "execution_count": 14,
     "metadata": {},
     "output_type": "execute_result"
    }
   ],
   "source": [
    "filename = \"spend_high_utilized_indicator.txt\"\n",
    "df = pd.read_csv(filename, delimiter = '\\t')\n",
    "df.to_csv('spend_high_utilized_indicator.csv', index = None)\n",
    "df_utId = pd.read_csv('spend_high_utilized_indicator.csv')\n",
    "df_utId.head()\n",
    "df_utId.shape"
   ]
  },
  {
   "cell_type": "code",
   "execution_count": 15,
   "metadata": {},
   "outputs": [
    {
     "data": {
      "text/plain": [
       "(900000, 2)"
      ]
     },
     "execution_count": 15,
     "metadata": {},
     "output_type": "execute_result"
    }
   ],
   "source": [
    "filename = \"spend_revolving_aif_indicator.txt\"\n",
    "df = pd.read_csv(filename, delimiter = '\\t')\n",
    "df.to_csv('spend_revolving_aif_indicator.csv', index = None)\n",
    "df_revId = pd.read_csv('spend_revolving_aif_indicator.csv')\n",
    "df_revId.head()\n",
    "df_revId.shape"
   ]
  },
  {
   "cell_type": "code",
   "execution_count": 16,
   "metadata": {},
   "outputs": [
    {
     "data": {
      "text/plain": [
       "(900000, 2)"
      ]
     },
     "execution_count": 16,
     "metadata": {},
     "output_type": "execute_result"
    }
   ],
   "source": [
    "filename = \"spend_se_spend_indicator.txt\"\n",
    "df = pd.read_csv(filename, delimiter = '\\t')\n",
    "df.to_csv('spend_se_spend_indicator.csv', index = None)\n",
    "df_spendId = pd.read_csv('spend_se_spend_indicator.csv')\n",
    "df_spendId.head()\n",
    "df_spendId.shape"
   ]
  },
  {
   "cell_type": "code",
   "execution_count": null,
   "metadata": {},
   "outputs": [],
   "source": []
  },
  {
   "cell_type": "code",
   "execution_count": 17,
   "metadata": {},
   "outputs": [
    {
     "data": {
      "text/plain": [
       "array(['AC3c8d6ef5-098e-421f-aad4-a563817aa655',\n",
       "       'AC916c16ac-344c-4654-b461-0994faf15c93',\n",
       "       'ACfd2bc854-d75c-400f-b96e-c4930e876c0f', ...,\n",
       "       'ACa0106d0d-d32f-414f-a88b-1786012f76e7',\n",
       "       'AC2133ea74-4b59-4bd0-9945-465d03ea0891',\n",
       "       'ACc00c4a8c-121a-4133-8827-690209fbf1b4'], dtype=object)"
      ]
     },
     "execution_count": 17,
     "metadata": {},
     "output_type": "execute_result"
    }
   ],
   "source": [
    "filename = \"../web-and-purchase_logs/purchase_records.txt\"\n",
    "df = pd.read_csv(filename, delimiter = '\\t')\n",
    "df.to_csv('purchase_records.csv', index = None)\n",
    "df_purchase = pd.read_csv('purchase_records.csv')\n",
    "df_purchase.columns = ['ac_id', 'purchase_date']\n",
    "df_purchase.head()\n",
    "df_purchase['ac_id'].unique()"
   ]
  },
  {
   "cell_type": "code",
   "execution_count": 18,
   "metadata": {},
   "outputs": [
    {
     "data": {
      "text/plain": [
       "899750"
      ]
     },
     "execution_count": 18,
     "metadata": {},
     "output_type": "execute_result"
    }
   ],
   "source": [
    "df_purchase['ac_id'].unique().size"
   ]
  },
  {
   "cell_type": "code",
   "execution_count": 19,
   "metadata": {},
   "outputs": [
    {
     "data": {
      "text/html": [
       "<div>\n",
       "<style scoped>\n",
       "    .dataframe tbody tr th:only-of-type {\n",
       "        vertical-align: middle;\n",
       "    }\n",
       "\n",
       "    .dataframe tbody tr th {\n",
       "        vertical-align: top;\n",
       "    }\n",
       "\n",
       "    .dataframe thead th {\n",
       "        text-align: right;\n",
       "    }\n",
       "</style>\n",
       "<table border=\"1\" class=\"dataframe\">\n",
       "  <thead>\n",
       "    <tr style=\"text-align: right;\">\n",
       "      <th></th>\n",
       "      <th>ac_id</th>\n",
       "      <th>visited_date</th>\n",
       "      <th>visited_page</th>\n",
       "    </tr>\n",
       "  </thead>\n",
       "  <tbody>\n",
       "    <tr>\n",
       "      <th>0</th>\n",
       "      <td>ACce4cd8ea-8b3d-4767-9609-b353d1f633c0</td>\n",
       "      <td>6/17/17</td>\n",
       "      <td></td>\n",
       "    </tr>\n",
       "    <tr>\n",
       "      <th>1</th>\n",
       "      <td>AC7d351059-47ef-4011-91d6-1ad803204854</td>\n",
       "      <td>6/17/17</td>\n",
       "      <td>MYACCOUNT</td>\n",
       "    </tr>\n",
       "    <tr>\n",
       "      <th>2</th>\n",
       "      <td>AC763265f0-40ac-400f-ad11-897ccdeb7d23</td>\n",
       "      <td>6/17/17</td>\n",
       "      <td>REWARDS</td>\n",
       "    </tr>\n",
       "    <tr>\n",
       "      <th>3</th>\n",
       "      <td>ACd89983be-b4e9-4e84-8936-f055f4ed3e7d</td>\n",
       "      <td>6/17/17</td>\n",
       "      <td>PRICINGENGINE</td>\n",
       "    </tr>\n",
       "    <tr>\n",
       "      <th>4</th>\n",
       "      <td>AC8ee59710-eb2f-4b48-a5c5-ae1627aba281</td>\n",
       "      <td>6/17/17</td>\n",
       "      <td>PRICINGENGINE</td>\n",
       "    </tr>\n",
       "  </tbody>\n",
       "</table>\n",
       "</div>"
      ],
      "text/plain": [
       "                                    ac_id visited_date   visited_page\n",
       "0  ACce4cd8ea-8b3d-4767-9609-b353d1f633c0      6/17/17               \n",
       "1  AC7d351059-47ef-4011-91d6-1ad803204854      6/17/17      MYACCOUNT\n",
       "2  AC763265f0-40ac-400f-ad11-897ccdeb7d23      6/17/17        REWARDS\n",
       "3  ACd89983be-b4e9-4e84-8936-f055f4ed3e7d      6/17/17  PRICINGENGINE\n",
       "4  AC8ee59710-eb2f-4b48-a5c5-ae1627aba281      6/17/17  PRICINGENGINE"
      ]
     },
     "execution_count": 19,
     "metadata": {},
     "output_type": "execute_result"
    }
   ],
   "source": [
    "filename = \"../web-and-purchase_logs/webvisit.txt\"\n",
    "df = pd.read_csv(filename, delimiter = '\\t')\n",
    "df.to_csv('webvisit.csv', index = None)\n",
    "df_webvisit = pd.read_csv('webvisit.csv')\n",
    "df_webvisit.columns = ['ac_id', 'visited_date', 'visited_page']\n",
    "df_webvisit.head()\n"
   ]
  },
  {
   "cell_type": "code",
   "execution_count": 20,
   "metadata": {},
   "outputs": [
    {
     "data": {
      "text/plain": [
       "(999999, 3)"
      ]
     },
     "execution_count": 20,
     "metadata": {},
     "output_type": "execute_result"
    }
   ],
   "source": [
    "df_webvisit.shape"
   ]
  },
  {
   "cell_type": "code",
   "execution_count": 21,
   "metadata": {},
   "outputs": [
    {
     "data": {
      "text/plain": [
       "603630"
      ]
     },
     "execution_count": 21,
     "metadata": {},
     "output_type": "execute_result"
    }
   ],
   "source": [
    "df_webvisit['ac_id'].unique().size"
   ]
  },
  {
   "cell_type": "code",
   "execution_count": 22,
   "metadata": {},
   "outputs": [
    {
     "data": {
      "text/html": [
       "<div>\n",
       "<style scoped>\n",
       "    .dataframe tbody tr th:only-of-type {\n",
       "        vertical-align: middle;\n",
       "    }\n",
       "\n",
       "    .dataframe tbody tr th {\n",
       "        vertical-align: top;\n",
       "    }\n",
       "\n",
       "    .dataframe thead th {\n",
       "        text-align: right;\n",
       "    }\n",
       "</style>\n",
       "<table border=\"1\" class=\"dataframe\">\n",
       "  <thead>\n",
       "    <tr style=\"text-align: right;\">\n",
       "      <th></th>\n",
       "      <th>ac_id</th>\n",
       "      <th>purchase_date</th>\n",
       "    </tr>\n",
       "  </thead>\n",
       "  <tbody>\n",
       "    <tr>\n",
       "      <th>0</th>\n",
       "      <td>AC3c8d6ef5-098e-421f-aad4-a563817aa655</td>\n",
       "      <td>6/17/17</td>\n",
       "    </tr>\n",
       "    <tr>\n",
       "      <th>1</th>\n",
       "      <td>AC916c16ac-344c-4654-b461-0994faf15c93</td>\n",
       "      <td>6/17/17</td>\n",
       "    </tr>\n",
       "    <tr>\n",
       "      <th>2</th>\n",
       "      <td>ACfd2bc854-d75c-400f-b96e-c4930e876c0f</td>\n",
       "      <td>6/17/17</td>\n",
       "    </tr>\n",
       "    <tr>\n",
       "      <th>3</th>\n",
       "      <td>ACe9aa7f4e-0e40-454e-883f-b0adb2ec0055</td>\n",
       "      <td>6/17/17</td>\n",
       "    </tr>\n",
       "    <tr>\n",
       "      <th>4</th>\n",
       "      <td>ACf00c42d0-b71f-4ec5-bdeb-697e36eece24</td>\n",
       "      <td>6/17/17</td>\n",
       "    </tr>\n",
       "  </tbody>\n",
       "</table>\n",
       "</div>"
      ],
      "text/plain": [
       "                                    ac_id purchase_date\n",
       "0  AC3c8d6ef5-098e-421f-aad4-a563817aa655       6/17/17\n",
       "1  AC916c16ac-344c-4654-b461-0994faf15c93       6/17/17\n",
       "2  ACfd2bc854-d75c-400f-b96e-c4930e876c0f       6/17/17\n",
       "3  ACe9aa7f4e-0e40-454e-883f-b0adb2ec0055       6/17/17\n",
       "4  ACf00c42d0-b71f-4ec5-bdeb-697e36eece24       6/17/17"
      ]
     },
     "execution_count": 22,
     "metadata": {},
     "output_type": "execute_result"
    }
   ],
   "source": [
    "filename = \"../web-and-purchase_logs/purchase_records.txt\"\n",
    "df = pd.read_csv(filename, delimiter = '\\t')\n",
    "df.to_csv('purchase_records.csv', index = None)\n",
    "df_purchaseRecords = pd.read_csv('purchase_records.csv')\n",
    "df_purchaseRecords.columns = ['ac_id', 'purchase_date']\n",
    "df_purchaseRecords.head()"
   ]
  },
  {
   "cell_type": "code",
   "execution_count": 23,
   "metadata": {},
   "outputs": [
    {
     "data": {
      "text/plain": [
       "(7229673, 2)"
      ]
     },
     "execution_count": 23,
     "metadata": {},
     "output_type": "execute_result"
    }
   ],
   "source": [
    "df_purchaseRecords.shape"
   ]
  },
  {
   "cell_type": "code",
   "execution_count": 24,
   "metadata": {},
   "outputs": [],
   "source": [
    "df_list = [df_tenure, df_newId, df_cycle_tenure, df_activeId, df_balanceId, df_utId, df_revId, df_spendId]\n",
    "# df_spendId, df_webvisit\n",
    "# grab first dataframe\n",
    "# do inner join,\n",
    "all_merged = df_list[0]\n",
    "# loop through all but first data frame\n",
    "for to_merge in df_list[1:]:\n",
    "    # result of merge replaces first or previously\n",
    "    # merged data frame w/ all previous fields\n",
    "    all_merged = pd.merge(\n",
    "        left=all_merged\n",
    "        ,right=to_merge\n",
    "        ,how='outer'\n",
    "        ,on=['ac_id']\n",
    "        )"
   ]
  },
  {
   "cell_type": "code",
   "execution_count": null,
   "metadata": {},
   "outputs": [],
   "source": []
  },
  {
   "cell_type": "code",
   "execution_count": 25,
   "metadata": {},
   "outputs": [
    {
     "data": {
      "text/plain": [
       "(1173559, 10)"
      ]
     },
     "execution_count": 25,
     "metadata": {},
     "output_type": "execute_result"
    }
   ],
   "source": [
    "all_merged.shape\n"
   ]
  },
  {
   "cell_type": "code",
   "execution_count": 26,
   "metadata": {},
   "outputs": [
    {
     "data": {
      "text/html": [
       "<div>\n",
       "<style scoped>\n",
       "    .dataframe tbody tr th:only-of-type {\n",
       "        vertical-align: middle;\n",
       "    }\n",
       "\n",
       "    .dataframe tbody tr th {\n",
       "        vertical-align: top;\n",
       "    }\n",
       "\n",
       "    .dataframe thead th {\n",
       "        text-align: right;\n",
       "    }\n",
       "</style>\n",
       "<table border=\"1\" class=\"dataframe\">\n",
       "  <thead>\n",
       "    <tr style=\"text-align: right;\">\n",
       "      <th></th>\n",
       "      <th>ac_id</th>\n",
       "      <th>member_since_in_months</th>\n",
       "      <th>new_account_indicator</th>\n",
       "      <th>cycle_dt</th>\n",
       "      <th>payment_due_dt</th>\n",
       "      <th>spend_active</th>\n",
       "      <th>is_active_balance</th>\n",
       "      <th>has_credit_limit_reached</th>\n",
       "      <th>is_revolving</th>\n",
       "      <th>has_spend_at_any_merchant</th>\n",
       "    </tr>\n",
       "  </thead>\n",
       "  <tbody>\n",
       "    <tr>\n",
       "      <th>0</th>\n",
       "      <td>ACebd244ca-9b9f-4371-926c-9d424a8d5fe8</td>\n",
       "      <td>57.0</td>\n",
       "      <td>0</td>\n",
       "      <td>3/26/18</td>\n",
       "      <td>4/20/18</td>\n",
       "      <td>0</td>\n",
       "      <td>0</td>\n",
       "      <td>0</td>\n",
       "      <td>0</td>\n",
       "      <td>0</td>\n",
       "    </tr>\n",
       "    <tr>\n",
       "      <th>1</th>\n",
       "      <td>ACebd244ca-9b9f-4371-926c-9d424a8d5fe8</td>\n",
       "      <td>174.0</td>\n",
       "      <td>0</td>\n",
       "      <td>3/26/18</td>\n",
       "      <td>4/20/18</td>\n",
       "      <td>0</td>\n",
       "      <td>0</td>\n",
       "      <td>0</td>\n",
       "      <td>0</td>\n",
       "      <td>0</td>\n",
       "    </tr>\n",
       "    <tr>\n",
       "      <th>2</th>\n",
       "      <td>ACebd244ca-9b9f-4371-926c-9d424a8d5fe8</td>\n",
       "      <td>132.0</td>\n",
       "      <td>0</td>\n",
       "      <td>3/26/18</td>\n",
       "      <td>4/20/18</td>\n",
       "      <td>0</td>\n",
       "      <td>0</td>\n",
       "      <td>0</td>\n",
       "      <td>0</td>\n",
       "      <td>0</td>\n",
       "    </tr>\n",
       "    <tr>\n",
       "      <th>3</th>\n",
       "      <td>AC04451007-0259-484a-a7f0-4b1c976c24f0</td>\n",
       "      <td>78.0</td>\n",
       "      <td>0</td>\n",
       "      <td>3/2/18</td>\n",
       "      <td>3/27/18</td>\n",
       "      <td>1</td>\n",
       "      <td>0</td>\n",
       "      <td>0</td>\n",
       "      <td>0</td>\n",
       "      <td>0</td>\n",
       "    </tr>\n",
       "    <tr>\n",
       "      <th>4</th>\n",
       "      <td>AC04451007-0259-484a-a7f0-4b1c976c24f0</td>\n",
       "      <td>182.0</td>\n",
       "      <td>0</td>\n",
       "      <td>3/2/18</td>\n",
       "      <td>3/27/18</td>\n",
       "      <td>1</td>\n",
       "      <td>0</td>\n",
       "      <td>0</td>\n",
       "      <td>0</td>\n",
       "      <td>0</td>\n",
       "    </tr>\n",
       "  </tbody>\n",
       "</table>\n",
       "</div>"
      ],
      "text/plain": [
       "                                    ac_id  member_since_in_months  \\\n",
       "0  ACebd244ca-9b9f-4371-926c-9d424a8d5fe8                    57.0   \n",
       "1  ACebd244ca-9b9f-4371-926c-9d424a8d5fe8                   174.0   \n",
       "2  ACebd244ca-9b9f-4371-926c-9d424a8d5fe8                   132.0   \n",
       "3  AC04451007-0259-484a-a7f0-4b1c976c24f0                    78.0   \n",
       "4  AC04451007-0259-484a-a7f0-4b1c976c24f0                   182.0   \n",
       "\n",
       "   new_account_indicator cycle_dt payment_due_dt  spend_active  \\\n",
       "0                      0  3/26/18        4/20/18             0   \n",
       "1                      0  3/26/18        4/20/18             0   \n",
       "2                      0  3/26/18        4/20/18             0   \n",
       "3                      0   3/2/18        3/27/18             1   \n",
       "4                      0   3/2/18        3/27/18             1   \n",
       "\n",
       "   is_active_balance  has_credit_limit_reached  is_revolving  \\\n",
       "0                  0                         0             0   \n",
       "1                  0                         0             0   \n",
       "2                  0                         0             0   \n",
       "3                  0                         0             0   \n",
       "4                  0                         0             0   \n",
       "\n",
       "   has_spend_at_any_merchant  \n",
       "0                          0  \n",
       "1                          0  \n",
       "2                          0  \n",
       "3                          0  \n",
       "4                          0  "
      ]
     },
     "execution_count": 26,
     "metadata": {},
     "output_type": "execute_result"
    }
   ],
   "source": [
    "all_merged.head()"
   ]
  },
  {
   "cell_type": "code",
   "execution_count": 27,
   "metadata": {},
   "outputs": [
    {
     "data": {
      "text/plain": [
       "900000"
      ]
     },
     "execution_count": 27,
     "metadata": {},
     "output_type": "execute_result"
    }
   ],
   "source": [
    "all_merged['ac_id'].unique().size"
   ]
  },
  {
   "cell_type": "code",
   "execution_count": 28,
   "metadata": {},
   "outputs": [
    {
     "data": {
      "text/html": [
       "<div>\n",
       "<style scoped>\n",
       "    .dataframe tbody tr th:only-of-type {\n",
       "        vertical-align: middle;\n",
       "    }\n",
       "\n",
       "    .dataframe tbody tr th {\n",
       "        vertical-align: top;\n",
       "    }\n",
       "\n",
       "    .dataframe thead th {\n",
       "        text-align: right;\n",
       "    }\n",
       "</style>\n",
       "<table border=\"1\" class=\"dataframe\">\n",
       "  <thead>\n",
       "    <tr style=\"text-align: right;\">\n",
       "      <th></th>\n",
       "      <th>member_since_in_months</th>\n",
       "      <th>new_account_indicator</th>\n",
       "      <th>spend_active</th>\n",
       "      <th>is_active_balance</th>\n",
       "      <th>has_credit_limit_reached</th>\n",
       "      <th>is_revolving</th>\n",
       "      <th>has_spend_at_any_merchant</th>\n",
       "    </tr>\n",
       "  </thead>\n",
       "  <tbody>\n",
       "    <tr>\n",
       "      <th>count</th>\n",
       "      <td>806172.000000</td>\n",
       "      <td>1.173559e+06</td>\n",
       "      <td>1.173559e+06</td>\n",
       "      <td>1.173559e+06</td>\n",
       "      <td>1.173559e+06</td>\n",
       "      <td>1.173559e+06</td>\n",
       "      <td>1.173559e+06</td>\n",
       "    </tr>\n",
       "    <tr>\n",
       "      <th>mean</th>\n",
       "      <td>154.707471</td>\n",
       "      <td>2.838375e-03</td>\n",
       "      <td>8.231235e-01</td>\n",
       "      <td>1.176609e-01</td>\n",
       "      <td>1.671667e-02</td>\n",
       "      <td>5.119811e-02</td>\n",
       "      <td>1.068374e-01</td>\n",
       "    </tr>\n",
       "    <tr>\n",
       "      <th>std</th>\n",
       "      <td>119.945534</td>\n",
       "      <td>5.320076e-02</td>\n",
       "      <td>3.815643e-01</td>\n",
       "      <td>3.222063e-01</td>\n",
       "      <td>1.282078e-01</td>\n",
       "      <td>2.204017e-01</td>\n",
       "      <td>3.089065e-01</td>\n",
       "    </tr>\n",
       "    <tr>\n",
       "      <th>min</th>\n",
       "      <td>-1.000000</td>\n",
       "      <td>0.000000e+00</td>\n",
       "      <td>0.000000e+00</td>\n",
       "      <td>0.000000e+00</td>\n",
       "      <td>0.000000e+00</td>\n",
       "      <td>0.000000e+00</td>\n",
       "      <td>0.000000e+00</td>\n",
       "    </tr>\n",
       "    <tr>\n",
       "      <th>25%</th>\n",
       "      <td>54.000000</td>\n",
       "      <td>0.000000e+00</td>\n",
       "      <td>1.000000e+00</td>\n",
       "      <td>0.000000e+00</td>\n",
       "      <td>0.000000e+00</td>\n",
       "      <td>0.000000e+00</td>\n",
       "      <td>0.000000e+00</td>\n",
       "    </tr>\n",
       "    <tr>\n",
       "      <th>50%</th>\n",
       "      <td>132.000000</td>\n",
       "      <td>0.000000e+00</td>\n",
       "      <td>1.000000e+00</td>\n",
       "      <td>0.000000e+00</td>\n",
       "      <td>0.000000e+00</td>\n",
       "      <td>0.000000e+00</td>\n",
       "      <td>0.000000e+00</td>\n",
       "    </tr>\n",
       "    <tr>\n",
       "      <th>75%</th>\n",
       "      <td>227.000000</td>\n",
       "      <td>0.000000e+00</td>\n",
       "      <td>1.000000e+00</td>\n",
       "      <td>0.000000e+00</td>\n",
       "      <td>0.000000e+00</td>\n",
       "      <td>0.000000e+00</td>\n",
       "      <td>0.000000e+00</td>\n",
       "    </tr>\n",
       "    <tr>\n",
       "      <th>max</th>\n",
       "      <td>790.000000</td>\n",
       "      <td>1.000000e+00</td>\n",
       "      <td>1.000000e+00</td>\n",
       "      <td>1.000000e+00</td>\n",
       "      <td>1.000000e+00</td>\n",
       "      <td>1.000000e+00</td>\n",
       "      <td>1.000000e+00</td>\n",
       "    </tr>\n",
       "  </tbody>\n",
       "</table>\n",
       "</div>"
      ],
      "text/plain": [
       "       member_since_in_months  new_account_indicator  spend_active  \\\n",
       "count           806172.000000           1.173559e+06  1.173559e+06   \n",
       "mean               154.707471           2.838375e-03  8.231235e-01   \n",
       "std                119.945534           5.320076e-02  3.815643e-01   \n",
       "min                 -1.000000           0.000000e+00  0.000000e+00   \n",
       "25%                 54.000000           0.000000e+00  1.000000e+00   \n",
       "50%                132.000000           0.000000e+00  1.000000e+00   \n",
       "75%                227.000000           0.000000e+00  1.000000e+00   \n",
       "max                790.000000           1.000000e+00  1.000000e+00   \n",
       "\n",
       "       is_active_balance  has_credit_limit_reached  is_revolving  \\\n",
       "count       1.173559e+06              1.173559e+06  1.173559e+06   \n",
       "mean        1.176609e-01              1.671667e-02  5.119811e-02   \n",
       "std         3.222063e-01              1.282078e-01  2.204017e-01   \n",
       "min         0.000000e+00              0.000000e+00  0.000000e+00   \n",
       "25%         0.000000e+00              0.000000e+00  0.000000e+00   \n",
       "50%         0.000000e+00              0.000000e+00  0.000000e+00   \n",
       "75%         0.000000e+00              0.000000e+00  0.000000e+00   \n",
       "max         1.000000e+00              1.000000e+00  1.000000e+00   \n",
       "\n",
       "       has_spend_at_any_merchant  \n",
       "count               1.173559e+06  \n",
       "mean                1.068374e-01  \n",
       "std                 3.089065e-01  \n",
       "min                 0.000000e+00  \n",
       "25%                 0.000000e+00  \n",
       "50%                 0.000000e+00  \n",
       "75%                 0.000000e+00  \n",
       "max                 1.000000e+00  "
      ]
     },
     "execution_count": 28,
     "metadata": {},
     "output_type": "execute_result"
    }
   ],
   "source": [
    "all_merged.describe()"
   ]
  },
  {
   "cell_type": "code",
   "execution_count": 29,
   "metadata": {},
   "outputs": [
    {
     "data": {
      "text/plain": [
       "ac_id                             0\n",
       "member_since_in_months       367387\n",
       "new_account_indicator             0\n",
       "cycle_dt                     122921\n",
       "payment_due_dt               122921\n",
       "spend_active                      0\n",
       "is_active_balance                 0\n",
       "has_credit_limit_reached          0\n",
       "is_revolving                      0\n",
       "has_spend_at_any_merchant         0\n",
       "dtype: int64"
      ]
     },
     "execution_count": 29,
     "metadata": {},
     "output_type": "execute_result"
    }
   ],
   "source": [
    "nan_count = np.sum(all_merged.isnull(), axis = 0)\n",
    "nan_count"
   ]
  },
  {
   "cell_type": "code",
   "execution_count": 30,
   "metadata": {},
   "outputs": [],
   "source": [
    "all_merged['member_since_in_months'].fillna(value=all_merged['member_since_in_months'].mean(), inplace=True)"
   ]
  },
  {
   "cell_type": "code",
   "execution_count": 31,
   "metadata": {},
   "outputs": [
    {
     "data": {
      "text/plain": [
       "ac_id                             0\n",
       "member_since_in_months            0\n",
       "new_account_indicator             0\n",
       "cycle_dt                     122921\n",
       "payment_due_dt               122921\n",
       "spend_active                      0\n",
       "is_active_balance                 0\n",
       "has_credit_limit_reached          0\n",
       "is_revolving                      0\n",
       "has_spend_at_any_merchant         0\n",
       "dtype: int64"
      ]
     },
     "execution_count": 31,
     "metadata": {},
     "output_type": "execute_result"
    }
   ],
   "source": [
    "nan_count = np.sum(all_merged.isnull(), axis = 0)\n",
    "nan_count"
   ]
  },
  {
   "cell_type": "code",
   "execution_count": 32,
   "metadata": {},
   "outputs": [],
   "source": [
    "import scipy.stats as stats"
   ]
  },
  {
   "cell_type": "code",
   "execution_count": 33,
   "metadata": {},
   "outputs": [
    {
     "data": {
      "text/html": [
       "<div>\n",
       "<style scoped>\n",
       "    .dataframe tbody tr th:only-of-type {\n",
       "        vertical-align: middle;\n",
       "    }\n",
       "\n",
       "    .dataframe tbody tr th {\n",
       "        vertical-align: top;\n",
       "    }\n",
       "\n",
       "    .dataframe thead th {\n",
       "        text-align: right;\n",
       "    }\n",
       "</style>\n",
       "<table border=\"1\" class=\"dataframe\">\n",
       "  <thead>\n",
       "    <tr style=\"text-align: right;\">\n",
       "      <th></th>\n",
       "      <th>ac_id</th>\n",
       "      <th>purchase_date</th>\n",
       "    </tr>\n",
       "  </thead>\n",
       "  <tbody>\n",
       "    <tr>\n",
       "      <th>0</th>\n",
       "      <td>AC3c8d6ef5-098e-421f-aad4-a563817aa655</td>\n",
       "      <td>6/17/17</td>\n",
       "    </tr>\n",
       "    <tr>\n",
       "      <th>1</th>\n",
       "      <td>AC916c16ac-344c-4654-b461-0994faf15c93</td>\n",
       "      <td>6/17/17</td>\n",
       "    </tr>\n",
       "    <tr>\n",
       "      <th>2</th>\n",
       "      <td>ACfd2bc854-d75c-400f-b96e-c4930e876c0f</td>\n",
       "      <td>6/17/17</td>\n",
       "    </tr>\n",
       "    <tr>\n",
       "      <th>3</th>\n",
       "      <td>ACe9aa7f4e-0e40-454e-883f-b0adb2ec0055</td>\n",
       "      <td>6/17/17</td>\n",
       "    </tr>\n",
       "    <tr>\n",
       "      <th>4</th>\n",
       "      <td>ACf00c42d0-b71f-4ec5-bdeb-697e36eece24</td>\n",
       "      <td>6/17/17</td>\n",
       "    </tr>\n",
       "    <tr>\n",
       "      <th>...</th>\n",
       "      <td>...</td>\n",
       "      <td>...</td>\n",
       "    </tr>\n",
       "    <tr>\n",
       "      <th>7229668</th>\n",
       "      <td>ACbf5928d9-21c9-41e3-9a5b-028a7bf1b86b</td>\n",
       "      <td>9/18/17</td>\n",
       "    </tr>\n",
       "    <tr>\n",
       "      <th>7229669</th>\n",
       "      <td>ACdeedc451-6f14-4ae5-94c3-2accf26077ef</td>\n",
       "      <td>9/18/17</td>\n",
       "    </tr>\n",
       "    <tr>\n",
       "      <th>7229670</th>\n",
       "      <td>AC7f8d26bd-8b0a-43e4-a4ab-d8e0f6dad769</td>\n",
       "      <td>9/18/17</td>\n",
       "    </tr>\n",
       "    <tr>\n",
       "      <th>7229671</th>\n",
       "      <td>AC545373c8-ea6a-46c0-b458-e64ee88dc305</td>\n",
       "      <td>9/18/17</td>\n",
       "    </tr>\n",
       "    <tr>\n",
       "      <th>7229672</th>\n",
       "      <td>AC4b59615a-8e60-4ed0-b37f-cc93d92757b7</td>\n",
       "      <td>9/18/17</td>\n",
       "    </tr>\n",
       "  </tbody>\n",
       "</table>\n",
       "<p>7229673 rows × 2 columns</p>\n",
       "</div>"
      ],
      "text/plain": [
       "                                          ac_id purchase_date\n",
       "0        AC3c8d6ef5-098e-421f-aad4-a563817aa655       6/17/17\n",
       "1        AC916c16ac-344c-4654-b461-0994faf15c93       6/17/17\n",
       "2        ACfd2bc854-d75c-400f-b96e-c4930e876c0f       6/17/17\n",
       "3        ACe9aa7f4e-0e40-454e-883f-b0adb2ec0055       6/17/17\n",
       "4        ACf00c42d0-b71f-4ec5-bdeb-697e36eece24       6/17/17\n",
       "...                                         ...           ...\n",
       "7229668  ACbf5928d9-21c9-41e3-9a5b-028a7bf1b86b       9/18/17\n",
       "7229669  ACdeedc451-6f14-4ae5-94c3-2accf26077ef       9/18/17\n",
       "7229670  AC7f8d26bd-8b0a-43e4-a4ab-d8e0f6dad769       9/18/17\n",
       "7229671  AC545373c8-ea6a-46c0-b458-e64ee88dc305       9/18/17\n",
       "7229672  AC4b59615a-8e60-4ed0-b37f-cc93d92757b7       9/18/17\n",
       "\n",
       "[7229673 rows x 2 columns]"
      ]
     },
     "execution_count": 33,
     "metadata": {},
     "output_type": "execute_result"
    }
   ],
   "source": [
    "df_purchaseRecords"
   ]
  },
  {
   "cell_type": "code",
   "execution_count": 34,
   "metadata": {},
   "outputs": [
    {
     "data": {
      "text/html": [
       "<div>\n",
       "<style scoped>\n",
       "    .dataframe tbody tr th:only-of-type {\n",
       "        vertical-align: middle;\n",
       "    }\n",
       "\n",
       "    .dataframe tbody tr th {\n",
       "        vertical-align: top;\n",
       "    }\n",
       "\n",
       "    .dataframe thead th {\n",
       "        text-align: right;\n",
       "    }\n",
       "</style>\n",
       "<table border=\"1\" class=\"dataframe\">\n",
       "  <thead>\n",
       "    <tr style=\"text-align: right;\">\n",
       "      <th></th>\n",
       "      <th>ac_id</th>\n",
       "      <th>visited_date</th>\n",
       "      <th>visited_page</th>\n",
       "    </tr>\n",
       "  </thead>\n",
       "  <tbody>\n",
       "    <tr>\n",
       "      <th>0</th>\n",
       "      <td>ACce4cd8ea-8b3d-4767-9609-b353d1f633c0</td>\n",
       "      <td>6/17/17</td>\n",
       "      <td></td>\n",
       "    </tr>\n",
       "    <tr>\n",
       "      <th>1</th>\n",
       "      <td>AC7d351059-47ef-4011-91d6-1ad803204854</td>\n",
       "      <td>6/17/17</td>\n",
       "      <td>MYACCOUNT</td>\n",
       "    </tr>\n",
       "    <tr>\n",
       "      <th>2</th>\n",
       "      <td>AC763265f0-40ac-400f-ad11-897ccdeb7d23</td>\n",
       "      <td>6/17/17</td>\n",
       "      <td>REWARDS</td>\n",
       "    </tr>\n",
       "    <tr>\n",
       "      <th>3</th>\n",
       "      <td>ACd89983be-b4e9-4e84-8936-f055f4ed3e7d</td>\n",
       "      <td>6/17/17</td>\n",
       "      <td>PRICINGENGINE</td>\n",
       "    </tr>\n",
       "    <tr>\n",
       "      <th>4</th>\n",
       "      <td>AC8ee59710-eb2f-4b48-a5c5-ae1627aba281</td>\n",
       "      <td>6/17/17</td>\n",
       "      <td>PRICINGENGINE</td>\n",
       "    </tr>\n",
       "    <tr>\n",
       "      <th>...</th>\n",
       "      <td>...</td>\n",
       "      <td>...</td>\n",
       "      <td>...</td>\n",
       "    </tr>\n",
       "    <tr>\n",
       "      <th>999994</th>\n",
       "      <td>AC7b85dd54-70e2-4c5a-a1cd-66dd15280f81</td>\n",
       "      <td>9/18/17</td>\n",
       "      <td>REWARDS</td>\n",
       "    </tr>\n",
       "    <tr>\n",
       "      <th>999995</th>\n",
       "      <td>ACa9452768-3319-4ffc-9506-1ac344e0017c</td>\n",
       "      <td>9/18/17</td>\n",
       "      <td></td>\n",
       "    </tr>\n",
       "    <tr>\n",
       "      <th>999996</th>\n",
       "      <td>ACc2db57f2-16cc-4593-8529-4890c37678ad</td>\n",
       "      <td>9/18/17</td>\n",
       "      <td>REWARDS</td>\n",
       "    </tr>\n",
       "    <tr>\n",
       "      <th>999997</th>\n",
       "      <td>AC93960bf7-a77a-4ff9-9c3a-9dc8cdba9d5a</td>\n",
       "      <td>9/18/17</td>\n",
       "      <td>MYACCOUNT</td>\n",
       "    </tr>\n",
       "    <tr>\n",
       "      <th>999998</th>\n",
       "      <td>ACc1913044-4541-4195-9d7a-5e2b138799e6</td>\n",
       "      <td>9/18/17</td>\n",
       "      <td>PRICINGENGINE</td>\n",
       "    </tr>\n",
       "  </tbody>\n",
       "</table>\n",
       "<p>999999 rows × 3 columns</p>\n",
       "</div>"
      ],
      "text/plain": [
       "                                         ac_id visited_date   visited_page\n",
       "0       ACce4cd8ea-8b3d-4767-9609-b353d1f633c0      6/17/17               \n",
       "1       AC7d351059-47ef-4011-91d6-1ad803204854      6/17/17      MYACCOUNT\n",
       "2       AC763265f0-40ac-400f-ad11-897ccdeb7d23      6/17/17        REWARDS\n",
       "3       ACd89983be-b4e9-4e84-8936-f055f4ed3e7d      6/17/17  PRICINGENGINE\n",
       "4       AC8ee59710-eb2f-4b48-a5c5-ae1627aba281      6/17/17  PRICINGENGINE\n",
       "...                                        ...          ...            ...\n",
       "999994  AC7b85dd54-70e2-4c5a-a1cd-66dd15280f81      9/18/17        REWARDS\n",
       "999995  ACa9452768-3319-4ffc-9506-1ac344e0017c      9/18/17               \n",
       "999996  ACc2db57f2-16cc-4593-8529-4890c37678ad      9/18/17        REWARDS\n",
       "999997  AC93960bf7-a77a-4ff9-9c3a-9dc8cdba9d5a      9/18/17      MYACCOUNT\n",
       "999998  ACc1913044-4541-4195-9d7a-5e2b138799e6      9/18/17  PRICINGENGINE\n",
       "\n",
       "[999999 rows x 3 columns]"
      ]
     },
     "execution_count": 34,
     "metadata": {},
     "output_type": "execute_result"
    }
   ],
   "source": [
    "df_webvisit"
   ]
  },
  {
   "cell_type": "code",
   "execution_count": 35,
   "metadata": {},
   "outputs": [
    {
     "data": {
      "text/html": [
       "<div>\n",
       "<style scoped>\n",
       "    .dataframe tbody tr th:only-of-type {\n",
       "        vertical-align: middle;\n",
       "    }\n",
       "\n",
       "    .dataframe tbody tr th {\n",
       "        vertical-align: top;\n",
       "    }\n",
       "\n",
       "    .dataframe thead th {\n",
       "        text-align: right;\n",
       "    }\n",
       "</style>\n",
       "<table border=\"1\" class=\"dataframe\">\n",
       "  <thead>\n",
       "    <tr style=\"text-align: right;\">\n",
       "      <th></th>\n",
       "      <th>ac_id</th>\n",
       "      <th>count</th>\n",
       "    </tr>\n",
       "  </thead>\n",
       "  <tbody>\n",
       "    <tr>\n",
       "      <th>0</th>\n",
       "      <td>AC00001abb-e40b-4a19-978d-cc6becf33489</td>\n",
       "      <td>2</td>\n",
       "    </tr>\n",
       "    <tr>\n",
       "      <th>1</th>\n",
       "      <td>AC000061e1-9f80-4765-8ad4-993d5ab83e39</td>\n",
       "      <td>2</td>\n",
       "    </tr>\n",
       "    <tr>\n",
       "      <th>2</th>\n",
       "      <td>AC000064d8-cb24-44c6-b4ed-0cafa86b8d3e</td>\n",
       "      <td>3</td>\n",
       "    </tr>\n",
       "    <tr>\n",
       "      <th>3</th>\n",
       "      <td>AC0000754d-ba7a-45ed-b9a1-629d0bb0060d</td>\n",
       "      <td>2</td>\n",
       "    </tr>\n",
       "    <tr>\n",
       "      <th>4</th>\n",
       "      <td>AC0000b6cd-f27e-4c73-8d97-3510b8192c84</td>\n",
       "      <td>1</td>\n",
       "    </tr>\n",
       "    <tr>\n",
       "      <th>...</th>\n",
       "      <td>...</td>\n",
       "      <td>...</td>\n",
       "    </tr>\n",
       "    <tr>\n",
       "      <th>603625</th>\n",
       "      <td>ACffff7058-c1a4-45ea-9e0e-ab2c55a1b1d0</td>\n",
       "      <td>2</td>\n",
       "    </tr>\n",
       "    <tr>\n",
       "      <th>603626</th>\n",
       "      <td>ACffff8281-2731-4676-8856-acf3a588cf73</td>\n",
       "      <td>1</td>\n",
       "    </tr>\n",
       "    <tr>\n",
       "      <th>603627</th>\n",
       "      <td>ACffff8d3a-da1a-40c9-b29e-d5ed32713d5d</td>\n",
       "      <td>1</td>\n",
       "    </tr>\n",
       "    <tr>\n",
       "      <th>603628</th>\n",
       "      <td>ACffffd50a-291a-4067-92ae-9f8e8c629a9e</td>\n",
       "      <td>2</td>\n",
       "    </tr>\n",
       "    <tr>\n",
       "      <th>603629</th>\n",
       "      <td>ac_id</td>\n",
       "      <td>1</td>\n",
       "    </tr>\n",
       "  </tbody>\n",
       "</table>\n",
       "<p>603630 rows × 2 columns</p>\n",
       "</div>"
      ],
      "text/plain": [
       "                                         ac_id  count\n",
       "0       AC00001abb-e40b-4a19-978d-cc6becf33489      2\n",
       "1       AC000061e1-9f80-4765-8ad4-993d5ab83e39      2\n",
       "2       AC000064d8-cb24-44c6-b4ed-0cafa86b8d3e      3\n",
       "3       AC0000754d-ba7a-45ed-b9a1-629d0bb0060d      2\n",
       "4       AC0000b6cd-f27e-4c73-8d97-3510b8192c84      1\n",
       "...                                        ...    ...\n",
       "603625  ACffff7058-c1a4-45ea-9e0e-ab2c55a1b1d0      2\n",
       "603626  ACffff8281-2731-4676-8856-acf3a588cf73      1\n",
       "603627  ACffff8d3a-da1a-40c9-b29e-d5ed32713d5d      1\n",
       "603628  ACffffd50a-291a-4067-92ae-9f8e8c629a9e      2\n",
       "603629                                   ac_id      1\n",
       "\n",
       "[603630 rows x 2 columns]"
      ]
     },
     "execution_count": 35,
     "metadata": {},
     "output_type": "execute_result"
    }
   ],
   "source": [
    "df_group = df_webvisit.groupby(['ac_id']).size().reset_index(name = 'count')\n",
    "df_group"
   ]
  },
  {
   "cell_type": "code",
   "execution_count": 36,
   "metadata": {},
   "outputs": [
    {
     "data": {
      "text/html": [
       "<div>\n",
       "<style scoped>\n",
       "    .dataframe tbody tr th:only-of-type {\n",
       "        vertical-align: middle;\n",
       "    }\n",
       "\n",
       "    .dataframe tbody tr th {\n",
       "        vertical-align: top;\n",
       "    }\n",
       "\n",
       "    .dataframe thead th {\n",
       "        text-align: right;\n",
       "    }\n",
       "</style>\n",
       "<table border=\"1\" class=\"dataframe\">\n",
       "  <thead>\n",
       "    <tr style=\"text-align: right;\">\n",
       "      <th></th>\n",
       "      <th>ac_id</th>\n",
       "      <th>purchase_date</th>\n",
       "    </tr>\n",
       "  </thead>\n",
       "  <tbody>\n",
       "    <tr>\n",
       "      <th>0</th>\n",
       "      <td>AC3c8d6ef5-098e-421f-aad4-a563817aa655</td>\n",
       "      <td>6/17/17</td>\n",
       "    </tr>\n",
       "    <tr>\n",
       "      <th>1</th>\n",
       "      <td>AC916c16ac-344c-4654-b461-0994faf15c93</td>\n",
       "      <td>6/17/17</td>\n",
       "    </tr>\n",
       "    <tr>\n",
       "      <th>2</th>\n",
       "      <td>ACfd2bc854-d75c-400f-b96e-c4930e876c0f</td>\n",
       "      <td>6/17/17</td>\n",
       "    </tr>\n",
       "    <tr>\n",
       "      <th>3</th>\n",
       "      <td>ACe9aa7f4e-0e40-454e-883f-b0adb2ec0055</td>\n",
       "      <td>6/17/17</td>\n",
       "    </tr>\n",
       "    <tr>\n",
       "      <th>4</th>\n",
       "      <td>ACf00c42d0-b71f-4ec5-bdeb-697e36eece24</td>\n",
       "      <td>6/17/17</td>\n",
       "    </tr>\n",
       "    <tr>\n",
       "      <th>...</th>\n",
       "      <td>...</td>\n",
       "      <td>...</td>\n",
       "    </tr>\n",
       "    <tr>\n",
       "      <th>7229668</th>\n",
       "      <td>ACbf5928d9-21c9-41e3-9a5b-028a7bf1b86b</td>\n",
       "      <td>9/18/17</td>\n",
       "    </tr>\n",
       "    <tr>\n",
       "      <th>7229669</th>\n",
       "      <td>ACdeedc451-6f14-4ae5-94c3-2accf26077ef</td>\n",
       "      <td>9/18/17</td>\n",
       "    </tr>\n",
       "    <tr>\n",
       "      <th>7229670</th>\n",
       "      <td>AC7f8d26bd-8b0a-43e4-a4ab-d8e0f6dad769</td>\n",
       "      <td>9/18/17</td>\n",
       "    </tr>\n",
       "    <tr>\n",
       "      <th>7229671</th>\n",
       "      <td>AC545373c8-ea6a-46c0-b458-e64ee88dc305</td>\n",
       "      <td>9/18/17</td>\n",
       "    </tr>\n",
       "    <tr>\n",
       "      <th>7229672</th>\n",
       "      <td>AC4b59615a-8e60-4ed0-b37f-cc93d92757b7</td>\n",
       "      <td>9/18/17</td>\n",
       "    </tr>\n",
       "  </tbody>\n",
       "</table>\n",
       "<p>7229673 rows × 2 columns</p>\n",
       "</div>"
      ],
      "text/plain": [
       "                                          ac_id purchase_date\n",
       "0        AC3c8d6ef5-098e-421f-aad4-a563817aa655       6/17/17\n",
       "1        AC916c16ac-344c-4654-b461-0994faf15c93       6/17/17\n",
       "2        ACfd2bc854-d75c-400f-b96e-c4930e876c0f       6/17/17\n",
       "3        ACe9aa7f4e-0e40-454e-883f-b0adb2ec0055       6/17/17\n",
       "4        ACf00c42d0-b71f-4ec5-bdeb-697e36eece24       6/17/17\n",
       "...                                         ...           ...\n",
       "7229668  ACbf5928d9-21c9-41e3-9a5b-028a7bf1b86b       9/18/17\n",
       "7229669  ACdeedc451-6f14-4ae5-94c3-2accf26077ef       9/18/17\n",
       "7229670  AC7f8d26bd-8b0a-43e4-a4ab-d8e0f6dad769       9/18/17\n",
       "7229671  AC545373c8-ea6a-46c0-b458-e64ee88dc305       9/18/17\n",
       "7229672  AC4b59615a-8e60-4ed0-b37f-cc93d92757b7       9/18/17\n",
       "\n",
       "[7229673 rows x 2 columns]"
      ]
     },
     "execution_count": 36,
     "metadata": {},
     "output_type": "execute_result"
    }
   ],
   "source": [
    "df_purchaseRecords"
   ]
  },
  {
   "cell_type": "code",
   "execution_count": 37,
   "metadata": {},
   "outputs": [
    {
     "data": {
      "text/html": [
       "<div>\n",
       "<style scoped>\n",
       "    .dataframe tbody tr th:only-of-type {\n",
       "        vertical-align: middle;\n",
       "    }\n",
       "\n",
       "    .dataframe tbody tr th {\n",
       "        vertical-align: top;\n",
       "    }\n",
       "\n",
       "    .dataframe thead th {\n",
       "        text-align: right;\n",
       "    }\n",
       "</style>\n",
       "<table border=\"1\" class=\"dataframe\">\n",
       "  <thead>\n",
       "    <tr style=\"text-align: right;\">\n",
       "      <th></th>\n",
       "      <th>ac_id</th>\n",
       "      <th>count</th>\n",
       "    </tr>\n",
       "  </thead>\n",
       "  <tbody>\n",
       "    <tr>\n",
       "      <th>0</th>\n",
       "      <td>AC000017b9-3e7d-4133-9e59-ddddcb4a911d</td>\n",
       "      <td>13</td>\n",
       "    </tr>\n",
       "    <tr>\n",
       "      <th>1</th>\n",
       "      <td>AC00001abb-e40b-4a19-978d-cc6becf33489</td>\n",
       "      <td>8</td>\n",
       "    </tr>\n",
       "    <tr>\n",
       "      <th>2</th>\n",
       "      <td>AC000061e1-9f80-4765-8ad4-993d5ab83e39</td>\n",
       "      <td>5</td>\n",
       "    </tr>\n",
       "    <tr>\n",
       "      <th>3</th>\n",
       "      <td>AC000064d8-cb24-44c6-b4ed-0cafa86b8d3e</td>\n",
       "      <td>8</td>\n",
       "    </tr>\n",
       "    <tr>\n",
       "      <th>4</th>\n",
       "      <td>AC0000754d-ba7a-45ed-b9a1-629d0bb0060d</td>\n",
       "      <td>6</td>\n",
       "    </tr>\n",
       "    <tr>\n",
       "      <th>...</th>\n",
       "      <td>...</td>\n",
       "      <td>...</td>\n",
       "    </tr>\n",
       "    <tr>\n",
       "      <th>899745</th>\n",
       "      <td>ACffff8d20-b401-4bff-8ec0-e308c20f9822</td>\n",
       "      <td>10</td>\n",
       "    </tr>\n",
       "    <tr>\n",
       "      <th>899746</th>\n",
       "      <td>ACffff8d3a-da1a-40c9-b29e-d5ed32713d5d</td>\n",
       "      <td>10</td>\n",
       "    </tr>\n",
       "    <tr>\n",
       "      <th>899747</th>\n",
       "      <td>ACffffd50a-291a-4067-92ae-9f8e8c629a9e</td>\n",
       "      <td>6</td>\n",
       "    </tr>\n",
       "    <tr>\n",
       "      <th>899748</th>\n",
       "      <td>ACffffef1f-cfbc-4973-8926-35ef7a1491ab</td>\n",
       "      <td>5</td>\n",
       "    </tr>\n",
       "    <tr>\n",
       "      <th>899749</th>\n",
       "      <td>ac_id</td>\n",
       "      <td>8</td>\n",
       "    </tr>\n",
       "  </tbody>\n",
       "</table>\n",
       "<p>899750 rows × 2 columns</p>\n",
       "</div>"
      ],
      "text/plain": [
       "                                         ac_id  count\n",
       "0       AC000017b9-3e7d-4133-9e59-ddddcb4a911d     13\n",
       "1       AC00001abb-e40b-4a19-978d-cc6becf33489      8\n",
       "2       AC000061e1-9f80-4765-8ad4-993d5ab83e39      5\n",
       "3       AC000064d8-cb24-44c6-b4ed-0cafa86b8d3e      8\n",
       "4       AC0000754d-ba7a-45ed-b9a1-629d0bb0060d      6\n",
       "...                                        ...    ...\n",
       "899745  ACffff8d20-b401-4bff-8ec0-e308c20f9822     10\n",
       "899746  ACffff8d3a-da1a-40c9-b29e-d5ed32713d5d     10\n",
       "899747  ACffffd50a-291a-4067-92ae-9f8e8c629a9e      6\n",
       "899748  ACffffef1f-cfbc-4973-8926-35ef7a1491ab      5\n",
       "899749                                   ac_id      8\n",
       "\n",
       "[899750 rows x 2 columns]"
      ]
     },
     "execution_count": 37,
     "metadata": {},
     "output_type": "execute_result"
    }
   ],
   "source": [
    "df_group = df_purchaseRecords.groupby(['ac_id']).size().reset_index(name = 'count')\n",
    "df_group"
   ]
  },
  {
   "cell_type": "code",
   "execution_count": null,
   "metadata": {},
   "outputs": [],
   "source": []
  }
 ],
 "metadata": {
  "kernelspec": {
   "display_name": "Python 3",
   "language": "python",
   "name": "python3"
  },
  "language_info": {
   "codemirror_mode": {
    "name": "ipython",
    "version": 3
   },
   "file_extension": ".py",
   "mimetype": "text/x-python",
   "name": "python",
   "nbconvert_exporter": "python",
   "pygments_lexer": "ipython3",
   "version": "3.8.3"
  }
 },
 "nbformat": 4,
 "nbformat_minor": 4
}
